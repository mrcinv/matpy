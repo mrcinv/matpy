{
 "cells": [
  {
   "cell_type": "markdown",
   "metadata": {},
   "source": [
    "[^ gor: Uvod](00_uvod.ipynb)"
   ]
  },
  {
   "cell_type": "markdown",
   "metadata": {},
   "source": [
    "# Tangente in normale\n",
    "**Tangenta** na graf funkcije $f(x)$ v točki $(x_0,f(x_0))$ je premica, ki se dotika grafa v točki $(x_0,f(x_0))$. **Normala** je premica, ki graf funkcije seka pravokotno.\n",
    "\n",
    "\n",
    "## Trditve\n",
    "Za tangento velja:\n",
    "\n",
    "* Naklonski koefieceint je enak vrednosti odvoda v dotikališču\n",
    "$$ k_T = f'(x_0) $$\n",
    "* točka $(x_0,f(x_0))$ leži na tangenti\n",
    "* enačba tangente je\n",
    "$$y = f'(x_0)(x-x_0) + f(x_0)$$\n",
    " \n",
    "Za normalo velja:\n",
    "\n",
    "* Naklonski koefieceint je obraten in nasproten koeficijentu tangente\n",
    "$$ k_N = -\\frac{1}{k_T} = -\\frac{1}{f'(x_0)} $$\n",
    "* točka $(x_0,f(x_0))$ leži na normali\n",
    "* enačba normale je\n",
    "$$y = -\\frac{1}{f'(x_0)}(x-x_0) + f(x_0)$$\n",
    "\n"
   ]
  },
  {
   "cell_type": "markdown",
   "metadata": {},
   "source": [
    "## Primer\n",
    "Dana je funkcija\n",
    "$$y=\\frac{1}{4}\\left(x^3-2x^2-3x\\right)$$\n",
    "Poišči enačbo tangente v $x=1$ in enačbo normale v $x=2$. Poišči presečišče obeh premic."
   ]
  },
  {
   "cell_type": "code",
   "execution_count": 28,
   "metadata": {
    "collapsed": false
   },
   "outputs": [
    {
     "data": {
      "image/png": "[encoded data removed]",
      "text/latex": [
       "$$\\frac{3 x^{2}}{4} - x - \\frac{3}{4}$$"
      ],
      "text/plain": [
       "   2        \n",
       "3⋅x        3\n",
       "──── - x - ─\n",
       " 4         4"
      ]
     },
     "execution_count": 28,
     "metadata": {},
     "output_type": "execute_result"
    }
   ],
   "source": [
    "import sympy as sym\n",
    "sym.init_printing() # lepši izpis formul\n",
    "x = sym.Symbol('x')\n",
    "f = lambda x: (x**3-2*x**2-3*x)/4\n",
    "df = sym.diff(f(x),x) #simbolično odvajamo\n",
    "dfun = sym.lambdify(x,df) # simbolični izraz spremenimo v Python funkcijo\n",
    "df"
   ]
  },
  {
   "cell_type": "code",
   "execution_count": 29,
   "metadata": {
    "collapsed": false
   },
   "outputs": [
    {
     "data": {
      "image/png": "[encoded data removed]",
      "text/latex": [
       "$$y = - 1.0 x$$"
      ],
      "text/plain": [
       "y = -1.0⋅x"
      ]
     },
     "execution_count": 29,
     "metadata": {},
     "output_type": "execute_result"
    }
   ],
   "source": [
    "y = sym.Symbol('y')\n",
    "x0 = 1\n",
    "tangenta = lambda x: dfun(x0)*(x-x0)+f(x0) # linearni približek funkcije f (tangenta)\n",
    "sym.Eq(y,tangenta(x)) # enačba tangente"
   ]
  },
  {
   "cell_type": "code",
   "execution_count": 33,
   "metadata": {
    "collapsed": false
   },
   "outputs": [
    {
     "data": {
      "image/png": "[encoded data removed]",
      "text/latex": [
       "$$y = - 4.0 x + 6.5$$"
      ],
      "text/plain": [
       "y = --4.0⋅(-1)⋅x + 6.5"
      ]
     },
     "execution_count": 33,
     "metadata": {},
     "output_type": "execute_result"
    }
   ],
   "source": [
    "x1 = 2\n",
    "normala = lambda x: -1/dfun(x1)*(x-x1)+f(x1) # normala\n",
    "sym.Eq(y,normala(x))"
   ]
  },
  {
   "cell_type": "code",
   "execution_count": 38,
   "metadata": {
    "collapsed": false
   },
   "outputs": [
    {
     "data": {
      "image/png": "[encoded data removed]",
      "text/latex": [
       "$$\\left ( 2.16666666666667, \\quad -2.16666666666667\\right )$$"
      ],
      "text/plain": [
       "(2.16666666666667, -2.16666666666667)"
      ]
     },
     "execution_count": 38,
     "metadata": {},
     "output_type": "execute_result"
    }
   ],
   "source": [
    "# presečišče\n",
    "xp = sym.solve(sym.Eq(normala(x),tangenta(x)),x)[0]\n",
    "(xp,tangenta(xp))"
   ]
  },
  {
   "cell_type": "code",
   "execution_count": 39,
   "metadata": {
    "collapsed": false
   },
   "outputs": [
    {
     "data": {
      "text/plain": [
       "<matplotlib.text.Text at 0x7fb5c4541cf8>"
      ]
     },
     "execution_count": 39,
     "metadata": {},
     "output_type": "execute_result"
    },
    {
     "data": {
      "image/png": "[encoded data removed]",
      "text/plain": [
       "<matplotlib.figure.Figure at 0x7fb5c45a09b0>"
      ]
     },
     "metadata": {},
     "output_type": "display_data"
    }
   ],
   "source": [
    "%matplotlib inline\n",
    "import numpy as np\n",
    "import matplotlib.pyplot as plt\n",
    "\n",
    "t = np.linspace(0,3)\n",
    "plt.plot([x0,x1],[f(x0),f(x1)],'ro')\n",
    "plt.plot(t,f(t),'b-')\n",
    "plt.plot(t,tangenta(t),'g')\n",
    "plt.plot(t,normala(t),'g')\n",
    "plt.plot(xp,tangenta(xp),'mo')\n",
    "plt.axis(\"equal\")\n",
    "plt.ylim(-3,0)\n",
    "plt.title(\"Graf funkcije, tangenta v $x=1$ in normala v $x=2$\")"
   ]
  },
  {
   "cell_type": "markdown",
   "metadata": {},
   "source": [
    "[<< nazaj: funkcije](03a_funkcije.ipynb)"
   ]
  },
  {
   "cell_type": "code",
   "execution_count": 40,
   "metadata": {
    "collapsed": false
   },
   "outputs": [
    {
     "data": {
      "text/html": [
       "\n",
       "<div id=\"disqus_thread\"></div>\n",
       "\n",
       "<script type=\"text/javascript\">\n",
       "    var disqus_shortname = \"matpy\";\n",
       "    \n",
       "</script>\n",
       "<script src=\"https://matpy.disqus.com/embed.js\" async=\"true\">\n",
       "</script>\n",
       "\n",
       "<noscript>\n",
       "    Please enable JavaScript to view the\n",
       "    <a href=\"https://disqus.com/?ref_noscript\" rel=\"nofollow\">\n",
       "        comments powered by Disqus.\n",
       "    </a>\n",
       "</noscript>"
      ],
      "text/plain": [
       "<IPython.core.display.HTML object>"
      ]
     },
     "metadata": {},
     "output_type": "display_data"
    }
   ],
   "source": [
    "import disqus\n",
    "%reload_ext disqus\n",
    "%disqus matpy"
   ]
  },
  {
   "cell_type": "code",
   "execution_count": null,
   "metadata": {
    "collapsed": true
   },
   "outputs": [],
   "source": []
  }
 ],
 "metadata": {
  "kernelspec": {
   "display_name": "Python 3",
   "language": "python",
   "name": "python3"
  },
  "language_info": {
   "codemirror_mode": {
    "name": "ipython",
    "version": 3
   },
   "file_extension": ".py",
   "mimetype": "text/x-python",
   "name": "python",
   "nbconvert_exporter": "python",
   "pygments_lexer": "ipython3",
   "version": "3.4.3"
  }
 },
 "nbformat": 4,
 "nbformat_minor": 0
}
