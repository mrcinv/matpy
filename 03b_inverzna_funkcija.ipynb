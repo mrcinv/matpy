{
 "cells": [
  {
   "cell_type": "markdown",
   "metadata": {},
   "source": [
    "[^ gor: Uvod](00_uvod.ipynb)"
   ]
  },
  {
   "cell_type": "markdown",
   "metadata": {},
   "source": [
    "# Inverzna funkcija\n",
    "Za injektivno funkcijo $f(x)$ je inverzna funkcija funkcija $f^{-1}(x)$, za katero velja\n",
    "$$f(f^{-1}(x))=f^{-1}(f(x))=.x$$\n",
    "\n",
    "## Trditve\n",
    " * Če je $y=f^{-1}(x)$, potem je $y$ rešitev enačbe\n",
    " $$f(y)=x.$$\n"
   ]
  },
  {
   "cell_type": "markdown",
   "metadata": {},
   "source": [
    "## Primer\n",
    "Poišči inverzno funkcijo za funkcijo\n",
    "$$f(x)=\\frac{2x+2}{x-1}.$$\n",
    "\n",
    "## Rešitev\n",
    "Uporabimo knjižnico `sympy` in iz enačbe $f(y)=x$ izrazimo y."
   ]
  },
  {
   "cell_type": "code",
   "execution_count": 1,
   "metadata": {
    "collapsed": true
   },
   "outputs": [],
   "source": [
    "import sympy\n",
    "from sympy import Eq,solve\n",
    "from sympy.abc import x,y\n",
    "sympy.init_printing()"
   ]
  },
  {
   "cell_type": "code",
   "execution_count": 2,
   "metadata": {
    "collapsed": false
   },
   "outputs": [
    {
     "data": {
      "image/png": "[encoded data removed]",
      "text/latex": [
       "$$\\frac{2 y + 2}{y - 1} = x$$"
      ],
      "text/plain": [
       "2⋅y + 2    \n",
       "─────── = x\n",
       " y - 1     "
      ]
     },
     "execution_count": 2,
     "metadata": {},
     "output_type": "execute_result"
    }
   ],
   "source": [
    "f = lambda x: (2*x+2)/(x-1)\n",
    "enacba = Eq(f(y),x)\n",
    "enacba"
   ]
  },
  {
   "cell_type": "code",
   "execution_count": 3,
   "metadata": {
    "collapsed": false
   },
   "outputs": [
    {
     "data": {
      "image/png": "[encoded data removed]",
      "text/latex": [
       "$$\\left [ \\frac{x + 2}{x - 2}\\right ]$$"
      ],
      "text/plain": [
       "⎡x + 2⎤\n",
       "⎢─────⎥\n",
       "⎣x - 2⎦"
      ]
     },
     "execution_count": 3,
     "metadata": {},
     "output_type": "execute_result"
    }
   ],
   "source": [
    "resitve = solve(enacba,y) # izrazimo y\n",
    "resitve"
   ]
  },
  {
   "cell_type": "code",
   "execution_count": 4,
   "metadata": {
    "collapsed": false
   },
   "outputs": [
    {
     "data": {
      "image/png": "[encoded data removed]",
      "text/latex": [
       "$$y = \\frac{x + 2}{x - 2}$$"
      ],
      "text/plain": [
       "    x + 2\n",
       "y = ─────\n",
       "    x - 2"
      ]
     },
     "execution_count": 4,
     "metadata": {},
     "output_type": "execute_result"
    }
   ],
   "source": [
    "invf = sympy.lambdify(x,resitve[0])\n",
    "Eq(y,invf(x))"
   ]
  },
  {
   "cell_type": "markdown",
   "metadata": {},
   "source": [
    "Narišimo še grafe funkcij. Uporabimo lahko funkcijo `plot` iz knjižnice `matplotlib`."
   ]
  },
  {
   "cell_type": "code",
   "execution_count": 5,
   "metadata": {
    "collapsed": false
   },
   "outputs": [
    {
     "data": {
      "image/png": "[encoded data removed]",
      "text/plain": [
       "<matplotlib.figure.Figure at 0x7fdea7db3c50>"
      ]
     },
     "metadata": {},
     "output_type": "display_data"
    }
   ],
   "source": [
    "import numpy as np\n",
    "import matplotlib.pyplot as plt\n",
    "%matplotlib inline\n",
    "\n",
    "t  = np.linspace(-8,8,200) \n",
    "fig, ax = plt.subplots()\n",
    "plt.plot(t,f(t),'.',label=\"$f(x)$\")\n",
    "plt.plot(t,invf(t),'.',label=\"$f^{-1}(x)$\")\n",
    "plt.plot(t,t,'k',label=\"$y=x$\")\n",
    "ax.axis(\"equal\")\n",
    "plt.ylim(-5,5)\n",
    "ax.legend(loc=2)\n",
    "# set the x-spine (see below for more info on `set_position`)\n",
    "ax.spines['left'].set_position('zero')\n",
    "\n",
    "# turn off the right spine/ticks\n",
    "ax.spines['right'].set_color('none')\n",
    "ax.yaxis.tick_left()\n",
    "\n",
    "# set the y-spine\n",
    "ax.spines['bottom'].set_position('zero')\n",
    "\n",
    "# turn off the top spine/ticks\n",
    "ax.spines['top'].set_color('none')\n",
    "ax.xaxis.tick_bottom()"
   ]
  },
  {
   "cell_type": "markdown",
   "metadata": {},
   "source": [
    "## Primer\n",
    "Iz grafa funkcije $2^x$ odčitaj vrednost $\\log_2(3)$."
   ]
  },
  {
   "cell_type": "code",
   "execution_count": 6,
   "metadata": {
    "collapsed": false
   },
   "outputs": [
    {
     "data": {
      "text/plain": [
       "<matplotlib.text.Text at 0x7fde9ffa0198>"
      ]
     },
     "execution_count": 6,
     "metadata": {},
     "output_type": "execute_result"
    },
    {
     "data": {
      "image/png": "[encoded data removed]",
      "text/plain": [
       "<matplotlib.figure.Figure at 0x7fdea00fcd30>"
      ]
     },
     "metadata": {},
     "output_type": "display_data"
    }
   ],
   "source": [
    "t = np.linspace(0,2)\n",
    "plt.plot(t,2**t,label=\"$y=2^x$\")\n",
    "plt.plot(t,3+np.zeros(t.shape),label=\"$y=3$\")\n",
    "plt.grid()\n",
    "plt.legend()\n",
    "plt.title(\" $y=3$ prenemo na graf funkcije in odčitamo $x$\")"
   ]
  },
  {
   "cell_type": "markdown",
   "metadata": {},
   "source": [
    "Vrednost $\\log_2(3)$ je rešitev enačbe $3=e^x$ in je približno enaka $1.6$."
   ]
  },
  {
   "cell_type": "code",
   "execution_count": 7,
   "metadata": {
    "collapsed": false
   },
   "outputs": [
    {
     "data": {
      "image/png": "[encoded data removed]",
      "text/latex": [
       "$$1.58496250072$$"
      ],
      "text/plain": [
       "1.58496250072"
      ]
     },
     "execution_count": 7,
     "metadata": {},
     "output_type": "execute_result"
    }
   ],
   "source": [
    "np.log(3)/np.log(2)"
   ]
  },
  {
   "cell_type": "markdown",
   "metadata": {},
   "source": [
    "[<< nazaj: funkcije](03a_funkcije.ipynb) [naprej: bisekcija >>](03c_bisekcija.ipynb) "
   ]
  },
  {
   "cell_type": "code",
   "execution_count": 8,
   "metadata": {
    "collapsed": false
   },
   "outputs": [
    {
     "data": {
      "text/html": [
       "\n",
       "<div id=\"disqus_thread\"></div>\n",
       "\n",
       "<script type=\"text/javascript\">\n",
       "    var disqus_shortname = \"matpy\";\n",
       "    \n",
       "</script>\n",
       "<script src=\"https://matpy.disqus.com/embed.js\" async=\"true\">\n",
       "</script>\n",
       "\n",
       "<noscript>\n",
       "    Please enable JavaScript to view the\n",
       "    <a href=\"https://disqus.com/?ref_noscript\" rel=\"nofollow\">\n",
       "        comments powered by Disqus.\n",
       "    </a>\n",
       "</noscript>"
      ],
      "text/plain": [
       "<IPython.core.display.HTML object>"
      ]
     },
     "metadata": {},
     "output_type": "display_data"
    }
   ],
   "source": [
    "import disqus\n",
    "%reload_ext disqus\n",
    "%disqus matpy"
   ]
  }
 ],
 "metadata": {
  "kernelspec": {
   "display_name": "Python 3",
   "language": "python",
   "name": "python3"
  },
  "language_info": {
   "codemirror_mode": {
    "name": "ipython",
    "version": 3
   },
   "file_extension": ".py",
   "mimetype": "text/x-python",
   "name": "python",
   "nbconvert_exporter": "python",
   "pygments_lexer": "ipython3",
   "version": "3.5.0+"
  }
 },
 "nbformat": 4,
 "nbformat_minor": 0
}
