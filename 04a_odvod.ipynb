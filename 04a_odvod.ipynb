{
 "cells": [
  {
   "cell_type": "markdown",
   "metadata": {},
   "source": [
    "[^ gor: Uvod](00_uvod.ipynb)"
   ]
  },
  {
   "cell_type": "markdown",
   "metadata": {},
   "source": [
    "# Odvod"
   ]
  },
  {
   "cell_type": "markdown",
   "metadata": {},
   "source": [
    "## Primer\n",
    "Sestavimo tabelo odvodov elementarnih funkcij in pravil za odvajanje. Za simbolično odvajanje lahko uporabimo funkcijo `diff` iz knjižnice [sympy](http://www.sympy.org). "
   ]
  },
  {
   "cell_type": "code",
   "execution_count": 114,
   "metadata": {
    "collapsed": false
   },
   "outputs": [
    {
     "data": {
      "image/png": "[encoded data removed]",
      "text/latex": [
       "$$\\left [ \\left [ 1, \\quad 0\\right ], \\quad \\left [ x^{n}, \\quad \\frac{n x^{n}}{x}\\right ], \\quad \\left [ \\sin{\\left (x \\right )}, \\quad \\cos{\\left (x \\right )}\\right ], \\quad \\left [ \\cos{\\left (x \\right )}, \\quad - \\sin{\\left (x \\right )}\\right ], \\quad \\left [ e^{x}, \\quad e^{x}\\right ], \\quad \\left [ \\log{\\left (x \\right )}, \\quad \\frac{1}{x}\\right ]\\right ]$$"
      ],
      "text/plain": [
       "⎡        ⎡       n⎤                                                           \n",
       "⎢        ⎢ n  n⋅x ⎥                                       ⎡ x   x⎤  ⎡        1\n",
       "⎢[1, 0], ⎢x , ────⎥, [sin(x), cos(x)], [cos(x), -sin(x)], ⎣ℯ , ℯ ⎦, ⎢log(x), ─\n",
       "⎣        ⎣     x  ⎦                                                 ⎣        x\n",
       "\n",
       " ⎤\n",
       "⎤⎥\n",
       "⎥⎥\n",
       "⎦⎦"
      ]
     },
     "execution_count": 114,
     "metadata": {},
     "output_type": "execute_result"
    }
   ],
   "source": [
    "from sympy import *\n",
    "init_printing()\n",
    "x,n = symbols('x n')\n",
    "funkcije = [1,x**n,sin(x),cos(x), exp(x),log(x)]\n",
    "tabela = [[f,diff(f,x)] for f in funkcije]\n",
    "tabela"
   ]
  },
  {
   "cell_type": "markdown",
   "metadata": {},
   "source": [
    "Lepši izpis tabele dobimo, če uporabimo knjižnico za delo s tabelami in podatki [Pandas](http://pandas.pydata.org)."
   ]
  },
  {
   "cell_type": "code",
   "execution_count": 115,
   "metadata": {
    "collapsed": false
   },
   "outputs": [
    {
     "data": {
      "text/html": [
       "<div>\n",
       "<table border=\"1\" class=\"dataframe\">\n",
       "  <thead>\n",
       "    <tr style=\"text-align: right;\">\n",
       "      <th></th>\n",
       "      <th>$f(x)$</th>\n",
       "      <th>$f'(x)$</th>\n",
       "    </tr>\n",
       "  </thead>\n",
       "  <tbody>\n",
       "    <tr>\n",
       "      <th>0</th>\n",
       "      <td>1</td>\n",
       "      <td>0</td>\n",
       "    </tr>\n",
       "    <tr>\n",
       "      <th>1</th>\n",
       "      <td>x**n</td>\n",
       "      <td>n*x**n/x</td>\n",
       "    </tr>\n",
       "    <tr>\n",
       "      <th>2</th>\n",
       "      <td>sin(x)</td>\n",
       "      <td>cos(x)</td>\n",
       "    </tr>\n",
       "    <tr>\n",
       "      <th>3</th>\n",
       "      <td>cos(x)</td>\n",
       "      <td>-sin(x)</td>\n",
       "    </tr>\n",
       "    <tr>\n",
       "      <th>4</th>\n",
       "      <td>exp(x)</td>\n",
       "      <td>exp(x)</td>\n",
       "    </tr>\n",
       "    <tr>\n",
       "      <th>5</th>\n",
       "      <td>log(x)</td>\n",
       "      <td>1/x</td>\n",
       "    </tr>\n",
       "  </tbody>\n",
       "</table>\n",
       "</div>"
      ],
      "text/plain": [
       "   $f(x)$   $f'(x)$\n",
       "0       1         0\n",
       "1    x**n  n*x**n/x\n",
       "2  sin(x)    cos(x)\n",
       "3  cos(x)   -sin(x)\n",
       "4  exp(x)    exp(x)\n",
       "5  log(x)       1/x"
      ]
     },
     "execution_count": 115,
     "metadata": {},
     "output_type": "execute_result"
    }
   ],
   "source": [
    "from pandas import DataFrame\n",
    "DataFrame(tabela,columns={\"$f(x)$\",\"$f'(x)$\"})"
   ]
  },
  {
   "cell_type": "code",
   "execution_count": 116,
   "metadata": {
    "collapsed": false
   },
   "outputs": [
    {
     "data": {
      "text/html": [
       "<div>\n",
       "<table border=\"1\" class=\"dataframe\">\n",
       "  <thead>\n",
       "    <tr style=\"text-align: right;\">\n",
       "      <th></th>\n",
       "      <th>funkcija $f(x)$</th>\n",
       "      <th>odvod $f'(x)$</th>\n",
       "    </tr>\n",
       "  </thead>\n",
       "  <tbody>\n",
       "    <tr>\n",
       "      <th>0</th>\n",
       "      <td>$$1$$</td>\n",
       "      <td>$$0$$</td>\n",
       "    </tr>\n",
       "    <tr>\n",
       "      <th>1</th>\n",
       "      <td>$$x^{n}$$</td>\n",
       "      <td>$$\\frac{n x^{n}}{x}$$</td>\n",
       "    </tr>\n",
       "    <tr>\n",
       "      <th>2</th>\n",
       "      <td>$$\\sin{\\left (x \\right )}$$</td>\n",
       "      <td>$$\\cos{\\left (x \\right )}$$</td>\n",
       "    </tr>\n",
       "    <tr>\n",
       "      <th>3</th>\n",
       "      <td>$$\\cos{\\left (x \\right )}$$</td>\n",
       "      <td>$$- \\sin{\\left (x \\right )}$$</td>\n",
       "    </tr>\n",
       "    <tr>\n",
       "      <th>4</th>\n",
       "      <td>$$e^{x}$$</td>\n",
       "      <td>$$e^{x}$$</td>\n",
       "    </tr>\n",
       "    <tr>\n",
       "      <th>5</th>\n",
       "      <td>$$\\log{\\left (x \\right )}$$</td>\n",
       "      <td>$$\\frac{1}{x}$$</td>\n",
       "    </tr>\n",
       "  </tbody>\n",
       "</table>\n",
       "</div>"
      ],
      "text/plain": [
       "               funkcija $f(x)$                  odvod $f'(x)$\n",
       "0                        $$1$$                          $$0$$\n",
       "1                    $$x^{n}$$          $$\\frac{n x^{n}}{x}$$\n",
       "2  $$\\sin{\\left (x \\right )}$$    $$\\cos{\\left (x \\right )}$$\n",
       "3  $$\\cos{\\left (x \\right )}$$  $$- \\sin{\\left (x \\right )}$$\n",
       "4                    $$e^{x}$$                      $$e^{x}$$\n",
       "5  $$\\log{\\left (x \\right )}$$                $$\\frac{1}{x}$$"
      ]
     },
     "execution_count": 116,
     "metadata": {},
     "output_type": "execute_result"
    }
   ],
   "source": [
    "# za lepši izpis uporabimo funkcijo latex\n",
    "tabela =[['$$%s$$' % latex(f),'$$%s$$'% latex(diff(f,x))] for f in funkcije ]\n",
    "DataFrame(tabela,columns={\"funkcija $f(x)$\",\"odvod $f'(x)$\"})"
   ]
  },
  {
   "cell_type": "markdown",
   "metadata": {},
   "source": [
    "## Pravila za odvajanje\n",
    "Sestavimo še tabelo pravil za odvajanje. Vključimo pravila za osnovne operacije in kompozitum."
   ]
  },
  {
   "cell_type": "code",
   "execution_count": 112,
   "metadata": {
    "collapsed": false
   },
   "outputs": [
    {
     "data": {
      "application/javascript": [
       "MathJax.Hub.Config({\n",
       "    \"HTML-CSS\": { linebreaks: {automatic: false } }\n",
       "  });\n",
       "// preprečimo prelom vrstic v tabeli"
      ],
      "text/plain": [
       "<IPython.core.display.Javascript object>"
      ]
     },
     "metadata": {},
     "output_type": "display_data"
    }
   ],
   "source": [
    "%%javascript\n",
    "MathJax.Hub.Config({\n",
    "    \"HTML-CSS\": { linebreaks: {automatic: false } }\n",
    "  });\n",
    "// preprečimo prelom vrstic v tabeli"
   ]
  },
  {
   "cell_type": "code",
   "execution_count": 121,
   "metadata": {
    "collapsed": false
   },
   "outputs": [
    {
     "data": {
      "text/html": [
       "<div>\n",
       "<table border=\"1\" class=\"dataframe\">\n",
       "  <thead>\n",
       "    <tr style=\"text-align: right;\">\n",
       "      <th></th>\n",
       "      <th>funkcija $f(x)$</th>\n",
       "      <th>pravilo za odvod $f'(x)$</th>\n",
       "    </tr>\n",
       "  </thead>\n",
       "  <tbody>\n",
       "    <tr>\n",
       "      <th>0</th>\n",
       "      <td>$$f{\\left (x \\right )} + g{\\left (x \\right )}$$</td>\n",
       "      <td>$$\\frac{d}{d x} f{\\left (x \\right )} + \\frac{d}{d x} g{\\left (x \\right )}$$</td>\n",
       "    </tr>\n",
       "    <tr>\n",
       "      <th>1</th>\n",
       "      <td>$$f{\\left (x \\right )} g{\\left (x \\right )}$$</td>\n",
       "      <td>$$f{\\left (x \\right )} \\frac{d}{d x} g{\\left (x \\right )} + g{\\left (x \\right )} \\frac{d}{d x} f{\\left (x \\right )}$$</td>\n",
       "    </tr>\n",
       "    <tr>\n",
       "      <th>2</th>\n",
       "      <td>$$\\frac{f{\\left (x \\right )}}{g{\\left (x \\right )}}$$</td>\n",
       "      <td>$$\\frac{1}{g^{2}{\\left (x \\right )}} \\left(- f{\\left (x \\right )} \\frac{d}{d x} g{\\left (x \\right )} + g{\\left (x \\right )} \\frac{d}{d x} f{\\left (x \\right )}\\right)$$</td>\n",
       "    </tr>\n",
       "    <tr>\n",
       "      <th>3</th>\n",
       "      <td>$$f^{g{\\left (x \\right )}}{\\left (x \\right )}$$</td>\n",
       "      <td>$$\\left(f{\\left (x \\right )} \\log{\\left (f{\\left (x \\right )} \\right )} \\frac{d}{d x} g{\\left (x \\right )} + g{\\left (x \\right )} \\frac{d}{d x} f{\\left (x \\right )}\\right) f^{g{\\left (x \\right )} - 1}{\\left (x \\right )}$$</td>\n",
       "    </tr>\n",
       "    <tr>\n",
       "      <th>4</th>\n",
       "      <td>$$f{\\left (g{\\left (x \\right )} \\right )}$$</td>\n",
       "      <td>$$\\frac{d}{d x} g{\\left (x \\right )} \\left. \\frac{d}{d \\xi_{1}} f{\\left (\\xi_{1} \\right )} \\right|_{\\substack{ \\xi_{1}=g{\\left (x \\right )} }}$$</td>\n",
       "    </tr>\n",
       "  </tbody>\n",
       "</table>\n",
       "</div>"
      ],
      "text/plain": [
       "                                         funkcija $f(x)$                                                                                                                                                                                                       pravilo za odvod $f'(x)$\n",
       "0        $$f{\\left (x \\right )} + g{\\left (x \\right )}$$                                                                                                                                                    $$\\frac{d}{d x} f{\\left (x \\right )} + \\frac{d}{d x} g{\\left (x \\right )}$$\n",
       "1          $$f{\\left (x \\right )} g{\\left (x \\right )}$$                                                                                                          $$f{\\left (x \\right )} \\frac{d}{d x} g{\\left (x \\right )} + g{\\left (x \\right )} \\frac{d}{d x} f{\\left (x \\right )}$$\n",
       "2  $$\\frac{f{\\left (x \\right )}}{g{\\left (x \\right )}}$$                                                        $$\\frac{1}{g^{2}{\\left (x \\right )}} \\left(- f{\\left (x \\right )} \\frac{d}{d x} g{\\left (x \\right )} + g{\\left (x \\right )} \\frac{d}{d x} f{\\left (x \\right )}\\right)$$\n",
       "3        $$f^{g{\\left (x \\right )}}{\\left (x \\right )}$$  $$\\left(f{\\left (x \\right )} \\log{\\left (f{\\left (x \\right )} \\right )} \\frac{d}{d x} g{\\left (x \\right )} + g{\\left (x \\right )} \\frac{d}{d x} f{\\left (x \\right )}\\right) f^{g{\\left (x \\right )} - 1}{\\left (x \\right )}$$\n",
       "4            $$f{\\left (g{\\left (x \\right )} \\right )}$$                                                                               $$\\frac{d}{d x} g{\\left (x \\right )} \\left. \\frac{d}{d \\xi_{1}} f{\\left (\\xi_{1} \\right )} \\right|_{\\substack{ \\xi_{1}=g{\\left (x \\right )} }}$$"
      ]
     },
     "execution_count": 121,
     "metadata": {},
     "output_type": "execute_result"
    }
   ],
   "source": [
    "f,g = symbols(\"f,g\")\n",
    "import pandas as pd\n",
    "pd.options.display.max_colwidth=1000 \n",
    "\n",
    "operacije = [f(x)+g(x), f(x)*g(x), f(x)/g(x), f(x)**g(x),f(g(x))]\n",
    "fmt = \"$$%s$$\"\n",
    "tabela = [[fmt % latex(op),fmt % latex(simplify(diff(op,x)))] for op in operacije]\n",
    "df_tabela = DataFrame(tabela, columns=[\"funkcija $f(x)$\",\"pravilo za odvod $f'(x)$\"],) \n",
    "df_tabela"
   ]
  },
  {
   "cell_type": "markdown",
   "metadata": {},
   "source": [
    "## Naloga\n",
    "Izpiši tabelo odvodov funkcij $\\tan$ in inverznih trigonometričnih funkcij $\\arcsin$, $\\arccos$ in $\\arctan$. Nato izpiši še pravilo za odvod $$\\frac{1}{f(x)}\\text{ in }\\log(f(x)).$$"
   ]
  },
  {
   "cell_type": "markdown",
   "metadata": {},
   "source": [
    "[>> naprej: tangenta](04a_tangenta.ipynb)"
   ]
  },
  {
   "cell_type": "code",
   "execution_count": 55,
   "metadata": {
    "collapsed": false
   },
   "outputs": [
    {
     "data": {
      "text/html": [
       "\n",
       "<div id=\"disqus_thread\"></div>\n",
       "\n",
       "<script type=\"text/javascript\">\n",
       "    var disqus_shortname = \"matpy\";\n",
       "    \n",
       "</script>\n",
       "<script src=\"https://matpy.disqus.com/embed.js\" async=\"true\">\n",
       "</script>\n",
       "\n",
       "<noscript>\n",
       "    Please enable JavaScript to view the\n",
       "    <a href=\"https://disqus.com/?ref_noscript\" rel=\"nofollow\">\n",
       "        comments powered by Disqus.\n",
       "    </a>\n",
       "</noscript>"
      ],
      "text/plain": [
       "<IPython.core.display.HTML object>"
      ]
     },
     "metadata": {},
     "output_type": "display_data"
    }
   ],
   "source": [
    "import disqus\n",
    "%reload_ext disqus\n",
    "%disqus matpy"
   ]
  }
 ],
 "metadata": {
  "kernelspec": {
   "display_name": "Python 3",
   "language": "python",
   "name": "python3"
  },
  "language_info": {
   "codemirror_mode": {
    "name": "ipython",
    "version": 3
   },
   "file_extension": ".py",
   "mimetype": "text/x-python",
   "name": "python",
   "nbconvert_exporter": "python",
   "pygments_lexer": "ipython3",
   "version": "3.5.0+"
  }
 },
 "nbformat": 4,
 "nbformat_minor": 0
}
