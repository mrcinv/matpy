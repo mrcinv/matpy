{
 "cells": [
  {
   "cell_type": "markdown",
   "metadata": {},
   "source": [
    "[^ gor: Uvod](00_uvod.ipynb)"
   ]
  },
  {
   "cell_type": "markdown",
   "metadata": {},
   "source": [
    "# Kompleksna števila"
   ]
  },
  {
   "cell_type": "markdown",
   "metadata": {},
   "source": [
    "V *Pythonu* so kompleksna števila vgrajena. Imaginarna enota se imenuje `j` in jo postavimo neposredno za številko."
   ]
  },
  {
   "cell_type": "code",
   "execution_count": 8,
   "metadata": {
    "collapsed": false
   },
   "outputs": [
    {
     "data": {
      "text/plain": [
       "(-1+0j)"
      ]
     },
     "execution_count": 8,
     "metadata": {},
     "output_type": "execute_result"
    }
   ],
   "source": [
    "1j**2 # 1j je v Pythonu imaginarna enota"
   ]
  },
  {
   "cell_type": "code",
   "execution_count": 11,
   "metadata": {
    "collapsed": false
   },
   "outputs": [
    {
     "data": {
      "text/plain": [
       "complex"
      ]
     },
     "execution_count": 11,
     "metadata": {},
     "output_type": "execute_result"
    }
   ],
   "source": [
    "type(2+2.2j) #kompleksna števila imajo v Pythonu svoj tip"
   ]
  },
  {
   "cell_type": "markdown",
   "metadata": {},
   "source": [
    "### Primer\n",
    "\n",
    "Zapiši število $$z=\\frac{1-2i}{1+i}$$ v obliki $x+iy$ in izračunaj $|z|$."
   ]
  },
  {
   "cell_type": "code",
   "execution_count": 13,
   "metadata": {
    "collapsed": false
   },
   "outputs": [
    {
     "data": {
      "text/plain": [
       "(-0.5-1.5j)"
      ]
     },
     "execution_count": 13,
     "metadata": {},
     "output_type": "execute_result"
    }
   ],
   "source": [
    "z = (1-2j)/(1+1j) #Python zlahka opravi z deljenjem kompleksnih števil, a računa približno s števili s plavajočo vejico\n",
    "z"
   ]
  },
  {
   "cell_type": "code",
   "execution_count": 14,
   "metadata": {
    "collapsed": false
   },
   "outputs": [
    {
     "data": {
      "text/plain": [
       "1.5811388300841898"
      ]
     },
     "execution_count": 14,
     "metadata": {},
     "output_type": "execute_result"
    }
   ],
   "source": [
    "abs(z) # rezultat je podan v decimalnem zapisu"
   ]
  },
  {
   "cell_type": "markdown",
   "metadata": {},
   "source": [
    "Če želimo, da *Python* pusti rezultat v obliki korenov in ulomkov, potrebujemo knjižnico [sympy](http://www.sympy.org)."
   ]
  },
  {
   "cell_type": "code",
   "execution_count": 42,
   "metadata": {
    "collapsed": true
   },
   "outputs": [],
   "source": [
    "import sympy as sym\n",
    "from sympy import I #uvozimo imaginarno enoto\n",
    "sym.init_printing() # lepši izpis formul"
   ]
  },
  {
   "cell_type": "code",
   "execution_count": 26,
   "metadata": {
    "collapsed": false
   },
   "outputs": [
    {
     "data": {
      "image/png": "[encoded data removed]",
      "text/latex": [
       "$$1 + 2 i$$"
      ],
      "text/plain": [
       "1 + 2⋅ⅈ"
      ]
     },
     "execution_count": 26,
     "metadata": {},
     "output_type": "execute_result"
    }
   ],
   "source": [
    "a = 1+2*I\n",
    "a"
   ]
  },
  {
   "cell_type": "code",
   "execution_count": 32,
   "metadata": {
    "collapsed": false
   },
   "outputs": [
    {
     "data": {
      "text/plain": [
       "(sympy.core.numbers.ImaginaryUnit, -1)"
      ]
     },
     "execution_count": 32,
     "metadata": {},
     "output_type": "execute_result"
    }
   ],
   "source": [
    "(type(I),I**2)"
   ]
  },
  {
   "cell_type": "code",
   "execution_count": 28,
   "metadata": {
    "collapsed": false
   },
   "outputs": [
    {
     "data": {
      "image/png": "[encoded data removed]",
      "text/latex": [
       "$$\\frac{1 - 2 i}{1 + i}$$"
      ],
      "text/plain": [
       "1 - 2⋅ⅈ\n",
       "───────\n",
       " 1 + ⅈ "
      ]
     },
     "execution_count": 28,
     "metadata": {},
     "output_type": "execute_result"
    }
   ],
   "source": [
    "z = (1-2*I)/(1+I)\n",
    "z"
   ]
  },
  {
   "cell_type": "code",
   "execution_count": 29,
   "metadata": {
    "collapsed": false
   },
   "outputs": [
    {
     "data": {
      "image/png": "[encoded data removed]",
      "text/latex": [
       "$$\\frac{\\sqrt{10}}{2}$$"
      ],
      "text/plain": [
       "  ____\n",
       "╲╱ 10 \n",
       "──────\n",
       "  2   "
      ]
     },
     "execution_count": 29,
     "metadata": {},
     "output_type": "execute_result"
    }
   ],
   "source": [
    "abs(z)"
   ]
  },
  {
   "cell_type": "code",
   "execution_count": 34,
   "metadata": {
    "collapsed": false
   },
   "outputs": [
    {
     "data": {
      "text/plain": [
       "sympy.core.add.Add"
      ]
     },
     "execution_count": 34,
     "metadata": {},
     "output_type": "execute_result"
    }
   ],
   "source": [
    "from sympy import S,I\n",
    "z = 1+I\n",
    "type(z)"
   ]
  },
  {
   "cell_type": "code",
   "execution_count": 35,
   "metadata": {
    "collapsed": false
   },
   "outputs": [
    {
     "data": {
      "image/png": "[encoded data removed]",
      "text/latex": [
       "$$\\sqrt{2}$$"
      ],
      "text/plain": [
       "  ___\n",
       "╲╱ 2 "
      ]
     },
     "execution_count": 35,
     "metadata": {},
     "output_type": "execute_result"
    }
   ],
   "source": [
    "abs(z)"
   ]
  },
  {
   "cell_type": "markdown",
   "metadata": {},
   "source": [
    "## Enačbe s kompleksnimi števili\n",
    "Reši enačbo\n",
    "$$iz^2-\\bar{z}=0$$\n",
    "\n",
    "Uporabimo ukaz `solve` iz knjižnice **sympy**."
   ]
  },
  {
   "cell_type": "code",
   "execution_count": 50,
   "metadata": {
    "collapsed": false
   },
   "outputs": [
    {
     "data": {
      "image/png": "[encoded data removed]",
      "text/latex": [
       "$$\\left [ 0\\right ]$$"
      ],
      "text/plain": [
       "[0]"
      ]
     },
     "execution_count": 50,
     "metadata": {},
     "output_type": "execute_result"
    }
   ],
   "source": [
    "from sympy import Symbol,Eq,conjugate,solve,im,re\n",
    "z = Symbol('z')\n",
    "solve(Eq(I*z**2-conjugate(z),0),z)"
   ]
  },
  {
   "cell_type": "markdown",
   "metadata": {
    "collapsed": true
   },
   "source": [
    "Python ni znal poiskati vseh rešitev, zato poskusimo kompleksno enačbo najprej preoblikovati v dve realni enačbi."
   ]
  },
  {
   "cell_type": "code",
   "execution_count": 48,
   "metadata": {
    "collapsed": false
   },
   "outputs": [
    {
     "data": {
      "image/png": "[encoded data removed]",
      "text/latex": [
       "$$- 2 x y - x + i \\left(x^{2} - y^{2} + y\\right)$$"
      ],
      "text/plain": [
       "               ⎛ 2    2    ⎞\n",
       "-2⋅x⋅y - x + ⅈ⋅⎝x  - y  + y⎠"
      ]
     },
     "execution_count": 48,
     "metadata": {},
     "output_type": "execute_result"
    }
   ],
   "source": [
    "x,y = sym.symbols(\"x,y\",real=True) # deklariramo realne spremenljivke\n",
    "z = x+y*I\n",
    "lhs = sym.expand_complex(I*z**2-conjugate(z))\n",
    "lhs"
   ]
  },
  {
   "cell_type": "markdown",
   "metadata": {},
   "source": [
    "Posebej izenačimo realni del in imaginarni del enačbe."
   ]
  },
  {
   "cell_type": "code",
   "execution_count": 56,
   "metadata": {
    "collapsed": false
   },
   "outputs": [
    {
     "data": {
      "image/png": "[encoded data removed]",
      "text/latex": [
       "$$\\left [ - 2 x y - x = 0, \\quad x^{2} - y^{2} + y = 0\\right ]$$"
      ],
      "text/plain": [
       "⎡                 2    2        ⎤\n",
       "⎣-2⋅x⋅y - x = 0, x  - y  + y = 0⎦"
      ]
     },
     "execution_count": 56,
     "metadata": {},
     "output_type": "execute_result"
    }
   ],
   "source": [
    "enacbe = [Eq(re(lhs),0),Eq(im(lhs),0)]\n",
    "enacbe"
   ]
  },
  {
   "cell_type": "code",
   "execution_count": 57,
   "metadata": {
    "collapsed": false
   },
   "outputs": [
    {
     "data": {
      "image/png": "[encoded data removed]",
      "text/latex": [
       "$$\\left [ \\left ( 0, \\quad 0\\right ), \\quad \\left ( 0, \\quad 1\\right ), \\quad \\left ( - \\frac{\\sqrt{3}}{2}, \\quad - \\frac{1}{2}\\right ), \\quad \\left ( \\frac{\\sqrt{3}}{2}, \\quad - \\frac{1}{2}\\right )\\right ]$$"
      ],
      "text/plain": [
       "⎡                ⎛   ___       ⎞  ⎛  ___      ⎞⎤\n",
       "⎢                ⎜-╲╱ 3        ⎟  ⎜╲╱ 3       ⎟⎥\n",
       "⎢(0, 0), (0, 1), ⎜───────, -1/2⎟, ⎜─────, -1/2⎟⎥\n",
       "⎣                ⎝   2         ⎠  ⎝  2        ⎠⎦"
      ]
     },
     "execution_count": 57,
     "metadata": {},
     "output_type": "execute_result"
    }
   ],
   "source": [
    "resitve = solve(enacbe,[x,y])\n",
    "resitve # pari (x,y), ki rešijo sistem enačb"
   ]
  },
  {
   "cell_type": "code",
   "execution_count": 58,
   "metadata": {
    "collapsed": false
   },
   "outputs": [
    {
     "data": {
      "image/png": "[encoded data removed]",
      "text/latex": [
       "$$\\left [ 0, \\quad i, \\quad - \\frac{\\sqrt{3}}{2} - \\frac{i}{2}, \\quad \\frac{\\sqrt{3}}{2} - \\frac{i}{2}\\right ]$$"
      ],
      "text/plain": [
       "⎡          ___        ___    ⎤\n",
       "⎢        ╲╱ 3    ⅈ  ╲╱ 3    ⅈ⎥\n",
       "⎢0, ⅈ, - ───── - ─, ───── - ─⎥\n",
       "⎣          2     2    2     2⎦"
      ]
     },
     "execution_count": 58,
     "metadata": {},
     "output_type": "execute_result"
    }
   ],
   "source": [
    "[r[0]+I*r[1] for r in resitve] # rešitve prvotne enačbe kot kompleksna števila"
   ]
  },
  {
   "cell_type": "markdown",
   "metadata": {},
   "source": [
    "## Množice v kompleksni ravnini\n",
    "\n",
    "Nobena knjižnica v *Python-u* ne zna risati neposredno v kompleksni ravnini. Zato uporabimo nastavek $z=x+iy$ in vse skupaj prevedemo v ravnino $x,y$.\n",
    "\n",
    "### Primer\n",
    "Poišči vse kompleksne rešitve spodnje enačbe, tj. opiši ali skiciraj množico\n",
    "rešitev v $\\mathbb{C}$.\n",
    "\n",
    "$$ Im\\left(\\frac{1}{z}\\right)=1$$"
   ]
  },
  {
   "cell_type": "code",
   "execution_count": 64,
   "metadata": {
    "collapsed": false
   },
   "outputs": [
    {
     "data": {
      "image/png": "[encoded data removed]",
      "text/latex": [
       "$$x + i y$$"
      ],
      "text/plain": [
       "x + ⅈ⋅y"
      ]
     },
     "execution_count": 64,
     "metadata": {},
     "output_type": "execute_result"
    }
   ],
   "source": [
    "x,y = sym.symbols(\"x,y\",real=True)\n",
    "z = x+I*y\n",
    "z"
   ]
  },
  {
   "cell_type": "code",
   "execution_count": 65,
   "metadata": {
    "collapsed": false
   },
   "outputs": [
    {
     "data": {
      "image/png": "[encoded data removed]",
      "text/latex": [
       "$$- \\frac{y}{x^{2} + y^{2}} = 1$$"
      ],
      "text/plain": [
       "  -y       \n",
       "─────── = 1\n",
       " 2    2    \n",
       "x  + y     "
      ]
     },
     "execution_count": 65,
     "metadata": {},
     "output_type": "execute_result"
    }
   ],
   "source": [
    "enacba  = Eq(im(1/z),1)\n",
    "enacba"
   ]
  },
  {
   "cell_type": "code",
   "execution_count": 68,
   "metadata": {
    "collapsed": false
   },
   "outputs": [
    {
     "data": {
      "image/png": "[encoded data removed]",
      "text/latex": [
       "$$- \\frac{y}{x^{2} + y^{2}} - 1$$"
      ],
      "text/plain": [
       "     y       \n",
       "- ─────── - 1\n",
       "   2    2    \n",
       "  x  + y     "
      ]
     },
     "execution_count": 68,
     "metadata": {},
     "output_type": "execute_result"
    }
   ],
   "source": [
    "leva = enacba.lhs-enacba.rhs # vse damo na eno stran\n",
    "leva"
   ]
  },
  {
   "cell_type": "markdown",
   "metadata": {},
   "source": [
    "Množica rešitev je podana implicitno z enačbo. Zato uporabimo `contour` iz knjižnice [matplotlib](http://www.matplotlib.org)."
   ]
  },
  {
   "cell_type": "code",
   "execution_count": 82,
   "metadata": {
    "collapsed": false
   },
   "outputs": [
    {
     "data": {
      "text/plain": [
       "<matplotlib.text.Text at 0x7f2ca8ee1c18>"
      ]
     },
     "execution_count": 82,
     "metadata": {},
     "output_type": "execute_result"
    },
    {
     "data": {
      "image/png": "[encoded data removed]",
      "text/plain": [
       "<matplotlib.figure.Figure at 0x7f2ccdabb208>"
      ]
     },
     "metadata": {},
     "output_type": "display_data"
    }
   ],
   "source": [
    "import matplotlib.pyplot as plt\n",
    "import numpy as np\n",
    "%matplotlib inline\n",
    "# generiramo mrežo točk (x,y) v kateri bomo izračunali vrednosti leve strani enačbe\n",
    "xi = np.linspace(-1,1)\n",
    "X,Y = np.meshgrid(xi,xi) # pripravimo tabele, ki jih lahko direktno vstavimo v funkcijo\n",
    "fun = sym.lambdify((x,y),leva) # izraz spremenimo v Python funkcijo\n",
    "plt.contour(X,Y,fun(X,Y),levels=[0]) # narišemo množico točk, pri katerih je leva stran enaka 0 (levels=[0])\n",
    "plt.axis(\"equal\")\n",
    "plt.title(\"množica je krožnica\")"
   ]
  },
  {
   "cell_type": "markdown",
   "metadata": {},
   "source": [
    "### Primer\n",
    "Skiciraj množico rešitev neenačbe \n",
    "  $$ |z-3i+4|\\le 4$$\n",
    "v kompleksni ravnini."
   ]
  },
  {
   "cell_type": "code",
   "execution_count": 108,
   "metadata": {
    "collapsed": false
   },
   "outputs": [
    {
     "data": {
      "image/png": "[encoded data removed]",
      "text/latex": [
       "$$\\sqrt{x^{2} + 8 x + y^{2} - 6 y + 25} - 4$$"
      ],
      "text/plain": [
       "   __________________________    \n",
       "  ╱  2          2                \n",
       "╲╱  x  + 8⋅x + y  - 6⋅y + 25  - 4"
      ]
     },
     "execution_count": 108,
     "metadata": {},
     "output_type": "execute_result"
    }
   ],
   "source": [
    "leva = abs(z-3*I+4)-4\n",
    "leva"
   ]
  },
  {
   "cell_type": "code",
   "execution_count": 113,
   "metadata": {
    "collapsed": false
   },
   "outputs": [
    {
     "data": {
      "text/plain": [
       "<matplotlib.text.Text at 0x7f2ca8624470>"
      ]
     },
     "execution_count": 113,
     "metadata": {},
     "output_type": "execute_result"
    },
    {
     "data": {
      "image/png": "[encoded data removed]",
      "text/plain": [
       "<matplotlib.figure.Figure at 0x7f2ca8673748>"
      ]
     },
     "metadata": {},
     "output_type": "display_data"
    }
   ],
   "source": [
    "# generiramo mrežo točk (x,y) v kateri bomo izračunali vrednosti leve strani enačbe\n",
    "xi = np.linspace(-8,0)\n",
    "yi = np.linspace(-2,8)\n",
    "X,Y = np.meshgrid(xi,yi) # pripravimo tabele, ki jih lahko direktno vstavimo v funkcijo\n",
    "fun = sym.lambdify((x,y),leva) # izraz spremenimo v Python funkcijo\n",
    "fun = np.vectorize(fun)        # Poskrbimo, da funkcija sprejme tudi tabele\n",
    "plt.contourf(X,Y,fun(X,Y),levels=[0,-4]) # narišemo množico točk, pri katerih je leva stran med 0 in -4 (levels=[0,-4])\n",
    "plt.axis(\"equal\")\n",
    "plt.title(\"množica je poln krog\")"
   ]
  },
  {
   "cell_type": "markdown",
   "metadata": {},
   "source": [
    "## Faktorizacija polinoma\n",
    "Reši enačbo \n",
    "$$z^4 + 4 = 0,$$ nato pa razstavi polinom $z^4 + 4$ na dva kvadratna\n",
    "faktorja z realnimi koeficienti."
   ]
  },
  {
   "cell_type": "code",
   "execution_count": 115,
   "metadata": {
    "collapsed": false
   },
   "outputs": [
    {
     "data": {
      "image/png": "[encoded data removed]",
      "text/latex": [
       "$$\\left [ -1 - i, \\quad -1 + i, \\quad 1 - i, \\quad 1 + i\\right ]$$"
      ],
      "text/plain": [
       "[-1 - ⅈ, -1 + ⅈ, 1 - ⅈ, 1 + ⅈ]"
      ]
     },
     "execution_count": 115,
     "metadata": {},
     "output_type": "execute_result"
    }
   ],
   "source": [
    "z = Symbol('z')\n",
    "resitve = solve(z**4+4,z)\n",
    "resitve"
   ]
  },
  {
   "cell_type": "code",
   "execution_count": 125,
   "metadata": {
    "collapsed": false
   },
   "outputs": [
    {
     "data": {
      "image/png": "[encoded data removed]",
      "text/latex": [
       "$$\\left(z - 1 - i\\right) \\left(z - 1 + i\\right) \\left(z + 1 - i\\right) \\left(z + 1 + i\\right)$$"
      ],
      "text/plain": [
       "(z - 1 - ⅈ)⋅(z - 1 + ⅈ)⋅(z + 1 - ⅈ)⋅(z + 1 + ⅈ)"
      ]
     },
     "execution_count": 125,
     "metadata": {},
     "output_type": "execute_result"
    }
   ],
   "source": [
    "sym.prod([z-z0 for z0 in resitve])"
   ]
  },
  {
   "cell_type": "markdown",
   "metadata": {},
   "source": [
    "Polinom $z^4+4$ lahko zapišemo kot produkt linearnih faktorjev $(z-z_i)$, kjer so $z_i$ ničle polinoma. Rešitve nastopajo kot konjugirani pari $-1\\pm i$ in $1\\pm i$. Če skupaj zmnožimo linearne faktorje, ki pripadajo konjugiranemu paru, dobimo razcep na kvadratne faktorje z linearnimi koeficienti."
   ]
  },
  {
   "cell_type": "code",
   "execution_count": 127,
   "metadata": {
    "collapsed": false
   },
   "outputs": [
    {
     "data": {
      "image/png": "[encoded data removed]",
      "text/latex": [
       "$$\\left(z^{2} - 2 z + 2\\right) \\left(z^{2} + 2 z + 2\\right)$$"
      ],
      "text/plain": [
       "⎛ 2          ⎞ ⎛ 2          ⎞\n",
       "⎝z  - 2⋅z + 2⎠⋅⎝z  + 2⋅z + 2⎠"
      ]
     },
     "execution_count": 127,
     "metadata": {},
     "output_type": "execute_result"
    }
   ],
   "source": [
    "izraz = sym.expand((z-resitve[0])*(z-resitve[1]))*sym.expand((z-resitve[2])*(z-resitve[3]))\n",
    "izraz"
   ]
  },
  {
   "cell_type": "code",
   "execution_count": 128,
   "metadata": {
    "collapsed": false
   },
   "outputs": [
    {
     "data": {
      "image/png": "[encoded data removed]",
      "text/latex": [
       "$$z^{4} + 4$$"
      ],
      "text/plain": [
       " 4    \n",
       "z  + 4"
      ]
     },
     "execution_count": 128,
     "metadata": {},
     "output_type": "execute_result"
    }
   ],
   "source": [
    "# če kvadratna faktorja zmnožimo, dobimo prvotni polinom\n",
    "sym.expand(izraz)"
   ]
  },
  {
   "cell_type": "code",
   "execution_count": 129,
   "metadata": {
    "collapsed": false
   },
   "outputs": [
    {
     "data": {
      "image/png": "[encoded data removed]",
      "text/latex": [
       "$$\\left(z^{2} - 2 z + 2\\right) \\left(z^{2} + 2 z + 2\\right)$$"
      ],
      "text/plain": [
       "⎛ 2          ⎞ ⎛ 2          ⎞\n",
       "⎝z  - 2⋅z + 2⎠⋅⎝z  + 2⋅z + 2⎠"
      ]
     },
     "execution_count": 129,
     "metadata": {},
     "output_type": "execute_result"
    }
   ],
   "source": [
    "# razcep na kvadratne faktorje lahko izračunamo tudi s funkcijo factor\n",
    "sym.factor(z**4+4)"
   ]
  },
  {
   "cell_type": "markdown",
   "metadata": {},
   "source": [
    "## Polarni zapis\n",
    "Kompleksno število lahko zapišemo tudi v polarni obliki\n",
    "$$ z =r e^{i\\phi} = r(\\cos(\\phi) + i\\sin(\\phi)).$$\n",
    "Polarna oblika je primerna za množenje, potenciranje in korene.\n",
    "### Primer\n",
    "Poišči vse korene \n",
    "$$\\sqrt[3]{-27+27i}.$$\n",
    "Iščemo rešitve enačbe\n",
    "$$ z^3 = -27+27i.$$"
   ]
  },
  {
   "cell_type": "code",
   "execution_count": 140,
   "metadata": {
    "collapsed": false
   },
   "outputs": [
    {
     "data": {
      "image/png": "[encoded data removed]",
      "text/latex": [
       "$$r^{3} e^{3 i f}$$"
      ],
      "text/plain": [
       " 3  3⋅ⅈ⋅f\n",
       "r ⋅ℯ     "
      ]
     },
     "execution_count": 140,
     "metadata": {},
     "output_type": "execute_result"
    }
   ],
   "source": [
    "r,f = sym.symbols(\"r,f\",real=True)\n",
    "z = r*sym.exp(I*f)\n",
    "z**3"
   ]
  },
  {
   "cell_type": "code",
   "execution_count": 145,
   "metadata": {
    "collapsed": false
   },
   "outputs": [
    {
     "data": {
      "image/png": "[encoded data removed]",
      "text/latex": [
       "$$i r^{3} \\sin{\\left (3 f \\right )} + r^{3} \\cos{\\left (3 f \\right )}$$"
      ],
      "text/plain": [
       "   3             3         \n",
       "ⅈ⋅r ⋅sin(3⋅f) + r ⋅cos(3⋅f)"
      ]
     },
     "execution_count": 145,
     "metadata": {},
     "output_type": "execute_result"
    }
   ],
   "source": [
    "sym.expand_complex(z**3)"
   ]
  },
  {
   "cell_type": "code",
   "execution_count": 149,
   "metadata": {
    "collapsed": false
   },
   "outputs": [
    {
     "data": {
      "image/png": "[encoded data removed]",
      "text/latex": [
       "$$27 \\sqrt{2}$$"
      ],
      "text/plain": [
       "     ___\n",
       "27⋅╲╱ 2 "
      ]
     },
     "execution_count": 149,
     "metadata": {},
     "output_type": "execute_result"
    }
   ],
   "source": [
    "z0 = -27+27*I \n",
    "abs(z0)"
   ]
  },
  {
   "cell_type": "code",
   "execution_count": 150,
   "metadata": {
    "collapsed": false
   },
   "outputs": [
    {
     "data": {
      "image/png": "[encoded data removed]",
      "text/latex": [
       "$$\\frac{3 \\pi}{4}$$"
      ],
      "text/plain": [
       "3⋅π\n",
       "───\n",
       " 4 "
      ]
     },
     "execution_count": 150,
     "metadata": {},
     "output_type": "execute_result"
    }
   ],
   "source": [
    "sym.arg(z0)"
   ]
  },
  {
   "cell_type": "markdown",
   "metadata": {},
   "source": [
    "Enačbe dobimo tako, da izenačimo $r^3$ z $|z_0|$ in $3\\phi$ z $\\arg(z_0)$. V enačbi za argument, lahko eni strani dodamo večkratnik $2\\pi$:\n",
    "$$r^3 = 27\\sqrt{2}$$\n",
    "$$3\\phi = \\frac{3\\pi}{4}+2k\\pi$$\n",
    "\n",
    "Rešitev je neskončno\n",
    "$$r = 3\\sqrt[6]{2} $$\n",
    "$$\\phi = \\frac{\\pi}{4} +\\frac{2k\\pi}{3}$$"
   ]
  },
  {
   "cell_type": "code",
   "execution_count": 167,
   "metadata": {
    "collapsed": false
   },
   "outputs": [
    {
     "name": "stdout",
     "output_type": "stream",
     "text": [
      "-3.25265\t+\t0.87154i\n",
      "\n",
      "0.87154\t+\t-3.25265i\n",
      "\n",
      "2.38110\t+\t2.38110i\n",
      "\n",
      "-3.25265\t+\t0.87154i\n",
      "\n",
      "0.87154\t+\t-3.25265i\n",
      "\n",
      "2.38110\t+\t2.38110i\n",
      "\n",
      "-3.25265\t+\t0.87154i\n",
      "\n",
      "0.87154\t+\t-3.25265i\n",
      "\n",
      "2.38110\t+\t2.38110i\n",
      "\n",
      "-3.25265\t+\t0.87154i\n",
      "\n"
     ]
    }
   ],
   "source": [
    "# Če tabeliramo različne rešitve za vrednosti k = -5,-4,...,0,1,..\n",
    "from sympy import exp\n",
    "for k in range(-5,5):\n",
    "    zi = complex(abs(z0)**(1/3)*exp(1j*pi*(1/4+2*k/3)))\n",
    "    print(\"%0.5f\\t+\\t%0.5fi\\n\" % (re(zi),im(zi)))"
   ]
  },
  {
   "cell_type": "markdown",
   "metadata": {},
   "source": [
    "Čeprav je rešitev za $\\phi$ neskončno, je kompleksnih rešitev le končno mnogo - 3, saj se začnejo ponavljati ($e^{i\\phi}$ je periodična funkcija s periodo $2\\pi$)."
   ]
  },
  {
   "cell_type": "code",
   "execution_count": 170,
   "metadata": {
    "collapsed": false
   },
   "outputs": [
    {
     "data": {
      "image/png": "[encoded data removed]",
      "text/latex": [
       "$$\\left [ \\frac{3}{2} 2^{\\frac{2}{3}} + \\frac{3 i}{2} 2^{\\frac{2}{3}}, \\quad - \\frac{3}{4} 2^{\\frac{2}{3}} + \\frac{3 \\sqrt{3}}{4} 2^{\\frac{2}{3}} - \\frac{3 i}{4} 2^{\\frac{2}{3}} \\sqrt{3} - \\frac{3 i}{4} 2^{\\frac{2}{3}}, \\quad - \\frac{3 \\sqrt{3}}{4} 2^{\\frac{2}{3}} - \\frac{3}{4} 2^{\\frac{2}{3}} - \\frac{3 i}{4} 2^{\\frac{2}{3}} + \\frac{3 i}{4} 2^{\\frac{2}{3}} \\sqrt{3}\\right ]$$"
      ],
      "text/plain": [
       "⎡   2/3      2/3         2/3      2/3   ___      2/3   ___        2/3         \n",
       "⎢3⋅2      3⋅2   ⋅ⅈ    3⋅2      3⋅2   ⋅╲╱ 3    3⋅2   ⋅╲╱ 3 ⋅ⅈ   3⋅2   ⋅ⅈ    3⋅2\n",
       "⎢────── + ────────, - ────── + ──────────── - ────────────── - ────────, - ───\n",
       "⎣  2         2          4           4               4             4           \n",
       "\n",
       "2/3   ___      2/3      2/3        2/3   ___  ⎤\n",
       "   ⋅╲╱ 3    3⋅2      3⋅2   ⋅ⅈ   3⋅2   ⋅╲╱ 3 ⋅ⅈ⎥\n",
       "───────── - ────── - ──────── + ──────────────⎥\n",
       "  4           4         4             4       ⎦"
      ]
     },
     "execution_count": 170,
     "metadata": {},
     "output_type": "execute_result"
    }
   ],
   "source": [
    "# rešitve seveda lahko piščemo tudi s solve\n",
    "z = Symbol(\"z\")\n",
    "solve(Eq(z**3,-27+27*I),z)"
   ]
  },
  {
   "cell_type": "code",
   "execution_count": null,
   "metadata": {
    "collapsed": true
   },
   "outputs": [],
   "source": []
  }
 ],
 "metadata": {
  "kernelspec": {
   "display_name": "Python 3",
   "language": "python",
   "name": "python3"
  },
  "language_info": {
   "codemirror_mode": {
    "name": "ipython",
    "version": 3
   },
   "file_extension": ".py",
   "mimetype": "text/x-python",
   "name": "python",
   "nbconvert_exporter": "python",
   "pygments_lexer": "ipython3",
   "version": "3.4.3"
  }
 },
 "nbformat": 4,
 "nbformat_minor": 0
}
