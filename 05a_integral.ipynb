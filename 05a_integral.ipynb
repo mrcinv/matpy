{
 "cells": [
  {
   "cell_type": "markdown",
   "metadata": {},
   "source": [
    "[^ gor: Uvod](00_uvod.ipynb)"
   ]
  },
  {
   "cell_type": "markdown",
   "metadata": {},
   "source": [
    "# Ploščina lika\n",
    "**Ploščino lika** med grafoma funkcij $f(x)$ in $g(x)$ na intervalu $[a,b]$ lahko izračunamo s preprosto formulo\n",
    "$$P = \\int_a^b\\left|f(x)-g(x)\\right | dx.$$\n",
    "Za bolj komplicirane like, lahko formulo na različnih intervalih kombiniramo.\n"
   ]
  },
  {
   "cell_type": "markdown",
   "metadata": {},
   "source": [
    "## Primer\n",
    "Izračunaj skupno ploščino likov, ki jih omejujeta krivulji $y=x^2-x-2$ in $y=x^3-x^2+1$.  \n",
    "\n",
    "### Rešitev\n",
    "Najprej si narišemo graf, da si bomo vse skupaj lažje predstavljali"
   ]
  },
  {
   "cell_type": "code",
   "execution_count": 77,
   "metadata": {
    "collapsed": false
   },
   "outputs": [
    {
     "data": {
      "text/plain": [
       "<matplotlib.text.Text at 0x7f059bd21cc0>"
      ]
     },
     "execution_count": 77,
     "metadata": {},
     "output_type": "execute_result"
    },
    {
     "data": {
      "image/png": "[encoded data removed]",
      "text/plain": [
       "<matplotlib.figure.Figure at 0x7f059d66fb38>"
      ]
     },
     "metadata": {},
     "output_type": "display_data"
    }
   ],
   "source": [
    "%matplotlib inline\n",
    "from matplotlib import pyplot as plt\n",
    "import numpy as np\n",
    "f = lambda x: x**2-x-2\n",
    "g = lambda x: x**3-2*x**2-3*x+1\n",
    "fig, ax = plt.subplots()\n",
    "x = np.linspace(-2,4)\n",
    "ax.fill_between(x, f(x),g(x),where = f(x)>=g(x), facecolor='green',interpolate=True)\n",
    "ax.fill_between(x, f(x), g(x), where = f(x)<= g(x),facecolor='red',interpolate=True)\n",
    "plt.title(\"Liki med dvema krivuljama.\")\n"
   ]
  },
  {
   "cell_type": "markdown",
   "metadata": {},
   "source": [
    "Krivulji omejujeta dva lika. Meje za integracijo izračunamo tako, da poiščemo presečišča. "
   ]
  },
  {
   "cell_type": "code",
   "execution_count": 65,
   "metadata": {
    "collapsed": false
   },
   "outputs": [
    {
     "data": {
      "image/png": "[encoded data removed]",
      "text/latex": [
       "$$x^{2} - x - 2 = x^{3} - 2 x^{2} - 3 x + 1$$"
      ],
      "text/plain": [
       " 2            3      2          \n",
       "x  - x - 2 = x  - 2⋅x  - 3⋅x + 1"
      ]
     },
     "execution_count": 65,
     "metadata": {},
     "output_type": "execute_result"
    }
   ],
   "source": [
    "import sympy as sym\n",
    "sym.init_printing()\n",
    "x = sym.Symbol('x')\n",
    "enacba = sym.Eq(f(x),g(x))\n",
    "enacba"
   ]
  },
  {
   "cell_type": "code",
   "execution_count": 66,
   "metadata": {
    "collapsed": false
   },
   "outputs": [
    {
     "data": {
      "image/png": "[encoded data removed]",
      "text/latex": [
       "$$\\left [ 1 + \\left(- \\frac{1}{2} - \\frac{\\sqrt{3} i}{2}\\right) \\sqrt[3]{\\frac{1}{2} + \\frac{\\sqrt{1419} i}{18}} + \\frac{5}{3 \\left(- \\frac{1}{2} - \\frac{\\sqrt{3} i}{2}\\right) \\sqrt[3]{\\frac{1}{2} + \\frac{\\sqrt{1419} i}{18}}}, \\quad 1 + \\frac{5}{3 \\left(- \\frac{1}{2} + \\frac{\\sqrt{3} i}{2}\\right) \\sqrt[3]{\\frac{1}{2} + \\frac{\\sqrt{1419} i}{18}}} + \\left(- \\frac{1}{2} + \\frac{\\sqrt{3} i}{2}\\right) \\sqrt[3]{\\frac{1}{2} + \\frac{\\sqrt{1419} i}{18}}, \\quad 1 + \\frac{5}{3 \\sqrt[3]{\\frac{1}{2} + \\frac{\\sqrt{1419} i}{18}}} + \\sqrt[3]{\\frac{1}{2} + \\frac{\\sqrt{1419} i}{18}}\\right ]$$"
      ],
      "text/plain": [
       "⎡                         ________________                                    \n",
       "⎢    ⎛        ___  ⎞     ╱       ______                                       \n",
       "⎢    ⎜  1   ╲╱ 3 ⋅ⅈ⎟    ╱  1   ╲╱ 1419 ⋅ⅈ                       5             \n",
       "⎢1 + ⎜- ─ - ───────⎟⋅3 ╱   ─ + ──────────  + ─────────────────────────────────\n",
       "⎢    ⎝  2      2   ⎠ ╲╱    2       18                               __________\n",
       "⎢                                              ⎛        ___  ⎞     ╱       ___\n",
       "⎢                                              ⎜  1   ╲╱ 3 ⋅ⅈ⎟    ╱  1   ╲╱ 14\n",
       "⎢                                            3⋅⎜- ─ - ───────⎟⋅3 ╱   ─ + ─────\n",
       "⎣                                              ⎝  2      2   ⎠ ╲╱    2       1\n",
       "\n",
       "                                                                           ___\n",
       "                                                      ⎛        ___  ⎞     ╱   \n",
       "                               5                      ⎜  1   ╲╱ 3 ⋅ⅈ⎟    ╱  1 \n",
       "──────, 1 + ─────────────────────────────────────── + ⎜- ─ + ───────⎟⋅3 ╱   ─ \n",
       "______                             ________________   ⎝  2      2   ⎠ ╲╱    2 \n",
       "___           ⎛        ___  ⎞     ╱       ______                              \n",
       "19 ⋅ⅈ         ⎜  1   ╲╱ 3 ⋅ⅈ⎟    ╱  1   ╲╱ 1419 ⋅ⅈ                            \n",
       "─────       3⋅⎜- ─ + ───────⎟⋅3 ╱   ─ + ──────────                            \n",
       "8             ⎝  2      2   ⎠ ╲╱    2       18                                \n",
       "\n",
       "_____________                                     ________________⎤\n",
       "    ______                                       ╱       ______   ⎥\n",
       "  ╲╱ 1419 ⋅ⅈ                  5                 ╱  1   ╲╱ 1419 ⋅ⅈ ⎥\n",
       "+ ────────── , 1 + ─────────────────────── + 3 ╱   ─ + ────────── ⎥\n",
       "      18                  ________________   ╲╱    2       18     ⎥\n",
       "                         ╱       ______                           ⎥\n",
       "                        ╱  1   ╲╱ 1419 ⋅ⅈ                         ⎥\n",
       "                   3⋅3 ╱   ─ + ──────────                         ⎥\n",
       "                     ╲╱    2       18                             ⎦"
      ]
     },
     "execution_count": 66,
     "metadata": {},
     "output_type": "execute_result"
    }
   ],
   "source": [
    "sym.solve(enacba,x)"
   ]
  },
  {
   "cell_type": "markdown",
   "metadata": {},
   "source": [
    "Formule za presečišča so precej grda, zato bomo raje uporabili kar približke s števili s plavajočo vejico (float)."
   ]
  },
  {
   "cell_type": "code",
   "execution_count": 74,
   "metadata": {
    "collapsed": false
   },
   "outputs": [
    {
     "data": {
      "image/png": "[encoded data removed]",
      "text/latex": [
       "$$\\left [ 0.798360324276595 + 5.0 \\cdot 10^{-23} i, \\quad -1.12841906384458 - 5.0 \\cdot 10^{-23} i, \\quad 3.33005873956798 - 7.0 \\cdot 10^{-21} i\\right ]$$"
      ],
      "text/plain": [
       "[0.798360324276595 + 0.e-22⋅ⅈ, -1.12841906384458 - - -0.e-22⋅ⅈ, 3.330058739567\n",
       "98 - - -0.e-20⋅ⅈ]"
      ]
     },
     "execution_count": 74,
     "metadata": {},
     "output_type": "execute_result"
    }
   ],
   "source": [
    "resitve = [x.evalf() for x in sym.solve(enacba,x)]\n",
    "resitve"
   ]
  },
  {
   "cell_type": "markdown",
   "metadata": {},
   "source": [
    "Opazimo, da so rešitve kompleksne. Čudno! Ampak imaginarni del je zelo majhen. Očitno gre za zaokrožitveno napako, saj je na grafu lepo vindo, da so rešitve realne. Vzamemo le realni del."
   ]
  },
  {
   "cell_type": "code",
   "execution_count": 75,
   "metadata": {
    "collapsed": false
   },
   "outputs": [
    {
     "data": {
      "image/png": "[encoded data removed]",
      "text/latex": [
       "$$\\left [ -1.12841906384458, \\quad 0.798360324276595, \\quad 3.33005873956798\\right ]$$"
      ],
      "text/plain": [
       "[-1.12841906384458, 0.798360324276595, 3.33005873956798]"
      ]
     },
     "execution_count": 75,
     "metadata": {},
     "output_type": "execute_result"
    }
   ],
   "source": [
    "resitve = [sym.re(x) for x in resitve]\n",
    "resitve.sort()\n",
    "resitve"
   ]
  },
  {
   "cell_type": "code",
   "execution_count": 78,
   "metadata": {
    "collapsed": false
   },
   "outputs": [
    {
     "data": {
      "image/png": "[encoded data removed]",
      "text/plain": [
       "<matplotlib.figure.Figure at 0x7f059d66fb38>"
      ]
     },
     "execution_count": 78,
     "metadata": {},
     "output_type": "execute_result"
    }
   ],
   "source": [
    "for i in range(len(resitve)):\n",
    "    xi = resitve[i]\n",
    "    ax.plot(xi,f(xi),'ko')\n",
    "    ax.annotate('$(x_%d,f(x_%d))$'%(i,i),xy = (xi,f(xi)),xytext=(xi,f(xi)-3))\n",
    "fig"
   ]
  },
  {
   "cell_type": "markdown",
   "metadata": {},
   "source": [
    "## Ploščina\n",
    "\n",
    "Če uporabimo formulo za ploščino, dobimo integral z absolutno vrednostjo, ki ga razdelimo na dva dela\n",
    "$$\\int_{x_0}^{x_2}\\left|f(x)-g(x)\\right|dx = \\int_{x_0}^{x_1}\\left(g(x)-f(x)\\right)dx+\\int_{x_1}^{x_2}\\left(f(x)-g(x)\\right)dx$$"
   ]
  },
  {
   "cell_type": "code",
   "execution_count": 87,
   "metadata": {
    "collapsed": false
   },
   "outputs": [
    {
     "name": "stdout",
     "output_type": "stream",
     "text": [
      "Skupna ploščina obeh likov je približno enaka 12.801220\n"
     ]
    }
   ],
   "source": [
    "x = sym.Symbol('x')\n",
    "P = sym.integrate(g(x)-f(x),(x,resitve[0],resitve[1])) + sym.integrate(f(x)-g(x),(x,resitve[1],resitve[2]))\n",
    "print(\"Skupna ploščina obeh likov je približno enaka %f\" % P)"
   ]
  },
  {
   "cell_type": "markdown",
   "metadata": {},
   "source": [
    "[<< nazaj: odvod - ekstremi](04c_ekstremi.ipynb) [naprej: integral>>](05a_integral.pynb)"
   ]
  },
  {
   "cell_type": "code",
   "execution_count": 55,
   "metadata": {
    "collapsed": false
   },
   "outputs": [
    {
     "data": {
      "text/html": [
       "\n",
       "<div id=\"disqus_thread\"></div>\n",
       "\n",
       "<script type=\"text/javascript\">\n",
       "    var disqus_shortname = \"matpy\";\n",
       "    \n",
       "</script>\n",
       "<script src=\"https://matpy.disqus.com/embed.js\" async=\"true\">\n",
       "</script>\n",
       "\n",
       "<noscript>\n",
       "    Please enable JavaScript to view the\n",
       "    <a href=\"https://disqus.com/?ref_noscript\" rel=\"nofollow\">\n",
       "        comments powered by Disqus.\n",
       "    </a>\n",
       "</noscript>"
      ],
      "text/plain": [
       "<IPython.core.display.HTML object>"
      ]
     },
     "metadata": {},
     "output_type": "display_data"
    }
   ],
   "source": [
    "import disqus\n",
    "%reload_ext disqus\n",
    "%disqus matpy"
   ]
  }
 ],
 "metadata": {
  "kernelspec": {
   "display_name": "Python 3",
   "language": "python",
   "name": "python3"
  },
  "language_info": {
   "codemirror_mode": {
    "name": "ipython",
    "version": 3
   },
   "file_extension": ".py",
   "mimetype": "text/x-python",
   "name": "python",
   "nbconvert_exporter": "python",
   "pygments_lexer": "ipython3",
   "version": "3.5.0+"
  }
 },
 "nbformat": 4,
 "nbformat_minor": 0
}
