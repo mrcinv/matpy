{
 "cells": [
  {
   "cell_type": "code",
   "execution_count": 43,
   "metadata": {
    "collapsed": false
   },
   "outputs": [],
   "source": [
    "import sympy\n",
    "import numpy\n",
    "from sympy import Eq, solve\n",
    "from matplotlib import pyplot\n",
    "from sympy.mpmath import quad\n",
    "from math import log\n",
    "\n",
    "%matplotlib notebook\n",
    "\n",
    "def sample_function(f, start, end, step):\n",
    "    xs = numpy.linspace(start=start, stop=end, num=(end-start)/step)\n",
    "    ys = [f(x) for x in xs]\n",
    "    return xs, ys\n",
    "\n",
    "sympy.init_printing()"
   ]
  },
  {
   "cell_type": "markdown",
   "metadata": {},
   "source": [
    "# 2. kolokvij 2011/2012, rešitve"
   ]
  },
  {
   "cell_type": "markdown",
   "metadata": {},
   "source": [
    "## 1. naloga"
   ]
  },
  {
   "cell_type": "markdown",
   "metadata": {},
   "source": [
    "*Poišči največjo in najmanjšo vrednost, ki jo zavzame funkcija \n",
    "$$f(x) = x^4 + 2x^3 - 2x^2 + 1.$$*"
   ]
  },
  {
   "cell_type": "code",
   "execution_count": 30,
   "metadata": {
    "collapsed": false
   },
   "outputs": [],
   "source": [
    "f = lambda x: x**4 + 2*x**3 - 2*x**2 + 1\n",
    "x = sympy.Symbol('x', real=True)"
   ]
  },
  {
   "cell_type": "markdown",
   "metadata": {},
   "source": [
    "Kandadati za ekstreme so stacionarne točke in krajišči našega intervala. Stacionarne točke poiščemo z rešitvijo enačbe $f'(x)=0$.\n"
   ]
  },
  {
   "cell_type": "code",
   "execution_count": 31,
   "metadata": {
    "collapsed": false
   },
   "outputs": [
    {
     "data": {
      "image/png": "[encoded data removed]",
      "text/latex": [
       "$$4 x^{3} + 6 x^{2} - 4 x = 0$$"
      ],
      "text/plain": [
       "   3      2          \n",
       "4⋅x  + 6⋅x  - 4⋅x = 0"
      ]
     },
     "execution_count": 31,
     "metadata": {},
     "output_type": "execute_result"
    }
   ],
   "source": [
    "eq = Eq(f(x).diff(), 0)\n",
    "eq"
   ]
  },
  {
   "cell_type": "code",
   "execution_count": 32,
   "metadata": {
    "collapsed": false
   },
   "outputs": [
    {
     "data": {
      "image/png": "[encoded data removed]",
      "text/latex": [
       "$$\\left [ -2, \\quad 0, \\quad \\frac{1}{2}\\right ]$$"
      ],
      "text/plain": [
       "[-2, 0, 1/2]"
      ]
     },
     "execution_count": 32,
     "metadata": {},
     "output_type": "execute_result"
    }
   ],
   "source": [
    "critical_points = sympy.solve(eq)\n",
    "critical_points"
   ]
  },
  {
   "cell_type": "code",
   "execution_count": 33,
   "metadata": {
    "collapsed": false
   },
   "outputs": [
    {
     "data": {
      "image/png": "[encoded data removed]",
      "text/latex": [
       "$$\\left [ \\left ( -2, \\quad -7\\right ), \\quad \\left ( 0, \\quad 1\\right ), \\quad \\left ( \\frac{1}{2}, \\quad \\frac{13}{16}\\right ), \\quad \\left ( -3, \\quad 10\\right ), \\quad \\left ( 1, \\quad 2\\right )\\right ]$$"
      ],
      "text/plain": [
       "⎡                  ⎛     13⎞                  ⎤\n",
       "⎢(-2, -7), (0, 1), ⎜1/2, ──⎟, (-3, 10), (1, 2)⎥\n",
       "⎣                  ⎝     16⎠                  ⎦"
      ]
     },
     "execution_count": 33,
     "metadata": {},
     "output_type": "execute_result"
    }
   ],
   "source": [
    "end_points = [-3, 1]\n",
    "\n",
    "points = [(y, f(y)) for y in critical_points + end_points]\n",
    "points"
   ]
  },
  {
   "cell_type": "code",
   "execution_count": 34,
   "metadata": {
    "collapsed": false
   },
   "outputs": [
    {
     "data": {
      "image/png": "[encoded data removed]",
      "text/latex": [
       "$$\\left ( \\left ( -2, \\quad -7\\right ), \\quad \\left ( -3, \\quad 10\\right )\\right )$$"
      ],
      "text/plain": [
       "((-2, -7), (-3, 10))"
      ]
     },
     "execution_count": 34,
     "metadata": {},
     "output_type": "execute_result"
    }
   ],
   "source": [
    "min(points, key=lambda point: point[1]), max(points, key=lambda point: point[1])"
   ]
  },
  {
   "cell_type": "markdown",
   "metadata": {},
   "source": [
    "*Določi tudi intervale naraščanja in padanja.*\n",
    "\n",
    "Funkcija narasca kjer je prvi odvod vecji od nic."
   ]
  },
  {
   "cell_type": "code",
   "execution_count": 35,
   "metadata": {
    "collapsed": false
   },
   "outputs": [
    {
     "data": {
      "image/png": "[encoded data removed]",
      "text/latex": [
       "$$\\left(-2 < x \\wedge x < 0\\right) \\vee \\left(\\frac{1}{2} < x \\wedge x < \\infty\\right)$$"
      ],
      "text/plain": [
       "(-2 < x ∧ x < 0) ∨ (1/2 < x ∧ x < ∞)"
      ]
     },
     "execution_count": 35,
     "metadata": {},
     "output_type": "execute_result"
    }
   ],
   "source": [
    "sympy.solvers.reduce_inequalities([f(x).diff(x) > 0])"
   ]
  },
  {
   "cell_type": "markdown",
   "metadata": {},
   "source": [
    "Funkcija pada, kjer je prvi odvod manjsi od nic."
   ]
  },
  {
   "cell_type": "code",
   "execution_count": 36,
   "metadata": {
    "collapsed": false
   },
   "outputs": [
    {
     "data": {
      "image/png": "[encoded data removed]",
      "text/latex": [
       "$$\\left(-\\infty < x \\wedge x < -2\\right) \\vee \\left(0 < x \\wedge x < \\frac{1}{2}\\right)$$"
      ],
      "text/plain": [
       "(-∞ < x ∧ x < -2) ∨ (0 < x ∧ x < 1/2)"
      ]
     },
     "execution_count": 36,
     "metadata": {},
     "output_type": "execute_result"
    }
   ],
   "source": [
    "sympy.solvers.reduce_inequalities([f(x).diff(x) < 0])"
   ]
  },
  {
   "cell_type": "markdown",
   "metadata": {},
   "source": [
    "## 2. naloga"
   ]
  },
  {
   "cell_type": "markdown",
   "metadata": {},
   "source": [
    "*Odpira se kavna hisa kava. Lastniki hise zelijo mesanico kave prodajati v licnih plocevinastih skatlicah, ki imajo obliko tristrane prizme s prostornino 1. Osnovna ploskev je enakostranicni trikotnik s stranico $a$, visina prizme je $b$. Pomagaj jim poiskati optimalno velikost skatlice: koliksna naj bosta $a$ in $b$, da bodo za izdelavo porabili cim manj plocevine?*"
   ]
  },
  {
   "cell_type": "code",
   "execution_count": 37,
   "metadata": {
    "collapsed": false
   },
   "outputs": [
    {
     "data": {
      "image/png": "[encoded data removed]",
      "text/latex": [
       "$$\\frac{2 \\sqrt{3}}{3 a^{2}}$$"
      ],
      "text/plain": [
       "    ___\n",
       "2⋅╲╱ 3 \n",
       "───────\n",
       "     2 \n",
       "  3⋅a  "
      ]
     },
     "execution_count": 37,
     "metadata": {},
     "output_type": "execute_result"
    }
   ],
   "source": [
    "a = sympy.Symbol('a', real=True, positive=True)\n",
    "b = sympy.Symbol('b', real=True, positive=True)\n",
    "v = lambda a, b: a**2*b*sympy.sqrt(3)/2\n",
    "p = lambda a, b: a**2*sympy.sqrt(3) + 3*a*b\n",
    "b = solve(Eq(v(a,b), 1), b)[0]\n",
    "b"
   ]
  },
  {
   "cell_type": "markdown",
   "metadata": {},
   "source": [
    "Izrazavo za $b$ vstavimo v enacbo za povrsino, jo odvajamo in poiscemo resitev enacbe $p'(a) = 0.$"
   ]
  },
  {
   "cell_type": "code",
   "execution_count": 38,
   "metadata": {
    "collapsed": false
   },
   "outputs": [
    {
     "data": {
      "image/png": "[encoded data removed]",
      "text/latex": [
       "$$\\left ( 1, \\quad \\frac{2 \\sqrt{3}}{3}\\right )$$"
      ],
      "text/plain": [
       "⎛       ___⎞\n",
       "⎜   2⋅╲╱ 3 ⎟\n",
       "⎜1, ───────⎟\n",
       "⎝      3   ⎠"
      ]
     },
     "execution_count": 38,
     "metadata": {},
     "output_type": "execute_result"
    }
   ],
   "source": [
    "val_a = sympy.solve(p(a, b).diff())[0]\n",
    "val_b = b.subs(a, val_a)\n",
    "val_a, val_b"
   ]
  },
  {
   "cell_type": "markdown",
   "metadata": {},
   "source": [
    "## 3. naloga"
   ]
  },
  {
   "cell_type": "markdown",
   "metadata": {},
   "source": [
    "*Izracunaj nedolocena integrala\n",
    "$$\\int \\frac{(1+\\log(x))^2}{x}dx$$ \n",
    "in \n",
    "$$ \\int (x^2 -2)e^xdx .$$*"
   ]
  },
  {
   "cell_type": "code",
   "execution_count": 39,
   "metadata": {
    "collapsed": false
   },
   "outputs": [
    {
     "data": {
      "image/png": "[encoded data removed]",
      "text/latex": [
       "$$\\frac{1}{3} \\log^{3}{\\left (x \\right )} + \\log^{2}{\\left (x \\right )} + \\log{\\left (x \\right )}$$"
      ],
      "text/plain": [
       "   3                      \n",
       "log (x)      2            \n",
       "─────── + log (x) + log(x)\n",
       "   3                      "
      ]
     },
     "execution_count": 39,
     "metadata": {},
     "output_type": "execute_result"
    }
   ],
   "source": [
    "x = sympy.Symbol('x')\n",
    "f = lambda x: (1+sympy.log(x))**2/x\n",
    "g = lambda x: (x**2 - 2)*sympy.exp(x)\n",
    "sympy.integrate(f(x))"
   ]
  },
  {
   "cell_type": "code",
   "execution_count": 40,
   "metadata": {
    "collapsed": false
   },
   "outputs": [
    {
     "data": {
      "image/png": "[encoded data removed]",
      "text/latex": [
       "$$\\left(x^{2} - 2 x\\right) e^{x}$$"
      ],
      "text/plain": [
       "⎛ 2      ⎞  x\n",
       "⎝x  - 2⋅x⎠⋅ℯ "
      ]
     },
     "execution_count": 40,
     "metadata": {},
     "output_type": "execute_result"
    }
   ],
   "source": [
    "sympy.integrate(g(x))"
   ]
  },
  {
   "cell_type": "markdown",
   "metadata": {},
   "source": [
    "## 4. naloga"
   ]
  },
  {
   "cell_type": "code",
   "execution_count": 41,
   "metadata": {
    "collapsed": false
   },
   "outputs": [
    {
     "data": {
      "application/javascript": [
       "/* Put everything inside the global mpl namespace */\n",
       "window.mpl = {};\n",
       "\n",
       "mpl.get_websocket_type = function() {\n",
       "    if (typeof(WebSocket) !== 'undefined') {\n",
       "        return WebSocket;\n",
       "    } else if (typeof(MozWebSocket) !== 'undefined') {\n",
       "        return MozWebSocket;\n",
       "    } else {\n",
       "        alert('Your browser does not have WebSocket support.' +\n",
       "              'Please try Chrome, Safari or Firefox ≥ 6. ' +\n",
       "              'Firefox 4 and 5 are also supported but you ' +\n",
       "              'have to enable WebSockets in about:config.');\n",
       "    };\n",
       "}\n",
       "\n",
       "mpl.figure = function(figure_id, websocket, ondownload, parent_element) {\n",
       "    this.id = figure_id;\n",
       "\n",
       "    this.ws = websocket;\n",
       "\n",
       "    this.supports_binary = (this.ws.binaryType != undefined);\n",
       "\n",
       "    if (!this.supports_binary) {\n",
       "        var warnings = document.getElementById(\"mpl-warnings\");\n",
       "        if (warnings) {\n",
       "            warnings.style.display = 'block';\n",
       "            warnings.textContent = (\n",
       "                \"This browser does not support binary websocket messages. \" +\n",
       "                    \"Performance may be slow.\");\n",
       "        }\n",
       "    }\n",
       "\n",
       "    this.imageObj = new Image();\n",
       "\n",
       "    this.context = undefined;\n",
       "    this.message = undefined;\n",
       "    this.canvas = undefined;\n",
       "    this.rubberband_canvas = undefined;\n",
       "    this.rubberband_context = undefined;\n",
       "    this.format_dropdown = undefined;\n",
       "\n",
       "    this.image_mode = 'full';\n",
       "\n",
       "    this.root = $('<div/>');\n",
       "    this._root_extra_style(this.root)\n",
       "    this.root.attr('style', 'display: inline-block');\n",
       "\n",
       "    $(parent_element).append(this.root);\n",
       "\n",
       "    this._init_header(this);\n",
       "    this._init_canvas(this);\n",
       "    this._init_toolbar(this);\n",
       "\n",
       "    var fig = this;\n",
       "\n",
       "    this.waiting = false;\n",
       "\n",
       "    this.ws.onopen =  function () {\n",
       "            fig.send_message(\"supports_binary\", {value: fig.supports_binary});\n",
       "            fig.send_message(\"send_image_mode\", {});\n",
       "            fig.send_message(\"refresh\", {});\n",
       "        }\n",
       "\n",
       "    this.imageObj.onload = function() {\n",
       "            if (fig.image_mode == 'full') {\n",
       "                // Full images could contain transparency (where diff images\n",
       "                // almost always do), so we need to clear the canvas so that\n",
       "                // there is no ghosting.\n",
       "                fig.context.clearRect(0, 0, fig.canvas.width, fig.canvas.height);\n",
       "            }\n",
       "            fig.context.drawImage(fig.imageObj, 0, 0);\n",
       "        };\n",
       "\n",
       "    this.imageObj.onunload = function() {\n",
       "        this.ws.close();\n",
       "    }\n",
       "\n",
       "    this.ws.onmessage = this._make_on_message_function(this);\n",
       "\n",
       "    this.ondownload = ondownload;\n",
       "}\n",
       "\n",
       "mpl.figure.prototype._init_header = function() {\n",
       "    var titlebar = $(\n",
       "        '<div class=\"ui-dialog-titlebar ui-widget-header ui-corner-all ' +\n",
       "        'ui-helper-clearfix\"/>');\n",
       "    var titletext = $(\n",
       "        '<div class=\"ui-dialog-title\" style=\"width: 100%; ' +\n",
       "        'text-align: center; padding: 3px;\"/>');\n",
       "    titlebar.append(titletext)\n",
       "    this.root.append(titlebar);\n",
       "    this.header = titletext[0];\n",
       "}\n",
       "\n",
       "\n",
       "\n",
       "mpl.figure.prototype._canvas_extra_style = function(canvas_div) {\n",
       "\n",
       "}\n",
       "\n",
       "\n",
       "mpl.figure.prototype._root_extra_style = function(canvas_div) {\n",
       "\n",
       "}\n",
       "\n",
       "mpl.figure.prototype._init_canvas = function() {\n",
       "    var fig = this;\n",
       "\n",
       "    var canvas_div = $('<div/>');\n",
       "\n",
       "    canvas_div.attr('style', 'position: relative; clear: both; outline: 0');\n",
       "\n",
       "    function canvas_keyboard_event(event) {\n",
       "        return fig.key_event(event, event['data']);\n",
       "    }\n",
       "\n",
       "    canvas_div.keydown('key_press', canvas_keyboard_event);\n",
       "    canvas_div.keyup('key_release', canvas_keyboard_event);\n",
       "    this.canvas_div = canvas_div\n",
       "    this._canvas_extra_style(canvas_div)\n",
       "    this.root.append(canvas_div);\n",
       "\n",
       "    var canvas = $('<canvas/>');\n",
       "    canvas.addClass('mpl-canvas');\n",
       "    canvas.attr('style', \"left: 0; top: 0; z-index: 0; outline: 0\")\n",
       "\n",
       "    this.canvas = canvas[0];\n",
       "    this.context = canvas[0].getContext(\"2d\");\n",
       "\n",
       "    var rubberband = $('<canvas/>');\n",
       "    rubberband.attr('style', \"position: absolute; left: 0; top: 0; z-index: 1;\")\n",
       "\n",
       "    var pass_mouse_events = true;\n",
       "\n",
       "    canvas_div.resizable({\n",
       "        start: function(event, ui) {\n",
       "            pass_mouse_events = false;\n",
       "        },\n",
       "        resize: function(event, ui) {\n",
       "            fig.request_resize(ui.size.width, ui.size.height);\n",
       "        },\n",
       "        stop: function(event, ui) {\n",
       "            pass_mouse_events = true;\n",
       "            fig.request_resize(ui.size.width, ui.size.height);\n",
       "        },\n",
       "    });\n",
       "\n",
       "    function mouse_event_fn(event) {\n",
       "        if (pass_mouse_events)\n",
       "            return fig.mouse_event(event, event['data']);\n",
       "    }\n",
       "\n",
       "    rubberband.mousedown('button_press', mouse_event_fn);\n",
       "    rubberband.mouseup('button_release', mouse_event_fn);\n",
       "    // Throttle sequential mouse events to 1 every 20ms.\n",
       "    rubberband.mousemove('motion_notify', mouse_event_fn);\n",
       "\n",
       "    rubberband.mouseenter('figure_enter', mouse_event_fn);\n",
       "    rubberband.mouseleave('figure_leave', mouse_event_fn);\n",
       "\n",
       "    canvas_div.on(\"wheel\", function (event) {\n",
       "        event = event.originalEvent;\n",
       "        event['data'] = 'scroll'\n",
       "        if (event.deltaY < 0) {\n",
       "            event.step = 1;\n",
       "        } else {\n",
       "            event.step = -1;\n",
       "        }\n",
       "        mouse_event_fn(event);\n",
       "    });\n",
       "\n",
       "    canvas_div.append(canvas);\n",
       "    canvas_div.append(rubberband);\n",
       "\n",
       "    this.rubberband = rubberband;\n",
       "    this.rubberband_canvas = rubberband[0];\n",
       "    this.rubberband_context = rubberband[0].getContext(\"2d\");\n",
       "    this.rubberband_context.strokeStyle = \"#000000\";\n",
       "\n",
       "    this._resize_canvas = function(width, height) {\n",
       "        // Keep the size of the canvas, canvas container, and rubber band\n",
       "        // canvas in synch.\n",
       "        canvas_div.css('width', width)\n",
       "        canvas_div.css('height', height)\n",
       "\n",
       "        canvas.attr('width', width);\n",
       "        canvas.attr('height', height);\n",
       "\n",
       "        rubberband.attr('width', width);\n",
       "        rubberband.attr('height', height);\n",
       "    }\n",
       "\n",
       "    // Set the figure to an initial 600x600px, this will subsequently be updated\n",
       "    // upon first draw.\n",
       "    this._resize_canvas(600, 600);\n",
       "\n",
       "    // Disable right mouse context menu.\n",
       "    $(this.rubberband_canvas).bind(\"contextmenu\",function(e){\n",
       "        return false;\n",
       "    });\n",
       "\n",
       "    function set_focus () {\n",
       "        canvas.focus();\n",
       "        canvas_div.focus();\n",
       "    }\n",
       "\n",
       "    window.setTimeout(set_focus, 100);\n",
       "}\n",
       "\n",
       "mpl.figure.prototype._init_toolbar = function() {\n",
       "    var fig = this;\n",
       "\n",
       "    var nav_element = $('<div/>')\n",
       "    nav_element.attr('style', 'width: 100%');\n",
       "    this.root.append(nav_element);\n",
       "\n",
       "    // Define a callback function for later on.\n",
       "    function toolbar_event(event) {\n",
       "        return fig.toolbar_button_onclick(event['data']);\n",
       "    }\n",
       "    function toolbar_mouse_event(event) {\n",
       "        return fig.toolbar_button_onmouseover(event['data']);\n",
       "    }\n",
       "\n",
       "    for(var toolbar_ind in mpl.toolbar_items) {\n",
       "        var name = mpl.toolbar_items[toolbar_ind][0];\n",
       "        var tooltip = mpl.toolbar_items[toolbar_ind][1];\n",
       "        var image = mpl.toolbar_items[toolbar_ind][2];\n",
       "        var method_name = mpl.toolbar_items[toolbar_ind][3];\n",
       "\n",
       "        if (!name) {\n",
       "            // put a spacer in here.\n",
       "            continue;\n",
       "        }\n",
       "        var button = $('<button/>');\n",
       "        button.addClass('ui-button ui-widget ui-state-default ui-corner-all ' +\n",
       "                        'ui-button-icon-only');\n",
       "        button.attr('role', 'button');\n",
       "        button.attr('aria-disabled', 'false');\n",
       "        button.click(method_name, toolbar_event);\n",
       "        button.mouseover(tooltip, toolbar_mouse_event);\n",
       "\n",
       "        var icon_img = $('<span/>');\n",
       "        icon_img.addClass('ui-button-icon-primary ui-icon');\n",
       "        icon_img.addClass(image);\n",
       "        icon_img.addClass('ui-corner-all');\n",
       "\n",
       "        var tooltip_span = $('<span/>');\n",
       "        tooltip_span.addClass('ui-button-text');\n",
       "        tooltip_span.html(tooltip);\n",
       "\n",
       "        button.append(icon_img);\n",
       "        button.append(tooltip_span);\n",
       "\n",
       "        nav_element.append(button);\n",
       "    }\n",
       "\n",
       "    var fmt_picker_span = $('<span/>');\n",
       "\n",
       "    var fmt_picker = $('<select/>');\n",
       "    fmt_picker.addClass('mpl-toolbar-option ui-widget ui-widget-content');\n",
       "    fmt_picker_span.append(fmt_picker);\n",
       "    nav_element.append(fmt_picker_span);\n",
       "    this.format_dropdown = fmt_picker[0];\n",
       "\n",
       "    for (var ind in mpl.extensions) {\n",
       "        var fmt = mpl.extensions[ind];\n",
       "        var option = $(\n",
       "            '<option/>', {selected: fmt === mpl.default_extension}).html(fmt);\n",
       "        fmt_picker.append(option)\n",
       "    }\n",
       "\n",
       "    // Add hover states to the ui-buttons\n",
       "    $( \".ui-button\" ).hover(\n",
       "        function() { $(this).addClass(\"ui-state-hover\");},\n",
       "        function() { $(this).removeClass(\"ui-state-hover\");}\n",
       "    );\n",
       "\n",
       "    var status_bar = $('<span class=\"mpl-message\"/>');\n",
       "    nav_element.append(status_bar);\n",
       "    this.message = status_bar[0];\n",
       "}\n",
       "\n",
       "mpl.figure.prototype.request_resize = function(x_pixels, y_pixels) {\n",
       "    // Request matplotlib to resize the figure. Matplotlib will then trigger a resize in the client,\n",
       "    // which will in turn request a refresh of the image.\n",
       "    this.send_message('resize', {'width': x_pixels, 'height': y_pixels});\n",
       "}\n",
       "\n",
       "mpl.figure.prototype.send_message = function(type, properties) {\n",
       "    properties['type'] = type;\n",
       "    properties['figure_id'] = this.id;\n",
       "    this.ws.send(JSON.stringify(properties));\n",
       "}\n",
       "\n",
       "mpl.figure.prototype.send_draw_message = function() {\n",
       "    if (!this.waiting) {\n",
       "        this.waiting = true;\n",
       "        this.ws.send(JSON.stringify({type: \"draw\", figure_id: this.id}));\n",
       "    }\n",
       "}\n",
       "\n",
       "\n",
       "mpl.figure.prototype.handle_save = function(fig, msg) {\n",
       "    var format_dropdown = fig.format_dropdown;\n",
       "    var format = format_dropdown.options[format_dropdown.selectedIndex].value;\n",
       "    fig.ondownload(fig, format);\n",
       "}\n",
       "\n",
       "\n",
       "mpl.figure.prototype.handle_resize = function(fig, msg) {\n",
       "    var size = msg['size'];\n",
       "    if (size[0] != fig.canvas.width || size[1] != fig.canvas.height) {\n",
       "        fig._resize_canvas(size[0], size[1]);\n",
       "        fig.send_message(\"refresh\", {});\n",
       "    };\n",
       "}\n",
       "\n",
       "mpl.figure.prototype.handle_rubberband = function(fig, msg) {\n",
       "    var x0 = msg['x0'];\n",
       "    var y0 = fig.canvas.height - msg['y0'];\n",
       "    var x1 = msg['x1'];\n",
       "    var y1 = fig.canvas.height - msg['y1'];\n",
       "    x0 = Math.floor(x0) + 0.5;\n",
       "    y0 = Math.floor(y0) + 0.5;\n",
       "    x1 = Math.floor(x1) + 0.5;\n",
       "    y1 = Math.floor(y1) + 0.5;\n",
       "    var min_x = Math.min(x0, x1);\n",
       "    var min_y = Math.min(y0, y1);\n",
       "    var width = Math.abs(x1 - x0);\n",
       "    var height = Math.abs(y1 - y0);\n",
       "\n",
       "    fig.rubberband_context.clearRect(\n",
       "        0, 0, fig.canvas.width, fig.canvas.height);\n",
       "\n",
       "    fig.rubberband_context.strokeRect(min_x, min_y, width, height);\n",
       "}\n",
       "\n",
       "mpl.figure.prototype.handle_figure_label = function(fig, msg) {\n",
       "    // Updates the figure title.\n",
       "    fig.header.textContent = msg['label'];\n",
       "}\n",
       "\n",
       "mpl.figure.prototype.handle_cursor = function(fig, msg) {\n",
       "    var cursor = msg['cursor'];\n",
       "    switch(cursor)\n",
       "    {\n",
       "    case 0:\n",
       "        cursor = 'pointer';\n",
       "        break;\n",
       "    case 1:\n",
       "        cursor = 'default';\n",
       "        break;\n",
       "    case 2:\n",
       "        cursor = 'crosshair';\n",
       "        break;\n",
       "    case 3:\n",
       "        cursor = 'move';\n",
       "        break;\n",
       "    }\n",
       "    fig.rubberband_canvas.style.cursor = cursor;\n",
       "}\n",
       "\n",
       "mpl.figure.prototype.handle_message = function(fig, msg) {\n",
       "    fig.message.textContent = msg['message'];\n",
       "}\n",
       "\n",
       "mpl.figure.prototype.handle_draw = function(fig, msg) {\n",
       "    // Request the server to send over a new figure.\n",
       "    fig.send_draw_message();\n",
       "}\n",
       "\n",
       "mpl.figure.prototype.handle_image_mode = function(fig, msg) {\n",
       "    fig.image_mode = msg['mode'];\n",
       "}\n",
       "\n",
       "mpl.figure.prototype.updated_canvas_event = function() {\n",
       "    // Called whenever the canvas gets updated.\n",
       "    this.send_message(\"ack\", {});\n",
       "}\n",
       "\n",
       "// A function to construct a web socket function for onmessage handling.\n",
       "// Called in the figure constructor.\n",
       "mpl.figure.prototype._make_on_message_function = function(fig) {\n",
       "    return function socket_on_message(evt) {\n",
       "        if (evt.data instanceof Blob) {\n",
       "            /* FIXME: We get \"Resource interpreted as Image but\n",
       "             * transferred with MIME type text/plain:\" errors on\n",
       "             * Chrome.  But how to set the MIME type?  It doesn't seem\n",
       "             * to be part of the websocket stream */\n",
       "            evt.data.type = \"image/png\";\n",
       "\n",
       "            /* Free the memory for the previous frames */\n",
       "            if (fig.imageObj.src) {\n",
       "                (window.URL || window.webkitURL).revokeObjectURL(\n",
       "                    fig.imageObj.src);\n",
       "            }\n",
       "\n",
       "            fig.imageObj.src = (window.URL || window.webkitURL).createObjectURL(\n",
       "                evt.data);\n",
       "            fig.updated_canvas_event();\n",
       "            fig.waiting = false;\n",
       "            return;\n",
       "        }\n",
       "        else if (typeof evt.data === 'string' && evt.data.slice(0, 21) == \"data:image/png;base64\") {\n",
       "            fig.imageObj.src = evt.data;\n",
       "            fig.updated_canvas_event();\n",
       "            fig.waiting = false;\n",
       "            return;\n",
       "        }\n",
       "\n",
       "        var msg = JSON.parse(evt.data);\n",
       "        var msg_type = msg['type'];\n",
       "\n",
       "        // Call the  \"handle_{type}\" callback, which takes\n",
       "        // the figure and JSON message as its only arguments.\n",
       "        try {\n",
       "            var callback = fig[\"handle_\" + msg_type];\n",
       "        } catch (e) {\n",
       "            console.log(\"No handler for the '\" + msg_type + \"' message type: \", msg);\n",
       "            return;\n",
       "        }\n",
       "\n",
       "        if (callback) {\n",
       "            try {\n",
       "                // console.log(\"Handling '\" + msg_type + \"' message: \", msg);\n",
       "                callback(fig, msg);\n",
       "            } catch (e) {\n",
       "                console.log(\"Exception inside the 'handler_\" + msg_type + \"' callback:\", e, e.stack, msg);\n",
       "            }\n",
       "        }\n",
       "    };\n",
       "}\n",
       "\n",
       "// from http://stackoverflow.com/questions/1114465/getting-mouse-location-in-canvas\n",
       "mpl.findpos = function(e) {\n",
       "    //this section is from http://www.quirksmode.org/js/events_properties.html\n",
       "    var targ;\n",
       "    if (!e)\n",
       "        e = window.event;\n",
       "    if (e.target)\n",
       "        targ = e.target;\n",
       "    else if (e.srcElement)\n",
       "        targ = e.srcElement;\n",
       "    if (targ.nodeType == 3) // defeat Safari bug\n",
       "        targ = targ.parentNode;\n",
       "\n",
       "    // jQuery normalizes the pageX and pageY\n",
       "    // pageX,Y are the mouse positions relative to the document\n",
       "    // offset() returns the position of the element relative to the document\n",
       "    var x = e.pageX - $(targ).offset().left;\n",
       "    var y = e.pageY - $(targ).offset().top;\n",
       "\n",
       "    return {\"x\": x, \"y\": y};\n",
       "};\n",
       "\n",
       "/*\n",
       " * return a copy of an object with only non-object keys\n",
       " * we need this to avoid circular references\n",
       " * http://stackoverflow.com/a/24161582/3208463\n",
       " */\n",
       "function simpleKeys (original) {\n",
       "  return Object.keys(original).reduce(function (obj, key) {\n",
       "    if (typeof original[key] !== 'object')\n",
       "        obj[key] = original[key]\n",
       "    return obj;\n",
       "  }, {});\n",
       "}\n",
       "\n",
       "mpl.figure.prototype.mouse_event = function(event, name) {\n",
       "    var canvas_pos = mpl.findpos(event)\n",
       "\n",
       "    if (name === 'button_press')\n",
       "    {\n",
       "        this.canvas.focus();\n",
       "        this.canvas_div.focus();\n",
       "    }\n",
       "\n",
       "    var x = canvas_pos.x;\n",
       "    var y = canvas_pos.y;\n",
       "\n",
       "    this.send_message(name, {x: x, y: y, button: event.button,\n",
       "                             step: event.step,\n",
       "                             guiEvent: simpleKeys(event)});\n",
       "\n",
       "    /* This prevents the web browser from automatically changing to\n",
       "     * the text insertion cursor when the button is pressed.  We want\n",
       "     * to control all of the cursor setting manually through the\n",
       "     * 'cursor' event from matplotlib */\n",
       "    event.preventDefault();\n",
       "    return false;\n",
       "}\n",
       "\n",
       "mpl.figure.prototype._key_event_extra = function(event, name) {\n",
       "    // Handle any extra behaviour associated with a key event\n",
       "}\n",
       "\n",
       "mpl.figure.prototype.key_event = function(event, name) {\n",
       "\n",
       "    // Prevent repeat events\n",
       "    if (name == 'key_press')\n",
       "    {\n",
       "        if (event.which === this._key)\n",
       "            return;\n",
       "        else\n",
       "            this._key = event.which;\n",
       "    }\n",
       "    if (name == 'key_release')\n",
       "        this._key = null;\n",
       "\n",
       "    var value = '';\n",
       "    if (event.ctrlKey && event.which != 17)\n",
       "        value += \"ctrl+\";\n",
       "    if (event.altKey && event.which != 18)\n",
       "        value += \"alt+\";\n",
       "    if (event.shiftKey && event.which != 16)\n",
       "        value += \"shift+\";\n",
       "\n",
       "    value += 'k';\n",
       "    value += event.which.toString();\n",
       "\n",
       "    this._key_event_extra(event, name);\n",
       "\n",
       "    this.send_message(name, {key: value,\n",
       "                             guiEvent: simpleKeys(event)});\n",
       "    return false;\n",
       "}\n",
       "\n",
       "mpl.figure.prototype.toolbar_button_onclick = function(name) {\n",
       "    if (name == 'download') {\n",
       "        this.handle_save(this, null);\n",
       "    } else {\n",
       "        this.send_message(\"toolbar_button\", {name: name});\n",
       "    }\n",
       "};\n",
       "\n",
       "mpl.figure.prototype.toolbar_button_onmouseover = function(tooltip) {\n",
       "    this.message.textContent = tooltip;\n",
       "};\n",
       "mpl.toolbar_items = [[\"Home\", \"Reset original view\", \"fa fa-home icon-home\", \"home\"], [\"Back\", \"Back to  previous view\", \"fa fa-arrow-left icon-arrow-left\", \"back\"], [\"Forward\", \"Forward to next view\", \"fa fa-arrow-right icon-arrow-right\", \"forward\"], [\"\", \"\", \"\", \"\"], [\"Pan\", \"Pan axes with left mouse, zoom with right\", \"fa fa-arrows icon-move\", \"pan\"], [\"Zoom\", \"Zoom to rectangle\", \"fa fa-square-o icon-check-empty\", \"zoom\"], [\"\", \"\", \"\", \"\"], [\"Download\", \"Download plot\", \"fa fa-floppy-o icon-save\", \"download\"]];\n",
       "\n",
       "mpl.extensions = [\"eps\", \"jpeg\", \"pdf\", \"png\", \"ps\", \"raw\", \"svg\", \"tif\"];\n",
       "\n",
       "mpl.default_extension = \"png\";var comm_websocket_adapter = function(comm) {\n",
       "    // Create a \"websocket\"-like object which calls the given IPython comm\n",
       "    // object with the appropriate methods. Currently this is a non binary\n",
       "    // socket, so there is still some room for performance tuning.\n",
       "    var ws = {};\n",
       "\n",
       "    ws.close = function() {\n",
       "        comm.close()\n",
       "    };\n",
       "    ws.send = function(m) {\n",
       "        //console.log('sending', m);\n",
       "        comm.send(m);\n",
       "    };\n",
       "    // Register the callback with on_msg.\n",
       "    comm.on_msg(function(msg) {\n",
       "        //console.log('receiving', msg['content']['data'], msg);\n",
       "        // Pass the mpl event to the overriden (by mpl) onmessage function.\n",
       "        ws.onmessage(msg['content']['data'])\n",
       "    });\n",
       "    return ws;\n",
       "}\n",
       "\n",
       "mpl.mpl_figure_comm = function(comm, msg) {\n",
       "    // This is the function which gets called when the mpl process\n",
       "    // starts-up an IPython Comm through the \"matplotlib\" channel.\n",
       "\n",
       "    var id = msg.content.data.id;\n",
       "    // Get hold of the div created by the display call when the Comm\n",
       "    // socket was opened in Python.\n",
       "    var element = $(\"#\" + id);\n",
       "    var ws_proxy = comm_websocket_adapter(comm)\n",
       "\n",
       "    function ondownload(figure, format) {\n",
       "        window.open(figure.imageObj.src);\n",
       "    }\n",
       "\n",
       "    var fig = new mpl.figure(id, ws_proxy,\n",
       "                           ondownload,\n",
       "                           element.get(0));\n",
       "\n",
       "    // Call onopen now - mpl needs it, as it is assuming we've passed it a real\n",
       "    // web socket which is closed, not our websocket->open comm proxy.\n",
       "    ws_proxy.onopen();\n",
       "\n",
       "    fig.parent_element = element.get(0);\n",
       "    fig.cell_info = mpl.find_output_cell(\"<div id='\" + id + \"'></div>\");\n",
       "    if (!fig.cell_info) {\n",
       "        console.error(\"Failed to find cell for figure\", id, fig);\n",
       "        return;\n",
       "    }\n",
       "\n",
       "    var output_index = fig.cell_info[2]\n",
       "    var cell = fig.cell_info[0];\n",
       "\n",
       "};\n",
       "\n",
       "mpl.figure.prototype.handle_close = function(fig, msg) {\n",
       "    fig.root.unbind('remove')\n",
       "\n",
       "    // Update the output cell to use the data from the current canvas.\n",
       "    fig.push_to_output();\n",
       "    var dataURL = fig.canvas.toDataURL();\n",
       "    // Re-enable the keyboard manager in IPython - without this line, in FF,\n",
       "    // the notebook keyboard shortcuts fail.\n",
       "    IPython.keyboard_manager.enable()\n",
       "    $(fig.parent_element).html('<img src=\"' + dataURL + '\">');\n",
       "    fig.close_ws(fig, msg);\n",
       "}\n",
       "\n",
       "mpl.figure.prototype.close_ws = function(fig, msg){\n",
       "    fig.send_message('closing', msg);\n",
       "    // fig.ws.close()\n",
       "}\n",
       "\n",
       "mpl.figure.prototype.push_to_output = function(remove_interactive) {\n",
       "    // Turn the data on the canvas into data in the output cell.\n",
       "    var dataURL = this.canvas.toDataURL();\n",
       "    this.cell_info[1]['text/html'] = '<img src=\"' + dataURL + '\">';\n",
       "}\n",
       "\n",
       "mpl.figure.prototype.updated_canvas_event = function() {\n",
       "    // Tell IPython that the notebook contents must change.\n",
       "    IPython.notebook.set_dirty(true);\n",
       "    this.send_message(\"ack\", {});\n",
       "    var fig = this;\n",
       "    // Wait a second, then push the new image to the DOM so\n",
       "    // that it is saved nicely (might be nice to debounce this).\n",
       "    setTimeout(function () { fig.push_to_output() }, 1000);\n",
       "}\n",
       "\n",
       "mpl.figure.prototype._init_toolbar = function() {\n",
       "    var fig = this;\n",
       "\n",
       "    var nav_element = $('<div/>')\n",
       "    nav_element.attr('style', 'width: 100%');\n",
       "    this.root.append(nav_element);\n",
       "\n",
       "    // Define a callback function for later on.\n",
       "    function toolbar_event(event) {\n",
       "        return fig.toolbar_button_onclick(event['data']);\n",
       "    }\n",
       "    function toolbar_mouse_event(event) {\n",
       "        return fig.toolbar_button_onmouseover(event['data']);\n",
       "    }\n",
       "\n",
       "    for(var toolbar_ind in mpl.toolbar_items){\n",
       "        var name = mpl.toolbar_items[toolbar_ind][0];\n",
       "        var tooltip = mpl.toolbar_items[toolbar_ind][1];\n",
       "        var image = mpl.toolbar_items[toolbar_ind][2];\n",
       "        var method_name = mpl.toolbar_items[toolbar_ind][3];\n",
       "\n",
       "        if (!name) { continue; };\n",
       "\n",
       "        var button = $('<button class=\"btn btn-default\" href=\"#\" title=\"' + name + '\"><i class=\"fa ' + image + ' fa-lg\"></i></button>');\n",
       "        button.click(method_name, toolbar_event);\n",
       "        button.mouseover(tooltip, toolbar_mouse_event);\n",
       "        nav_element.append(button);\n",
       "    }\n",
       "\n",
       "    // Add the status bar.\n",
       "    var status_bar = $('<span class=\"mpl-message\" style=\"text-align:right; float: right;\"/>');\n",
       "    nav_element.append(status_bar);\n",
       "    this.message = status_bar[0];\n",
       "\n",
       "    // Add the close button to the window.\n",
       "    var buttongrp = $('<div class=\"btn-group inline pull-right\"></div>');\n",
       "    var button = $('<button class=\"btn btn-mini btn-primary\" href=\"#\" title=\"Stop Interaction\"><i class=\"fa fa-power-off icon-remove icon-large\"></i></button>');\n",
       "    button.click(function (evt) { fig.handle_close(fig, {}); } );\n",
       "    button.mouseover('Stop Interaction', toolbar_mouse_event);\n",
       "    buttongrp.append(button);\n",
       "    var titlebar = this.root.find($('.ui-dialog-titlebar'));\n",
       "    titlebar.prepend(buttongrp);\n",
       "}\n",
       "\n",
       "mpl.figure.prototype._root_extra_style = function(el){\n",
       "    var fig = this\n",
       "    el.on(\"remove\", function(){\n",
       "\tfig.close_ws(fig, {});\n",
       "    });\n",
       "}\n",
       "\n",
       "mpl.figure.prototype._canvas_extra_style = function(el){\n",
       "    // this is important to make the div 'focusable\n",
       "    el.attr('tabindex', 0)\n",
       "    // reach out to IPython and tell the keyboard manager to turn it's self\n",
       "    // off when our div gets focus\n",
       "\n",
       "    // location in version 3\n",
       "    if (IPython.notebook.keyboard_manager) {\n",
       "        IPython.notebook.keyboard_manager.register_events(el);\n",
       "    }\n",
       "    else {\n",
       "        // location in version 2\n",
       "        IPython.keyboard_manager.register_events(el);\n",
       "    }\n",
       "\n",
       "}\n",
       "\n",
       "mpl.figure.prototype._key_event_extra = function(event, name) {\n",
       "    var manager = IPython.notebook.keyboard_manager;\n",
       "    if (!manager)\n",
       "        manager = IPython.keyboard_manager;\n",
       "\n",
       "    // Check for shift+enter\n",
       "    if (event.shiftKey && event.which == 13) {\n",
       "        this.canvas_div.blur();\n",
       "        event.shiftKey = false;\n",
       "        // Send a \"J\" for go to next cell\n",
       "        event.which = 74;\n",
       "        event.keyCode = 74;\n",
       "        manager.command_mode();\n",
       "        manager.handle_keydown(event);\n",
       "    }\n",
       "}\n",
       "\n",
       "mpl.figure.prototype.handle_save = function(fig, msg) {\n",
       "    fig.ondownload(fig, null);\n",
       "}\n",
       "\n",
       "\n",
       "mpl.find_output_cell = function(html_output) {\n",
       "    // Return the cell and output element which can be found *uniquely* in the notebook.\n",
       "    // Note - this is a bit hacky, but it is done because the \"notebook_saving.Notebook\"\n",
       "    // IPython event is triggered only after the cells have been serialised, which for\n",
       "    // our purposes (turning an active figure into a static one), is too late.\n",
       "    var cells = IPython.notebook.get_cells();\n",
       "    var ncells = cells.length;\n",
       "    for (var i=0; i<ncells; i++) {\n",
       "        var cell = cells[i];\n",
       "        if (cell.cell_type === 'code'){\n",
       "            for (var j=0; j<cell.output_area.outputs.length; j++) {\n",
       "                var data = cell.output_area.outputs[j];\n",
       "                if (data.data) {\n",
       "                    // IPython >= 3 moved mimebundle to data attribute of output\n",
       "                    data = data.data;\n",
       "                }\n",
       "                if (data['text/html'] == html_output) {\n",
       "                    return [cell, data, j];\n",
       "                }\n",
       "            }\n",
       "        }\n",
       "    }\n",
       "}\n",
       "\n",
       "// Register the function which deals with the matplotlib target/channel.\n",
       "// The kernel may be null if the page has been refreshed.\n",
       "if (IPython.notebook.kernel != null) {\n",
       "    IPython.notebook.kernel.comm_manager.register_target('matplotlib', mpl.mpl_figure_comm);\n",
       "}\n"
      ],
      "text/plain": [
       "<IPython.core.display.Javascript object>"
      ]
     },
     "metadata": {},
     "output_type": "display_data"
    },
    {
     "data": {
      "text/html": [
       "<img src=\"data:image/png;base64,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\">"
      ],
      "text/plain": [
       "<IPython.core.display.HTML object>"
      ]
     },
     "metadata": {},
     "output_type": "display_data"
    }
   ],
   "source": [
    "pyplot.ylim([-1, 5])\n",
    "pyplot.xlim([-1, 5])\n",
    "x = numpy.linspace(0, 2, 100)\n",
    "pyplot.plot([-1, 5], [0, 6], color='g')\n",
    "[xs, ys] = sample_function(lambda x: 2.0/x + 2, 0.01, 5, 0.01)\n",
    "pyplot.plot(xs, ys, color='r')\n",
    "pyplot.axvline(0, color='y')\n",
    "pyplot.show()"
   ]
  },
  {
   "cell_type": "markdown",
   "metadata": {},
   "source": [
    "Presečišča na zgornji sliki se nahajajo pri $x_1=1$ in $x_2=2$.\n",
    "\n",
    "Ploščina lika je enaka $ \\log(4) - 0.5 $. Najlažje jo izračunamo tako, da lik razdelimo na dva dela glede na $x$-koordinato: na del med $0$ in $1$ in na del med $1$ in $2$."
   ]
  },
  {
   "cell_type": "markdown",
   "metadata": {},
   "source": [
    "## 5. naloga"
   ]
  },
  {
   "cell_type": "markdown",
   "metadata": {},
   "source": [
    "*Funkcija $F$ ima predpis\n",
    "$$F(x) = \\int_{-1}^x \\frac{\\log(1+t^2)}{t}dt.$$\n",
    "Poisci odvod funckcije $F$.*"
   ]
  },
  {
   "cell_type": "markdown",
   "metadata": {},
   "source": [
    "Njen odvod je kar enak funkciji pod integralom."
   ]
  },
  {
   "cell_type": "code",
   "execution_count": 42,
   "metadata": {
    "collapsed": false
   },
   "outputs": [
    {
     "data": {
      "image/png": "[encoded data removed]",
      "text/latex": [
       "$$\\frac{1}{x} \\log{\\left (x^{2} + 1 \\right )}$$"
      ],
      "text/plain": [
       "   ⎛ 2    ⎞\n",
       "log⎝x  + 1⎠\n",
       "───────────\n",
       "     x     "
      ]
     },
     "execution_count": 42,
     "metadata": {},
     "output_type": "execute_result"
    }
   ],
   "source": [
    "x = sympy.Symbol('x', real=True)\n",
    "f = lambda x: sympy.log(1+x**2)/x\n",
    "F = lambda x: sympy.integrate(f(t), (t, -1, x))\n",
    "f(x)"
   ]
  },
  {
   "cell_type": "markdown",
   "metadata": {},
   "source": [
    "*Skiciraj graf odvoda $F'$ nato pa na isto sliko se graf $F$.*\n",
    "\n",
    "Z rdečo je narisan odvod, z zeleno pa graf funkcije $F$."
   ]
  },
  {
   "cell_type": "code",
   "execution_count": 141,
   "metadata": {
    "collapsed": false
   },
   "outputs": [
    {
     "data": {
      "image/png": "[encoded data removed]",
      "text/plain": [
       "<matplotlib.figure.Figure at 0x7fe3acc79cf8>"
      ]
     },
     "metadata": {},
     "output_type": "display_data"
    }
   ],
   "source": [
    "%matplotlib inline\n",
    "from math import log\n",
    "\n",
    "pylab.rcParams['figure.figsize'] = (10.0, 8.0)\n",
    "pylab.ylim([-1, 3])\n",
    "pylab.xlim([-4, 4])\n",
    "\n",
    "[xs, ys] = sample_function(f, -5, 5, 0.1)\n",
    "pyplot.plot(xs, ys, color='r')\n",
    "\n",
    "[xs, ys] = sample_function(lambda x: F(x), -5, 5, 0.2)\n",
    "pyplot.plot(xs, ys, color='g')\n",
    "pyplot.show()"
   ]
  }
 ],
 "metadata": {
  "kernelspec": {
   "display_name": "Python 2",
   "language": "python",
   "name": "python2"
  },
  "language_info": {
   "codemirror_mode": {
    "name": "ipython",
    "version": 2
   },
   "file_extension": ".py",
   "mimetype": "text/x-python",
   "name": "python",
   "nbconvert_exporter": "python",
   "pygments_lexer": "ipython2",
   "version": "2.7.11"
  }
 },
 "nbformat": 4,
 "nbformat_minor": 0
}
