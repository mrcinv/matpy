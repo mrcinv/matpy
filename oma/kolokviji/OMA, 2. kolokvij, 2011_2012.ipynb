{
 "metadata": {
  "name": "",
  "signature": "sha256:858fdae387cab5cce9413a32b67ff94c89ea48ce861e90fa559c62304c12cadd"
 },
 "nbformat": 3,
 "nbformat_minor": 0,
 "worksheets": [
  {
   "cells": [
    {
     "cell_type": "code",
     "collapsed": false,
     "input": [
      "import sympy\n",
      "\n",
      "%matplotlib inline\n",
      "\n",
      "sympy.init_printing()"
     ],
     "language": "python",
     "metadata": {},
     "outputs": [],
     "prompt_number": 7
    },
    {
     "cell_type": "heading",
     "level": 1,
     "metadata": {},
     "source": [
      "2. kolokvij 2011/2012, re\u0161itve"
     ]
    },
    {
     "cell_type": "heading",
     "level": 2,
     "metadata": {},
     "source": [
      "1. naloga"
     ]
    },
    {
     "cell_type": "markdown",
     "metadata": {},
     "source": [
      "*Poi\u0161\u010di najve\u010djo in najmanj\u0161o vrednost, ki jo zavzame funkcija \n",
      "$$f(x) = x^4 + 2x^3 - 2x^2 + 1.$$*"
     ]
    },
    {
     "cell_type": "code",
     "collapsed": false,
     "input": [
      "f = lambda x: x**4 + 2*x**3 - 2*x**2 + 1\n",
      "x = sympy.Symbol('x')"
     ],
     "language": "python",
     "metadata": {},
     "outputs": [],
     "prompt_number": 37
    },
    {
     "cell_type": "markdown",
     "metadata": {},
     "source": [
      "Kandadati za ekstreme so stacionarne to\u010dke in kraji\u0161\u010di na\u0161ega intervala. Stacionarne to\u010dke poi\u0161\u010demo z re\u0161itvijo ena\u010dbe $f'(x)=0$.\n"
     ]
    },
    {
     "cell_type": "code",
     "collapsed": false,
     "input": [
      "eq = sympy.Eq(f(x).diff(), 0)\n",
      "eq"
     ],
     "language": "python",
     "metadata": {},
     "outputs": [
      {
       "latex": [
        "$$4 x^{3} + 6 x^{2} - 4 x = 0$$"
       ],
       "metadata": {},
       "output_type": "pyout",
       "png": "[encoded data removed]",
       "prompt_number": 18,
       "text": [
        "   3      2          \n",
        "4\u22c5x  + 6\u22c5x  - 4\u22c5x = 0"
       ]
      }
     ],
     "prompt_number": 18
    },
    {
     "cell_type": "code",
     "collapsed": false,
     "input": [
      "critical_points = sympy.solve(eq)\n",
      "critical_points"
     ],
     "language": "python",
     "metadata": {},
     "outputs": [
      {
       "latex": [
        "$$\\left [ -2, \\quad 0, \\quad \\frac{1}{2}\\right ]$$"
       ],
       "metadata": {},
       "output_type": "pyout",
       "png": "[encoded data removed]",
       "prompt_number": 21,
       "text": [
        "[-2, 0, 1/2]"
       ]
      }
     ],
     "prompt_number": 21
    },
    {
     "cell_type": "code",
     "collapsed": false,
     "input": [
      "end_points = [-3, 1]\n",
      "\n",
      "points = [(y, f(y)) for y in critical_points + end_points]\n",
      "points"
     ],
     "language": "python",
     "metadata": {},
     "outputs": [
      {
       "latex": [
        "$$\\left [ \\left ( -2, \\quad -7\\right ), \\quad \\left ( 0, \\quad 1\\right ), \\quad \\left ( \\frac{1}{2}, \\quad \\frac{13}{16}\\right ), \\quad \\left ( -3, \\quad 10\\right ), \\quad \\left ( 1, \\quad 2\\right )\\right ]$$"
       ],
       "metadata": {},
       "output_type": "pyout",
       "png": "[encoded data removed]",
       "prompt_number": 40,
       "text": [
        "\u23a1                  \u239b     13\u239e                  \u23a4\n",
        "\u23a2(-2, -7), (0, 1), \u239c1/2, \u2500\u2500\u239f, (-3, 10), (1, 2)\u23a5\n",
        "\u23a3                  \u239d     16\u23a0                  \u23a6"
       ]
      }
     ],
     "prompt_number": 40
    },
    {
     "cell_type": "code",
     "collapsed": false,
     "input": [
      "min(points, key=lambda point: point[1]), max(points, key=lambda point: point[1])"
     ],
     "language": "python",
     "metadata": {},
     "outputs": [
      {
       "latex": [
        "$$\\left ( \\left ( -2, \\quad -7\\right ), \\quad \\left ( -3, \\quad 10\\right )\\right )$$"
       ],
       "metadata": {},
       "output_type": "pyout",
       "png": "[encoded data removed]",
       "prompt_number": 41,
       "text": [
        "((-2, -7), (-3, 10))"
       ]
      }
     ],
     "prompt_number": 41
    },
    {
     "cell_type": "markdown",
     "metadata": {},
     "source": [
      "*Dolo\u010di tudi intervale nara\u0161\u010danja in padanja.*"
     ]
    },
    {
     "cell_type": "code",
     "collapsed": false,
     "input": [
      "f(x).diff(x, x)\n",
      "sympy.solvers.inequalities"
     ],
     "language": "python",
     "metadata": {},
     "outputs": [
      {
       "ename": "AttributeError",
       "evalue": "'module' object has no attribute 'inequalities'",
       "output_type": "pyerr",
       "traceback": [
        "\u001b[0;31m---------------------------------------------------------------------------\u001b[0m\n\u001b[0;31mAttributeError\u001b[0m                            Traceback (most recent call last)",
        "\u001b[0;32m<ipython-input-48-b719b92f0400>\u001b[0m in \u001b[0;36m<module>\u001b[0;34m()\u001b[0m\n\u001b[1;32m      1\u001b[0m \u001b[0mf\u001b[0m\u001b[0;34m(\u001b[0m\u001b[0mx\u001b[0m\u001b[0;34m)\u001b[0m\u001b[0;34m.\u001b[0m\u001b[0mdiff\u001b[0m\u001b[0;34m(\u001b[0m\u001b[0mx\u001b[0m\u001b[0;34m,\u001b[0m \u001b[0mx\u001b[0m\u001b[0;34m)\u001b[0m\u001b[0;34m\u001b[0m\u001b[0m\n\u001b[0;32m----> 2\u001b[0;31m \u001b[0msympy\u001b[0m\u001b[0;34m.\u001b[0m\u001b[0msolvers\u001b[0m\u001b[0;34m.\u001b[0m\u001b[0minequalities\u001b[0m\u001b[0;34m\u001b[0m\u001b[0m\n\u001b[0m",
        "\u001b[0;31mAttributeError\u001b[0m: 'module' object has no attribute 'inequalities'"
       ]
      }
     ],
     "prompt_number": 48
    },
    {
     "cell_type": "heading",
     "level": 2,
     "metadata": {},
     "source": [
      "2. naloga"
     ]
    },
    {
     "cell_type": "markdown",
     "metadata": {},
     "source": [
      "$$\n",
      "\\begin{align}\n",
      "V & = 1 \\\\\n",
      "V & = o * b \\\\\n",
      "o & = \\frac{a^2 \\sqrt{3}}{4} \\\\\n",
      "V & = \\frac{b a^2 \\sqrt{3}}{4} = 1 \\\\\n",
      "1 &= \\frac{4}{b a^2 \\sqrt{3}} \\\\\n",
      "ab &= \\frac{4}{a \\sqrt{3}} \\\\\n",
      "P & = 2*o + pl \\\\\n",
      "pl & = 3ab \\\\\n",
      "P & = \\frac{a^2 \\sqrt{3}}{2}  + 3ab =  \\frac{a^2 \\sqrt{3}}{2}  + 3\\frac{4}{a \\sqrt{3}} \\\\\n",
      "P' & = a\\sqrt{3} - \\frac{4\\sqrt{3}}{a^2} = 0 \\\\\n",
      "a & = \\sqrt[3]{4}\n",
      "\\end{align}\n",
      "$$"
     ]
    },
    {
     "cell_type": "heading",
     "level": 2,
     "metadata": {},
     "source": [
      "3. naloga"
     ]
    },
    {
     "cell_type": "markdown",
     "metadata": {},
     "source": [
      "$$\n",
      "\\begin{align}\n",
      "\\int \\frac{(1+\\log(x))^2}{x}dx & =  \\frac{\\log^3(x)}{3} + \\log^2(x) + \\log(x) + C \\\\\n",
      "\\int (x^2 -2)e^xdx & =  e^x(x-2)x + C\n",
      "\\end{align}\n",
      "$$"
     ]
    },
    {
     "cell_type": "heading",
     "level": 2,
     "metadata": {},
     "source": [
      "4. naloga"
     ]
    },
    {
     "cell_type": "code",
     "collapsed": false,
     "input": [
      "%matplotlib inline\n",
      "\n",
      "import matplotlib.pyplot\n",
      "import pylab\n",
      "import numpy as np\n",
      "\n",
      "def sample_function(f, start, end, step):\n",
      "    xs = np.linspace(start=0, stop=10, num=(end-start)/step)\n",
      "    ys = [f(x) for x in xs]\n",
      "    return xs, ys\n",
      "\n",
      "pylab.rcParams['figure.figsize'] = (10.0, 8.0)\n",
      "pylab.ylim([-1, 5])\n",
      "pylab.xlim([-1, 5])\n",
      "\n",
      "pyplot.plot([-1, 5], [4, 4], color='b')\n",
      "pyplot.plot([-1, 5], [0, 6], color='g')\n",
      "[xs, ys] = sample_function(lambda x: 2.0/x + 2, 0.01, 5, 0.01)\n",
      "pyplot.plot(xs, ys, color='r')\n",
      "pyplot.axvline(0, color='y')\n",
      "pyplot.show()"
     ],
     "language": "python",
     "metadata": {},
     "outputs": [
      {
       "metadata": {},
       "output_type": "display_data",
       "png": "[encoded data removed]",
       "text": [
        "<matplotlib.figure.Figure at 0x7ff606fe2710>"
       ]
      }
     ],
     "prompt_number": 32
    },
    {
     "cell_type": "markdown",
     "metadata": {},
     "source": [
      "Prese\u010di\u0161\u010da na zgornji sliki se nahajajo pri $x_1=1$ in $x_2=2$.\n",
      "\n",
      "Plo\u0161\u010dina lika je enaka $ \\log(4) - 0.5 $. Najla\u017eje jo izra\u010dunamo tako, da lik razdelimo na dva dela glede na $x$-koordinato: na del med $0$ in $1$ in na del med $1$ in $2$."
     ]
    },
    {
     "cell_type": "heading",
     "level": 2,
     "metadata": {},
     "source": [
      "5. naloga"
     ]
    },
    {
     "cell_type": "markdown",
     "metadata": {},
     "source": [
      "$$\n",
      "\\begin{align}\n",
      "F'(x) & = \\frac{\\log(1+x^2)}{x}\\\\\n",
      "F(-1) & = 0 \\\\\n",
      "F(1) & = 0\n",
      "\\end{align}\n",
      "$$\n",
      "\n",
      "$F(-1) = 0$ zaradi mej.\n",
      "\n",
      "$F(1) = 0$ ker je integral lihe funkcije na simetri\u010dnem intervalu okrog 0.\n",
      "\n",
      "Smerni koeficient tangente v to\u010dki $T(1, F(1))$ je kar $F'(1) = \\log(2)$. Ena\u010dba tangente je $y = \\log(2) (x - 1).$\n",
      "\n",
      "\u0160e graf: z rde\u010do je narisan odvod, z zeleno pa graf funkcije.\n"
     ]
    },
    {
     "cell_type": "code",
     "collapsed": false,
     "input": [
      "%matplotlib inline\n",
      "\n",
      "from matplotlib import pyplot\n",
      "import pylab\n",
      "from math import log\n",
      "from scipy.integrate import quad\n",
      "\n",
      "def sample_function(f, start, end, step):\n",
      "    xs = np.linspace(start=start, stop=end, num=(end-start)/step)\n",
      "    ys = [f(x) for x in xs]\n",
      "    return xs, ys\n",
      "\n",
      "pylab.rcParams['figure.figsize'] = (10.0, 8.0)\n",
      "pylab.ylim([-1, 3])\n",
      "pylab.xlim([-4, 4])\n",
      "\n",
      "def dF(x):\n",
      "    if x==0:\n",
      "        return 0\n",
      "    return log(1+x**2)/x\n",
      "\n",
      "def F(x):\n",
      "    return quad(dF, a=-1, b=x)[0]\n",
      "    \n",
      "[xs, ys] = sample_function(dF, -5, 5, 0.1)\n",
      "pyplot.plot(xs, ys, color='r')\n",
      "\n",
      "[xs, ys] = sample_function(F, -5, 5, 0.1)\n",
      "pyplot.plot(xs, ys, color='g')\n",
      "pyplot.show()"
     ],
     "language": "python",
     "metadata": {},
     "outputs": [
      {
       "metadata": {},
       "output_type": "display_data",
       "png": "[encoded data removed]",
       "text": [
        "<matplotlib.figure.Figure at 0x7ff62ba78d90>"
       ]
      }
     ],
     "prompt_number": 25
    },
    {
     "cell_type": "heading",
     "level": 1,
     "metadata": {},
     "source": [
      "2. kolokvij 2011/2012, re\u0161itve\u00b6"
     ]
    },
    {
     "cell_type": "heading",
     "level": 2,
     "metadata": {},
     "source": [
      "1. naloga"
     ]
    },
    {
     "cell_type": "markdown",
     "metadata": {},
     "source": [
      "Dovolj je maksimizirati plo\u0161\u010dino polovice kvadrata, celo njen kvadrat. Plo\u0161\u010dina polovice kvadrata se izra\u010duna kot \n",
      "$$ \n",
      "\\begin{align}\n",
      "P & =  a * b \\\\\n",
      "P^2 & =  a^2 * b^2 \\\\\n",
      "a^2 + b^2 & = 1 \\\\\n",
      "a^2 & = 1 - b^2 \\\\\n",
      "P^2 & = (1 - b^2)b^2 = b^2 - b^4\\\\\n",
      "P^2(x) & = -x^4 + x^2\n",
      "\\end{align}\n",
      "$$\n",
      "Poi\u0161\u010demo stacionarne to\u010dke funkcije $P^2(x)$.\n",
      "$$ \n",
      "\\begin{align}\n",
      "-4x^3 + 2x & = 0 \\\\\n",
      "-2x (2x^2 - 1) = 0 \\\\\n",
      "x_1 & = 0 \\\\\n",
      "x_{2, 3} & = \\pm \\frac{\\sqrt{2}}{2}\n",
      "\\end{align}\n",
      "$$\n",
      "Torej bo $b=\\frac{\\sqrt{2}}{2}$. Enako tudi polovica $a$."
     ]
    },
    {
     "cell_type": "heading",
     "level": 2,
     "metadata": {},
     "source": [
      "2. naloga"
     ]
    },
    {
     "cell_type": "heading",
     "level": 3,
     "metadata": {},
     "source": [
      "Gradient"
     ]
    },
    {
     "cell_type": "code",
     "collapsed": false,
     "input": [
      "import sympy \n",
      "from sympy.abc import x, y\n",
      "sympy.init_printing(use_unicode=True)\n",
      "\n",
      "p = sympy.Poly(3*x**2 - 3*y**2 + 8*x*y - 6*x -8*y +3, domain=sympy.RR)\n",
      "(p.diff(x), p.diff(y))"
     ],
     "language": "python",
     "metadata": {},
     "outputs": [
      {
       "latex": [
        "$$\\left ( \\operatorname{Poly}{\\left( 6.0 x + 8.0 y - 6.0, x, y, domain=\\mathbb{R} \\right)}, \\quad \\operatorname{Poly}{\\left( 8.0 x - 6.0 y - 8.0, x, y, domain=\\mathbb{R} \\right)}\\right )$$"
       ],
       "metadata": {},
       "output_type": "pyout",
       "png": "[encoded data removed]",
       "prompt_number": 29,
       "text": [
        "(Poly(6.0*x + 8.0*y - 6.0, x, y, domain='RR'), Poly(8.0*x - 6.0*y - 8.0, x, y,\n",
        " domain='RR'))"
       ]
      }
     ],
     "prompt_number": 29
    },
    {
     "cell_type": "heading",
     "level": 3,
     "metadata": {},
     "source": [
      "Stacionarne to\u010dke"
     ]
    },
    {
     "cell_type": "code",
     "collapsed": false,
     "input": [
      "import sympy \n",
      "from sympy.abc import x, y\n",
      "sympy.init_printing(use_unicode=True)\n",
      "\n",
      "p = sympy.Poly(3*x**2 - 3*y**2 + 8*x*y - 6*x -8*y +3, domain=sympy.RR)\n",
      "sympy.solve_poly_system([p.diff(x), p.diff(y)], x, y)"
     ],
     "language": "python",
     "metadata": {},
     "outputs": [
      {
       "latex": [
        "$$\\left [ \\left ( 1.0, \\quad 0\\right )\\right ]$$"
       ],
       "metadata": {},
       "output_type": "pyout",
       "png": "[encoded data removed]",
       "prompt_number": 30,
       "text": [
        "[(1.0, 0)]"
       ]
      }
     ],
     "prompt_number": 30
    },
    {
     "cell_type": "heading",
     "level": 2,
     "metadata": {},
     "source": [
      "3. naloga"
     ]
    },
    {
     "cell_type": "heading",
     "level": 3,
     "metadata": {},
     "source": [
      "Odvod"
     ]
    },
    {
     "cell_type": "code",
     "collapsed": false,
     "input": [
      "from sympy import sin, cos, init_printing\n",
      "from sympy.abc import x\n",
      "init_printing()\n",
      "\n",
      "(cos(x) / sin(x)).diff()"
     ],
     "language": "python",
     "metadata": {},
     "outputs": [
      {
       "latex": [
        "$$-1 - \\frac{\\cos^{2}{\\left (x \\right )}}{\\sin^{2}{\\left (x \\right )}}$$"
       ],
       "metadata": {},
       "output_type": "pyout",
       "png": "[encoded data removed]",
       "prompt_number": 41,
       "text": [
        "        2   \n",
        "     cos (x)\n",
        "-1 - \u2500\u2500\u2500\u2500\u2500\u2500\u2500\n",
        "        2   \n",
        "     sin (x)"
       ]
      }
     ],
     "prompt_number": 41
    },
    {
     "cell_type": "heading",
     "level": 3,
     "metadata": {},
     "source": [
      " Nedolo\u010deni integral 1"
     ]
    },
    {
     "cell_type": "code",
     "collapsed": false,
     "input": [
      "from sympy import sin, cos, init_printing, integrate\n",
      "from sympy.abc import x\n",
      "init_printing()\n",
      "\n",
      "\n",
      "integrate(cos(x)/sin(x), x)"
     ],
     "language": "python",
     "metadata": {},
     "outputs": [
      {
       "latex": [
        "$$\\frac{1}{2} \\log{\\left (\\cos^{2}{\\left (x \\right )} - 1 \\right )}$$"
       ],
       "metadata": {},
       "output_type": "pyout",
       "png": "[encoded data removed]",
       "prompt_number": 47,
       "text": [
        "   \u239b   2       \u239e\n",
        "log\u239dcos (x) - 1\u23a0\n",
        "\u2500\u2500\u2500\u2500\u2500\u2500\u2500\u2500\u2500\u2500\u2500\u2500\u2500\u2500\u2500\u2500\n",
        "       2        "
       ]
      }
     ],
     "prompt_number": 47
    },
    {
     "cell_type": "markdown",
     "metadata": {},
     "source": [
      "Tole zgoraj je \u010dudno... Pravi rezultat je seveda $\\log(\\sin(x))$."
     ]
    },
    {
     "cell_type": "heading",
     "level": 3,
     "metadata": {},
     "source": [
      "Nedolo\u010deni integral 2"
     ]
    },
    {
     "cell_type": "code",
     "collapsed": false,
     "input": [
      "from sympy import sin, cos, init_printing, integrate\n",
      "from sympy.abc import x\n",
      "init_printing()\n",
      "\n",
      "integrate(x/(sin(x)*sin(x)), x)"
     ],
     "language": "python",
     "metadata": {},
     "outputs": [
      {
       "latex": [
        "$$\\frac{x}{2} \\tan{\\left (\\frac{x}{2} \\right )} - \\frac{x}{2 \\tan{\\left (\\frac{x}{2} \\right )}} - \\log{\\left (\\tan^{2}{\\left (\\frac{x}{2} \\right )} + 1 \\right )} + \\log{\\left (\\tan{\\left (\\frac{x}{2} \\right )} \\right )}$$"
       ],
       "metadata": {},
       "output_type": "pyout",
       "png": "[encoded data removed]",
       "prompt_number": 51,
       "text": [
        "     \u239bx\u239e                                            \n",
        "x\u22c5tan\u239c\u2500\u239f                                            \n",
        "     \u239d2\u23a0      x          \u239b   2\u239bx\u239e    \u239e      \u239b   \u239bx\u239e\u239e\n",
        "\u2500\u2500\u2500\u2500\u2500\u2500\u2500\u2500 - \u2500\u2500\u2500\u2500\u2500\u2500\u2500\u2500 - log\u239ctan \u239c\u2500\u239f + 1\u239f + log\u239ctan\u239c\u2500\u239f\u239f\n",
        "   2            \u239bx\u239e      \u239d    \u239d2\u23a0    \u23a0      \u239d   \u239d2\u23a0\u23a0\n",
        "           2\u22c5tan\u239c\u2500\u239f                                 \n",
        "                \u239d2\u23a0                                 "
       ]
      }
     ],
     "prompt_number": 51
    },
    {
     "cell_type": "markdown",
     "metadata": {},
     "source": [
      "\ufffc\ufffcTole spet izgleda \u010dudno. Prava re\u0161itev je $\\log(\\sin(x)) -x \\cot(x) + C$."
     ]
    },
    {
     "cell_type": "code",
     "collapsed": false,
     "input": [
      "%matplotlib inline\n",
      "from numpy import linspace\n",
      "from matplotlib import pyplot\n",
      "import pylab\n",
      "from math import e\n",
      "import sympy \n",
      "\n",
      "\n",
      "def sample_function(f, start, end, step):\n",
      "    xs = linspace(start=start, stop=end, num=(end-start)/step)\n",
      "    ys = [f(x) for x in xs]\n",
      "    return xs, ys\n",
      "\n",
      "pylab.rcParams['figure.figsize'] = (10.0, 8.0)\n",
      "pylab.ylim([0, 4])\n",
      "pylab.xlim([-1, 1])\n",
      "\n",
      "def f1(x):\n",
      "    return e**(2*x)\n",
      "\n",
      "def f2(x):\n",
      "    return -e**(2*x)+4\n",
      "\n",
      "[xs, ys] = sample_function(f1, -10, 10, 0.1)\n",
      "pyplot.plot(xs, ys, color='r')\n",
      "\n",
      "[xs, ys] = sample_function(f2, -10, 10, 0.1)\n",
      "pyplot.plot(xs, ys, color='g')\n",
      "pyplot.axvline(0, color='y')\n",
      "sf1 = sympy.elementary.exponential.exp(2*x)\n",
      "sf2 = -sympy.elementary.exponential.exp(2*x) + 4\n",
      "a = 0\n",
      "b = filter(lambda f: f.is_real, sympy.solve(sf1-sf2))[0]\n",
      "sympy.integrate(sf1-sf2, (x, a, b))"
     ],
     "language": "python",
     "metadata": {},
     "outputs": [
      {
       "latex": [
        "$$- 2 \\log{\\left (2 \\right )} + 1$$"
       ],
       "metadata": {},
       "output_type": "pyout",
       "png": "[encoded data removed]",
       "prompt_number": 96,
       "text": [
        "-2\u22c5log(2) + 1"
       ]
      },
      {
       "metadata": {},
       "output_type": "display_data",
       "png": "[encoded data removed]",
       "text": [
        "<matplotlib.figure.Figure at 0x7fbe14c7a190>"
       ]
      }
     ],
     "prompt_number": 96
    },
    {
     "cell_type": "code",
     "collapsed": false,
     "input": [],
     "language": "python",
     "metadata": {},
     "outputs": []
    }
   ],
   "metadata": {}
  }
 ]
}