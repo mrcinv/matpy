{
 "cells": [
  {
   "cell_type": "code",
   "execution_count": 4,
   "metadata": {
    "collapsed": true
   },
   "outputs": [],
   "source": [
    "import math\n",
    "import sympy\n",
    "from sympy import latex\n",
    "from IPython.display import HTML, display\n",
    "\n",
    "%matplotlib notebook\n",
    "\n",
    "sympy.init_printing()"
   ]
  },
  {
   "cell_type": "markdown",
   "metadata": {},
   "source": [
    "# OMA 2. kolokvij 2013/2014"
   ]
  },
  {
   "cell_type": "markdown",
   "metadata": {},
   "source": [
    "## 1. naloga"
   ]
  },
  {
   "cell_type": "markdown",
   "metadata": {},
   "source": [
    "*Podana je funkcija $f(x)=x^2 e^{-x}$.*"
   ]
  },
  {
   "cell_type": "code",
   "execution_count": 5,
   "metadata": {
    "collapsed": true
   },
   "outputs": [],
   "source": [
    "x = sympy.symbols('x')\n",
    "f = lambda x: x**2 * sympy.E**(-x)"
   ]
  },
  {
   "cell_type": "markdown",
   "metadata": {},
   "source": [
    "*Doloci definicijsko obmocje ${\\cal D}_f$ in izracunaj limiti v robovih ${\\cal D}_f$.*"
   ]
  },
  {
   "cell_type": "markdown",
   "metadata": {},
   "source": [
    "Ker je eksponentna funkcija definirana povsod, je ${\\cal D}_f = \\mathbb{R}$.  \n",
    "$\\displaystyle{\\lim_{x\\to\\infty} x^2 e^{-x} = 0}.$  \n",
    "$\\displaystyle{\\lim_{x\\to -\\infty} x^2 e^{-x} = \\infty}.$"
   ]
  },
  {
   "cell_type": "markdown",
   "metadata": {},
   "source": [
    "*Poisci nicle in stacionarne tocke funkcije $f$.*"
   ]
  },
  {
   "cell_type": "code",
   "execution_count": 6,
   "metadata": {
    "collapsed": false
   },
   "outputs": [
    {
     "data": {
      "image/png": "[encoded data removed]",
      "text/latex": [
       "$$x^{2} e^{- x} = 0$$"
      ],
      "text/plain": [
       " 2  -x    \n",
       "x ⋅ℯ   = 0"
      ]
     },
     "execution_count": 6,
     "metadata": {},
     "output_type": "execute_result"
    }
   ],
   "source": [
    "equation = sympy.Eq(f(x), 0)\n",
    "equation"
   ]
  },
  {
   "cell_type": "code",
   "execution_count": 7,
   "metadata": {
    "collapsed": false
   },
   "outputs": [
    {
     "data": {
      "text/html": [
       "Nicle: $\\left [ 0\\right ]$"
      ],
      "text/plain": [
       "<IPython.core.display.HTML object>"
      ]
     },
     "metadata": {},
     "output_type": "display_data"
    }
   ],
   "source": [
    "solutions = sympy.solve(equation)\n",
    "s = 'Nicle: ${0}$'.format(latex(solutions))\n",
    "display(HTML(s))"
   ]
  },
  {
   "cell_type": "code",
   "execution_count": 8,
   "metadata": {
    "collapsed": false
   },
   "outputs": [
    {
     "data": {
      "image/png": "[encoded data removed]",
      "text/latex": [
       "$$- x^{2} e^{- x} + 2 x e^{- x} = 0$$"
      ],
      "text/plain": [
       "   2  -x        -x    \n",
       "- x ⋅ℯ   + 2⋅x⋅ℯ   = 0"
      ]
     },
     "execution_count": 8,
     "metadata": {},
     "output_type": "execute_result"
    }
   ],
   "source": [
    "derivative = sympy.diff(f(x), x)\n",
    "equation = sympy.Eq(derivative, 0)\n",
    "equation"
   ]
  },
  {
   "cell_type": "code",
   "execution_count": 9,
   "metadata": {
    "collapsed": false
   },
   "outputs": [
    {
     "data": {
      "text/html": [
       "Stacionarne tocke: $\\left [ 0, \\quad 2\\right ]$"
      ],
      "text/plain": [
       "<IPython.core.display.HTML object>"
      ]
     },
     "metadata": {},
     "output_type": "display_data"
    }
   ],
   "source": [
    "solutions = sympy.solve(equation)\n",
    "s = 'Stacionarne tocke: ${0}$'.format(latex(solutions))\n",
    "display(HTML(s))"
   ]
  },
  {
   "cell_type": "markdown",
   "metadata": {},
   "source": [
    "*Narisi graf funkcije $f$.*    "
   ]
  },
  {
   "cell_type": "code",
   "execution_count": 10,
   "metadata": {
    "collapsed": false
   },
   "outputs": [
    {
     "data": {
      "application/javascript": [
       "/* Put everything inside the global mpl namespace */\n",
       "window.mpl = {};\n",
       "\n",
       "mpl.get_websocket_type = function() {\n",
       "    if (typeof(WebSocket) !== 'undefined') {\n",
       "        return WebSocket;\n",
       "    } else if (typeof(MozWebSocket) !== 'undefined') {\n",
       "        return MozWebSocket;\n",
       "    } else {\n",
       "        alert('Your browser does not have WebSocket support.' +\n",
       "              'Please try Chrome, Safari or Firefox ≥ 6. ' +\n",
       "              'Firefox 4 and 5 are also supported but you ' +\n",
       "              'have to enable WebSockets in about:config.');\n",
       "    };\n",
       "}\n",
       "\n",
       "mpl.figure = function(figure_id, websocket, ondownload, parent_element) {\n",
       "    this.id = figure_id;\n",
       "\n",
       "    this.ws = websocket;\n",
       "\n",
       "    this.supports_binary = (this.ws.binaryType != undefined);\n",
       "\n",
       "    if (!this.supports_binary) {\n",
       "        var warnings = document.getElementById(\"mpl-warnings\");\n",
       "        if (warnings) {\n",
       "            warnings.style.display = 'block';\n",
       "            warnings.textContent = (\n",
       "                \"This browser does not support binary websocket messages. \" +\n",
       "                    \"Performance may be slow.\");\n",
       "        }\n",
       "    }\n",
       "\n",
       "    this.imageObj = new Image();\n",
       "\n",
       "    this.context = undefined;\n",
       "    this.message = undefined;\n",
       "    this.canvas = undefined;\n",
       "    this.rubberband_canvas = undefined;\n",
       "    this.rubberband_context = undefined;\n",
       "    this.format_dropdown = undefined;\n",
       "\n",
       "    this.image_mode = 'full';\n",
       "\n",
       "    this.root = $('<div/>');\n",
       "    this._root_extra_style(this.root)\n",
       "    this.root.attr('style', 'display: inline-block');\n",
       "\n",
       "    $(parent_element).append(this.root);\n",
       "\n",
       "    this._init_header(this);\n",
       "    this._init_canvas(this);\n",
       "    this._init_toolbar(this);\n",
       "\n",
       "    var fig = this;\n",
       "\n",
       "    this.waiting = false;\n",
       "\n",
       "    this.ws.onopen =  function () {\n",
       "            fig.send_message(\"supports_binary\", {value: fig.supports_binary});\n",
       "            fig.send_message(\"send_image_mode\", {});\n",
       "            fig.send_message(\"refresh\", {});\n",
       "        }\n",
       "\n",
       "    this.imageObj.onload = function() {\n",
       "            if (fig.image_mode == 'full') {\n",
       "                // Full images could contain transparency (where diff images\n",
       "                // almost always do), so we need to clear the canvas so that\n",
       "                // there is no ghosting.\n",
       "                fig.context.clearRect(0, 0, fig.canvas.width, fig.canvas.height);\n",
       "            }\n",
       "            fig.context.drawImage(fig.imageObj, 0, 0);\n",
       "        };\n",
       "\n",
       "    this.imageObj.onunload = function() {\n",
       "        this.ws.close();\n",
       "    }\n",
       "\n",
       "    this.ws.onmessage = this._make_on_message_function(this);\n",
       "\n",
       "    this.ondownload = ondownload;\n",
       "}\n",
       "\n",
       "mpl.figure.prototype._init_header = function() {\n",
       "    var titlebar = $(\n",
       "        '<div class=\"ui-dialog-titlebar ui-widget-header ui-corner-all ' +\n",
       "        'ui-helper-clearfix\"/>');\n",
       "    var titletext = $(\n",
       "        '<div class=\"ui-dialog-title\" style=\"width: 100%; ' +\n",
       "        'text-align: center; padding: 3px;\"/>');\n",
       "    titlebar.append(titletext)\n",
       "    this.root.append(titlebar);\n",
       "    this.header = titletext[0];\n",
       "}\n",
       "\n",
       "\n",
       "\n",
       "mpl.figure.prototype._canvas_extra_style = function(canvas_div) {\n",
       "\n",
       "}\n",
       "\n",
       "\n",
       "mpl.figure.prototype._root_extra_style = function(canvas_div) {\n",
       "\n",
       "}\n",
       "\n",
       "mpl.figure.prototype._init_canvas = function() {\n",
       "    var fig = this;\n",
       "\n",
       "    var canvas_div = $('<div/>');\n",
       "\n",
       "    canvas_div.attr('style', 'position: relative; clear: both; outline: 0');\n",
       "\n",
       "    function canvas_keyboard_event(event) {\n",
       "        return fig.key_event(event, event['data']);\n",
       "    }\n",
       "\n",
       "    canvas_div.keydown('key_press', canvas_keyboard_event);\n",
       "    canvas_div.keyup('key_release', canvas_keyboard_event);\n",
       "    this.canvas_div = canvas_div\n",
       "    this._canvas_extra_style(canvas_div)\n",
       "    this.root.append(canvas_div);\n",
       "\n",
       "    var canvas = $('<canvas/>');\n",
       "    canvas.addClass('mpl-canvas');\n",
       "    canvas.attr('style', \"left: 0; top: 0; z-index: 0; outline: 0\")\n",
       "\n",
       "    this.canvas = canvas[0];\n",
       "    this.context = canvas[0].getContext(\"2d\");\n",
       "\n",
       "    var rubberband = $('<canvas/>');\n",
       "    rubberband.attr('style', \"position: absolute; left: 0; top: 0; z-index: 1;\")\n",
       "\n",
       "    var pass_mouse_events = true;\n",
       "\n",
       "    canvas_div.resizable({\n",
       "        start: function(event, ui) {\n",
       "            pass_mouse_events = false;\n",
       "        },\n",
       "        resize: function(event, ui) {\n",
       "            fig.request_resize(ui.size.width, ui.size.height);\n",
       "        },\n",
       "        stop: function(event, ui) {\n",
       "            pass_mouse_events = true;\n",
       "            fig.request_resize(ui.size.width, ui.size.height);\n",
       "        },\n",
       "    });\n",
       "\n",
       "    function mouse_event_fn(event) {\n",
       "        if (pass_mouse_events)\n",
       "            return fig.mouse_event(event, event['data']);\n",
       "    }\n",
       "\n",
       "    rubberband.mousedown('button_press', mouse_event_fn);\n",
       "    rubberband.mouseup('button_release', mouse_event_fn);\n",
       "    // Throttle sequential mouse events to 1 every 20ms.\n",
       "    rubberband.mousemove('motion_notify', mouse_event_fn);\n",
       "\n",
       "    rubberband.mouseenter('figure_enter', mouse_event_fn);\n",
       "    rubberband.mouseleave('figure_leave', mouse_event_fn);\n",
       "\n",
       "    canvas_div.on(\"wheel\", function (event) {\n",
       "        event = event.originalEvent;\n",
       "        event['data'] = 'scroll'\n",
       "        if (event.deltaY < 0) {\n",
       "            event.step = 1;\n",
       "        } else {\n",
       "            event.step = -1;\n",
       "        }\n",
       "        mouse_event_fn(event);\n",
       "    });\n",
       "\n",
       "    canvas_div.append(canvas);\n",
       "    canvas_div.append(rubberband);\n",
       "\n",
       "    this.rubberband = rubberband;\n",
       "    this.rubberband_canvas = rubberband[0];\n",
       "    this.rubberband_context = rubberband[0].getContext(\"2d\");\n",
       "    this.rubberband_context.strokeStyle = \"#000000\";\n",
       "\n",
       "    this._resize_canvas = function(width, height) {\n",
       "        // Keep the size of the canvas, canvas container, and rubber band\n",
       "        // canvas in synch.\n",
       "        canvas_div.css('width', width)\n",
       "        canvas_div.css('height', height)\n",
       "\n",
       "        canvas.attr('width', width);\n",
       "        canvas.attr('height', height);\n",
       "\n",
       "        rubberband.attr('width', width);\n",
       "        rubberband.attr('height', height);\n",
       "    }\n",
       "\n",
       "    // Set the figure to an initial 600x600px, this will subsequently be updated\n",
       "    // upon first draw.\n",
       "    this._resize_canvas(600, 600);\n",
       "\n",
       "    // Disable right mouse context menu.\n",
       "    $(this.rubberband_canvas).bind(\"contextmenu\",function(e){\n",
       "        return false;\n",
       "    });\n",
       "\n",
       "    function set_focus () {\n",
       "        canvas.focus();\n",
       "        canvas_div.focus();\n",
       "    }\n",
       "\n",
       "    window.setTimeout(set_focus, 100);\n",
       "}\n",
       "\n",
       "mpl.figure.prototype._init_toolbar = function() {\n",
       "    var fig = this;\n",
       "\n",
       "    var nav_element = $('<div/>')\n",
       "    nav_element.attr('style', 'width: 100%');\n",
       "    this.root.append(nav_element);\n",
       "\n",
       "    // Define a callback function for later on.\n",
       "    function toolbar_event(event) {\n",
       "        return fig.toolbar_button_onclick(event['data']);\n",
       "    }\n",
       "    function toolbar_mouse_event(event) {\n",
       "        return fig.toolbar_button_onmouseover(event['data']);\n",
       "    }\n",
       "\n",
       "    for(var toolbar_ind in mpl.toolbar_items) {\n",
       "        var name = mpl.toolbar_items[toolbar_ind][0];\n",
       "        var tooltip = mpl.toolbar_items[toolbar_ind][1];\n",
       "        var image = mpl.toolbar_items[toolbar_ind][2];\n",
       "        var method_name = mpl.toolbar_items[toolbar_ind][3];\n",
       "\n",
       "        if (!name) {\n",
       "            // put a spacer in here.\n",
       "            continue;\n",
       "        }\n",
       "        var button = $('<button/>');\n",
       "        button.addClass('ui-button ui-widget ui-state-default ui-corner-all ' +\n",
       "                        'ui-button-icon-only');\n",
       "        button.attr('role', 'button');\n",
       "        button.attr('aria-disabled', 'false');\n",
       "        button.click(method_name, toolbar_event);\n",
       "        button.mouseover(tooltip, toolbar_mouse_event);\n",
       "\n",
       "        var icon_img = $('<span/>');\n",
       "        icon_img.addClass('ui-button-icon-primary ui-icon');\n",
       "        icon_img.addClass(image);\n",
       "        icon_img.addClass('ui-corner-all');\n",
       "\n",
       "        var tooltip_span = $('<span/>');\n",
       "        tooltip_span.addClass('ui-button-text');\n",
       "        tooltip_span.html(tooltip);\n",
       "\n",
       "        button.append(icon_img);\n",
       "        button.append(tooltip_span);\n",
       "\n",
       "        nav_element.append(button);\n",
       "    }\n",
       "\n",
       "    var fmt_picker_span = $('<span/>');\n",
       "\n",
       "    var fmt_picker = $('<select/>');\n",
       "    fmt_picker.addClass('mpl-toolbar-option ui-widget ui-widget-content');\n",
       "    fmt_picker_span.append(fmt_picker);\n",
       "    nav_element.append(fmt_picker_span);\n",
       "    this.format_dropdown = fmt_picker[0];\n",
       "\n",
       "    for (var ind in mpl.extensions) {\n",
       "        var fmt = mpl.extensions[ind];\n",
       "        var option = $(\n",
       "            '<option/>', {selected: fmt === mpl.default_extension}).html(fmt);\n",
       "        fmt_picker.append(option)\n",
       "    }\n",
       "\n",
       "    // Add hover states to the ui-buttons\n",
       "    $( \".ui-button\" ).hover(\n",
       "        function() { $(this).addClass(\"ui-state-hover\");},\n",
       "        function() { $(this).removeClass(\"ui-state-hover\");}\n",
       "    );\n",
       "\n",
       "    var status_bar = $('<span class=\"mpl-message\"/>');\n",
       "    nav_element.append(status_bar);\n",
       "    this.message = status_bar[0];\n",
       "}\n",
       "\n",
       "mpl.figure.prototype.request_resize = function(x_pixels, y_pixels) {\n",
       "    // Request matplotlib to resize the figure. Matplotlib will then trigger a resize in the client,\n",
       "    // which will in turn request a refresh of the image.\n",
       "    this.send_message('resize', {'width': x_pixels, 'height': y_pixels});\n",
       "}\n",
       "\n",
       "mpl.figure.prototype.send_message = function(type, properties) {\n",
       "    properties['type'] = type;\n",
       "    properties['figure_id'] = this.id;\n",
       "    this.ws.send(JSON.stringify(properties));\n",
       "}\n",
       "\n",
       "mpl.figure.prototype.send_draw_message = function() {\n",
       "    if (!this.waiting) {\n",
       "        this.waiting = true;\n",
       "        this.ws.send(JSON.stringify({type: \"draw\", figure_id: this.id}));\n",
       "    }\n",
       "}\n",
       "\n",
       "\n",
       "mpl.figure.prototype.handle_save = function(fig, msg) {\n",
       "    var format_dropdown = fig.format_dropdown;\n",
       "    var format = format_dropdown.options[format_dropdown.selectedIndex].value;\n",
       "    fig.ondownload(fig, format);\n",
       "}\n",
       "\n",
       "\n",
       "mpl.figure.prototype.handle_resize = function(fig, msg) {\n",
       "    var size = msg['size'];\n",
       "    if (size[0] != fig.canvas.width || size[1] != fig.canvas.height) {\n",
       "        fig._resize_canvas(size[0], size[1]);\n",
       "        fig.send_message(\"refresh\", {});\n",
       "    };\n",
       "}\n",
       "\n",
       "mpl.figure.prototype.handle_rubberband = function(fig, msg) {\n",
       "    var x0 = msg['x0'];\n",
       "    var y0 = fig.canvas.height - msg['y0'];\n",
       "    var x1 = msg['x1'];\n",
       "    var y1 = fig.canvas.height - msg['y1'];\n",
       "    x0 = Math.floor(x0) + 0.5;\n",
       "    y0 = Math.floor(y0) + 0.5;\n",
       "    x1 = Math.floor(x1) + 0.5;\n",
       "    y1 = Math.floor(y1) + 0.5;\n",
       "    var min_x = Math.min(x0, x1);\n",
       "    var min_y = Math.min(y0, y1);\n",
       "    var width = Math.abs(x1 - x0);\n",
       "    var height = Math.abs(y1 - y0);\n",
       "\n",
       "    fig.rubberband_context.clearRect(\n",
       "        0, 0, fig.canvas.width, fig.canvas.height);\n",
       "\n",
       "    fig.rubberband_context.strokeRect(min_x, min_y, width, height);\n",
       "}\n",
       "\n",
       "mpl.figure.prototype.handle_figure_label = function(fig, msg) {\n",
       "    // Updates the figure title.\n",
       "    fig.header.textContent = msg['label'];\n",
       "}\n",
       "\n",
       "mpl.figure.prototype.handle_cursor = function(fig, msg) {\n",
       "    var cursor = msg['cursor'];\n",
       "    switch(cursor)\n",
       "    {\n",
       "    case 0:\n",
       "        cursor = 'pointer';\n",
       "        break;\n",
       "    case 1:\n",
       "        cursor = 'default';\n",
       "        break;\n",
       "    case 2:\n",
       "        cursor = 'crosshair';\n",
       "        break;\n",
       "    case 3:\n",
       "        cursor = 'move';\n",
       "        break;\n",
       "    }\n",
       "    fig.rubberband_canvas.style.cursor = cursor;\n",
       "}\n",
       "\n",
       "mpl.figure.prototype.handle_message = function(fig, msg) {\n",
       "    fig.message.textContent = msg['message'];\n",
       "}\n",
       "\n",
       "mpl.figure.prototype.handle_draw = function(fig, msg) {\n",
       "    // Request the server to send over a new figure.\n",
       "    fig.send_draw_message();\n",
       "}\n",
       "\n",
       "mpl.figure.prototype.handle_image_mode = function(fig, msg) {\n",
       "    fig.image_mode = msg['mode'];\n",
       "}\n",
       "\n",
       "mpl.figure.prototype.updated_canvas_event = function() {\n",
       "    // Called whenever the canvas gets updated.\n",
       "    this.send_message(\"ack\", {});\n",
       "}\n",
       "\n",
       "// A function to construct a web socket function for onmessage handling.\n",
       "// Called in the figure constructor.\n",
       "mpl.figure.prototype._make_on_message_function = function(fig) {\n",
       "    return function socket_on_message(evt) {\n",
       "        if (evt.data instanceof Blob) {\n",
       "            /* FIXME: We get \"Resource interpreted as Image but\n",
       "             * transferred with MIME type text/plain:\" errors on\n",
       "             * Chrome.  But how to set the MIME type?  It doesn't seem\n",
       "             * to be part of the websocket stream */\n",
       "            evt.data.type = \"image/png\";\n",
       "\n",
       "            /* Free the memory for the previous frames */\n",
       "            if (fig.imageObj.src) {\n",
       "                (window.URL || window.webkitURL).revokeObjectURL(\n",
       "                    fig.imageObj.src);\n",
       "            }\n",
       "\n",
       "            fig.imageObj.src = (window.URL || window.webkitURL).createObjectURL(\n",
       "                evt.data);\n",
       "            fig.updated_canvas_event();\n",
       "            fig.waiting = false;\n",
       "            return;\n",
       "        }\n",
       "        else if (typeof evt.data === 'string' && evt.data.slice(0, 21) == \"data:image/png;base64\") {\n",
       "            fig.imageObj.src = evt.data;\n",
       "            fig.updated_canvas_event();\n",
       "            fig.waiting = false;\n",
       "            return;\n",
       "        }\n",
       "\n",
       "        var msg = JSON.parse(evt.data);\n",
       "        var msg_type = msg['type'];\n",
       "\n",
       "        // Call the  \"handle_{type}\" callback, which takes\n",
       "        // the figure and JSON message as its only arguments.\n",
       "        try {\n",
       "            var callback = fig[\"handle_\" + msg_type];\n",
       "        } catch (e) {\n",
       "            console.log(\"No handler for the '\" + msg_type + \"' message type: \", msg);\n",
       "            return;\n",
       "        }\n",
       "\n",
       "        if (callback) {\n",
       "            try {\n",
       "                // console.log(\"Handling '\" + msg_type + \"' message: \", msg);\n",
       "                callback(fig, msg);\n",
       "            } catch (e) {\n",
       "                console.log(\"Exception inside the 'handler_\" + msg_type + \"' callback:\", e, e.stack, msg);\n",
       "            }\n",
       "        }\n",
       "    };\n",
       "}\n",
       "\n",
       "// from http://stackoverflow.com/questions/1114465/getting-mouse-location-in-canvas\n",
       "mpl.findpos = function(e) {\n",
       "    //this section is from http://www.quirksmode.org/js/events_properties.html\n",
       "    var targ;\n",
       "    if (!e)\n",
       "        e = window.event;\n",
       "    if (e.target)\n",
       "        targ = e.target;\n",
       "    else if (e.srcElement)\n",
       "        targ = e.srcElement;\n",
       "    if (targ.nodeType == 3) // defeat Safari bug\n",
       "        targ = targ.parentNode;\n",
       "\n",
       "    // jQuery normalizes the pageX and pageY\n",
       "    // pageX,Y are the mouse positions relative to the document\n",
       "    // offset() returns the position of the element relative to the document\n",
       "    var x = e.pageX - $(targ).offset().left;\n",
       "    var y = e.pageY - $(targ).offset().top;\n",
       "\n",
       "    return {\"x\": x, \"y\": y};\n",
       "};\n",
       "\n",
       "/*\n",
       " * return a copy of an object with only non-object keys\n",
       " * we need this to avoid circular references\n",
       " * http://stackoverflow.com/a/24161582/3208463\n",
       " */\n",
       "function simpleKeys (original) {\n",
       "  return Object.keys(original).reduce(function (obj, key) {\n",
       "    if (typeof original[key] !== 'object')\n",
       "        obj[key] = original[key]\n",
       "    return obj;\n",
       "  }, {});\n",
       "}\n",
       "\n",
       "mpl.figure.prototype.mouse_event = function(event, name) {\n",
       "    var canvas_pos = mpl.findpos(event)\n",
       "\n",
       "    if (name === 'button_press')\n",
       "    {\n",
       "        this.canvas.focus();\n",
       "        this.canvas_div.focus();\n",
       "    }\n",
       "\n",
       "    var x = canvas_pos.x;\n",
       "    var y = canvas_pos.y;\n",
       "\n",
       "    this.send_message(name, {x: x, y: y, button: event.button,\n",
       "                             step: event.step,\n",
       "                             guiEvent: simpleKeys(event)});\n",
       "\n",
       "    /* This prevents the web browser from automatically changing to\n",
       "     * the text insertion cursor when the button is pressed.  We want\n",
       "     * to control all of the cursor setting manually through the\n",
       "     * 'cursor' event from matplotlib */\n",
       "    event.preventDefault();\n",
       "    return false;\n",
       "}\n",
       "\n",
       "mpl.figure.prototype._key_event_extra = function(event, name) {\n",
       "    // Handle any extra behaviour associated with a key event\n",
       "}\n",
       "\n",
       "mpl.figure.prototype.key_event = function(event, name) {\n",
       "\n",
       "    // Prevent repeat events\n",
       "    if (name == 'key_press')\n",
       "    {\n",
       "        if (event.which === this._key)\n",
       "            return;\n",
       "        else\n",
       "            this._key = event.which;\n",
       "    }\n",
       "    if (name == 'key_release')\n",
       "        this._key = null;\n",
       "\n",
       "    var value = '';\n",
       "    if (event.ctrlKey && event.which != 17)\n",
       "        value += \"ctrl+\";\n",
       "    if (event.altKey && event.which != 18)\n",
       "        value += \"alt+\";\n",
       "    if (event.shiftKey && event.which != 16)\n",
       "        value += \"shift+\";\n",
       "\n",
       "    value += 'k';\n",
       "    value += event.which.toString();\n",
       "\n",
       "    this._key_event_extra(event, name);\n",
       "\n",
       "    this.send_message(name, {key: value,\n",
       "                             guiEvent: simpleKeys(event)});\n",
       "    return false;\n",
       "}\n",
       "\n",
       "mpl.figure.prototype.toolbar_button_onclick = function(name) {\n",
       "    if (name == 'download') {\n",
       "        this.handle_save(this, null);\n",
       "    } else {\n",
       "        this.send_message(\"toolbar_button\", {name: name});\n",
       "    }\n",
       "};\n",
       "\n",
       "mpl.figure.prototype.toolbar_button_onmouseover = function(tooltip) {\n",
       "    this.message.textContent = tooltip;\n",
       "};\n",
       "mpl.toolbar_items = [[\"Home\", \"Reset original view\", \"fa fa-home icon-home\", \"home\"], [\"Back\", \"Back to  previous view\", \"fa fa-arrow-left icon-arrow-left\", \"back\"], [\"Forward\", \"Forward to next view\", \"fa fa-arrow-right icon-arrow-right\", \"forward\"], [\"\", \"\", \"\", \"\"], [\"Pan\", \"Pan axes with left mouse, zoom with right\", \"fa fa-arrows icon-move\", \"pan\"], [\"Zoom\", \"Zoom to rectangle\", \"fa fa-square-o icon-check-empty\", \"zoom\"], [\"\", \"\", \"\", \"\"], [\"Download\", \"Download plot\", \"fa fa-floppy-o icon-save\", \"download\"]];\n",
       "\n",
       "mpl.extensions = [\"eps\", \"pdf\", \"png\", \"ps\", \"raw\", \"svg\"];\n",
       "\n",
       "mpl.default_extension = \"png\";var comm_websocket_adapter = function(comm) {\n",
       "    // Create a \"websocket\"-like object which calls the given IPython comm\n",
       "    // object with the appropriate methods. Currently this is a non binary\n",
       "    // socket, so there is still some room for performance tuning.\n",
       "    var ws = {};\n",
       "\n",
       "    ws.close = function() {\n",
       "        comm.close()\n",
       "    };\n",
       "    ws.send = function(m) {\n",
       "        //console.log('sending', m);\n",
       "        comm.send(m);\n",
       "    };\n",
       "    // Register the callback with on_msg.\n",
       "    comm.on_msg(function(msg) {\n",
       "        //console.log('receiving', msg['content']['data'], msg);\n",
       "        // Pass the mpl event to the overriden (by mpl) onmessage function.\n",
       "        ws.onmessage(msg['content']['data'])\n",
       "    });\n",
       "    return ws;\n",
       "}\n",
       "\n",
       "mpl.mpl_figure_comm = function(comm, msg) {\n",
       "    // This is the function which gets called when the mpl process\n",
       "    // starts-up an IPython Comm through the \"matplotlib\" channel.\n",
       "\n",
       "    var id = msg.content.data.id;\n",
       "    // Get hold of the div created by the display call when the Comm\n",
       "    // socket was opened in Python.\n",
       "    var element = $(\"#\" + id);\n",
       "    var ws_proxy = comm_websocket_adapter(comm)\n",
       "\n",
       "    function ondownload(figure, format) {\n",
       "        window.open(figure.imageObj.src);\n",
       "    }\n",
       "\n",
       "    var fig = new mpl.figure(id, ws_proxy,\n",
       "                           ondownload,\n",
       "                           element.get(0));\n",
       "\n",
       "    // Call onopen now - mpl needs it, as it is assuming we've passed it a real\n",
       "    // web socket which is closed, not our websocket->open comm proxy.\n",
       "    ws_proxy.onopen();\n",
       "\n",
       "    fig.parent_element = element.get(0);\n",
       "    fig.cell_info = mpl.find_output_cell(\"<div id='\" + id + \"'></div>\");\n",
       "    if (!fig.cell_info) {\n",
       "        console.error(\"Failed to find cell for figure\", id, fig);\n",
       "        return;\n",
       "    }\n",
       "\n",
       "    var output_index = fig.cell_info[2]\n",
       "    var cell = fig.cell_info[0];\n",
       "\n",
       "};\n",
       "\n",
       "mpl.figure.prototype.handle_close = function(fig, msg) {\n",
       "    fig.root.unbind('remove')\n",
       "\n",
       "    // Update the output cell to use the data from the current canvas.\n",
       "    fig.push_to_output();\n",
       "    var dataURL = fig.canvas.toDataURL();\n",
       "    // Re-enable the keyboard manager in IPython - without this line, in FF,\n",
       "    // the notebook keyboard shortcuts fail.\n",
       "    IPython.keyboard_manager.enable()\n",
       "    $(fig.parent_element).html('<img src=\"' + dataURL + '\">');\n",
       "    fig.close_ws(fig, msg);\n",
       "}\n",
       "\n",
       "mpl.figure.prototype.close_ws = function(fig, msg){\n",
       "    fig.send_message('closing', msg);\n",
       "    // fig.ws.close()\n",
       "}\n",
       "\n",
       "mpl.figure.prototype.push_to_output = function(remove_interactive) {\n",
       "    // Turn the data on the canvas into data in the output cell.\n",
       "    var dataURL = this.canvas.toDataURL();\n",
       "    this.cell_info[1]['text/html'] = '<img src=\"' + dataURL + '\">';\n",
       "}\n",
       "\n",
       "mpl.figure.prototype.updated_canvas_event = function() {\n",
       "    // Tell IPython that the notebook contents must change.\n",
       "    IPython.notebook.set_dirty(true);\n",
       "    this.send_message(\"ack\", {});\n",
       "    var fig = this;\n",
       "    // Wait a second, then push the new image to the DOM so\n",
       "    // that it is saved nicely (might be nice to debounce this).\n",
       "    setTimeout(function () { fig.push_to_output() }, 1000);\n",
       "}\n",
       "\n",
       "mpl.figure.prototype._init_toolbar = function() {\n",
       "    var fig = this;\n",
       "\n",
       "    var nav_element = $('<div/>')\n",
       "    nav_element.attr('style', 'width: 100%');\n",
       "    this.root.append(nav_element);\n",
       "\n",
       "    // Define a callback function for later on.\n",
       "    function toolbar_event(event) {\n",
       "        return fig.toolbar_button_onclick(event['data']);\n",
       "    }\n",
       "    function toolbar_mouse_event(event) {\n",
       "        return fig.toolbar_button_onmouseover(event['data']);\n",
       "    }\n",
       "\n",
       "    for(var toolbar_ind in mpl.toolbar_items){\n",
       "        var name = mpl.toolbar_items[toolbar_ind][0];\n",
       "        var tooltip = mpl.toolbar_items[toolbar_ind][1];\n",
       "        var image = mpl.toolbar_items[toolbar_ind][2];\n",
       "        var method_name = mpl.toolbar_items[toolbar_ind][3];\n",
       "\n",
       "        if (!name) { continue; };\n",
       "\n",
       "        var button = $('<button class=\"btn btn-default\" href=\"#\" title=\"' + name + '\"><i class=\"fa ' + image + ' fa-lg\"></i></button>');\n",
       "        button.click(method_name, toolbar_event);\n",
       "        button.mouseover(tooltip, toolbar_mouse_event);\n",
       "        nav_element.append(button);\n",
       "    }\n",
       "\n",
       "    // Add the status bar.\n",
       "    var status_bar = $('<span class=\"mpl-message\" style=\"text-align:right; float: right;\"/>');\n",
       "    nav_element.append(status_bar);\n",
       "    this.message = status_bar[0];\n",
       "\n",
       "    // Add the close button to the window.\n",
       "    var buttongrp = $('<div class=\"btn-group inline pull-right\"></div>');\n",
       "    var button = $('<button class=\"btn btn-mini btn-primary\" href=\"#\" title=\"Stop Interaction\"><i class=\"fa fa-power-off icon-remove icon-large\"></i></button>');\n",
       "    button.click(function (evt) { fig.handle_close(fig, {}); } );\n",
       "    button.mouseover('Stop Interaction', toolbar_mouse_event);\n",
       "    buttongrp.append(button);\n",
       "    var titlebar = this.root.find($('.ui-dialog-titlebar'));\n",
       "    titlebar.prepend(buttongrp);\n",
       "}\n",
       "\n",
       "mpl.figure.prototype._root_extra_style = function(el){\n",
       "    var fig = this\n",
       "    el.on(\"remove\", function(){\n",
       "\tfig.close_ws(fig, {});\n",
       "    });\n",
       "}\n",
       "\n",
       "mpl.figure.prototype._canvas_extra_style = function(el){\n",
       "    // this is important to make the div 'focusable\n",
       "    el.attr('tabindex', 0)\n",
       "    // reach out to IPython and tell the keyboard manager to turn it's self\n",
       "    // off when our div gets focus\n",
       "\n",
       "    // location in version 3\n",
       "    if (IPython.notebook.keyboard_manager) {\n",
       "        IPython.notebook.keyboard_manager.register_events(el);\n",
       "    }\n",
       "    else {\n",
       "        // location in version 2\n",
       "        IPython.keyboard_manager.register_events(el);\n",
       "    }\n",
       "\n",
       "}\n",
       "\n",
       "mpl.figure.prototype._key_event_extra = function(event, name) {\n",
       "    var manager = IPython.notebook.keyboard_manager;\n",
       "    if (!manager)\n",
       "        manager = IPython.keyboard_manager;\n",
       "\n",
       "    // Check for shift+enter\n",
       "    if (event.shiftKey && event.which == 13) {\n",
       "        this.canvas_div.blur();\n",
       "        event.shiftKey = false;\n",
       "        // Send a \"J\" for go to next cell\n",
       "        event.which = 74;\n",
       "        event.keyCode = 74;\n",
       "        manager.command_mode();\n",
       "        manager.handle_keydown(event);\n",
       "    }\n",
       "}\n",
       "\n",
       "mpl.figure.prototype.handle_save = function(fig, msg) {\n",
       "    fig.ondownload(fig, null);\n",
       "}\n",
       "\n",
       "\n",
       "mpl.find_output_cell = function(html_output) {\n",
       "    // Return the cell and output element which can be found *uniquely* in the notebook.\n",
       "    // Note - this is a bit hacky, but it is done because the \"notebook_saving.Notebook\"\n",
       "    // IPython event is triggered only after the cells have been serialised, which for\n",
       "    // our purposes (turning an active figure into a static one), is too late.\n",
       "    var cells = IPython.notebook.get_cells();\n",
       "    var ncells = cells.length;\n",
       "    for (var i=0; i<ncells; i++) {\n",
       "        var cell = cells[i];\n",
       "        if (cell.cell_type === 'code'){\n",
       "            for (var j=0; j<cell.output_area.outputs.length; j++) {\n",
       "                var data = cell.output_area.outputs[j];\n",
       "                if (data.data) {\n",
       "                    // IPython >= 3 moved mimebundle to data attribute of output\n",
       "                    data = data.data;\n",
       "                }\n",
       "                if (data['text/html'] == html_output) {\n",
       "                    return [cell, data, j];\n",
       "                }\n",
       "            }\n",
       "        }\n",
       "    }\n",
       "}\n",
       "\n",
       "// Register the function which deals with the matplotlib target/channel.\n",
       "// The kernel may be null if the page has been refreshed.\n",
       "if (IPython.notebook.kernel != null) {\n",
       "    IPython.notebook.kernel.comm_manager.register_target('matplotlib', mpl.mpl_figure_comm);\n",
       "}\n"
      ],
      "text/plain": [
       "<IPython.core.display.Javascript object>"
      ]
     },
     "metadata": {},
     "output_type": "display_data"
    },
    {
     "data": {
      "text/html": [
       "<img src=\"data:image/png;base64,iVBORw0KGgoAAAANSUhEUgAAAoAAAAHgCAYAAAA10dzkAAAgAElEQVR4nO3deXhV1d328ZWDgGASAqIi4MDjPKDigFJF0CIqojigIE5URauIEkfUitaxOLT60jq14oSKPipFqgasA4pDnzqBaFuqYgAVDFMYw5Dc7x9LEOEEMuy9flnh+7mucwknJ3uvnt4h99nDWs4BAAAAAAAAAAAAAAAAAAAAAAAAAAAAAAAAAAAAAAAAAAAAAAAAAAAAAAAAAAAAAAAAAAAAAAAAAAAAAAAAAAAAAAAAAAAAAAAAAAAAAAAAAAAAAAAAAAAAAAAAAAAAAAAAAAAAAAAAAAAAAAAAAAAAAAAAAAAAAAAAAAAAAAAAAAAAAAAAAAAAAAAAAAAAAAAAAAAAALDpaOycO88597Jz7gfn3Mof//uKc26Ac25zu6EBAAAgaec452Y55/7hnPutc+4U51y3H/97k3Pugx+/frbR+AAAAJCwl5xz+2zkNfs458YEGAsAAAAiNNQ596VzboHzp5Ffdc7tu5HvKXDOPfXj98xzzj3pnGuW4hgBAADwo/+p5PlfVGMbu7ifyttmzrnLnT+FnLOB73nZOTfeOdfcOdfCOfeac+6v1dgnAAAAami+c67nOs8VOucW1XB7jZ1zg51z5c65LSt5zfbOuQrn3N5rPbfPj8+1reF+AQAAUEV9nHOlzrlbnXP5zrnnnHPFzrmDq7mdHs6XyQrn3Crn3F0beO0JzrmlWZ4vc+uXUQAAAKRgD+fcVOfcYudPxbasxbYKnHOXOX9HcWXOdM59n+X5Wc65flmez3G+nG7olDIAAIA9ReL5559Xs2bNtMcee2ifffbRV199VavtVVRUqFmzZpo8eXLWr48ZM0ZNmjRZ7/nGjRtr7Nix6z1fWloq55wGDhyowsJCFRYWqqioqFZjBACgMtb9AZGzDnBVFBYWqkWLFho7dqzKy8t11VVXqXnz5nrppZdqvM2VK1eqadOmeuGFF7J+vbi4WJlMRp999tma5yZNmqRMJqMZM2as9/rVBbC0tLTGYwIAoKqs+wMiZx3gqthnn3305Zdf/uy5F154Qc2bN6/yNu677z7Nnj1bkvTDDz9owIABat68uWbNmlXp9/Ts2VNHH3205syZo5KSEnXv3l0nnnhi1tdSAAEAIVn3B0TOOsBVsXTp0qzPT506tcrb6Nmzp1q1aqXc3Fy1bt1avXr10kcffbTm69OnT1dubq4mTpy45rn58+frjDPOULNmzVRQUKCzzjqr0oJHAQQAhGTdHxA56wDXFxRAAEBI1v0BkbMOcGV69uxZ6Q0aq02aNEk9e/YMNKINowACAEKy7g+InHWAK/PUU0+pdevWOvjggzV06FA999xzGjdunJ577jndeOONOuSQQ9S6dWs9/fTT1kOVRAEEAIRl3R8QOesAV2bhwoUqKyvTiBEj1ly/16hRI7Vq1UrHHXecHnnkEZWVlVkPcw0KIAAgJOv+gMhZB7gyeXl5a/7co0cPw5FUDQUQABCSdX9A5KwDXJkWLVpo8eLFkn5eBusqCiAAICTr/oDIWQe4Mv369VObNm3UuXNnbbbZZurcuXPWR11BAQQAhGTdHxA56wBXZuXKlXrmmWd0yy23qFGjRrrpppuyPuoKCiAAICTr/oDIWQe4Kvr37289hI2iAAIAQrLuD4icdYDrCwogACAk6/6AyFkHuL6gAAIAQrLuD4icdYDrCwogACAk6/6AyFkHuL6gAAIAQrLuD4icdYDrCwogACAk6/6AyFkHuL6gAAIAQrLuD4icdYDrCwogACAk6/6AyFkHuL6gAAIAQrLuD4icdYDrCwogACAk6/6AyFkHuL6gAAIAQrLuD4icdYDrCwogACAk6/6AyFkHuL6gAAIAQrLuD4icdYDrCwogACAk6/6AyFkHuL6gAAIAQrLuD4icdYDrCwogACAk6/6AyFkHuL6gAAIAQrLuD4icdYDrCwogACAk6/6AyFkHuL6gAAIAQrLuD4icdYDrCwogACAk6/6AyFkHuL6gAAIAQrLuD4icdYDrCwogACAk6/6AyFkHuL6gAAIAQrLuD4icdYDrCwogACAk6/6AyA0caB3h+oECCAAIybo/IHK9ellHuH6gAAIAQrLuD4jcwQdbR7h+oAACAEKy7g+I3I47Wke4fqAAAgBCsu4PiFyTJlJFhXWM40cBBACEZN0fED1p4ULrGMePAggACMm6PSByDRtK//2vdYzjRwEEAIRk3R8QubZtpYkTrWMcPwogACAk6/6AyB1wgPT889Yxjh8FEAAQknV/QOR69JD+9CfrGMePAggACMm6PyByv/qVNHSodYzjRwEEAIRk3R8QuSFDpAsvtI5x/CiAAICQrPsDInfvvdKJJ1rHOH4UQABASNb9AZF75hmpUyfrGMePAggACMm6PyByb7whtWtnHeP4UQABACFZ9wdE7vPPpaZNrWMcPwogACAk6/6AyM2ZIzknLVpkHeW4UQABACFZ9wdErrxc2mwz6csvraMcNwogACAk6/6AyElSmzbSu+9aRzluFEAAQEjW/QGRk6T995defNE6ynGjAAIAQrLuD4icJB17rHT//dZRjhsFEAAQknV/QOQkqX9/6cYbjZMcOQogACAk6/6AyEnSNddIv/61dZTjRgEEAIRk3R8QOUn6/e+lk06yjnK6hgwZovbt2ys/P1+tW7fW6aefrhkzZmzwe/r376+GDRsqLy9Pubm5ysvL05AhQ7K+lgIIAAjJuj8gcpL09NPSL35hHeV0XXfddfr444+1cuVKlZaWql+/ftpvv/02+D39+/fXWWedVaXtUwABACFZ9wdETpJef13aaSfrKIf16aefKpPJaMGCBZW+hgIIAKirrPsDIidJU6ZIW2xhHeWwhg0bpnYbWQS5f//+at68uVq2bKmdd95Zv/71r1VSUpL1tRRAAEBI1v0BkZOkkhK/HNzixdZxDuO1115Tbm6uxo8fv8HXffzxx5o9e7Yk6auvvtJRRx2lTp06ZX0tBRAAEJJ1f0DkJKm8XGrQQPrqK+s4p2/s2LEqKCjQmDFjqv2933zzjXJycvTf//53va+tLoADBw5UYWGhCgsLVVRUlMSQAQBYj3V/QORWB2nbbaX33rOMcvpGjhypgoICvfbaazX6/uLiYmUyGU2dOnW9r3EEEAAQknV/QORWB6lDB2n0aMsop2v48OFq3ry5Jk6cWKXXl5WV6fnnn19T6KZNm6ZjjjlGHTt2zPp6CiAAICTr/oDIrQ7SMcdIDz5oGeV05eTkqFGjRsrLy/vZvH5rF8Lc3Fw9/fTTkqSlS5eqc+fO2nLLLZWbm6sdd9xRF1100ZprAtdFAQQAhGTdHxC51UE65xzpppsMkxw5CiAAICTr/oDIrQ7S1VdLF11kGeW4UQABACFZ9wdEbnWQ7rlHOvlkyyjHjQIIAAjJuj8gcquDNHKkdOihllGOGwUQABCSdX9A5FYH6e9/l3be2TLKcaMAAgBCsu4PiNzqIH32mZSXZxnluFEAAQAhWfcHRG51kH74wS8Ht2SJZZzjRQEEAIRk3R8QudVBWr0c3NdfW8Y5XhRAAEBI1v0BkVs7TK1aSe+/bxXluFEAAQAhWfcHRG7tMO23n/TXv1pFOW4UQABASNb9AZFbO0xHHy099JBVlONGAQQAhGTdHxC5tcN09tnSzTdbRTluFEAAQEjW/QGRWztMV10lXXyxVZTjRgEEAIRk3R8QubXDdPfd0imnWEU5bhRAAEBI1v0BkVs7TE8+KR12mFWU40YBBACEZN0fELm1w/Taa9Iuu1hFOW4UQABASNb9AZFbO0yTJ0v5+VZRjhsFEAAQknV/QOTWDtPs2X45uKVLreIcLwogACAk6/6AyK0dplWrpExGmjbNKM0RowACAEKy7g+I3LqB2mYb6YMPLKIcNwogACAk6/6AyK0bqH32kcaMsYhy3CiAAICQrPsDIrduoLp3lx5+2CLKcaMAAgBCsu4PiNy6gTrrLOmWWyyiHDcKIAAgJOv+gMitG6grr5QuucQiynGjAAIAQrLuD4jcuoG66y6pd2+LKMeNAggACMm6PyBy6wbqiSekzp0tohw3CiAAICTr/oDIrRuoceOkXXe1iHLcKIAAgJCs+wMit26gJk2SmjWziHLcKIAAgJCs+wMit26gZs3yy8EtW2YR53hRAAEAIVn3B0Ru3UCtXg6uuNgizvGiAAIAQrLuD4hctlBtvbX0j3+EjnLcKIAAgJCs+wMily1U7dtLL70UOspxowACAEKy7g+IXLZQdesm/fnPoaMcNwogACAk6/6AyGUL1ZlnSrfeGjrKcaMAAgBCsu4PiFy2UF1xhTRoUOgox40CCAAIybo/IHLZQnXnndJpp4WOctwogACAkKz7AyKXLVSPPy4dfnjoKMeNAggACMm6PyBy2UJVVCTttlvoKMeNAggACMm6PyBy2UL1ySdSQUHoKMeNAggACMm6PyBy2UL1/fd+ObiystBxjhcFEAAQknV/QOSyhWrlSiknR5o+PXSc40UBBACEZN0fELnKgrXVVtI//xkyynGjAAIAQrLuD4hcZcHae29p7NiQUY4bBRAAEJJ1f0DkKgvWL38p/eUvIaMcNwogACAk6/6AyFUWrDPOkG67LWSU40YBBACEZN0fELnKgnX55dKll4aMctwogACAkKz7AyJXWbCGDZP69AkZ5bhRAAEAIVn3B0SusmA99pjUtWvIKMeNAggACMm6PyBylQXr1Vel3XcPGeW4UQABACFZ9wdErrJgffyx1Lx5yCjHjQIIAAjJuj8gcpUF67vv/HJwy5eHjHO8KIAAgJCs+wMiV1mwVi8HN2NGyDjHiwIIAAjJuj8gchsKV8uW0ocfhopy3CiAAICQrPsDIrehcO21l/Tyy6GiHDcKIAAgJOv+gMhtKFxHHik98kioKMeNAggACMm6PyByGwrX6adLt98eKsrpGjJkiNq3b6/8/Hy1bt1ap59+umZs5ALH5cuX6+KLL1bLli2Vn5+v448/vtLvoQACAEKy7g+I3IbCVVgoXXZZqCin67rrrtPHH3+slStXqrS0VP369dN+++23we+5+OKLte+++2rGjBlatGiRzj77bHXo0CHraymAAICQrPsDIrehcP3ud1LfvqGiHNann36qTCajBQsWZP16WVmZmjZtqrFjx655bs6cOWrYsKEmTpy43uspgACAkKz7AyK3oXA9+qh0xBGBkhzYsGHD1K5du0q/PmnSJGUyGc2aNetnz++6664aPnz4eq+nAAIAQrLuD4jchsL1yivSnnuGinI4r732mnJzczV+/PhKX/POO+8ok8morKzsZ88ffPDBuu2229Z7PQUQABCSdX9A5DYUro8+klq0CBXlMMaOHauCggKNGTNmg6+r6RHAgQMHqrCwUIWFhSoqKkp07AAArGbdHxC5DYVr5ky/HNyKFaHinK6RI0eqoKBAr7322kZfm+0awJKSEjVq1IhrAAEA5qz7AyK3oXCtWOEL4MyZoeKcnuHDh6t58+ZZy1tlBg4cqA4dOmj69OlauHChzj77bO2///5ZX0sBBACEZN0fELmNBWzLLf2p4Njl5OSoUaNGysvLU15ennJzc5WXl/ezQpibm6unn356zd+XL1+uSy65RFtuuaXy8vLUs2dPzaykDVMAAQAhWfcHRG5jAdtzT38zCDaMAggACMm6PyByGwvYEUf46WCwYRRAAEBI1v0BkdtYwPr2le64I0SU40YBBACEZN0fELmNBeyyy6TBg0NEOW4UQABASNb9AZHbWMDuuEM6/fQQUY4bBRAAEJJ1f0DkNhawESOkI48MEeW4UQABACFZ9wdEbmMBe/llaa+9QkQ5bhRAAEBI1v0BkdtYwD78UGrZMkSU40YBBACEZN0fELmNBWzGDKlpU2n58hBxjhcFEAAQknV/QOQ2FrAVK6RMRpo+PUSc40UBBACEZN0fELmqhKxtW6kaS+hukiiAAICQrPsDIleVkP3iF9JaS+QiCwogACAk6/6AyFUlZKwGsnEUQABASNb9AZGrSsiuuUa66KK0oxw3CiAAICTr/oDIVSVkf/qTdNxxaUc5bhRAAEBI1v0BkatKyMaOldq3TzvKcaMAAgBCsu4PiFxVQjZpktSsWdpRjhsFEAAQknV/QOSqErL58yXnpAUL0o5zvCiAAICQrPsDIlfVoOXnS5MnpxnluFEAAQAhWfcHRK6qQdt7b+lvf0szynGjAAIAQrLuD4hcVYPWo4d0//1pRjluFEAAQEjW/QGRq2rQfv1rPx8gsqMAAgBCsu4PiFxVg3bHHdLpp6cZ5bhRAAEAIVn3B0SuqkF76inp0EPTjHLcKIAAgJCs+wMiV9WgvfOOtN12aUY5bhRAAEBI1v0Bkatq0IqLpUxGWrkyzTjHiwIIAAjJuj8gclUN2sqVUoMG0jffpBnneFEAAQAhWfcHRK46Ydt+e+ntt9OKctwogACAkKz7AyJXnbAddpg0cmRaUY4bBRAAEJJ1f0DkqhO2fv2k229PK8pxowACAEKy7g+IXHXCNmSInxAa66MAAgBCsu4PiFx1wnb//dKxx6YV5bhRAAEAIVn3B0SuOmF7+WVpr73SinLcKIAAgJCs+wMiV52wffaZlJsrVVSkFed4UQABACFZ9wdErjphKy2VnJPmz08rzvGiAAIAQrLuD4hcdQPXrJk0aVIaUY4bBRAAEJJ1f0Dkqhu49u2ll15KI8pxowACAEKy7g+IXHUD17On9Mc/phHluFEAAQAhWfcHRK66gbv4Yunqq9OIctwogACAkKz7AyJX3cD97ndS375pRDluFEAAQEjW/QGRq27gnn5a6tQpjSjHjQIIAAjJuj8gctUN3LvvSm3apBHluFEAAQAhWfcHRK66gZsxQ8rJkVasSCPO8aIAAgBCsu4PiFx1A7dqldSggTRtWgppjhgFEAAQknV/QORqEroddpAmTEg4yZGjAAIAQrLuD4hcTULXubP0xBNJRzluFEAAQEjW/QGRq0nozjxTuvXWpKMcNwogACAk6/6AyNUkdNddJ11wQdJRjhsFEAAQknV/QORqEroHH5SOOSbpKMeNAggACMm6PyByNQndK69Ie+6ZdJTjRgEEAIRk3R8QuZqEbsoUaYstpIqKpOMcLwogACAk6/6AyNUkdAsXSs5Jc+cmHed4UQABACFZ9wdErqbBa95c+uSTJKMcNwogACAk6/6AyNU0ePvuK40Zk2SU40YBBACEZN0fELmaBu/446Xhw5OMctwogACAkKz7AyJX0+Bdcol05ZVJRjldo0aNUufOnZWfn69MJqPy8vINvr5Lly5q1KiR8vLylJubq7y8PD3wwAOVvp4CCAAIybo/IHI1Dd6dd0qnnZZklNM1fvx4jRo1SiNGjKhSAezatauGDh1a5e1TAAEAIVn3B0SupsEbNUo65JAkoxzGW2+9VeUCeMMNN1R5uxRAAEBI1v0Bkatp8N57T2rdOskoh1GdAtiyZUu1aNFCe+yxh4YMGaLFixdX+noKIAAgJOv+gMjVNHgzZ0o5OdLy5UnGOX1VLYDvv/++5s+fL0maPHmyOnTooL59+1b6egogACAk6/6AyNU0eOXlUsOG0ldfJRnn9FW1AGb7voYNG6qsrCzr11cXwIEDB6qwsFCFhYUqKipKYsgAAKzHuj8gcrUJX7t20ptvJpTkQGpaACdMmKCGDRtq2bJlWb/OEUAAQEjW/QGRq034unSRHn88oSSnrLy8XGVlZRo3bpwymYyWLFmisrIyVWRZ0Hj27NkqKirSkiVLJElTpkzRgQceqN69e1e6fQogACAk6/6AyNUmfGedJd1yS1JRTtdjjz2mnJwcZTIZZTKZNX+eMGGCpk+frtzcXE2cOFGSVFxcrI4dO6qgoEB5eXnaZZdduAkEAFCnWPcHRK424bv+eun885OKctwogACAkKz7AyJXm/A9/LDUvXtSUY4bBRAAEJJ1f0DkahO+oiJp992TinLcKIAAgJCs+wMiV5vwffGF1LSplOU+ik0OBRAAEJJ1f0DkahO+RYsk56Q5c5KKc7wogACAkKz7AyJX2wC2aCF99FESUY4bBRAAEJJ1f0DkahvADh2k0aOTiHLcKIAAgJCs+wMiV9sA9uol3XdfElGOGwUQABCSdX9A5GobwEGDpCuuSCLKcaMAAgBCsu4PiFxtA3jXXdKppyYR5bhRAAEAIVn3B0SutgF87jmpY8ckohw3CiAAICTr/oDI1TaAH3wgtWqVRJTjRgEEAIRk3R8QudoG8Lvv/FyAZWVJxDleFEAAQEjW/QGRq20Ay8ulhg2lL79MIs7xogACAEKy7g+IXBIhPP546Y03kthSvCiAAICQrPsDIpdECLt3lx54IIktxYsCCAAIybo/IHJJhHDQIGnw4CS2FC8KIAAgJOv+gMglEcLhw6Vjj01iS/GiAAIAQrLuD4hcEiEcP17aaackthQvCiAAICTr/oDIJRHC4mIpk9m0p4KhAAIAQrLuD4hcEiEsL5eaNJG++CKJrcWJAggACMm6PyBySQVxn32k0aOT2lp8KIAAgJCs+wMil1QQe/eWhg1LamvxoQACAEKy7g+IXFJBvP566dxzk9pafCiAAICQrPsDIpdUEB9/XDrssKS2Fh8KIAAgJOv+gMglFcQPPpC22iqprcWHAggACMm6PyBySQVx3jzJOf/fTREFEAAQknV/QOSSDONWW/kjgZsiCiAAICTr/oDIJRnGww7z1wJuiiiAAICQrPsDIpdkGM89198NvCmiAAIAQrLuD4hckmEcNszPB7gpogACAEKy7g+IXJJhHD3arwiyKaIAAgBCsu4PiFySYfziC78mcHl5kluNAwUQABCSdX9A5JIM4/LlUiYjffNNkluNAwUQABCSdX9A5JIO5E47SePHJ73Vuo8CCAAIybo/IHJJB7JHD2n48KS3WvdRAAEAIVn3B0Qu6UAOHiwNGpT0Vus+CiAAICTr/oDIJR3IBx6QundPeqt1HwUQABCSdX9A5JIO5OuvSzvumPRW6z4KIAAgJOv+gMglHciZM6WcHGnp0qS3XLdRAAEAIVn3B0Qu6UBWVEhbbCFNnpz0lus2CiAAICTr/oDIpRHKDh2k559PY8t1FwUQABCSdX9A5NIIZd++0m23pbHluosCCAAIybo/IHJphHLoUOmcc9LYct1FAQQAhGTdHxC5NEL51FPSIYekseW6iwIIAAjJuj8gcmmE8p//lFq0SGPLdRcFEAAQknV/QOTSCGVpqeScVFKSxtbrJgogACAk6/6AyKUVzG23ld59N62t1z0UQABASNb9AZFLK5hdukgjRqS19bqHAggACMm6PyByaQXzgguka65Ja+t1DwUQABCSdX9A5NIK5t13SyedlNbW6x4KIAAgJOv+gMilFcyxY6U990xr63UPBRAAEJJ1f0Dk0grmf/4jNWokrVqV1h7qFgogACAk6/6AyKUVzBUrpM02k776Kq091C0UQABASNb9AZFLM5y77Sa9+mqae6g7KIAAgJCs+wMil2Y4jz9euvfeNPdQdaNGjVLnzp2Vn5+vTCaj8vLyDb5+/vz56tevn5o1a6bmzZvrzDPP1IIFCyp9PQUQABCSdX9A5NIM55VXShddlOYeqm78+PEaNWqURowYUaUC2KNHDx111FGaN2+e5s6dq27duqlXr16Vvp4CCAAIybo/IHJphvPhh6Vf/jLNPVTfW2+9tdECWFxcrJycHH322Wdrnps0aZJycnI0Y8aMrN9DAQQAhGTdHxC5NMM5YYLUtm2ae6i+qhTAMWPGqEmTJus937hxY40dOzbr91AAAQAhWfcHRC7NcH7/veSctHhxmnupnqoUwCeffFKtWrVa7/ltttlGTz31VNbvoQACAEKy7g+IXJrhrKiQ8vOlTz5Jcy/Vk/YRwIEDB6qwsFCFhYUqKipKbNwAAKzNuj8gcmkH9KCDpGefTXsvVVfVawAzmcx61wBmMhmuAQQA1AnW/QGRSzug550nXX992nvZuPLycpWVlWncuHHKZDJasmSJysrKVFFRkfX1PXv21NFHH605c+aopKRE3bt314knnljp9imAAICQrPsDIpd2QO+7T+rRI+29bNxjjz2mnJwcZTIZZTKZNX+eMGGCpk+frtzcXE2cOHHN6+fPn68zzjhDzZo1U0FBgc4666wNljsKIAAgJOv+gMilHdB33pGy3E9R71AAAQAhWfcHRC7tgC5cKOXk+DuC6zMKIAAgJOv+gMiFCOmuu0qvvBJiT3YogACAkKz7AyIXIqR9+ki33hpiT3YogACAkKz7AyIXIqTDhkmnnBJiT3YogACAkKz7AyIXIqTjx0vt2oXYkx0KIAAgJOv+gMiFCGlJiV8Sbt68EHuzQQEEAIRk3R8QuVBB3W476Y03Qu0tPAogACAk6/6AyIUK6gknSPfcE2pv4VEAAQAhWfcHRC5UUG+6STrjjFB7C48CCAAIybo/IHKhgjpmjLTnnqH2Fh4FEAAQknV/QORCBXXGDCmTkZYsCbXHsCiAAICQrPsDIhcqqBUVUsuW0vvvh9pjWBRAAEBI1v0BkQsZ1u7dpfvvD7nHcCiAAICQrPsDIhcyrNdcI51/fsg9hkMBBACEZN0fELmQYX32WemAA0LuMRwKIAAgJOv+gMiFDOvUqVKjRtKKFSH3GgYFEAAQknV/QORChrW8XMrLkz79NORew6AAAgBCsu4PiFzowHbuLI0YEXqv6aMAAgBCsu4PiFzowF52mTRoUOi9po8CCAAIybo/IHKhA/vYY9Khh4bea/oogACAkKz7AyIXOrCTJ0u5uf56wPqEAggACMm6PyByoQO7YoXUuLH0n/+E3nO6KIAAgJCs+wMiZxHagw6SnnnGYs/poQACAEKy7g+InEVoL7hAuvpqiz2nhwIIAAjJuj8gchahffBBqVs3iz2nhwIIAAjJuj8gchah/cc/pC23lCoqLPGDIm0AABsgSURBVPaeDgogACAk6/6AyFmEdulSqUEDqbjYYu/poAACAEKy7g+InFVw995b+utfrfaePAogACAk6/6AyFkF96yzpKFDrfaePAogACAk6/6AyFkF9w9/kI4/3mrvyaMAAgBCsu4PiJxVcN96S2rb1mrvyaMAAgBCsu4PiJxVcBcskJyTfvjBagTJogACAEKy7g+InGV4d9pJGjfOcgTJoQACAEKy7g+InGV4Tz1VuuMOyxEkhwIIAAjJuj8gcpbhvf126bTTLEeQHAogACAk6/6AyFmGt6hI2nVXyxEkhwIIAAjJuj8gcpbhnTNHatJEKimxHEUyKIAAgJCs+wMiZx3gPfeURo+2HkXtUQABACFZ9wdEzjrAF14oXX659ShqjwIIAAjJuj8gctYBHjlSOugg61HUHgUQABCSdX9A5KwDXFwsNWggLVpkPZLaoQACAEKy7g+InHWAJWm77aTXXrMeRe1QAAEAIVn3B0TOOsCS1K+fNHSo9ShqhwIIAAjJuj8gctYBlqQHHpCOOMJ6FLVDAQQAhGTdHxA56wBL0pQpfj7A5cutR1JzFEAAQEjW/QGRsw6wJJWXSy1aSO+/bz2SmqMAAgBCsu4PiJx1gFc74QTpzjutR1FzFEAAQEjW/QGRsw7wanfd5UtgrCiAAICQrPsDImcd4NU++MCfBi4vtx5JzVAAAQAhWfcHRM46wKutWCE1bepvCIkRBRAAEJJ1f0DkrAO8tiOP9FPCxIgCCAAIybo/IHLWAV7b0KF+UugYUQABACFZ9wdEzjrAa5swQerSRaqosB5J9VEAAQAhWfcHRM46wGtbtsxPCB3jdYAUQCSpokJasED64gu/Tvbzz0t/+pP0u99J118vXXqpdO650qmnSsccI/XuLXXsKB10kHTAAdL++0v77Sftu6/Uvr20995Sp07SwQf7D1lHHy316iX16SNddJE0aJB0443S//t/0siR0iuv+Buzpk6V5s6VVq2yfkcArMu6PyBy1gFe17HHSvfck972hw4dqtatWys3N1ddunTRlA20zS5duqhRo0bKy8tTbm6u8vLy9EAlFylSAFEdy5dLn38u/e1v0n33SVdfLZ1xhtS1q7TrrtIWW0jO+Q9EO+8s9e8vHXec1LevNGCAdPnlvrDdfbf00EPSqFHS//6vL4ovviiNHi399a/SSy9JY8f6/bz0kn/Nk09Kf/6zL3t33indcYd0xRXSr37lS2HnztKee0qtWkkNG/px5ORIzZtLO+0knXaaL5yFhf5n9bnnpPfek2bMkFautH5ngU2HdX9A5KwDvK4//MEfnUjDnXfeqe23316ff/65ysrKdO2116pNmzZasmRJ1td37dpVQ4cOrdK2KYDIZtky6cMPpUcf9SXvhBOkXXaRGjTwd72fcoovXRddJN16q3/duHH+KPj8+faXQ1RUSIsXS8XF0iefSK+/7gvf3XdLl13mx9+xo9S6tS+JmYzUpo0vqv36+et6n3jCr/JTUmL/vweoT6z7AyJnHeB1ffGFtPnm0tKlyW+7Xbt2Gj58+Jq/r1q1SltttZVGjhyZ9fVdu3bVDTfcUKVtUwCxYoUvSQ8/LF1wgdShg7TZZtJRR0mHHy5deKH/gFNUJH3zTbxzXlZmxQpfFN99V3rhBV9o+/eXDjtM2mYbfySxWTPpwAN9QfzNb6Rnn5U+/jidn3egvrPuD4icdYDXVVEhtW0rjR+f7HZLS0uVk5OjDz744GfPd+/eXVdccUXW7+natatatmypFi1aaI899tCQIUO0ePHiSrfvKICblMWLfU6vvdYXnc03l/Ly/Gncq67yR8qmTeOo12oLF/qC/Nxz0u23+2sYjz7al8JMxp/q7tVLuu466amnpE8/9UdQAWRn3R8QOesAZ3PuudKVVya7zRkzZignJ0f//ve/f/Z8nz59NGDAgKzf8/7772v+/PmSpMmTJ6tDhw7q27dv1tdSAOu/5cult9/2N2Eceqi/Pm777aVzzvHX1f3rX/XvqF4IFRXSzJn+1Pfvfy+dd550yCG+TGcy0m67+ZtVbr1Vevll6dtvKdWARAFELVkHOJtnn/V3LiapJkcA1/XWW2+pYcOGKisry7p955wGDhyowsJCFRYWqqioKJGxw87s2f66vN69fSHp3Fk66yxpxAjp66+tR1e/VVT4U8qvvurvfu7b15fBnBxpq62k7t39dZVPPy395z+Ub2x6rPsDImcd4GzmzPGf/L/7LtntZrsGcOutt670GsB1TZgwQQ0bNtSyLOelOAJYf0yd6u+QPfhgf7NGx47SzTdLH33Ekae6YPFif1PJ/ff7ay0POshfb5mfLx1xhC+FnH7HpsC6PyBy1gGuTMeO0mOPJbvNu+66SzvssIOmTJmipUuX6rrrrlPbtm2z3gU8e/ZsFRUVrfnalClTdOCBB6p3795Zt00BjNu0adKwYX7+vEaNpJNO8kf5Zs2yHhmqorIbcFq29PMk3nCDnwaH/z9Rn1j3B0TOOsCV+c1v0lkW7sYbb1SrVq20xRZb/GwewOnTpys3N1cTJ06UJBUXF6tjx44qKChQXl6edtllF24CqWdKSqRHHvHXm222mb8hYcQIad4865EhCUuX+smshw+Xzj7bT4CdkyPtuKM/nXzvvf7rWa7oAKJg3R8QOesAV+btt/11PrFc10MBjMOqVX4allNP9Uf6Tj5ZevBBXwZR/y1Y4FdWueUWP7H2llv6HHTpIg0e7CfKTvrSEyAt1v0BkbMOcGVWrPAX3X/0kfVIqoYCWLcVF/tJibfbzq9wcc01/sYBbNoqKqT//ld65hk/Gfe++/rrj3fc0Z+B+OMf/allVjhBXWTdHxA56wBvyEUX+WWyYkABrHsqKqSJE/0dvC1a+Ov6xozhlzk2rLTUHyW86SZ/p3F+vr+W8Kij/HN//7u0aJH1KAEKIGrJOsAbMmKEv8MvBhTAumP5cmnkSL/iRLNmfp3badOsR4VYrVolTZrk7zru18/P/diggc/X4MF+/WVuLoEF6/6AyFkHeENKSvzF+dOnW49k4yiA9kpK/GTB227rV5UYPtyvPgEkrbjYzz948cV+ztKuXf0az+ed52cv+PprpqBB+qz7AyJnHeCNOeIIPydbXUcBtDNzpnTppf6X8C9/KY0dG8/NQ6gf5s2T/vY3f21pp07+g2ubNtLpp/sjh599RiaRPOv+gMhZB3hjhg/3v9jrOgpgeN98468T3Xxzf53fxx9bjwjwliyR3njDXzP4y19KTZr4icV79fLL3X34oT+1DNSGdX9A5KwDvDEzZvhP03V9mg4KYDhffSWdf77UuLE/wvLjVI5AnbVihfTee36y8R49/I0l+fnSscf6Ze7ee8+/BqgO6/6AyFkHuCo6dvQT9tZlFMD0zZwpDRwoFRT49Xj/9S/rEQE1s2qVn+LqD3+QTjzR36XetKnP9c03SxMmSFlWnAR+xro/IHLWAa6KO+6Qeva0HsWGUQDTM3++dO21/hdknz5+rV6gPikv99cJPvqodNpp0jbb+CPcXbr4+Stff92fVgbWZt0fEDnrAFfFf/7jZ+uvy3d0UgCTV1bmr5dq0cLfDPR//2c9IiCMigrp3/+WHnrITz3Tpo3UsKH/AHTttX41G+YihHV/QOSsA1xVe+4pjRplPYrKUQCTU14uPfmktMMO0j77SK++ypQa2LRVVPhrX59+WjrnHL9SSYMG/vKYq67ydyAvWGA9SoRm3R8QOesAV9X11/tPv3UVBTAZEyb4FRe23156/HHulAQqU1wsPfGEvyFql138Enb77+8L4ejR0pw51iNE2qz7AyJnHeCq+ugjf9fc0qXWI8mOAlg7337rT3Xl5vr1V7kAHqieb7/1axoPGeLPmOTkSHvv7W+cevZZ6fvvrUeIpFn3B0TOOsBVVVHhl4X73/+1Hkl2FMCaWbFCuuceKS9P6tvX3+kLoPZmz/bL1F16qbTvvr4Q7rqrP2L4zDP+CCLiZt0fEDnrAFfHLbdIxx1nPYrsKIDV9+ab0l57SXvs4SfNBZCeefOkl16SrrxSOvNMfw3hDjv4qWf+/Gd/sx3X2sbFuj8gctYBro7iYn8n3HffWY9kfRTAqvv2Wz+Bc26udPfdTIALWFi0SBo/XvrNb6TDD/fTzmyzjXTqqdJf/iJ9+inX4NZ11v0BkbMOcHV16ybddZf1KNZHAdy4lSv90n55eb4AcroXqDuWLZPeeUe67Tbp7LP9z2mzZn7lkttv918rK7MeJdZm3R8QOesAV9fIkf60YV07VUEB3LBPPvF3KJ5wgj/1C6BuW7nS33x3773SKadIW2/tjxL+6lfSdddJr7ziJ2mHHev+gMhZB7i6lizxn0z/+U/rkfwcBTC7Zcv8L4smTaQbbuAIAhCrigp/neDIkVL//tLOO/sbS9q3ly66yD//zTd178N5fWbdHxA56wDXxPnn+6kN6hIK4PomTpR220064ABp0iTr0QBI2vffSy+8IBUW+lkaNttMatvWz9k6fDjXEabNuj8gctYBromJE6XmzevWXHEUwJ8sWiQNGuTX7r3zTn8qCUD9t3ixv6P/5pul7t2lAw/0N3t16+bXNC4qYsWSJFn3B0TOOsA1UVHhTz8895z1SH5CAfSKivwqHocfLk2daj0aAJZWrfJH/x94wE83s9NOP01QfcEFfrWfqVM5bVxT1v0BkbMOcE3dequ/O62u2NQL4MKF0oAB0pFH+n/sy8utRwSgLvr+e+nFF/18hL/4hdS1q7Tlln6O11tvlf7+d//vCTbOuj8gctYBrqniYn+kacYM65F4m3IBfPttqV07/w/5tGnWowEQk7Iy6f33pT/8QTrtNP/veibjby654ALp0Uelf/2LD5XZWPcHRM46wLVx/PHS9ddbj8LbFAvgsmX+U3zTpn6qCP6BBpCEb7/1N5esPkq47bZ+TsJu3fy/+S+9JM2aZT1Ke9b9AZGzDnBt/P3v/tTB0qXWI9n0CuBHH/n5GA86yH86B4C0rFjh/825/37pnHOk3XeXnPNL2Z12mvTgg/5MxOLF1iMNy7o/IHLWAa6Nigppn32khx6yHsmmUwBXrvR3+DVp4v/LHb4ALMyf75eyu+UWPw9hq1Y/nTo+91x/LfKHH0rLl1uPND3W/QGRsw5wbY0YIe2xh/1dZJtCAZw61c/vtffe/tM4ANQVFRX+mvAXX5SuvdafLi4o8KuXnHaadPHF0iOP+LkJ68v649b9AZGzDnBtLVvmlyh69VXbcdTnAlhR4ReHz82VBg+uW/MvAkBlysv9B9fnn5cuv9xPT5WbK22+uXTwwX5BgREj/FQ1MZZC6/6AyFkHOAk33eQnHbVUXwvgnDnSSSf5i7DHjbMeDQDUTnm5v2555Ej/gfboo30pbNzYX9N84YX+sqL/+7+6/2HXuj8gctYBTsLs2dKuu9ouN1YfC+D48b74nXiiVFJiPRoASEd5uV/n+JlnpKuv9qePW7TwS9v17Sudfbb0+9/7VU7mzrUe7U+s+wMiZx3gpFx8sdS7t93+61MBXLbMr+2Zmyv9+c/211cCQGgVFdI33/gpZ268UerVy9917Jyfq/CEE6QbbvDT1Xz1lc00WNb9AZELH9l0zJzp70z95BOb/deXAvjZZ/4uugMP9J+IAQA/mTdPevNNP3H1OedI++7rz5Tk5kqdOvlTyH/6k/TOO+mve2zdHxC5dOMZ1uDB/lOZhdgLYEWFP9rXtKmfaDXGC6IBwMLy5dLkyf66wquvlo45Rmrd2h8t7N7dL3N3zTX+659+6lc/SYJ1f0Dkkolh3TBrli8w//xn+H3HXAC//97/g7XddtLEidajAYD6oaTEXzd4331+rfROnaS8PKlBAz99WZ8+0m9/6+9S/te/qv/B27o/IHLpxN7OVVdJxx4bfr+xFsCxY6WttpJOP91PrAoASM/qawv/9jfpnnukM8+UOnTwU9M0bOjnWe3TR7r9dum556QpUyqfzNq6PyByYaOfvpISqXNnacKEsPuNrQAuWeJvnMnPl558khs9AMDSqlXSl19KY8ZId9whDRok7b+/P6vVoIGf6aJXL2nIEOnxx/00Ndb9AZGzDn0abr9d2m8//wMVSkwF8JNP/OmHTp2kr7+2Hg0AoDLl5f6I4auv+qloBgyQDjvM33hi3R8QOetwp2HZMul//kd6+OFw+4yhAJaX+2tRmjb1k2ezji8AxMu6PyBy1gFOy+jRfs6mefPC7K+uF8DiYumII/z1ke++az0aAEBtWfcHRM46wGmpqPALgA8YEGZ/dbUAVlRITzwhNWsmnX++tHCh9YgAAEmw7g+InHWA0zRtmp+c8803099XXSyAJSXSKadIW2/tZ7MHANQf1v0BkbMOcNruvddPDr1oUbr7qWsF8JVXpFat/Dq+P/xgPRoAQNKs+wMiZx3gtK1aJR1+ePqngutKAVy4ULr2Wj/Z6IgRTO8CAPWVdX9A5KwDHEJxsb8G7oUX0ttHXSiARUV+kfLevZneBQDqO+v+gMhZBziU0aP9UmdffpnO9i0L4Ny5flHy/HzpoYf8dC8AgPrNuj8gctYBDumyy6T27aXFi5PftlUBfPFFf61fjx7S9OlBdw0AMGTdHxA56wCHtGKFP1J22mnJrxISugB++63/39GiBUu5AcCmyLo/IHLWAQ5t7ly/DNqAAcmWplAFcPly6e67/U0egwZJs2alujsAQB1l3R8QOesAW5g+XWrbVvrNb5LbZogCWFQk7babtNde0uuvp7YbAEAErPsDImcdYCtffOGXRbv55mSOBKZZAL/80s9lWFAgDR/OGr4AAAogask6wJY++0zaZhtfAmt752waBbC01M/p16SJdOGFfmUPAAAkCiBqyTrA1v77X2n33f2KGQsW1Hw7SRbA0lLpttukNm2k44+XPv641psEANQz1v0BkbMOcF0wd6503nnSLrtI//hHzbaRRAGcN0+68UZ/qveww6Rx47i7FwCQnXV/QOSsAxza0KFD1bp1a+Xm5qpLly6aMmWKJD8tzO9+50+3DhsmlZVJ8+fPV79+/dSsWTM1b95cZ555phZUcpiwNgXwu+9+Wr7tyCOlN9+k+AEANsy6PyByRUVF1hkO5s4779T222+vzz//XGVlZbr22mvVpk0bLVmyZM1rPvpI6tlTatdO6tChh4466ijNmzdPc+fOVbdu3dSrV6+s265uASwv93f19u7tS2efPtK77ybyPzN6m1Im08Z7mRzey2TwPibHOXe0dYdAxAoLC60zHEy7du00fPjwNX9ftWqVttpqK40cOfJnr1u1SrrrrmI5l6O99vpMTzzhVw+ZNGmScnJyNGPGjPW2XZUCuGqV9M470pVXSkcc4W9AGTLEX4eIn2xKmUwb72VyeC+TwfuYHOfc7607BCK2qfwwlpaWKicnRx988MHPnu/evbuuuOKK9V4/ZswYNWnSRA8+6FfcyM2VBg6UGjZsrBEjxq53ijZbAVyxwh9RvP9+6YorpJYt/aN/f+nVV/3Xsb5NJZMh8F4mh/cyGbyPyXEUQNRCzsCBA1VaWlrvH1988YVycnL04Ycf/uz5k08+Weecc856r3/44Ye1zTbbqLS0VAsWlGrChFJddVWpNt98a+Xk/EUHHliq9u1LdeyxpRo8uFT9+s2Qc04DBsxQ586lateuVJ07lyo/v1Rdu5bqpptK9eqrpZo3z/69qOuPTSWTvJdxPXgveR/r2sM590fnXI5xj0Ck8p1z4sGDBw8ePHhE+ch3QA3kOB+eTeUxzTl35Vp/L3DO/eCcOz/La/d0zpU75w5e67lOPz63eyXbb1MH/jfy4MGDB49N58ERQKAKrnTOfeOc28s518Q5d5tzboZzrmklrx/rnCtyzm3pnGvpnBvnnBud+igBAACQqJucc9875xY7595yvgw659x2zrlFzrlD13ptgXNupHNugXNuvnPuCec/cQEAAAAAAADx2cc594rzR8cqnHNH2g4nKr91zn3r/BHEt9xPRxVRPX2cc28750qdv9YyYzucaN3hnJvs/Pv4rXPuaedcW9MRxWmoc+5L588A/OCce9U5t6/piOqP0Y7fMzV1o3NulXNuofO/cxY6554yHRGit7tz7jzn3P7O//LlB7NqrnLOFTt/00hj59ztzrmZrvLrClG5o5wvgb9yFMDauM0518E5t5nzlyw85Zz7xHREcdrFOdfsxz9v5py73Dk3y3HRfW2d7fy11fyeqZkbnf+gDKSCT2ZV97Vz7pK1/t7A+aMFZ9gMp17o4iiASdrX+fez2cZeiEo1ds4Ndv593NJ4LDFr6/yNeG0dv2dqigKIVPGDWTX5zr9XB6/z/Djn3N3hh1NvUACTdbXzH1RQfT2cvwGswvnTbnfZDid645w/0+Qcv2dq6kbnT/3Odn5qs6eccztaDgh116PO/6CV//jfdR9vZPkefjCrZvWn2N3WeX6Uc+7h8MOpNyiAyenm/C+Lo6wHErkC59xlzrlTrAcSsYudL4Cr8XumZvZ0ftYK55zb1vmZKr50XHaELJo651ps4JGX5Xv4wawajgCmgwKYjJ7OH706wXog9USO8zeEtLceSIT+xzn3nfupuDjH75mkNHLOLXP+wx5Qa/xgVl22awBnO64BrA0KYO2d4Xz545dCcjZzzi1xzp1sPZAIneOcK3P++uiSHx8Vzmf0QcNx1QeNnHNLHUf5UUuNnXObO/+DefSPf29gOqK6r7qri6ByGecz1935Atj0x79z12X1XOKcm+d+Pqk5qu9S59zWP/55K+cv65jnnNvGbETx2tw513qdR4Vz7lTnT6+j6k51P92ItI3zCxR87ZzbwmxEiN4O7qdrBdd+DLUcVCRuctlXF0H1nON+nsHVfz7cclARqnDOLXd+frC15wqjEFbPWOd/rhc5P5/iX52fJgvJYBqYmhnj/Fmmxc4fbHjK+VPsAAAAAAAAAAAAAAAAAAAAAAAAAAAAAAAAAAAAAAAAAAAAAAAAAAAAAAAAAAAAAAAAm5ytnXMznXOXrvXcNc65ac655iYjAgAAQOo6OecWOecOcc4d8eOf9zcdEQAAAFI30PkjgbOcc+cbjwUAAAABbOGcm+uc+8Y5l7EdCgAAAEJ4zjk33jk3yTl3l/FYAAAAkLJC54/8NXfO7eKcm++cO8lyQAAAAEjPoc65hc65A9Z67mTnS+DOJiMCAAAAAAAAAAAAAAAAAAAAAAAAAAAAAAAAAAAAAAAAAAAAAAAAAAAAAAAAAAAAAAAAAAAAAAAAAKTt/wOLrvYK0gzzUwAAAABJRU5ErkJggg==\">"
      ],
      "text/plain": [
       "<IPython.core.display.HTML object>"
      ]
     },
     "metadata": {},
     "output_type": "display_data"
    },
    {
     "data": {
      "text/plain": [
       "<sympy.plotting.plot.Plot at 0x7f58e38b07f0>"
      ]
     },
     "execution_count": 10,
     "metadata": {},
     "output_type": "execute_result"
    }
   ],
   "source": [
    "sympy.plotting.plot(f(x), (x, -1, 5))"
   ]
  },
  {
   "cell_type": "markdown",
   "metadata": {},
   "source": [
    "# 2. naloga"
   ]
  },
  {
   "cell_type": "markdown",
   "metadata": {},
   "source": [
    "*Izracunaj nedoloceni integral racionalne funkcije \n",
    "$$\\int \\frac{x}{(x-1)(x-2)}.$$*"
   ]
  },
  {
   "cell_type": "code",
   "execution_count": 14,
   "metadata": {
    "collapsed": false
   },
   "outputs": [
    {
     "data": {
      "image/png": "[encoded data removed]",
      "text/latex": [
       "$$2 \\log{\\left (x - 2 \\right )} - \\log{\\left (x - 1 \\right )}$$"
      ],
      "text/plain": [
       "2⋅log(x - 2) - log(x - 1)"
      ]
     },
     "execution_count": 14,
     "metadata": {},
     "output_type": "execute_result"
    }
   ],
   "source": [
    "f = lambda x: x/((x-1)*(x-2))\n",
    "sympy.integrate(f(x))"
   ]
  },
  {
   "cell_type": "markdown",
   "metadata": {},
   "source": [
    "*Z integracijo po delih izracunaj\n",
    "$$\\int_{0}^{\\pi}x\\cos(x)dx.$$*"
   ]
  },
  {
   "cell_type": "code",
   "execution_count": 15,
   "metadata": {
    "collapsed": false
   },
   "outputs": [
    {
     "data": {
      "image/png": "[encoded data removed]",
      "text/latex": [
       "$$x \\sin{\\left (x \\right )} + \\cos{\\left (x \\right )}$$"
      ],
      "text/plain": [
       "x⋅sin(x) + cos(x)"
      ]
     },
     "execution_count": 15,
     "metadata": {},
     "output_type": "execute_result"
    }
   ],
   "source": [
    "f = lambda x: x*sympy.cos(x)\n",
    "sympy.integrate(f(x))"
   ]
  },
  {
   "cell_type": "markdown",
   "metadata": {},
   "source": [
    "# 3. naloga"
   ]
  },
  {
   "cell_type": "markdown",
   "metadata": {},
   "source": [
    "*Resi linearno diferencialno enacbo prvega reda\n",
    "$$ y' - \\frac{y}{x} = 2x^2.$$*"
   ]
  },
  {
   "cell_type": "code",
   "execution_count": 16,
   "metadata": {
    "collapsed": false
   },
   "outputs": [
    {
     "data": {
      "image/png": "[encoded data removed]",
      "text/latex": [
       "$$\\frac{d}{d x} f{\\left (x \\right )} - \\frac{1}{x} f{\\left (x \\right )} = 2 x^{2}$$"
      ],
      "text/plain": [
       "d          f(x)      2\n",
       "──(f(x)) - ──── = 2⋅x \n",
       "dx          x         "
      ]
     },
     "execution_count": 16,
     "metadata": {},
     "output_type": "execute_result"
    }
   ],
   "source": [
    "f = sympy.symbols('f', cls=sympy.Function)\n",
    "equation = sympy.Eq(f(x).diff(x)-f(x)/x, 2*x**2)\n",
    "equation"
   ]
  },
  {
   "cell_type": "code",
   "execution_count": 17,
   "metadata": {
    "collapsed": false
   },
   "outputs": [
    {
     "data": {
      "image/png": "[encoded data removed]",
      "text/latex": [
       "$$f{\\left (x \\right )} = x \\left(C_{1} + x^{2}\\right)$$"
      ],
      "text/plain": [
       "         ⎛      2⎞\n",
       "f(x) = x⋅⎝C₁ + x ⎠"
      ]
     },
     "execution_count": 17,
     "metadata": {},
     "output_type": "execute_result"
    }
   ],
   "source": [
    "solution = sympy.dsolve(equation, f(x))\n",
    "solution"
   ]
  },
  {
   "cell_type": "markdown",
   "metadata": {},
   "source": [
    "Upostevajmo se robni pogoj."
   ]
  },
  {
   "cell_type": "code",
   "execution_count": 18,
   "metadata": {
    "collapsed": false
   },
   "outputs": [
    {
     "data": {
      "image/png": "[encoded data removed]",
      "text/latex": [
       "$$2 = C_{1} + 1$$"
      ],
      "text/plain": [
       "2 = C₁ + 1"
      ]
     },
     "execution_count": 18,
     "metadata": {},
     "output_type": "execute_result"
    }
   ],
   "source": [
    "equation = solution.subs(f(x), 2).subs(x, 1)\n",
    "equation"
   ]
  },
  {
   "cell_type": "code",
   "execution_count": 19,
   "metadata": {
    "collapsed": false
   },
   "outputs": [
    {
     "data": {
      "image/png": "[encoded data removed]",
      "text/latex": [
       "$$f{\\left (x \\right )} = x^{3} + x$$"
      ],
      "text/plain": [
       "        3    \n",
       "f(x) = x  + x"
      ]
     },
     "execution_count": 19,
     "metadata": {},
     "output_type": "execute_result"
    }
   ],
   "source": [
    "c1 = sympy.solve(equation)[0]\n",
    "C1 = sympy.symbols('C1')\n",
    "sympy.expand(solution.subs(C1, c1))"
   ]
  },
  {
   "cell_type": "markdown",
   "metadata": {},
   "source": [
    "# 4. naloga"
   ]
  },
  {
   "cell_type": "markdown",
   "metadata": {},
   "source": [
    "*Turist si v cerkvi ogleduje 3m visoko okno, ki se nahaja 1m nad njegovimi ocmi. Kako dalec od stene, na kateri se nahajo okno, naj se postavi, da bo razlika kotov pod katerimi vidi spodnji in zgornji kot okna najvecja?*"
   ]
  },
  {
   "cell_type": "markdown",
   "metadata": {},
   "source": [
    "Najprej nastavimo enacbo. Kot, pod katerim iz razdalje $x$ vidimo spodnji del okna $\\arctan(\\frac{1}{x})$, zgorjnji del pa vidimo pod kotom $\\arctan(\\frac{4}{x})$. "
   ]
  },
  {
   "cell_type": "code",
   "execution_count": 20,
   "metadata": {
    "collapsed": false
   },
   "outputs": [
    {
     "data": {
      "image/png": "[encoded data removed]",
      "text/latex": [
       "$$- \\operatorname{atan}{\\left (\\frac{1}{x} \\right )} + \\operatorname{atan}{\\left (\\frac{4}{x} \\right )}$$"
      ],
      "text/plain": [
       "      ⎛1⎞       ⎛4⎞\n",
       "- atan⎜─⎟ + atan⎜─⎟\n",
       "      ⎝x⎠       ⎝x⎠"
      ]
     },
     "execution_count": 20,
     "metadata": {},
     "output_type": "execute_result"
    }
   ],
   "source": [
    "f = lambda x: sympy.atan(4/x) - sympy.atan(1/x)\n",
    "f(x)"
   ]
  },
  {
   "cell_type": "markdown",
   "metadata": {},
   "source": [
    "Kandidati za resitev so stacionarne tocke zgornje funkcije, torej nicle njenega odvoda. Pri tem dodatno zahtevamo, da so resitve pozitivne."
   ]
  },
  {
   "cell_type": "code",
   "execution_count": 24,
   "metadata": {
    "collapsed": false
   },
   "outputs": [
    {
     "data": {
      "image/png": "[encoded data removed]",
      "text/latex": [
       "$$- \\frac{4}{x^{2} \\left(1 + \\frac{16}{x^{2}}\\right)} + \\frac{1}{x^{2} \\left(1 + \\frac{1}{x^{2}}\\right)} = 0$$"
      ],
      "text/plain": [
       "       4             1         \n",
       "- ─────────── + ─────────── = 0\n",
       "   2 ⎛    16⎞    2 ⎛    1 ⎞    \n",
       "  x ⋅⎜1 + ──⎟   x ⋅⎜1 + ──⎟    \n",
       "     ⎜     2⎟      ⎜     2⎟    \n",
       "     ⎝    x ⎠      ⎝    x ⎠    "
      ]
     },
     "execution_count": 24,
     "metadata": {},
     "output_type": "execute_result"
    }
   ],
   "source": [
    "x = sympy.symbols('x', positive=True)\n",
    "equation = sympy.Eq(f(x).diff(x), 0)\n",
    "\n",
    "equation"
   ]
  },
  {
   "cell_type": "code",
   "execution_count": 25,
   "metadata": {
    "collapsed": false
   },
   "outputs": [
    {
     "data": {
      "image/png": "[encoded data removed]",
      "text/latex": [
       "$$\\left [ 2\\right ]$$"
      ],
      "text/plain": [
       "[2]"
      ]
     },
     "execution_count": 25,
     "metadata": {},
     "output_type": "execute_result"
    }
   ],
   "source": [
    "solutions = sympy.solve(equation)\n",
    "solutions"
   ]
  },
  {
   "cell_type": "markdown",
   "metadata": {},
   "source": [
    "Postaviti se mora 2 metra od stene."
   ]
  }
 ],
 "metadata": {
  "kernelspec": {
   "display_name": "Python 3",
   "language": "python",
   "name": "python3"
  },
  "language_info": {
   "codemirror_mode": {
    "name": "ipython",
    "version": 3
   },
   "file_extension": ".py",
   "mimetype": "text/x-python",
   "name": "python",
   "nbconvert_exporter": "python",
   "pygments_lexer": "ipython3",
   "version": "3.4.3+"
  }
 },
 "nbformat": 4,
 "nbformat_minor": 0
}
