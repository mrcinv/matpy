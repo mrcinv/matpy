{
 "cells": [
  {
   "cell_type": "code",
   "execution_count": 35,
   "metadata": {
    "collapsed": true
   },
   "outputs": [],
   "source": [
    "import math\n",
    "import sympy\n",
    "from sympy import latex\n",
    "from IPython.display import HTML, display\n",
    "\n",
    "%matplotlib notebook\n",
    "\n",
    "sympy.init_printing()"
   ]
  },
  {
   "cell_type": "markdown",
   "metadata": {},
   "source": [
    "# OMA 2. kolokvij 2013/2014"
   ]
  },
  {
   "cell_type": "markdown",
   "metadata": {},
   "source": [
    "## 1. naloga"
   ]
  },
  {
   "cell_type": "markdown",
   "metadata": {},
   "source": [
    "*Podana je funkcija $f(x)=x^2 e^{-x}$.*"
   ]
  },
  {
   "cell_type": "code",
   "execution_count": 84,
   "metadata": {
    "collapsed": true
   },
   "outputs": [],
   "source": [
    "x = sympy.symbols('x')\n",
    "f = lambda x: x**2 * sympy.E**(-x)"
   ]
  },
  {
   "cell_type": "markdown",
   "metadata": {},
   "source": [
    "*Doloci definicijsko obmocje ${\\cal D}_f$ in izracunaj limiti v robovih ${\\cal D}_f$.*"
   ]
  },
  {
   "cell_type": "markdown",
   "metadata": {},
   "source": [
    "Ker je eksponentna funkcija definirana povsod, je ${\\cal D}_f = \\mathbb{R}$.  \n",
    "$\\displaystyle{\\lim_{x\\to\\infty} x^2 e^{-x} = 0}.$  \n",
    "$\\displaystyle{\\lim_{x\\to -\\infty} x^2 e^{-x} = \\infty}.$"
   ]
  },
  {
   "cell_type": "markdown",
   "metadata": {},
   "source": [
    "*Poisci nicle in stacionarne tocke funkcije $f$.*"
   ]
  },
  {
   "cell_type": "code",
   "execution_count": 27,
   "metadata": {
    "collapsed": false
   },
   "outputs": [
    {
     "data": {
      "image/png": "[encoded data removed]",
      "text/latex": [
       "$$x^{2} e^{- x} = 0$$"
      ],
      "text/plain": [
       " 2  -x    \n",
       "x ⋅ℯ   = 0"
      ]
     },
     "execution_count": 27,
     "metadata": {},
     "output_type": "execute_result"
    }
   ],
   "source": [
    "equation = sympy.Eq(f(x), 0)\n",
    "equation"
   ]
  },
  {
   "cell_type": "code",
   "execution_count": 57,
   "metadata": {
    "collapsed": false
   },
   "outputs": [
    {
     "data": {
      "text/html": [
       "Nicle: $\\left [ 0\\right ]$"
      ],
      "text/plain": [
       "<IPython.core.display.HTML object>"
      ]
     },
     "metadata": {},
     "output_type": "display_data"
    }
   ],
   "source": [
    "solutions = sympy.solve(equation)\n",
    "s = 'Nicle: ${0}$'.format(latex(solutions))\n",
    "display(HTML(s))"
   ]
  },
  {
   "cell_type": "code",
   "execution_count": 60,
   "metadata": {
    "collapsed": false
   },
   "outputs": [
    {
     "data": {
      "image/png": "[encoded data removed]",
      "text/latex": [
       "$$- x^{2} e^{- x} + 2 x e^{- x} = 0$$"
      ],
      "text/plain": [
       "   2  -x        -x    \n",
       "- x ⋅ℯ   + 2⋅x⋅ℯ   = 0"
      ]
     },
     "execution_count": 60,
     "metadata": {},
     "output_type": "execute_result"
    }
   ],
   "source": [
    "derivative = sympy.diff(f(x), x)\n",
    "equation = sympy.Eq(derivative, 0)\n",
    "equation"
   ]
  },
  {
   "cell_type": "code",
   "execution_count": 62,
   "metadata": {
    "collapsed": false
   },
   "outputs": [
    {
     "data": {
      "text/html": [
       "Stacionarne tocke: $\\left [ 0, \\quad 2\\right ]$"
      ],
      "text/plain": [
       "<IPython.core.display.HTML object>"
      ]
     },
     "metadata": {},
     "output_type": "display_data"
    }
   ],
   "source": [
    "solutions = sympy.solve(equation)\n",
    "s = 'Stacionarne tocke: ${0}$'.format(latex(solutions))\n",
    "display(HTML(s))"
   ]
  },
  {
   "cell_type": "markdown",
   "metadata": {},
   "source": [
    "*Narisi graf funkcije $f$.*    "
   ]
  },
  {
   "cell_type": "code",
   "execution_count": 85,
   "metadata": {
    "collapsed": false
   },
   "outputs": [
    {
     "data": {
      "application/javascript": [
       "/* Put everything inside the global mpl namespace */\n",
       "window.mpl = {};\n",
       "\n",
       "mpl.get_websocket_type = function() {\n",
       "    if (typeof(WebSocket) !== 'undefined') {\n",
       "        return WebSocket;\n",
       "    } else if (typeof(MozWebSocket) !== 'undefined') {\n",
       "        return MozWebSocket;\n",
       "    } else {\n",
       "        alert('Your browser does not have WebSocket support.' +\n",
       "              'Please try Chrome, Safari or Firefox ≥ 6. ' +\n",
       "              'Firefox 4 and 5 are also supported but you ' +\n",
       "              'have to enable WebSockets in about:config.');\n",
       "    };\n",
       "}\n",
       "\n",
       "mpl.figure = function(figure_id, websocket, ondownload, parent_element) {\n",
       "    this.id = figure_id;\n",
       "\n",
       "    this.ws = websocket;\n",
       "\n",
       "    this.supports_binary = (this.ws.binaryType != undefined);\n",
       "\n",
       "    if (!this.supports_binary) {\n",
       "        var warnings = document.getElementById(\"mpl-warnings\");\n",
       "        if (warnings) {\n",
       "            warnings.style.display = 'block';\n",
       "            warnings.textContent = (\n",
       "                \"This browser does not support binary websocket messages. \" +\n",
       "                    \"Performance may be slow.\");\n",
       "        }\n",
       "    }\n",
       "\n",
       "    this.imageObj = new Image();\n",
       "\n",
       "    this.context = undefined;\n",
       "    this.message = undefined;\n",
       "    this.canvas = undefined;\n",
       "    this.rubberband_canvas = undefined;\n",
       "    this.rubberband_context = undefined;\n",
       "    this.format_dropdown = undefined;\n",
       "\n",
       "    this.image_mode = 'full';\n",
       "\n",
       "    this.root = $('<div/>');\n",
       "    this._root_extra_style(this.root)\n",
       "    this.root.attr('style', 'display: inline-block');\n",
       "\n",
       "    $(parent_element).append(this.root);\n",
       "\n",
       "    this._init_header(this);\n",
       "    this._init_canvas(this);\n",
       "    this._init_toolbar(this);\n",
       "\n",
       "    var fig = this;\n",
       "\n",
       "    this.waiting = false;\n",
       "\n",
       "    this.ws.onopen =  function () {\n",
       "            fig.send_message(\"supports_binary\", {value: fig.supports_binary});\n",
       "            fig.send_message(\"send_image_mode\", {});\n",
       "            fig.send_message(\"refresh\", {});\n",
       "        }\n",
       "\n",
       "    this.imageObj.onload = function() {\n",
       "            if (fig.image_mode == 'full') {\n",
       "                // Full images could contain transparency (where diff images\n",
       "                // almost always do), so we need to clear the canvas so that\n",
       "                // there is no ghosting.\n",
       "                fig.context.clearRect(0, 0, fig.canvas.width, fig.canvas.height);\n",
       "            }\n",
       "            fig.context.drawImage(fig.imageObj, 0, 0);\n",
       "        };\n",
       "\n",
       "    this.imageObj.onunload = function() {\n",
       "        this.ws.close();\n",
       "    }\n",
       "\n",
       "    this.ws.onmessage = this._make_on_message_function(this);\n",
       "\n",
       "    this.ondownload = ondownload;\n",
       "}\n",
       "\n",
       "mpl.figure.prototype._init_header = function() {\n",
       "    var titlebar = $(\n",
       "        '<div class=\"ui-dialog-titlebar ui-widget-header ui-corner-all ' +\n",
       "        'ui-helper-clearfix\"/>');\n",
       "    var titletext = $(\n",
       "        '<div class=\"ui-dialog-title\" style=\"width: 100%; ' +\n",
       "        'text-align: center; padding: 3px;\"/>');\n",
       "    titlebar.append(titletext)\n",
       "    this.root.append(titlebar);\n",
       "    this.header = titletext[0];\n",
       "}\n",
       "\n",
       "\n",
       "\n",
       "mpl.figure.prototype._canvas_extra_style = function(canvas_div) {\n",
       "\n",
       "}\n",
       "\n",
       "\n",
       "mpl.figure.prototype._root_extra_style = function(canvas_div) {\n",
       "\n",
       "}\n",
       "\n",
       "mpl.figure.prototype._init_canvas = function() {\n",
       "    var fig = this;\n",
       "\n",
       "    var canvas_div = $('<div/>');\n",
       "\n",
       "    canvas_div.attr('style', 'position: relative; clear: both; outline: 0');\n",
       "\n",
       "    function canvas_keyboard_event(event) {\n",
       "        return fig.key_event(event, event['data']);\n",
       "    }\n",
       "\n",
       "    canvas_div.keydown('key_press', canvas_keyboard_event);\n",
       "    canvas_div.keyup('key_release', canvas_keyboard_event);\n",
       "    this.canvas_div = canvas_div\n",
       "    this._canvas_extra_style(canvas_div)\n",
       "    this.root.append(canvas_div);\n",
       "\n",
       "    var canvas = $('<canvas/>');\n",
       "    canvas.addClass('mpl-canvas');\n",
       "    canvas.attr('style', \"left: 0; top: 0; z-index: 0; outline: 0\")\n",
       "\n",
       "    this.canvas = canvas[0];\n",
       "    this.context = canvas[0].getContext(\"2d\");\n",
       "\n",
       "    var rubberband = $('<canvas/>');\n",
       "    rubberband.attr('style', \"position: absolute; left: 0; top: 0; z-index: 1;\")\n",
       "\n",
       "    var pass_mouse_events = true;\n",
       "\n",
       "    canvas_div.resizable({\n",
       "        start: function(event, ui) {\n",
       "            pass_mouse_events = false;\n",
       "        },\n",
       "        resize: function(event, ui) {\n",
       "            fig.request_resize(ui.size.width, ui.size.height);\n",
       "        },\n",
       "        stop: function(event, ui) {\n",
       "            pass_mouse_events = true;\n",
       "            fig.request_resize(ui.size.width, ui.size.height);\n",
       "        },\n",
       "    });\n",
       "\n",
       "    function mouse_event_fn(event) {\n",
       "        if (pass_mouse_events)\n",
       "            return fig.mouse_event(event, event['data']);\n",
       "    }\n",
       "\n",
       "    rubberband.mousedown('button_press', mouse_event_fn);\n",
       "    rubberband.mouseup('button_release', mouse_event_fn);\n",
       "    // Throttle sequential mouse events to 1 every 20ms.\n",
       "    rubberband.mousemove('motion_notify', mouse_event_fn);\n",
       "\n",
       "    rubberband.mouseenter('figure_enter', mouse_event_fn);\n",
       "    rubberband.mouseleave('figure_leave', mouse_event_fn);\n",
       "\n",
       "    canvas_div.on(\"wheel\", function (event) {\n",
       "        event = event.originalEvent;\n",
       "        event['data'] = 'scroll'\n",
       "        if (event.deltaY < 0) {\n",
       "            event.step = 1;\n",
       "        } else {\n",
       "            event.step = -1;\n",
       "        }\n",
       "        mouse_event_fn(event);\n",
       "    });\n",
       "\n",
       "    canvas_div.append(canvas);\n",
       "    canvas_div.append(rubberband);\n",
       "\n",
       "    this.rubberband = rubberband;\n",
       "    this.rubberband_canvas = rubberband[0];\n",
       "    this.rubberband_context = rubberband[0].getContext(\"2d\");\n",
       "    this.rubberband_context.strokeStyle = \"#000000\";\n",
       "\n",
       "    this._resize_canvas = function(width, height) {\n",
       "        // Keep the size of the canvas, canvas container, and rubber band\n",
       "        // canvas in synch.\n",
       "        canvas_div.css('width', width)\n",
       "        canvas_div.css('height', height)\n",
       "\n",
       "        canvas.attr('width', width);\n",
       "        canvas.attr('height', height);\n",
       "\n",
       "        rubberband.attr('width', width);\n",
       "        rubberband.attr('height', height);\n",
       "    }\n",
       "\n",
       "    // Set the figure to an initial 600x600px, this will subsequently be updated\n",
       "    // upon first draw.\n",
       "    this._resize_canvas(600, 600);\n",
       "\n",
       "    // Disable right mouse context menu.\n",
       "    $(this.rubberband_canvas).bind(\"contextmenu\",function(e){\n",
       "        return false;\n",
       "    });\n",
       "\n",
       "    function set_focus () {\n",
       "        canvas.focus();\n",
       "        canvas_div.focus();\n",
       "    }\n",
       "\n",
       "    window.setTimeout(set_focus, 100);\n",
       "}\n",
       "\n",
       "mpl.figure.prototype._init_toolbar = function() {\n",
       "    var fig = this;\n",
       "\n",
       "    var nav_element = $('<div/>')\n",
       "    nav_element.attr('style', 'width: 100%');\n",
       "    this.root.append(nav_element);\n",
       "\n",
       "    // Define a callback function for later on.\n",
       "    function toolbar_event(event) {\n",
       "        return fig.toolbar_button_onclick(event['data']);\n",
       "    }\n",
       "    function toolbar_mouse_event(event) {\n",
       "        return fig.toolbar_button_onmouseover(event['data']);\n",
       "    }\n",
       "\n",
       "    for(var toolbar_ind in mpl.toolbar_items) {\n",
       "        var name = mpl.toolbar_items[toolbar_ind][0];\n",
       "        var tooltip = mpl.toolbar_items[toolbar_ind][1];\n",
       "        var image = mpl.toolbar_items[toolbar_ind][2];\n",
       "        var method_name = mpl.toolbar_items[toolbar_ind][3];\n",
       "\n",
       "        if (!name) {\n",
       "            // put a spacer in here.\n",
       "            continue;\n",
       "        }\n",
       "        var button = $('<button/>');\n",
       "        button.addClass('ui-button ui-widget ui-state-default ui-corner-all ' +\n",
       "                        'ui-button-icon-only');\n",
       "        button.attr('role', 'button');\n",
       "        button.attr('aria-disabled', 'false');\n",
       "        button.click(method_name, toolbar_event);\n",
       "        button.mouseover(tooltip, toolbar_mouse_event);\n",
       "\n",
       "        var icon_img = $('<span/>');\n",
       "        icon_img.addClass('ui-button-icon-primary ui-icon');\n",
       "        icon_img.addClass(image);\n",
       "        icon_img.addClass('ui-corner-all');\n",
       "\n",
       "        var tooltip_span = $('<span/>');\n",
       "        tooltip_span.addClass('ui-button-text');\n",
       "        tooltip_span.html(tooltip);\n",
       "\n",
       "        button.append(icon_img);\n",
       "        button.append(tooltip_span);\n",
       "\n",
       "        nav_element.append(button);\n",
       "    }\n",
       "\n",
       "    var fmt_picker_span = $('<span/>');\n",
       "\n",
       "    var fmt_picker = $('<select/>');\n",
       "    fmt_picker.addClass('mpl-toolbar-option ui-widget ui-widget-content');\n",
       "    fmt_picker_span.append(fmt_picker);\n",
       "    nav_element.append(fmt_picker_span);\n",
       "    this.format_dropdown = fmt_picker[0];\n",
       "\n",
       "    for (var ind in mpl.extensions) {\n",
       "        var fmt = mpl.extensions[ind];\n",
       "        var option = $(\n",
       "            '<option/>', {selected: fmt === mpl.default_extension}).html(fmt);\n",
       "        fmt_picker.append(option)\n",
       "    }\n",
       "\n",
       "    // Add hover states to the ui-buttons\n",
       "    $( \".ui-button\" ).hover(\n",
       "        function() { $(this).addClass(\"ui-state-hover\");},\n",
       "        function() { $(this).removeClass(\"ui-state-hover\");}\n",
       "    );\n",
       "\n",
       "    var status_bar = $('<span class=\"mpl-message\"/>');\n",
       "    nav_element.append(status_bar);\n",
       "    this.message = status_bar[0];\n",
       "}\n",
       "\n",
       "mpl.figure.prototype.request_resize = function(x_pixels, y_pixels) {\n",
       "    // Request matplotlib to resize the figure. Matplotlib will then trigger a resize in the client,\n",
       "    // which will in turn request a refresh of the image.\n",
       "    this.send_message('resize', {'width': x_pixels, 'height': y_pixels});\n",
       "}\n",
       "\n",
       "mpl.figure.prototype.send_message = function(type, properties) {\n",
       "    properties['type'] = type;\n",
       "    properties['figure_id'] = this.id;\n",
       "    this.ws.send(JSON.stringify(properties));\n",
       "}\n",
       "\n",
       "mpl.figure.prototype.send_draw_message = function() {\n",
       "    if (!this.waiting) {\n",
       "        this.waiting = true;\n",
       "        this.ws.send(JSON.stringify({type: \"draw\", figure_id: this.id}));\n",
       "    }\n",
       "}\n",
       "\n",
       "\n",
       "mpl.figure.prototype.handle_save = function(fig, msg) {\n",
       "    var format_dropdown = fig.format_dropdown;\n",
       "    var format = format_dropdown.options[format_dropdown.selectedIndex].value;\n",
       "    fig.ondownload(fig, format);\n",
       "}\n",
       "\n",
       "\n",
       "mpl.figure.prototype.handle_resize = function(fig, msg) {\n",
       "    var size = msg['size'];\n",
       "    if (size[0] != fig.canvas.width || size[1] != fig.canvas.height) {\n",
       "        fig._resize_canvas(size[0], size[1]);\n",
       "        fig.send_message(\"refresh\", {});\n",
       "    };\n",
       "}\n",
       "\n",
       "mpl.figure.prototype.handle_rubberband = function(fig, msg) {\n",
       "    var x0 = msg['x0'];\n",
       "    var y0 = fig.canvas.height - msg['y0'];\n",
       "    var x1 = msg['x1'];\n",
       "    var y1 = fig.canvas.height - msg['y1'];\n",
       "    x0 = Math.floor(x0) + 0.5;\n",
       "    y0 = Math.floor(y0) + 0.5;\n",
       "    x1 = Math.floor(x1) + 0.5;\n",
       "    y1 = Math.floor(y1) + 0.5;\n",
       "    var min_x = Math.min(x0, x1);\n",
       "    var min_y = Math.min(y0, y1);\n",
       "    var width = Math.abs(x1 - x0);\n",
       "    var height = Math.abs(y1 - y0);\n",
       "\n",
       "    fig.rubberband_context.clearRect(\n",
       "        0, 0, fig.canvas.width, fig.canvas.height);\n",
       "\n",
       "    fig.rubberband_context.strokeRect(min_x, min_y, width, height);\n",
       "}\n",
       "\n",
       "mpl.figure.prototype.handle_figure_label = function(fig, msg) {\n",
       "    // Updates the figure title.\n",
       "    fig.header.textContent = msg['label'];\n",
       "}\n",
       "\n",
       "mpl.figure.prototype.handle_cursor = function(fig, msg) {\n",
       "    var cursor = msg['cursor'];\n",
       "    switch(cursor)\n",
       "    {\n",
       "    case 0:\n",
       "        cursor = 'pointer';\n",
       "        break;\n",
       "    case 1:\n",
       "        cursor = 'default';\n",
       "        break;\n",
       "    case 2:\n",
       "        cursor = 'crosshair';\n",
       "        break;\n",
       "    case 3:\n",
       "        cursor = 'move';\n",
       "        break;\n",
       "    }\n",
       "    fig.rubberband_canvas.style.cursor = cursor;\n",
       "}\n",
       "\n",
       "mpl.figure.prototype.handle_message = function(fig, msg) {\n",
       "    fig.message.textContent = msg['message'];\n",
       "}\n",
       "\n",
       "mpl.figure.prototype.handle_draw = function(fig, msg) {\n",
       "    // Request the server to send over a new figure.\n",
       "    fig.send_draw_message();\n",
       "}\n",
       "\n",
       "mpl.figure.prototype.handle_image_mode = function(fig, msg) {\n",
       "    fig.image_mode = msg['mode'];\n",
       "}\n",
       "\n",
       "mpl.figure.prototype.updated_canvas_event = function() {\n",
       "    // Called whenever the canvas gets updated.\n",
       "    this.send_message(\"ack\", {});\n",
       "}\n",
       "\n",
       "// A function to construct a web socket function for onmessage handling.\n",
       "// Called in the figure constructor.\n",
       "mpl.figure.prototype._make_on_message_function = function(fig) {\n",
       "    return function socket_on_message(evt) {\n",
       "        if (evt.data instanceof Blob) {\n",
       "            /* FIXME: We get \"Resource interpreted as Image but\n",
       "             * transferred with MIME type text/plain:\" errors on\n",
       "             * Chrome.  But how to set the MIME type?  It doesn't seem\n",
       "             * to be part of the websocket stream */\n",
       "            evt.data.type = \"image/png\";\n",
       "\n",
       "            /* Free the memory for the previous frames */\n",
       "            if (fig.imageObj.src) {\n",
       "                (window.URL || window.webkitURL).revokeObjectURL(\n",
       "                    fig.imageObj.src);\n",
       "            }\n",
       "\n",
       "            fig.imageObj.src = (window.URL || window.webkitURL).createObjectURL(\n",
       "                evt.data);\n",
       "            fig.updated_canvas_event();\n",
       "            fig.waiting = false;\n",
       "            return;\n",
       "        }\n",
       "        else if (typeof evt.data === 'string' && evt.data.slice(0, 21) == \"data:image/png;base64\") {\n",
       "            fig.imageObj.src = evt.data;\n",
       "            fig.updated_canvas_event();\n",
       "            fig.waiting = false;\n",
       "            return;\n",
       "        }\n",
       "\n",
       "        var msg = JSON.parse(evt.data);\n",
       "        var msg_type = msg['type'];\n",
       "\n",
       "        // Call the  \"handle_{type}\" callback, which takes\n",
       "        // the figure and JSON message as its only arguments.\n",
       "        try {\n",
       "            var callback = fig[\"handle_\" + msg_type];\n",
       "        } catch (e) {\n",
       "            console.log(\"No handler for the '\" + msg_type + \"' message type: \", msg);\n",
       "            return;\n",
       "        }\n",
       "\n",
       "        if (callback) {\n",
       "            try {\n",
       "                // console.log(\"Handling '\" + msg_type + \"' message: \", msg);\n",
       "                callback(fig, msg);\n",
       "            } catch (e) {\n",
       "                console.log(\"Exception inside the 'handler_\" + msg_type + \"' callback:\", e, e.stack, msg);\n",
       "            }\n",
       "        }\n",
       "    };\n",
       "}\n",
       "\n",
       "// from http://stackoverflow.com/questions/1114465/getting-mouse-location-in-canvas\n",
       "mpl.findpos = function(e) {\n",
       "    //this section is from http://www.quirksmode.org/js/events_properties.html\n",
       "    var targ;\n",
       "    if (!e)\n",
       "        e = window.event;\n",
       "    if (e.target)\n",
       "        targ = e.target;\n",
       "    else if (e.srcElement)\n",
       "        targ = e.srcElement;\n",
       "    if (targ.nodeType == 3) // defeat Safari bug\n",
       "        targ = targ.parentNode;\n",
       "\n",
       "    // jQuery normalizes the pageX and pageY\n",
       "    // pageX,Y are the mouse positions relative to the document\n",
       "    // offset() returns the position of the element relative to the document\n",
       "    var x = e.pageX - $(targ).offset().left;\n",
       "    var y = e.pageY - $(targ).offset().top;\n",
       "\n",
       "    return {\"x\": x, \"y\": y};\n",
       "};\n",
       "\n",
       "/*\n",
       " * return a copy of an object with only non-object keys\n",
       " * we need this to avoid circular references\n",
       " * http://stackoverflow.com/a/24161582/3208463\n",
       " */\n",
       "function simpleKeys (original) {\n",
       "  return Object.keys(original).reduce(function (obj, key) {\n",
       "    if (typeof original[key] !== 'object')\n",
       "        obj[key] = original[key]\n",
       "    return obj;\n",
       "  }, {});\n",
       "}\n",
       "\n",
       "mpl.figure.prototype.mouse_event = function(event, name) {\n",
       "    var canvas_pos = mpl.findpos(event)\n",
       "\n",
       "    if (name === 'button_press')\n",
       "    {\n",
       "        this.canvas.focus();\n",
       "        this.canvas_div.focus();\n",
       "    }\n",
       "\n",
       "    var x = canvas_pos.x;\n",
       "    var y = canvas_pos.y;\n",
       "\n",
       "    this.send_message(name, {x: x, y: y, button: event.button,\n",
       "                             step: event.step,\n",
       "                             guiEvent: simpleKeys(event)});\n",
       "\n",
       "    /* This prevents the web browser from automatically changing to\n",
       "     * the text insertion cursor when the button is pressed.  We want\n",
       "     * to control all of the cursor setting manually through the\n",
       "     * 'cursor' event from matplotlib */\n",
       "    event.preventDefault();\n",
       "    return false;\n",
       "}\n",
       "\n",
       "mpl.figure.prototype._key_event_extra = function(event, name) {\n",
       "    // Handle any extra behaviour associated with a key event\n",
       "}\n",
       "\n",
       "mpl.figure.prototype.key_event = function(event, name) {\n",
       "\n",
       "    // Prevent repeat events\n",
       "    if (name == 'key_press')\n",
       "    {\n",
       "        if (event.which === this._key)\n",
       "            return;\n",
       "        else\n",
       "            this._key = event.which;\n",
       "    }\n",
       "    if (name == 'key_release')\n",
       "        this._key = null;\n",
       "\n",
       "    var value = '';\n",
       "    if (event.ctrlKey && event.which != 17)\n",
       "        value += \"ctrl+\";\n",
       "    if (event.altKey && event.which != 18)\n",
       "        value += \"alt+\";\n",
       "    if (event.shiftKey && event.which != 16)\n",
       "        value += \"shift+\";\n",
       "\n",
       "    value += 'k';\n",
       "    value += event.which.toString();\n",
       "\n",
       "    this._key_event_extra(event, name);\n",
       "\n",
       "    this.send_message(name, {key: value,\n",
       "                             guiEvent: simpleKeys(event)});\n",
       "    return false;\n",
       "}\n",
       "\n",
       "mpl.figure.prototype.toolbar_button_onclick = function(name) {\n",
       "    if (name == 'download') {\n",
       "        this.handle_save(this, null);\n",
       "    } else {\n",
       "        this.send_message(\"toolbar_button\", {name: name});\n",
       "    }\n",
       "};\n",
       "\n",
       "mpl.figure.prototype.toolbar_button_onmouseover = function(tooltip) {\n",
       "    this.message.textContent = tooltip;\n",
       "};\n",
       "mpl.toolbar_items = [[\"Home\", \"Reset original view\", \"fa fa-home icon-home\", \"home\"], [\"Back\", \"Back to  previous view\", \"fa fa-arrow-left icon-arrow-left\", \"back\"], [\"Forward\", \"Forward to next view\", \"fa fa-arrow-right icon-arrow-right\", \"forward\"], [\"\", \"\", \"\", \"\"], [\"Pan\", \"Pan axes with left mouse, zoom with right\", \"fa fa-arrows icon-move\", \"pan\"], [\"Zoom\", \"Zoom to rectangle\", \"fa fa-square-o icon-check-empty\", \"zoom\"], [\"\", \"\", \"\", \"\"], [\"Download\", \"Download plot\", \"fa fa-floppy-o icon-save\", \"download\"]];\n",
       "\n",
       "mpl.extensions = [\"eps\", \"pdf\", \"png\", \"ps\", \"raw\", \"svg\"];\n",
       "\n",
       "mpl.default_extension = \"png\";var comm_websocket_adapter = function(comm) {\n",
       "    // Create a \"websocket\"-like object which calls the given IPython comm\n",
       "    // object with the appropriate methods. Currently this is a non binary\n",
       "    // socket, so there is still some room for performance tuning.\n",
       "    var ws = {};\n",
       "\n",
       "    ws.close = function() {\n",
       "        comm.close()\n",
       "    };\n",
       "    ws.send = function(m) {\n",
       "        //console.log('sending', m);\n",
       "        comm.send(m);\n",
       "    };\n",
       "    // Register the callback with on_msg.\n",
       "    comm.on_msg(function(msg) {\n",
       "        //console.log('receiving', msg['content']['data'], msg);\n",
       "        // Pass the mpl event to the overriden (by mpl) onmessage function.\n",
       "        ws.onmessage(msg['content']['data'])\n",
       "    });\n",
       "    return ws;\n",
       "}\n",
       "\n",
       "mpl.mpl_figure_comm = function(comm, msg) {\n",
       "    // This is the function which gets called when the mpl process\n",
       "    // starts-up an IPython Comm through the \"matplotlib\" channel.\n",
       "\n",
       "    var id = msg.content.data.id;\n",
       "    // Get hold of the div created by the display call when the Comm\n",
       "    // socket was opened in Python.\n",
       "    var element = $(\"#\" + id);\n",
       "    var ws_proxy = comm_websocket_adapter(comm)\n",
       "\n",
       "    function ondownload(figure, format) {\n",
       "        window.open(figure.imageObj.src);\n",
       "    }\n",
       "\n",
       "    var fig = new mpl.figure(id, ws_proxy,\n",
       "                           ondownload,\n",
       "                           element.get(0));\n",
       "\n",
       "    // Call onopen now - mpl needs it, as it is assuming we've passed it a real\n",
       "    // web socket which is closed, not our websocket->open comm proxy.\n",
       "    ws_proxy.onopen();\n",
       "\n",
       "    fig.parent_element = element.get(0);\n",
       "    fig.cell_info = mpl.find_output_cell(\"<div id='\" + id + \"'></div>\");\n",
       "    if (!fig.cell_info) {\n",
       "        console.error(\"Failed to find cell for figure\", id, fig);\n",
       "        return;\n",
       "    }\n",
       "\n",
       "    var output_index = fig.cell_info[2]\n",
       "    var cell = fig.cell_info[0];\n",
       "\n",
       "};\n",
       "\n",
       "mpl.figure.prototype.handle_close = function(fig, msg) {\n",
       "    fig.root.unbind('remove')\n",
       "\n",
       "    // Update the output cell to use the data from the current canvas.\n",
       "    fig.push_to_output();\n",
       "    var dataURL = fig.canvas.toDataURL();\n",
       "    // Re-enable the keyboard manager in IPython - without this line, in FF,\n",
       "    // the notebook keyboard shortcuts fail.\n",
       "    IPython.keyboard_manager.enable()\n",
       "    $(fig.parent_element).html('<img src=\"' + dataURL + '\">');\n",
       "    fig.close_ws(fig, msg);\n",
       "}\n",
       "\n",
       "mpl.figure.prototype.close_ws = function(fig, msg){\n",
       "    fig.send_message('closing', msg);\n",
       "    // fig.ws.close()\n",
       "}\n",
       "\n",
       "mpl.figure.prototype.push_to_output = function(remove_interactive) {\n",
       "    // Turn the data on the canvas into data in the output cell.\n",
       "    var dataURL = this.canvas.toDataURL();\n",
       "    this.cell_info[1]['text/html'] = '<img src=\"' + dataURL + '\">';\n",
       "}\n",
       "\n",
       "mpl.figure.prototype.updated_canvas_event = function() {\n",
       "    // Tell IPython that the notebook contents must change.\n",
       "    IPython.notebook.set_dirty(true);\n",
       "    this.send_message(\"ack\", {});\n",
       "    var fig = this;\n",
       "    // Wait a second, then push the new image to the DOM so\n",
       "    // that it is saved nicely (might be nice to debounce this).\n",
       "    setTimeout(function () { fig.push_to_output() }, 1000);\n",
       "}\n",
       "\n",
       "mpl.figure.prototype._init_toolbar = function() {\n",
       "    var fig = this;\n",
       "\n",
       "    var nav_element = $('<div/>')\n",
       "    nav_element.attr('style', 'width: 100%');\n",
       "    this.root.append(nav_element);\n",
       "\n",
       "    // Define a callback function for later on.\n",
       "    function toolbar_event(event) {\n",
       "        return fig.toolbar_button_onclick(event['data']);\n",
       "    }\n",
       "    function toolbar_mouse_event(event) {\n",
       "        return fig.toolbar_button_onmouseover(event['data']);\n",
       "    }\n",
       "\n",
       "    for(var toolbar_ind in mpl.toolbar_items){\n",
       "        var name = mpl.toolbar_items[toolbar_ind][0];\n",
       "        var tooltip = mpl.toolbar_items[toolbar_ind][1];\n",
       "        var image = mpl.toolbar_items[toolbar_ind][2];\n",
       "        var method_name = mpl.toolbar_items[toolbar_ind][3];\n",
       "\n",
       "        if (!name) { continue; };\n",
       "\n",
       "        var button = $('<button class=\"btn btn-default\" href=\"#\" title=\"' + name + '\"><i class=\"fa ' + image + ' fa-lg\"></i></button>');\n",
       "        button.click(method_name, toolbar_event);\n",
       "        button.mouseover(tooltip, toolbar_mouse_event);\n",
       "        nav_element.append(button);\n",
       "    }\n",
       "\n",
       "    // Add the status bar.\n",
       "    var status_bar = $('<span class=\"mpl-message\" style=\"text-align:right; float: right;\"/>');\n",
       "    nav_element.append(status_bar);\n",
       "    this.message = status_bar[0];\n",
       "\n",
       "    // Add the close button to the window.\n",
       "    var buttongrp = $('<div class=\"btn-group inline pull-right\"></div>');\n",
       "    var button = $('<button class=\"btn btn-mini btn-primary\" href=\"#\" title=\"Stop Interaction\"><i class=\"fa fa-power-off icon-remove icon-large\"></i></button>');\n",
       "    button.click(function (evt) { fig.handle_close(fig, {}); } );\n",
       "    button.mouseover('Stop Interaction', toolbar_mouse_event);\n",
       "    buttongrp.append(button);\n",
       "    var titlebar = this.root.find($('.ui-dialog-titlebar'));\n",
       "    titlebar.prepend(buttongrp);\n",
       "}\n",
       "\n",
       "mpl.figure.prototype._root_extra_style = function(el){\n",
       "    var fig = this\n",
       "    el.on(\"remove\", function(){\n",
       "\tfig.close_ws(fig, {});\n",
       "    });\n",
       "}\n",
       "\n",
       "mpl.figure.prototype._canvas_extra_style = function(el){\n",
       "    // this is important to make the div 'focusable\n",
       "    el.attr('tabindex', 0)\n",
       "    // reach out to IPython and tell the keyboard manager to turn it's self\n",
       "    // off when our div gets focus\n",
       "\n",
       "    // location in version 3\n",
       "    if (IPython.notebook.keyboard_manager) {\n",
       "        IPython.notebook.keyboard_manager.register_events(el);\n",
       "    }\n",
       "    else {\n",
       "        // location in version 2\n",
       "        IPython.keyboard_manager.register_events(el);\n",
       "    }\n",
       "\n",
       "}\n",
       "\n",
       "mpl.figure.prototype._key_event_extra = function(event, name) {\n",
       "    var manager = IPython.notebook.keyboard_manager;\n",
       "    if (!manager)\n",
       "        manager = IPython.keyboard_manager;\n",
       "\n",
       "    // Check for shift+enter\n",
       "    if (event.shiftKey && event.which == 13) {\n",
       "        this.canvas_div.blur();\n",
       "        event.shiftKey = false;\n",
       "        // Send a \"J\" for go to next cell\n",
       "        event.which = 74;\n",
       "        event.keyCode = 74;\n",
       "        manager.command_mode();\n",
       "        manager.handle_keydown(event);\n",
       "    }\n",
       "}\n",
       "\n",
       "mpl.figure.prototype.handle_save = function(fig, msg) {\n",
       "    fig.ondownload(fig, null);\n",
       "}\n",
       "\n",
       "\n",
       "mpl.find_output_cell = function(html_output) {\n",
       "    // Return the cell and output element which can be found *uniquely* in the notebook.\n",
       "    // Note - this is a bit hacky, but it is done because the \"notebook_saving.Notebook\"\n",
       "    // IPython event is triggered only after the cells have been serialised, which for\n",
       "    // our purposes (turning an active figure into a static one), is too late.\n",
       "    var cells = IPython.notebook.get_cells();\n",
       "    var ncells = cells.length;\n",
       "    for (var i=0; i<ncells; i++) {\n",
       "        var cell = cells[i];\n",
       "        if (cell.cell_type === 'code'){\n",
       "            for (var j=0; j<cell.output_area.outputs.length; j++) {\n",
       "                var data = cell.output_area.outputs[j];\n",
       "                if (data.data) {\n",
       "                    // IPython >= 3 moved mimebundle to data attribute of output\n",
       "                    data = data.data;\n",
       "                }\n",
       "                if (data['text/html'] == html_output) {\n",
       "                    return [cell, data, j];\n",
       "                }\n",
       "            }\n",
       "        }\n",
       "    }\n",
       "}\n",
       "\n",
       "// Register the function which deals with the matplotlib target/channel.\n",
       "// The kernel may be null if the page has been refreshed.\n",
       "if (IPython.notebook.kernel != null) {\n",
       "    IPython.notebook.kernel.comm_manager.register_target('matplotlib', mpl.mpl_figure_comm);\n",
       "}\n"
      ],
      "text/plain": [
       "<IPython.core.display.Javascript object>"
      ]
     },
     "metadata": {},
     "output_type": "display_data"
    },
    {
     "data": {
      "text/html": [
       "<img src=\"data:image/png;base64,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\">"
      ],
      "text/plain": [
       "<IPython.core.display.HTML object>"
      ]
     },
     "metadata": {},
     "output_type": "display_data"
    },
    {
     "data": {
      "text/plain": [
       "<sympy.plotting.plot.Plot at 0x7f0d249c15f8>"
      ]
     },
     "execution_count": 85,
     "metadata": {},
     "output_type": "execute_result"
    }
   ],
   "source": [
    "sympy.plotting.plot(f(x), (x, -1, 5))"
   ]
  },
  {
   "cell_type": "markdown",
   "metadata": {},
   "source": [
    "# 2. naloga"
   ]
  },
  {
   "cell_type": "markdown",
   "metadata": {},
   "source": [
    "*Izracunaj nedoloceni integral racionalne funkcije \n",
    "$$\\int \\frac{x}{(x-1)(x-2)}.$$*"
   ]
  },
  {
   "cell_type": "code",
   "execution_count": 89,
   "metadata": {
    "collapsed": false
   },
   "outputs": [
    {
     "data": {
      "image/png": "[encoded data removed]",
      "text/latex": [
       "$$2 \\log{\\left (x - 2 \\right )} - \\log{\\left (x - 1 \\right )}$$"
      ],
      "text/plain": [
       "2⋅log(x - 2) - log(x - 1)"
      ]
     },
     "execution_count": 89,
     "metadata": {},
     "output_type": "execute_result"
    }
   ],
   "source": [
    "f = lambda x: x/((x-1)*(x-2))\n",
    "sympy.integrate(f(x))"
   ]
  },
  {
   "cell_type": "markdown",
   "metadata": {},
   "source": [
    "*Z integracijo po delih izracunaj\n",
    "$$\\int_{0}^{\\pi}x\\cos(x)dx.$$*"
   ]
  },
  {
   "cell_type": "code",
   "execution_count": 90,
   "metadata": {
    "collapsed": false
   },
   "outputs": [
    {
     "data": {
      "image/png": "[encoded data removed]",
      "text/latex": [
       "$$x \\sin{\\left (x \\right )} + \\cos{\\left (x \\right )}$$"
      ],
      "text/plain": [
       "x⋅sin(x) + cos(x)"
      ]
     },
     "execution_count": 90,
     "metadata": {},
     "output_type": "execute_result"
    }
   ],
   "source": [
    "f = lambda x: x*sympy.cos(x)\n",
    "sympy.integrate(f(x))"
   ]
  },
  {
   "cell_type": "markdown",
   "metadata": {},
   "source": [
    "# 3. naloga"
   ]
  },
  {
   "cell_type": "markdown",
   "metadata": {},
   "source": [
    "*Resi linearno diferencialno enacbo prvega reda\n",
    "$$ y' - \\frac{y}{x} = 2x^2.$$*"
   ]
  },
  {
   "cell_type": "code",
   "execution_count": 142,
   "metadata": {
    "collapsed": false
   },
   "outputs": [
    {
     "data": {
      "image/png": "[encoded data removed]",
      "text/latex": [
       "$$\\frac{d}{d x} f{\\left (x \\right )} - \\frac{1}{x} f{\\left (x \\right )} = 2 x^{2}$$"
      ],
      "text/plain": [
       "d          f(x)      2\n",
       "──(f(x)) - ──── = 2⋅x \n",
       "dx          x         "
      ]
     },
     "execution_count": 142,
     "metadata": {},
     "output_type": "execute_result"
    }
   ],
   "source": [
    "f = sympy.symbols('f', cls=sympy.Function)\n",
    "equation = sympy.Eq(f(x).diff(x)-f(x)/x, 2*x**2)\n",
    "equation"
   ]
  },
  {
   "cell_type": "code",
   "execution_count": 143,
   "metadata": {
    "collapsed": false
   },
   "outputs": [
    {
     "data": {
      "image/png": "[encoded data removed]",
      "text/latex": [
       "$$f{\\left (x \\right )} = x \\left(C_{1} + x^{2}\\right)$$"
      ],
      "text/plain": [
       "         ⎛      2⎞\n",
       "f(x) = x⋅⎝C₁ + x ⎠"
      ]
     },
     "execution_count": 143,
     "metadata": {},
     "output_type": "execute_result"
    }
   ],
   "source": [
    "solution = sympy.dsolve(equation, f(x))\n",
    "solution"
   ]
  },
  {
   "cell_type": "markdown",
   "metadata": {},
   "source": [
    "Upostevajmo se robni pogoj."
   ]
  },
  {
   "cell_type": "code",
   "execution_count": 145,
   "metadata": {
    "collapsed": false
   },
   "outputs": [
    {
     "data": {
      "image/png": "[encoded data removed]",
      "text/latex": [
       "$$2 = C_{1} + 1$$"
      ],
      "text/plain": [
       "2 = C₁ + 1"
      ]
     },
     "execution_count": 145,
     "metadata": {},
     "output_type": "execute_result"
    }
   ],
   "source": [
    "equation = solution.subs(f(x), 2).subs(x, 1)\n",
    "equation"
   ]
  },
  {
   "cell_type": "code",
   "execution_count": 150,
   "metadata": {
    "collapsed": false
   },
   "outputs": [
    {
     "data": {
      "image/png": "[encoded data removed]",
      "text/latex": [
       "$$f{\\left (x \\right )} = x^{3} + x$$"
      ],
      "text/plain": [
       "        3    \n",
       "f(x) = x  + x"
      ]
     },
     "execution_count": 150,
     "metadata": {},
     "output_type": "execute_result"
    }
   ],
   "source": [
    "c1 = sympy.solve(equation)[0]\n",
    "C1 = sympy.symbols('C1')\n",
    "sympy.expand(solution.subs(C1, c1))"
   ]
  },
  {
   "cell_type": "markdown",
   "metadata": {},
   "source": [
    "# 4. naloga"
   ]
  },
  {
   "cell_type": "markdown",
   "metadata": {},
   "source": [
    "*Turist si v cerkvi ogleduje 3m visoko okno, ki se nahaja 1m nad njegovimi ocmi. Kako dalec od stene, na kateri se nahajo okno, naj se postavi, da bo razlika kotov pod katerimi vidi spodnji in zgornji kot okna najvecja?*"
   ]
  },
  {
   "cell_type": "markdown",
   "metadata": {},
   "source": [
    "Najprej nastavimo enacbo. Kot, pod katerim iz razdalje $x$ vidimo spodnji del okna $\\arctan(\\frac{1}{x})$, zgorjnji del pa vidimo pod kotom $\\arctan(\\frac{4}{x})$. "
   ]
  },
  {
   "cell_type": "code",
   "execution_count": 161,
   "metadata": {
    "collapsed": false
   },
   "outputs": [
    {
     "data": {
      "image/png": "[encoded data removed]",
      "text/latex": [
       "$$- \\operatorname{atan}{\\left (\\frac{1}{x} \\right )} + \\operatorname{atan}{\\left (\\frac{4}{x} \\right )}$$"
      ],
      "text/plain": [
       "      ⎛1⎞       ⎛4⎞\n",
       "- atan⎜─⎟ + atan⎜─⎟\n",
       "      ⎝x⎠       ⎝x⎠"
      ]
     },
     "execution_count": 161,
     "metadata": {},
     "output_type": "execute_result"
    }
   ],
   "source": [
    "f = lambda x: sympy.atan(4/x) - sympy.atan(1/x)\n",
    "f(x)"
   ]
  },
  {
   "cell_type": "markdown",
   "metadata": {},
   "source": [
    "Kandidati za resitev so stacionarne tocke zgornje funkcije, torej nicle njenega odvoda."
   ]
  },
  {
   "cell_type": "code",
   "execution_count": 171,
   "metadata": {
    "collapsed": false
   },
   "outputs": [
    {
     "data": {
      "image/png": "[encoded data removed]",
      "text/latex": [
       "$$- \\frac{4}{x^{2} \\left(1 + \\frac{16}{x^{2}}\\right)} + \\frac{1}{x^{2} \\left(1 + \\frac{1}{x^{2}}\\right)} = 0$$"
      ],
      "text/plain": [
       "       4             1         \n",
       "- ─────────── + ─────────── = 0\n",
       "   2 ⎛    16⎞    2 ⎛    1 ⎞    \n",
       "  x ⋅⎜1 + ──⎟   x ⋅⎜1 + ──⎟    \n",
       "     ⎜     2⎟      ⎜     2⎟    \n",
       "     ⎝    x ⎠      ⎝    x ⎠    "
      ]
     },
     "execution_count": 171,
     "metadata": {},
     "output_type": "execute_result"
    }
   ],
   "source": [
    "x = sympy.symbols('x', positive=True)\n",
    "equation = sympy.Eq(f(x).diff(x), 0)\n",
    "equation"
   ]
  },
  {
   "cell_type": "code",
   "execution_count": 173,
   "metadata": {
    "collapsed": false
   },
   "outputs": [
    {
     "data": {
      "image/png": "[encoded data removed]",
      "text/latex": [
       "$$\\left [ 2\\right ]$$"
      ],
      "text/plain": [
       "[2]"
      ]
     },
     "execution_count": 173,
     "metadata": {},
     "output_type": "execute_result"
    }
   ],
   "source": [
    "solutions = sympy.solve(equation)\n",
    "solutions"
   ]
  },
  {
   "cell_type": "markdown",
   "metadata": {},
   "source": [
    "Postaviti se mora 2 metra od stene."
   ]
  }
 ],
 "metadata": {
  "kernelspec": {
   "display_name": "Python 3",
   "language": "python",
   "name": "python3"
  },
  "language_info": {
   "codemirror_mode": {
    "name": "ipython",
    "version": 3
   },
   "file_extension": ".py",
   "mimetype": "text/x-python",
   "name": "python",
   "nbconvert_exporter": "python",
   "pygments_lexer": "ipython3",
   "version": "3.4.3+"
  }
 },
 "nbformat": 4,
 "nbformat_minor": 0
}
