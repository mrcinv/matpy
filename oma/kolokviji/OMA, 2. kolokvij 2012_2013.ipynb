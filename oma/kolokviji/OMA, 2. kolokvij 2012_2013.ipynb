{
 "cells": [
  {
   "cell_type": "code",
   "execution_count": 1,
   "metadata": {
    "collapsed": false
   },
   "outputs": [
    {
     "name": "stdout",
     "output_type": "stream",
     "text": [
      "Installed tikzmagic.py. To use it, type:\n",
      "  %load_ext tikzmagic\n"
     ]
    },
    {
     "name": "stderr",
     "output_type": "stream",
     "text": [
      "/home/gregor/.virtualenvs/oma/lib/python3.4/site-packages/IPython/core/magics/extension.py:47: UserWarning: %install_ext` is deprecated, please distribute your extension(s)as a python packages.\n",
      "  \"as a python packages.\", UserWarning)\n"
     ]
    }
   ],
   "source": [
    "import math\n",
    "import sympy\n",
    "from sympy import latex, solve, Eq\n",
    "from IPython.display import HTML, display\n",
    "from sympy.abc import x, a, b\n",
    "\n",
    "%matplotlib notebook\n",
    "%install_ext https://raw.githubusercontent.com/meduz/ipython_magics/master/tikzmagic.py\n",
    "%load_ext tikzmagic\n",
    "    \n",
    "sympy.init_printing()"
   ]
  },
  {
   "cell_type": "markdown",
   "metadata": {},
   "source": [
    "# OMA 2. kolokvij 2012/2013"
   ]
  },
  {
   "cell_type": "markdown",
   "metadata": {},
   "source": [
    "## 1. naloga"
   ]
  },
  {
   "cell_type": "markdown",
   "metadata": {},
   "source": [
    "*V polkrog z radijem 1 vcrtamo pravokotnik ABCD tako, da oglisci A in B lezita na premeru, oglisci C in D pa na loku polkroga. Koliksni naj bosta dolzini stranic pravokotnika, da bo ploscina pravokotnika maksimalna?*"
   ]
  },
  {
   "cell_type": "code",
   "execution_count": 2,
   "metadata": {
    "collapsed": false
   },
   "outputs": [
    {
     "data": {
      "image/png": "[encoded data removed]"
     },
     "metadata": {},
     "output_type": "display_data"
    }
   ],
   "source": [
    "%%tikz s 400,400 -sc 1.2 -f png\n",
    "\\draw [domain=0:180] plot ({cos(\\x)}, {sin(\\x)});\n",
    "\\draw (-1,0) -- (1, 0);\n",
    "\\draw [color=red] (-0.5, 0) -- node[below, color=black] {2a} ++ (1, 0);\n",
    "\\draw [color=red] (-0.5, 0.8660254037844386) -- (0.5, 0.8660254037844386);\n",
    "\\draw [color=red] (-0.5, 0) -- node[left, color=black] {b} ++ (0, 0.8660254037844386);\n",
    "\\draw [color=red] (0.5, 0.8660254037844386) -- (0.5, 0);\n"
   ]
  },
  {
   "cell_type": "markdown",
   "metadata": {},
   "source": [
    "Maksimiziramo funkcijo $P(x)=2ab$. Velja tudi $a^2 + b^2 = 1$. Namesto ploscine bomo maksimizirali njen kvadrat (ki ima maksimum v isti tocki kot prvotna funkcija."
   ]
  },
  {
   "cell_type": "code",
   "execution_count": 3,
   "metadata": {
    "collapsed": false
   },
   "outputs": [
    {
     "data": {
      "image/png": "[encoded data removed]",
      "text/latex": [
       "$$P{\\left (b \\right )} = 4 b^{2} \\left(- b^{2} + 1\\right)$$"
      ],
      "text/plain": [
       "          2 ⎛   2    ⎞\n",
       "P(b) = 4⋅b ⋅⎝- b  + 1⎠"
      ]
     },
     "execution_count": 3,
     "metadata": {},
     "output_type": "execute_result"
    }
   ],
   "source": [
    "P = sympy.symbols('P', cls=sympy.Function)\n",
    "eq1 = Eq(P(b), (2*a*b)**2)\n",
    "eq2 = Eq(a**2+b**2, 1)\n",
    "equation = Eq(P(b), solve([eq1, eq2], P(b), a**2)[P(b)])\n",
    "equation"
   ]
  },
  {
   "cell_type": "code",
   "execution_count": 4,
   "metadata": {
    "collapsed": false
   },
   "outputs": [
    {
     "data": {
      "image/png": "[encoded data removed]",
      "text/latex": [
       "$$\\frac{\\sqrt{2}}{2}$$"
      ],
      "text/plain": [
       "  ___\n",
       "╲╱ 2 \n",
       "─────\n",
       "  2  "
      ]
     },
     "execution_count": 4,
     "metadata": {},
     "output_type": "execute_result"
    }
   ],
   "source": [
    "P = sympy.lambdify(b, equation.rhs)\n",
    "x = sympy.symbols('x', positive=True)\n",
    "solve(Eq(P(x).diff(x), 0))[0]"
   ]
  },
  {
   "cell_type": "markdown",
   "metadata": {},
   "source": [
    "## 2. naloga"
   ]
  },
  {
   "cell_type": "markdown",
   "metadata": {},
   "source": [
    "*Naj bo \n",
    "$$f(x,y)=3x^2-3y^2+8xy-6x-8y+3.$$*"
   ]
  },
  {
   "cell_type": "markdown",
   "metadata": {},
   "source": [
    "*Izracunaj gradient funkcije $f(x,y)$.*"
   ]
  },
  {
   "cell_type": "code",
   "execution_count": 5,
   "metadata": {
    "collapsed": false
   },
   "outputs": [
    {
     "data": {
      "image/png": "[encoded data removed]",
      "text/latex": [
       "$$\\left ( 6 x + 8 y - 6, \\quad 8 x - 6 y - 8\\right )$$"
      ],
      "text/plain": [
       "(6⋅x + 8⋅y - 6, 8⋅x - 6⋅y - 8)"
      ]
     },
     "execution_count": 5,
     "metadata": {},
     "output_type": "execute_result"
    }
   ],
   "source": [
    "x, y = sympy.symbols('x y')\n",
    "f = lambda x, y: 3*x**2 - 3*y**2 + 8*x*y-6*x-8*y+3\n",
    "f(x,y).diff(x), f(x,y).diff(y)"
   ]
  },
  {
   "cell_type": "markdown",
   "metadata": {},
   "source": [
    "*Izracunaj stacionarne tocke funkcije $f(x,y)$.*"
   ]
  },
  {
   "cell_type": "code",
   "execution_count": 6,
   "metadata": {
    "collapsed": false
   },
   "outputs": [
    {
     "data": {
      "image/png": "[encoded data removed]",
      "text/latex": [
       "$$\\left \\{ x : 1, \\quad y : 0\\right \\}$$"
      ],
      "text/plain": [
       "{x: 1, y: 0}"
      ]
     },
     "execution_count": 6,
     "metadata": {},
     "output_type": "execute_result"
    }
   ],
   "source": [
    "sympy.solve([f(x,y).diff(x), f(x,y).diff(y)])"
   ]
  },
  {
   "cell_type": "markdown",
   "metadata": {},
   "source": [
    "## 3. naloga"
   ]
  },
  {
   "cell_type": "markdown",
   "metadata": {},
   "source": [
    "*Izracunaj odvod funkcije\n",
    "$$\\frac{\\cos(x)}{\\sin(x)}.$$*\n"
   ]
  },
  {
   "cell_type": "code",
   "execution_count": 7,
   "metadata": {
    "collapsed": false
   },
   "outputs": [
    {
     "data": {
      "image/png": "[encoded data removed]",
      "text/latex": [
       "$$- \\frac{1}{\\sin^{2}{\\left (x \\right )}}$$"
      ],
      "text/plain": [
       "  -1   \n",
       "───────\n",
       "   2   \n",
       "sin (x)"
      ]
     },
     "execution_count": 7,
     "metadata": {},
     "output_type": "execute_result"
    }
   ],
   "source": [
    "x = sympy.symbols('x')\n",
    "f = lambda x: sympy.cos(x)/sympy.sin(x)\n",
    "sympy.simplify(f(x).diff())"
   ]
  },
  {
   "cell_type": "markdown",
   "metadata": {},
   "source": [
    "*S pomocjo substitucije izracunaj nedoloceni integral\n",
    "$$\\int \\frac{\\cos(x)}{\\sin(x)}.$$\n",
    "*"
   ]
  },
  {
   "cell_type": "code",
   "execution_count": 8,
   "metadata": {
    "collapsed": false
   },
   "outputs": [
    {
     "data": {
      "image/png": "[encoded data removed]",
      "text/latex": [
       "$$\\frac{1}{2} \\log{\\left (- \\sin^{2}{\\left (x \\right )} \\right )}$$"
      ],
      "text/plain": [
       "   ⎛    2   ⎞\n",
       "log⎝-sin (x)⎠\n",
       "─────────────\n",
       "      2      "
      ]
     },
     "execution_count": 8,
     "metadata": {},
     "output_type": "execute_result"
    }
   ],
   "source": [
    "sympy.simplify(f(x).integrate())"
   ]
  },
  {
   "cell_type": "markdown",
   "metadata": {},
   "source": [
    "V zgorjem racunu poleg konstante znotraj funkcije $\\log$ manjka se absolutna vrednost (sympy racuna v kompleksnih stevilih), tako da je pravi rezultat\n",
    "$$ \\frac{1}{2}\\log(\\sin^2(x)) + C = \\log(\\sin^2(x)) + C.$$"
   ]
  },
  {
   "cell_type": "markdown",
   "metadata": {},
   "source": [
    "*S pomocjo pravila za integriranje po delih izracunaj\n",
    "$$\\int\\frac{x}{\\sin^2(x)}.$$*"
   ]
  },
  {
   "cell_type": "code",
   "execution_count": 9,
   "metadata": {
    "collapsed": false
   },
   "outputs": [
    {
     "data": {
      "image/png": "[encoded data removed]",
      "text/latex": [
       "$$\\frac{x}{2} \\tan{\\left (\\frac{x}{2} \\right )} - \\frac{x}{2 \\tan{\\left (\\frac{x}{2} \\right )}} - \\log{\\left (\\frac{1}{\\cos{\\left (x \\right )} + 1} \\right )} + \\log{\\left (\\tan{\\left (\\frac{x}{2} \\right )} \\right )} - \\log{\\left (2 \\right )}$$"
      ],
      "text/plain": [
       "     ⎛x⎞                                                    \n",
       "x⋅tan⎜─⎟                                                    \n",
       "     ⎝2⎠      x          ⎛    1     ⎞      ⎛   ⎛x⎞⎞         \n",
       "──────── - ──────── - log⎜──────────⎟ + log⎜tan⎜─⎟⎟ - log(2)\n",
       "   2            ⎛x⎞      ⎝cos(x) + 1⎠      ⎝   ⎝2⎠⎠         \n",
       "           2⋅tan⎜─⎟                                         \n",
       "                ⎝2⎠                                         "
      ]
     },
     "execution_count": 9,
     "metadata": {},
     "output_type": "execute_result"
    }
   ],
   "source": [
    "x = sympy.symbols('x')\n",
    "f = lambda x: x/sympy.sin(x)**2\n",
    "sympy.simplify(f(x).integrate())"
   ]
  },
  {
   "cell_type": "markdown",
   "metadata": {},
   "source": [
    "Tudi to resitev se da poenostaviti v \n",
    "$$ \\int\\frac{x}{\\sin^2(x)} = \\log(|\\sin(x)|) - x\\cot(x) + C.$$"
   ]
  },
  {
   "cell_type": "markdown",
   "metadata": {},
   "source": [
    "## 4. naloga"
   ]
  },
  {
   "cell_type": "markdown",
   "metadata": {},
   "source": [
    "*Narisite lik, ki ga omejujeta krivulji $y=e^{2x}$ in $y=-e^{2x}+4$. Izracunajte ploscino lika.*\n"
   ]
  },
  {
   "cell_type": "code",
   "execution_count": 277,
   "metadata": {
    "collapsed": false
   },
   "outputs": [
    {
     "data": {
      "application/javascript": [
       "/* Put everything inside the global mpl namespace */\n",
       "window.mpl = {};\n",
       "\n",
       "mpl.get_websocket_type = function() {\n",
       "    if (typeof(WebSocket) !== 'undefined') {\n",
       "        return WebSocket;\n",
       "    } else if (typeof(MozWebSocket) !== 'undefined') {\n",
       "        return MozWebSocket;\n",
       "    } else {\n",
       "        alert('Your browser does not have WebSocket support.' +\n",
       "              'Please try Chrome, Safari or Firefox ≥ 6. ' +\n",
       "              'Firefox 4 and 5 are also supported but you ' +\n",
       "              'have to enable WebSockets in about:config.');\n",
       "    };\n",
       "}\n",
       "\n",
       "mpl.figure = function(figure_id, websocket, ondownload, parent_element) {\n",
       "    this.id = figure_id;\n",
       "\n",
       "    this.ws = websocket;\n",
       "\n",
       "    this.supports_binary = (this.ws.binaryType != undefined);\n",
       "\n",
       "    if (!this.supports_binary) {\n",
       "        var warnings = document.getElementById(\"mpl-warnings\");\n",
       "        if (warnings) {\n",
       "            warnings.style.display = 'block';\n",
       "            warnings.textContent = (\n",
       "                \"This browser does not support binary websocket messages. \" +\n",
       "                    \"Performance may be slow.\");\n",
       "        }\n",
       "    }\n",
       "\n",
       "    this.imageObj = new Image();\n",
       "\n",
       "    this.context = undefined;\n",
       "    this.message = undefined;\n",
       "    this.canvas = undefined;\n",
       "    this.rubberband_canvas = undefined;\n",
       "    this.rubberband_context = undefined;\n",
       "    this.format_dropdown = undefined;\n",
       "\n",
       "    this.image_mode = 'full';\n",
       "\n",
       "    this.root = $('<div/>');\n",
       "    this._root_extra_style(this.root)\n",
       "    this.root.attr('style', 'display: inline-block');\n",
       "\n",
       "    $(parent_element).append(this.root);\n",
       "\n",
       "    this._init_header(this);\n",
       "    this._init_canvas(this);\n",
       "    this._init_toolbar(this);\n",
       "\n",
       "    var fig = this;\n",
       "\n",
       "    this.waiting = false;\n",
       "\n",
       "    this.ws.onopen =  function () {\n",
       "            fig.send_message(\"supports_binary\", {value: fig.supports_binary});\n",
       "            fig.send_message(\"send_image_mode\", {});\n",
       "            fig.send_message(\"refresh\", {});\n",
       "        }\n",
       "\n",
       "    this.imageObj.onload = function() {\n",
       "            if (fig.image_mode == 'full') {\n",
       "                // Full images could contain transparency (where diff images\n",
       "                // almost always do), so we need to clear the canvas so that\n",
       "                // there is no ghosting.\n",
       "                fig.context.clearRect(0, 0, fig.canvas.width, fig.canvas.height);\n",
       "            }\n",
       "            fig.context.drawImage(fig.imageObj, 0, 0);\n",
       "        };\n",
       "\n",
       "    this.imageObj.onunload = function() {\n",
       "        this.ws.close();\n",
       "    }\n",
       "\n",
       "    this.ws.onmessage = this._make_on_message_function(this);\n",
       "\n",
       "    this.ondownload = ondownload;\n",
       "}\n",
       "\n",
       "mpl.figure.prototype._init_header = function() {\n",
       "    var titlebar = $(\n",
       "        '<div class=\"ui-dialog-titlebar ui-widget-header ui-corner-all ' +\n",
       "        'ui-helper-clearfix\"/>');\n",
       "    var titletext = $(\n",
       "        '<div class=\"ui-dialog-title\" style=\"width: 100%; ' +\n",
       "        'text-align: center; padding: 3px;\"/>');\n",
       "    titlebar.append(titletext)\n",
       "    this.root.append(titlebar);\n",
       "    this.header = titletext[0];\n",
       "}\n",
       "\n",
       "\n",
       "\n",
       "mpl.figure.prototype._canvas_extra_style = function(canvas_div) {\n",
       "\n",
       "}\n",
       "\n",
       "\n",
       "mpl.figure.prototype._root_extra_style = function(canvas_div) {\n",
       "\n",
       "}\n",
       "\n",
       "mpl.figure.prototype._init_canvas = function() {\n",
       "    var fig = this;\n",
       "\n",
       "    var canvas_div = $('<div/>');\n",
       "\n",
       "    canvas_div.attr('style', 'position: relative; clear: both; outline: 0');\n",
       "\n",
       "    function canvas_keyboard_event(event) {\n",
       "        return fig.key_event(event, event['data']);\n",
       "    }\n",
       "\n",
       "    canvas_div.keydown('key_press', canvas_keyboard_event);\n",
       "    canvas_div.keyup('key_release', canvas_keyboard_event);\n",
       "    this.canvas_div = canvas_div\n",
       "    this._canvas_extra_style(canvas_div)\n",
       "    this.root.append(canvas_div);\n",
       "\n",
       "    var canvas = $('<canvas/>');\n",
       "    canvas.addClass('mpl-canvas');\n",
       "    canvas.attr('style', \"left: 0; top: 0; z-index: 0; outline: 0\")\n",
       "\n",
       "    this.canvas = canvas[0];\n",
       "    this.context = canvas[0].getContext(\"2d\");\n",
       "\n",
       "    var rubberband = $('<canvas/>');\n",
       "    rubberband.attr('style', \"position: absolute; left: 0; top: 0; z-index: 1;\")\n",
       "\n",
       "    var pass_mouse_events = true;\n",
       "\n",
       "    canvas_div.resizable({\n",
       "        start: function(event, ui) {\n",
       "            pass_mouse_events = false;\n",
       "        },\n",
       "        resize: function(event, ui) {\n",
       "            fig.request_resize(ui.size.width, ui.size.height);\n",
       "        },\n",
       "        stop: function(event, ui) {\n",
       "            pass_mouse_events = true;\n",
       "            fig.request_resize(ui.size.width, ui.size.height);\n",
       "        },\n",
       "    });\n",
       "\n",
       "    function mouse_event_fn(event) {\n",
       "        if (pass_mouse_events)\n",
       "            return fig.mouse_event(event, event['data']);\n",
       "    }\n",
       "\n",
       "    rubberband.mousedown('button_press', mouse_event_fn);\n",
       "    rubberband.mouseup('button_release', mouse_event_fn);\n",
       "    // Throttle sequential mouse events to 1 every 20ms.\n",
       "    rubberband.mousemove('motion_notify', mouse_event_fn);\n",
       "\n",
       "    rubberband.mouseenter('figure_enter', mouse_event_fn);\n",
       "    rubberband.mouseleave('figure_leave', mouse_event_fn);\n",
       "\n",
       "    canvas_div.on(\"wheel\", function (event) {\n",
       "        event = event.originalEvent;\n",
       "        event['data'] = 'scroll'\n",
       "        if (event.deltaY < 0) {\n",
       "            event.step = 1;\n",
       "        } else {\n",
       "            event.step = -1;\n",
       "        }\n",
       "        mouse_event_fn(event);\n",
       "    });\n",
       "\n",
       "    canvas_div.append(canvas);\n",
       "    canvas_div.append(rubberband);\n",
       "\n",
       "    this.rubberband = rubberband;\n",
       "    this.rubberband_canvas = rubberband[0];\n",
       "    this.rubberband_context = rubberband[0].getContext(\"2d\");\n",
       "    this.rubberband_context.strokeStyle = \"#000000\";\n",
       "\n",
       "    this._resize_canvas = function(width, height) {\n",
       "        // Keep the size of the canvas, canvas container, and rubber band\n",
       "        // canvas in synch.\n",
       "        canvas_div.css('width', width)\n",
       "        canvas_div.css('height', height)\n",
       "\n",
       "        canvas.attr('width', width);\n",
       "        canvas.attr('height', height);\n",
       "\n",
       "        rubberband.attr('width', width);\n",
       "        rubberband.attr('height', height);\n",
       "    }\n",
       "\n",
       "    // Set the figure to an initial 600x600px, this will subsequently be updated\n",
       "    // upon first draw.\n",
       "    this._resize_canvas(600, 600);\n",
       "\n",
       "    // Disable right mouse context menu.\n",
       "    $(this.rubberband_canvas).bind(\"contextmenu\",function(e){\n",
       "        return false;\n",
       "    });\n",
       "\n",
       "    function set_focus () {\n",
       "        canvas.focus();\n",
       "        canvas_div.focus();\n",
       "    }\n",
       "\n",
       "    window.setTimeout(set_focus, 100);\n",
       "}\n",
       "\n",
       "mpl.figure.prototype._init_toolbar = function() {\n",
       "    var fig = this;\n",
       "\n",
       "    var nav_element = $('<div/>')\n",
       "    nav_element.attr('style', 'width: 100%');\n",
       "    this.root.append(nav_element);\n",
       "\n",
       "    // Define a callback function for later on.\n",
       "    function toolbar_event(event) {\n",
       "        return fig.toolbar_button_onclick(event['data']);\n",
       "    }\n",
       "    function toolbar_mouse_event(event) {\n",
       "        return fig.toolbar_button_onmouseover(event['data']);\n",
       "    }\n",
       "\n",
       "    for(var toolbar_ind in mpl.toolbar_items) {\n",
       "        var name = mpl.toolbar_items[toolbar_ind][0];\n",
       "        var tooltip = mpl.toolbar_items[toolbar_ind][1];\n",
       "        var image = mpl.toolbar_items[toolbar_ind][2];\n",
       "        var method_name = mpl.toolbar_items[toolbar_ind][3];\n",
       "\n",
       "        if (!name) {\n",
       "            // put a spacer in here.\n",
       "            continue;\n",
       "        }\n",
       "        var button = $('<button/>');\n",
       "        button.addClass('ui-button ui-widget ui-state-default ui-corner-all ' +\n",
       "                        'ui-button-icon-only');\n",
       "        button.attr('role', 'button');\n",
       "        button.attr('aria-disabled', 'false');\n",
       "        button.click(method_name, toolbar_event);\n",
       "        button.mouseover(tooltip, toolbar_mouse_event);\n",
       "\n",
       "        var icon_img = $('<span/>');\n",
       "        icon_img.addClass('ui-button-icon-primary ui-icon');\n",
       "        icon_img.addClass(image);\n",
       "        icon_img.addClass('ui-corner-all');\n",
       "\n",
       "        var tooltip_span = $('<span/>');\n",
       "        tooltip_span.addClass('ui-button-text');\n",
       "        tooltip_span.html(tooltip);\n",
       "\n",
       "        button.append(icon_img);\n",
       "        button.append(tooltip_span);\n",
       "\n",
       "        nav_element.append(button);\n",
       "    }\n",
       "\n",
       "    var fmt_picker_span = $('<span/>');\n",
       "\n",
       "    var fmt_picker = $('<select/>');\n",
       "    fmt_picker.addClass('mpl-toolbar-option ui-widget ui-widget-content');\n",
       "    fmt_picker_span.append(fmt_picker);\n",
       "    nav_element.append(fmt_picker_span);\n",
       "    this.format_dropdown = fmt_picker[0];\n",
       "\n",
       "    for (var ind in mpl.extensions) {\n",
       "        var fmt = mpl.extensions[ind];\n",
       "        var option = $(\n",
       "            '<option/>', {selected: fmt === mpl.default_extension}).html(fmt);\n",
       "        fmt_picker.append(option)\n",
       "    }\n",
       "\n",
       "    // Add hover states to the ui-buttons\n",
       "    $( \".ui-button\" ).hover(\n",
       "        function() { $(this).addClass(\"ui-state-hover\");},\n",
       "        function() { $(this).removeClass(\"ui-state-hover\");}\n",
       "    );\n",
       "\n",
       "    var status_bar = $('<span class=\"mpl-message\"/>');\n",
       "    nav_element.append(status_bar);\n",
       "    this.message = status_bar[0];\n",
       "}\n",
       "\n",
       "mpl.figure.prototype.request_resize = function(x_pixels, y_pixels) {\n",
       "    // Request matplotlib to resize the figure. Matplotlib will then trigger a resize in the client,\n",
       "    // which will in turn request a refresh of the image.\n",
       "    this.send_message('resize', {'width': x_pixels, 'height': y_pixels});\n",
       "}\n",
       "\n",
       "mpl.figure.prototype.send_message = function(type, properties) {\n",
       "    properties['type'] = type;\n",
       "    properties['figure_id'] = this.id;\n",
       "    this.ws.send(JSON.stringify(properties));\n",
       "}\n",
       "\n",
       "mpl.figure.prototype.send_draw_message = function() {\n",
       "    if (!this.waiting) {\n",
       "        this.waiting = true;\n",
       "        this.ws.send(JSON.stringify({type: \"draw\", figure_id: this.id}));\n",
       "    }\n",
       "}\n",
       "\n",
       "\n",
       "mpl.figure.prototype.handle_save = function(fig, msg) {\n",
       "    var format_dropdown = fig.format_dropdown;\n",
       "    var format = format_dropdown.options[format_dropdown.selectedIndex].value;\n",
       "    fig.ondownload(fig, format);\n",
       "}\n",
       "\n",
       "\n",
       "mpl.figure.prototype.handle_resize = function(fig, msg) {\n",
       "    var size = msg['size'];\n",
       "    if (size[0] != fig.canvas.width || size[1] != fig.canvas.height) {\n",
       "        fig._resize_canvas(size[0], size[1]);\n",
       "        fig.send_message(\"refresh\", {});\n",
       "    };\n",
       "}\n",
       "\n",
       "mpl.figure.prototype.handle_rubberband = function(fig, msg) {\n",
       "    var x0 = msg['x0'];\n",
       "    var y0 = fig.canvas.height - msg['y0'];\n",
       "    var x1 = msg['x1'];\n",
       "    var y1 = fig.canvas.height - msg['y1'];\n",
       "    x0 = Math.floor(x0) + 0.5;\n",
       "    y0 = Math.floor(y0) + 0.5;\n",
       "    x1 = Math.floor(x1) + 0.5;\n",
       "    y1 = Math.floor(y1) + 0.5;\n",
       "    var min_x = Math.min(x0, x1);\n",
       "    var min_y = Math.min(y0, y1);\n",
       "    var width = Math.abs(x1 - x0);\n",
       "    var height = Math.abs(y1 - y0);\n",
       "\n",
       "    fig.rubberband_context.clearRect(\n",
       "        0, 0, fig.canvas.width, fig.canvas.height);\n",
       "\n",
       "    fig.rubberband_context.strokeRect(min_x, min_y, width, height);\n",
       "}\n",
       "\n",
       "mpl.figure.prototype.handle_figure_label = function(fig, msg) {\n",
       "    // Updates the figure title.\n",
       "    fig.header.textContent = msg['label'];\n",
       "}\n",
       "\n",
       "mpl.figure.prototype.handle_cursor = function(fig, msg) {\n",
       "    var cursor = msg['cursor'];\n",
       "    switch(cursor)\n",
       "    {\n",
       "    case 0:\n",
       "        cursor = 'pointer';\n",
       "        break;\n",
       "    case 1:\n",
       "        cursor = 'default';\n",
       "        break;\n",
       "    case 2:\n",
       "        cursor = 'crosshair';\n",
       "        break;\n",
       "    case 3:\n",
       "        cursor = 'move';\n",
       "        break;\n",
       "    }\n",
       "    fig.rubberband_canvas.style.cursor = cursor;\n",
       "}\n",
       "\n",
       "mpl.figure.prototype.handle_message = function(fig, msg) {\n",
       "    fig.message.textContent = msg['message'];\n",
       "}\n",
       "\n",
       "mpl.figure.prototype.handle_draw = function(fig, msg) {\n",
       "    // Request the server to send over a new figure.\n",
       "    fig.send_draw_message();\n",
       "}\n",
       "\n",
       "mpl.figure.prototype.handle_image_mode = function(fig, msg) {\n",
       "    fig.image_mode = msg['mode'];\n",
       "}\n",
       "\n",
       "mpl.figure.prototype.updated_canvas_event = function() {\n",
       "    // Called whenever the canvas gets updated.\n",
       "    this.send_message(\"ack\", {});\n",
       "}\n",
       "\n",
       "// A function to construct a web socket function for onmessage handling.\n",
       "// Called in the figure constructor.\n",
       "mpl.figure.prototype._make_on_message_function = function(fig) {\n",
       "    return function socket_on_message(evt) {\n",
       "        if (evt.data instanceof Blob) {\n",
       "            /* FIXME: We get \"Resource interpreted as Image but\n",
       "             * transferred with MIME type text/plain:\" errors on\n",
       "             * Chrome.  But how to set the MIME type?  It doesn't seem\n",
       "             * to be part of the websocket stream */\n",
       "            evt.data.type = \"image/png\";\n",
       "\n",
       "            /* Free the memory for the previous frames */\n",
       "            if (fig.imageObj.src) {\n",
       "                (window.URL || window.webkitURL).revokeObjectURL(\n",
       "                    fig.imageObj.src);\n",
       "            }\n",
       "\n",
       "            fig.imageObj.src = (window.URL || window.webkitURL).createObjectURL(\n",
       "                evt.data);\n",
       "            fig.updated_canvas_event();\n",
       "            fig.waiting = false;\n",
       "            return;\n",
       "        }\n",
       "        else if (typeof evt.data === 'string' && evt.data.slice(0, 21) == \"data:image/png;base64\") {\n",
       "            fig.imageObj.src = evt.data;\n",
       "            fig.updated_canvas_event();\n",
       "            fig.waiting = false;\n",
       "            return;\n",
       "        }\n",
       "\n",
       "        var msg = JSON.parse(evt.data);\n",
       "        var msg_type = msg['type'];\n",
       "\n",
       "        // Call the  \"handle_{type}\" callback, which takes\n",
       "        // the figure and JSON message as its only arguments.\n",
       "        try {\n",
       "            var callback = fig[\"handle_\" + msg_type];\n",
       "        } catch (e) {\n",
       "            console.log(\"No handler for the '\" + msg_type + \"' message type: \", msg);\n",
       "            return;\n",
       "        }\n",
       "\n",
       "        if (callback) {\n",
       "            try {\n",
       "                // console.log(\"Handling '\" + msg_type + \"' message: \", msg);\n",
       "                callback(fig, msg);\n",
       "            } catch (e) {\n",
       "                console.log(\"Exception inside the 'handler_\" + msg_type + \"' callback:\", e, e.stack, msg);\n",
       "            }\n",
       "        }\n",
       "    };\n",
       "}\n",
       "\n",
       "// from http://stackoverflow.com/questions/1114465/getting-mouse-location-in-canvas\n",
       "mpl.findpos = function(e) {\n",
       "    //this section is from http://www.quirksmode.org/js/events_properties.html\n",
       "    var targ;\n",
       "    if (!e)\n",
       "        e = window.event;\n",
       "    if (e.target)\n",
       "        targ = e.target;\n",
       "    else if (e.srcElement)\n",
       "        targ = e.srcElement;\n",
       "    if (targ.nodeType == 3) // defeat Safari bug\n",
       "        targ = targ.parentNode;\n",
       "\n",
       "    // jQuery normalizes the pageX and pageY\n",
       "    // pageX,Y are the mouse positions relative to the document\n",
       "    // offset() returns the position of the element relative to the document\n",
       "    var x = e.pageX - $(targ).offset().left;\n",
       "    var y = e.pageY - $(targ).offset().top;\n",
       "\n",
       "    return {\"x\": x, \"y\": y};\n",
       "};\n",
       "\n",
       "/*\n",
       " * return a copy of an object with only non-object keys\n",
       " * we need this to avoid circular references\n",
       " * http://stackoverflow.com/a/24161582/3208463\n",
       " */\n",
       "function simpleKeys (original) {\n",
       "  return Object.keys(original).reduce(function (obj, key) {\n",
       "    if (typeof original[key] !== 'object')\n",
       "        obj[key] = original[key]\n",
       "    return obj;\n",
       "  }, {});\n",
       "}\n",
       "\n",
       "mpl.figure.prototype.mouse_event = function(event, name) {\n",
       "    var canvas_pos = mpl.findpos(event)\n",
       "\n",
       "    if (name === 'button_press')\n",
       "    {\n",
       "        this.canvas.focus();\n",
       "        this.canvas_div.focus();\n",
       "    }\n",
       "\n",
       "    var x = canvas_pos.x;\n",
       "    var y = canvas_pos.y;\n",
       "\n",
       "    this.send_message(name, {x: x, y: y, button: event.button,\n",
       "                             step: event.step,\n",
       "                             guiEvent: simpleKeys(event)});\n",
       "\n",
       "    /* This prevents the web browser from automatically changing to\n",
       "     * the text insertion cursor when the button is pressed.  We want\n",
       "     * to control all of the cursor setting manually through the\n",
       "     * 'cursor' event from matplotlib */\n",
       "    event.preventDefault();\n",
       "    return false;\n",
       "}\n",
       "\n",
       "mpl.figure.prototype._key_event_extra = function(event, name) {\n",
       "    // Handle any extra behaviour associated with a key event\n",
       "}\n",
       "\n",
       "mpl.figure.prototype.key_event = function(event, name) {\n",
       "\n",
       "    // Prevent repeat events\n",
       "    if (name == 'key_press')\n",
       "    {\n",
       "        if (event.which === this._key)\n",
       "            return;\n",
       "        else\n",
       "            this._key = event.which;\n",
       "    }\n",
       "    if (name == 'key_release')\n",
       "        this._key = null;\n",
       "\n",
       "    var value = '';\n",
       "    if (event.ctrlKey && event.which != 17)\n",
       "        value += \"ctrl+\";\n",
       "    if (event.altKey && event.which != 18)\n",
       "        value += \"alt+\";\n",
       "    if (event.shiftKey && event.which != 16)\n",
       "        value += \"shift+\";\n",
       "\n",
       "    value += 'k';\n",
       "    value += event.which.toString();\n",
       "\n",
       "    this._key_event_extra(event, name);\n",
       "\n",
       "    this.send_message(name, {key: value,\n",
       "                             guiEvent: simpleKeys(event)});\n",
       "    return false;\n",
       "}\n",
       "\n",
       "mpl.figure.prototype.toolbar_button_onclick = function(name) {\n",
       "    if (name == 'download') {\n",
       "        this.handle_save(this, null);\n",
       "    } else {\n",
       "        this.send_message(\"toolbar_button\", {name: name});\n",
       "    }\n",
       "};\n",
       "\n",
       "mpl.figure.prototype.toolbar_button_onmouseover = function(tooltip) {\n",
       "    this.message.textContent = tooltip;\n",
       "};\n",
       "mpl.toolbar_items = [[\"Home\", \"Reset original view\", \"fa fa-home icon-home\", \"home\"], [\"Back\", \"Back to  previous view\", \"fa fa-arrow-left icon-arrow-left\", \"back\"], [\"Forward\", \"Forward to next view\", \"fa fa-arrow-right icon-arrow-right\", \"forward\"], [\"\", \"\", \"\", \"\"], [\"Pan\", \"Pan axes with left mouse, zoom with right\", \"fa fa-arrows icon-move\", \"pan\"], [\"Zoom\", \"Zoom to rectangle\", \"fa fa-square-o icon-check-empty\", \"zoom\"], [\"\", \"\", \"\", \"\"], [\"Download\", \"Download plot\", \"fa fa-floppy-o icon-save\", \"download\"]];\n",
       "\n",
       "mpl.extensions = [\"eps\", \"pdf\", \"png\", \"ps\", \"raw\", \"svg\"];\n",
       "\n",
       "mpl.default_extension = \"png\";var comm_websocket_adapter = function(comm) {\n",
       "    // Create a \"websocket\"-like object which calls the given IPython comm\n",
       "    // object with the appropriate methods. Currently this is a non binary\n",
       "    // socket, so there is still some room for performance tuning.\n",
       "    var ws = {};\n",
       "\n",
       "    ws.close = function() {\n",
       "        comm.close()\n",
       "    };\n",
       "    ws.send = function(m) {\n",
       "        //console.log('sending', m);\n",
       "        comm.send(m);\n",
       "    };\n",
       "    // Register the callback with on_msg.\n",
       "    comm.on_msg(function(msg) {\n",
       "        //console.log('receiving', msg['content']['data'], msg);\n",
       "        // Pass the mpl event to the overriden (by mpl) onmessage function.\n",
       "        ws.onmessage(msg['content']['data'])\n",
       "    });\n",
       "    return ws;\n",
       "}\n",
       "\n",
       "mpl.mpl_figure_comm = function(comm, msg) {\n",
       "    // This is the function which gets called when the mpl process\n",
       "    // starts-up an IPython Comm through the \"matplotlib\" channel.\n",
       "\n",
       "    var id = msg.content.data.id;\n",
       "    // Get hold of the div created by the display call when the Comm\n",
       "    // socket was opened in Python.\n",
       "    var element = $(\"#\" + id);\n",
       "    var ws_proxy = comm_websocket_adapter(comm)\n",
       "\n",
       "    function ondownload(figure, format) {\n",
       "        window.open(figure.imageObj.src);\n",
       "    }\n",
       "\n",
       "    var fig = new mpl.figure(id, ws_proxy,\n",
       "                           ondownload,\n",
       "                           element.get(0));\n",
       "\n",
       "    // Call onopen now - mpl needs it, as it is assuming we've passed it a real\n",
       "    // web socket which is closed, not our websocket->open comm proxy.\n",
       "    ws_proxy.onopen();\n",
       "\n",
       "    fig.parent_element = element.get(0);\n",
       "    fig.cell_info = mpl.find_output_cell(\"<div id='\" + id + \"'></div>\");\n",
       "    if (!fig.cell_info) {\n",
       "        console.error(\"Failed to find cell for figure\", id, fig);\n",
       "        return;\n",
       "    }\n",
       "\n",
       "    var output_index = fig.cell_info[2]\n",
       "    var cell = fig.cell_info[0];\n",
       "\n",
       "};\n",
       "\n",
       "mpl.figure.prototype.handle_close = function(fig, msg) {\n",
       "    fig.root.unbind('remove')\n",
       "\n",
       "    // Update the output cell to use the data from the current canvas.\n",
       "    fig.push_to_output();\n",
       "    var dataURL = fig.canvas.toDataURL();\n",
       "    // Re-enable the keyboard manager in IPython - without this line, in FF,\n",
       "    // the notebook keyboard shortcuts fail.\n",
       "    IPython.keyboard_manager.enable()\n",
       "    $(fig.parent_element).html('<img src=\"' + dataURL + '\">');\n",
       "    fig.close_ws(fig, msg);\n",
       "}\n",
       "\n",
       "mpl.figure.prototype.close_ws = function(fig, msg){\n",
       "    fig.send_message('closing', msg);\n",
       "    // fig.ws.close()\n",
       "}\n",
       "\n",
       "mpl.figure.prototype.push_to_output = function(remove_interactive) {\n",
       "    // Turn the data on the canvas into data in the output cell.\n",
       "    var dataURL = this.canvas.toDataURL();\n",
       "    this.cell_info[1]['text/html'] = '<img src=\"' + dataURL + '\">';\n",
       "}\n",
       "\n",
       "mpl.figure.prototype.updated_canvas_event = function() {\n",
       "    // Tell IPython that the notebook contents must change.\n",
       "    IPython.notebook.set_dirty(true);\n",
       "    this.send_message(\"ack\", {});\n",
       "    var fig = this;\n",
       "    // Wait a second, then push the new image to the DOM so\n",
       "    // that it is saved nicely (might be nice to debounce this).\n",
       "    setTimeout(function () { fig.push_to_output() }, 1000);\n",
       "}\n",
       "\n",
       "mpl.figure.prototype._init_toolbar = function() {\n",
       "    var fig = this;\n",
       "\n",
       "    var nav_element = $('<div/>')\n",
       "    nav_element.attr('style', 'width: 100%');\n",
       "    this.root.append(nav_element);\n",
       "\n",
       "    // Define a callback function for later on.\n",
       "    function toolbar_event(event) {\n",
       "        return fig.toolbar_button_onclick(event['data']);\n",
       "    }\n",
       "    function toolbar_mouse_event(event) {\n",
       "        return fig.toolbar_button_onmouseover(event['data']);\n",
       "    }\n",
       "\n",
       "    for(var toolbar_ind in mpl.toolbar_items){\n",
       "        var name = mpl.toolbar_items[toolbar_ind][0];\n",
       "        var tooltip = mpl.toolbar_items[toolbar_ind][1];\n",
       "        var image = mpl.toolbar_items[toolbar_ind][2];\n",
       "        var method_name = mpl.toolbar_items[toolbar_ind][3];\n",
       "\n",
       "        if (!name) { continue; };\n",
       "\n",
       "        var button = $('<button class=\"btn btn-default\" href=\"#\" title=\"' + name + '\"><i class=\"fa ' + image + ' fa-lg\"></i></button>');\n",
       "        button.click(method_name, toolbar_event);\n",
       "        button.mouseover(tooltip, toolbar_mouse_event);\n",
       "        nav_element.append(button);\n",
       "    }\n",
       "\n",
       "    // Add the status bar.\n",
       "    var status_bar = $('<span class=\"mpl-message\" style=\"text-align:right; float: right;\"/>');\n",
       "    nav_element.append(status_bar);\n",
       "    this.message = status_bar[0];\n",
       "\n",
       "    // Add the close button to the window.\n",
       "    var buttongrp = $('<div class=\"btn-group inline pull-right\"></div>');\n",
       "    var button = $('<button class=\"btn btn-mini btn-primary\" href=\"#\" title=\"Stop Interaction\"><i class=\"fa fa-power-off icon-remove icon-large\"></i></button>');\n",
       "    button.click(function (evt) { fig.handle_close(fig, {}); } );\n",
       "    button.mouseover('Stop Interaction', toolbar_mouse_event);\n",
       "    buttongrp.append(button);\n",
       "    var titlebar = this.root.find($('.ui-dialog-titlebar'));\n",
       "    titlebar.prepend(buttongrp);\n",
       "}\n",
       "\n",
       "mpl.figure.prototype._root_extra_style = function(el){\n",
       "    var fig = this\n",
       "    el.on(\"remove\", function(){\n",
       "\tfig.close_ws(fig, {});\n",
       "    });\n",
       "}\n",
       "\n",
       "mpl.figure.prototype._canvas_extra_style = function(el){\n",
       "    // this is important to make the div 'focusable\n",
       "    el.attr('tabindex', 0)\n",
       "    // reach out to IPython and tell the keyboard manager to turn it's self\n",
       "    // off when our div gets focus\n",
       "\n",
       "    // location in version 3\n",
       "    if (IPython.notebook.keyboard_manager) {\n",
       "        IPython.notebook.keyboard_manager.register_events(el);\n",
       "    }\n",
       "    else {\n",
       "        // location in version 2\n",
       "        IPython.keyboard_manager.register_events(el);\n",
       "    }\n",
       "\n",
       "}\n",
       "\n",
       "mpl.figure.prototype._key_event_extra = function(event, name) {\n",
       "    var manager = IPython.notebook.keyboard_manager;\n",
       "    if (!manager)\n",
       "        manager = IPython.keyboard_manager;\n",
       "\n",
       "    // Check for shift+enter\n",
       "    if (event.shiftKey && event.which == 13) {\n",
       "        this.canvas_div.blur();\n",
       "        event.shiftKey = false;\n",
       "        // Send a \"J\" for go to next cell\n",
       "        event.which = 74;\n",
       "        event.keyCode = 74;\n",
       "        manager.command_mode();\n",
       "        manager.handle_keydown(event);\n",
       "    }\n",
       "}\n",
       "\n",
       "mpl.figure.prototype.handle_save = function(fig, msg) {\n",
       "    fig.ondownload(fig, null);\n",
       "}\n",
       "\n",
       "\n",
       "mpl.find_output_cell = function(html_output) {\n",
       "    // Return the cell and output element which can be found *uniquely* in the notebook.\n",
       "    // Note - this is a bit hacky, but it is done because the \"notebook_saving.Notebook\"\n",
       "    // IPython event is triggered only after the cells have been serialised, which for\n",
       "    // our purposes (turning an active figure into a static one), is too late.\n",
       "    var cells = IPython.notebook.get_cells();\n",
       "    var ncells = cells.length;\n",
       "    for (var i=0; i<ncells; i++) {\n",
       "        var cell = cells[i];\n",
       "        if (cell.cell_type === 'code'){\n",
       "            for (var j=0; j<cell.output_area.outputs.length; j++) {\n",
       "                var data = cell.output_area.outputs[j];\n",
       "                if (data.data) {\n",
       "                    // IPython >= 3 moved mimebundle to data attribute of output\n",
       "                    data = data.data;\n",
       "                }\n",
       "                if (data['text/html'] == html_output) {\n",
       "                    return [cell, data, j];\n",
       "                }\n",
       "            }\n",
       "        }\n",
       "    }\n",
       "}\n",
       "\n",
       "// Register the function which deals with the matplotlib target/channel.\n",
       "// The kernel may be null if the page has been refreshed.\n",
       "if (IPython.notebook.kernel != null) {\n",
       "    IPython.notebook.kernel.comm_manager.register_target('matplotlib', mpl.mpl_figure_comm);\n",
       "}\n"
      ],
      "text/plain": [
       "<IPython.core.display.Javascript object>"
      ]
     },
     "metadata": {},
     "output_type": "display_data"
    },
    {
     "data": {
      "text/html": [
       "<img src=\"data:image/png;base64,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\">"
      ],
      "text/plain": [
       "<IPython.core.display.HTML object>"
      ]
     },
     "metadata": {},
     "output_type": "display_data"
    },
    {
     "data": {
      "text/plain": [
       "<matplotlib.text.Text at 0x7f3b688886a0>"
      ]
     },
     "execution_count": 277,
     "metadata": {},
     "output_type": "execute_result"
    }
   ],
   "source": [
    "from matplotlib import pyplot as plt\n",
    "import numpy as np\n",
    "x = sympy.symbols('x')\n",
    "f = lambda x: np.exp(2*x)\n",
    "g = lambda x: -np.exp(2*x)+4\n",
    "fig, ax = plt.subplots()\n",
    "xs = np.linspace(0,0.6)\n",
    "ax.fill_between(xs, f(xs),g(xs),where = f(xs)>=g(xs), facecolor='green',interpolate=True)\n",
    "ax.fill_between(xs, f(xs), g(xs), where = f(xs)<= g(xs),facecolor='red',interpolate=True)\n",
    "plt.title(\"Liki med dvema krivuljama.\")"
   ]
  },
  {
   "cell_type": "markdown",
   "metadata": {},
   "source": [
    "Izracunati moramo ploscino rdecega lika."
   ]
  },
  {
   "cell_type": "code",
   "execution_count": 287,
   "metadata": {
    "collapsed": false
   },
   "outputs": [
    {
     "data": {
      "image/png": "[encoded data removed]",
      "text/latex": [
       "$$-1 + 2 \\log{\\left (2 \\right )}$$"
      ],
      "text/plain": [
       "-1 + 2⋅log(2)"
      ]
     },
     "execution_count": 287,
     "metadata": {},
     "output_type": "execute_result"
    }
   ],
   "source": [
    "x = sympy.symbols('x', real=True)\n",
    "f = lambda x: sympy.E**(2*x)\n",
    "g = lambda x: -sympy.E**(2*x)+4\n",
    "intersection = sympy.solve(sympy.Eq(f(x), g(x)))[0]\n",
    "result = sympy.integrate(g(x)-f(x), (x, 0, intersection))\n",
    "result"
   ]
  },
  {
   "cell_type": "code",
   "execution_count": 289,
   "metadata": {
    "collapsed": false
   },
   "outputs": [
    {
     "data": {
      "image/png": "[encoded data removed]",
      "text/latex": [
       "$$0.386294361119891$$"
      ],
      "text/plain": [
       "0.386294361119891"
      ]
     },
     "execution_count": 289,
     "metadata": {},
     "output_type": "execute_result"
    }
   ],
   "source": [
    "result.evalf()"
   ]
  }
 ],
 "metadata": {
  "kernelspec": {
   "display_name": "Python 3",
   "language": "python",
   "name": "python3"
  },
  "language_info": {
   "codemirror_mode": {
    "name": "ipython",
    "version": 3
   },
   "file_extension": ".py",
   "mimetype": "text/x-python",
   "name": "python",
   "nbconvert_exporter": "python",
   "pygments_lexer": "ipython3",
   "version": "3.4.3+"
  }
 },
 "nbformat": 4,
 "nbformat_minor": 0
}
