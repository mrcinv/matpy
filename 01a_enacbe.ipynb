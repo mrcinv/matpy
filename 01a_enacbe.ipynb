{
 "cells": [
  {
   "cell_type": "markdown",
   "metadata": {},
   "source": [
    "[<< nazaj: Uvod](00_uvod.ipynb)"
   ]
  },
  {
   "cell_type": "markdown",
   "metadata": {},
   "source": [
    "# Enačbe in neenačbe"
   ]
  },
  {
   "cell_type": "markdown",
   "metadata": {},
   "source": [
    "V tem delu si bomo ogledali različne pristope, kako se spopademo z **enačbami**. Spoznali bomo nekaj dodatnih knjižnic za python: [SymPy](http://www.sympy.org), [matplotlib](http://matplotlib.org) in [SciPy](http://www.scipy.org)."
   ]
  },
  {
   "cell_type": "markdown",
   "metadata": {},
   "source": [
    "## Simbolično reševanje s SymPy"
   ]
  },
  {
   "cell_type": "markdown",
   "metadata": {},
   "source": [
    "Simbolično reševanje je reševanje enačb s simboli. Ločimo ga od numeričnega reševanja enačb, pri katerem računamo z decimalnimi približki števil. Na vajah navadno uporabljamo simbolično reševanje. Enačbo, ki jo rešujemo, *mrcvarimo*, dokler ni zapisana v obliki, iz katere lahko preprosto razberemo njeno rešitev. V Pythonu lahko nekaj podobnega počnemo s SymPy."
   ]
  },
  {
   "cell_type": "markdown",
   "metadata": {},
   "source": [
    "## Primer\n",
    "Poišči vse rešitve enačbe\n",
    "$$x+\\frac{2}{x}=3.$$\n",
    "### Rešitev\n",
    "Enačbo najprej pomnožimo z $x$ in preoblikujemo v polinomsko enačbo\n",
    "$$ x^2+2-3x=0,$$\n",
    "v kateri faktoriziramo levo stran\n",
    "$$(x-2)(x-1)=0.$$\n",
    "Sklepamo, da je leva stran enaka $0$, če je en od faktorjev enak $0$. \n",
    "\n",
    "Tako dobimo dve možnosti\n",
    "\\begin{eqnarray}\n",
    "x-2=0 & \\implies & x=2\\\\\n",
    "x-1=0 & \\implies & x=1.\n",
    "\\end{eqnarray}"
   ]
  },
  {
   "cell_type": "markdown",
   "metadata": {},
   "source": [
    "### Sympy\n",
    "Poskusimo priti do rešitve še s *Pythonom*. Najprej naložimo knjižnico za simbolično računanje [SymPy](http://www.sympy.org), nato pa deklariramo, naj se spremenljivka `x` obravnava kot matematični simbol."
   ]
  },
  {
   "cell_type": "code",
   "execution_count": 1,
   "metadata": {
    "collapsed": false
   },
   "outputs": [],
   "source": [
    "import sympy as sym\n",
    "x = sym.symbols(\"x\") # spremenljivka x je matematični simbol"
   ]
  },
  {
   "cell_type": "markdown",
   "metadata": {},
   "source": [
    "Za začetek povsem sledimo korakom, ki smo jih naredili „na roke“. Povzamimo „algoritem“\n",
    "\n",
    "* vse člene damo na levo stran\n",
    "* enačbo pomnožimo z $x$\n",
    "* levo stran faktoriziramo\n",
    "* iz faktorjev preberemo rešitev"
   ]
  },
  {
   "cell_type": "code",
   "execution_count": 2,
   "metadata": {
    "collapsed": false
   },
   "outputs": [
    {
     "data": {
      "text/plain": [
       "x + 2/x == 3"
      ]
     },
     "execution_count": 2,
     "metadata": {},
     "output_type": "execute_result"
    }
   ],
   "source": [
    "enacba = sym.Eq(x+2/x,3)\n",
    "enacba"
   ]
  },
  {
   "cell_type": "markdown",
   "metadata": {},
   "source": [
    "Vključimo izpis formul v lepši obliki, ki ga omogoča SymPy."
   ]
  },
  {
   "cell_type": "code",
   "execution_count": 3,
   "metadata": {
    "collapsed": false
   },
   "outputs": [
    {
     "data": {
      "image/png": "[encoded data removed]",
      "text/latex": [
       "$$x + \\frac{2}{x} = 3$$"
      ],
      "text/plain": [
       "    2    \n",
       "x + ─ = 3\n",
       "    x    "
      ]
     },
     "execution_count": 3,
     "metadata": {},
     "output_type": "execute_result"
    }
   ],
   "source": [
    "sym.init_printing() # lepši izpis formul\n",
    "enacba"
   ]
  },
  {
   "cell_type": "code",
   "execution_count": 4,
   "metadata": {
    "collapsed": false
   },
   "outputs": [
    {
     "data": {
      "image/png": "[encoded data removed]",
      "text/latex": [
       "$$x \\left(x - 3 + \\frac{2}{x}\\right)$$"
      ],
      "text/plain": [
       "  ⎛        2⎞\n",
       "x⋅⎜x - 3 + ─⎟\n",
       "  ⎝        x⎠"
      ]
     },
     "execution_count": 4,
     "metadata": {},
     "output_type": "execute_result"
    }
   ],
   "source": [
    "# vse člene damo na levo stran in pomnožimo z x\n",
    "leva = (enacba.lhs - enacba.rhs)*x\n",
    "leva"
   ]
  },
  {
   "cell_type": "code",
   "execution_count": 5,
   "metadata": {
    "collapsed": false
   },
   "outputs": [
    {
     "data": {
      "image/png": "[encoded data removed]",
      "text/latex": [
       "$$x^{2} - 3 x + 2$$"
      ],
      "text/plain": [
       " 2          \n",
       "x  - 3⋅x + 2"
      ]
     },
     "execution_count": 5,
     "metadata": {},
     "output_type": "execute_result"
    }
   ],
   "source": [
    "# levo stran razpišemo/zmnožimo\n",
    "leva = sym.expand(leva)\n",
    "leva"
   ]
  },
  {
   "cell_type": "code",
   "execution_count": 6,
   "metadata": {
    "collapsed": false
   },
   "outputs": [
    {
     "data": {
      "image/png": "[encoded data removed]",
      "text/latex": [
       "$$\\left(x - 2\\right) \\left(x - 1\\right)$$"
      ],
      "text/plain": [
       "(x - 2)⋅(x - 1)"
      ]
     },
     "execution_count": 6,
     "metadata": {},
     "output_type": "execute_result"
    }
   ],
   "source": [
    "# levo stran faktoriziramo\n",
    "leva = sym.factor(leva)\n",
    "leva"
   ]
  },
  {
   "cell_type": "markdown",
   "metadata": {},
   "source": [
    "Od tu naprej postane precej komplicirano, kako rešitve programsko izluščiti iz zadnjega rezultata. Če nas zanimajo le rešitve, lahko zgornji postopek izpustimo in preprosto uporabimo funkcijo `solve`."
   ]
  },
  {
   "cell_type": "code",
   "execution_count": 7,
   "metadata": {
    "collapsed": false
   },
   "outputs": [
    {
     "data": {
      "image/png": "[encoded data removed]",
      "text/latex": [
       "$$\\left [ 1, \\quad 2\\right ]$$"
      ],
      "text/plain": [
       "[1, 2]"
      ]
     },
     "execution_count": 7,
     "metadata": {},
     "output_type": "execute_result"
    }
   ],
   "source": [
    "# rešitve enačbe najlažje dobimo s funkcijo solve\n",
    "resitve = sym.solve(enacba)\n",
    "resitve"
   ]
  },
  {
   "cell_type": "markdown",
   "metadata": {},
   "source": [
    "### Grafična rešitev\n",
    "Rešitve enačbe si lahko predstavljamo grafično. Iščemo vrednosti $x$, pri katerih je leva stran enaka desni. Če narišemo graf leve in desne strani na isto sliko, so rešitve enačbe ravno *x*-koordinate presečišča obeh grafov. Za risanje grafov uporabimo knjižnico [matplotlib](http://www.matplotlib.org). Graf funkcije narišemo tako, da funkcijo tabeliramo v veliko točkah. Da lažje računamo s tabelami, uporabimo tudi knjižnico [numpy](http://www.numpy.org), ki je namenjena delu z vektorji in matrikami."
   ]
  },
  {
   "cell_type": "code",
   "execution_count": 8,
   "metadata": {
    "collapsed": false
   },
   "outputs": [
    {
     "data": {
      "image/png": "[encoded data removed]",
      "text/plain": [
       "<matplotlib.figure.Figure at 0x7f244ca4dd68>"
      ]
     },
     "metadata": {},
     "output_type": "display_data"
    }
   ],
   "source": [
    "import numpy as np\n",
    "import matplotlib.pyplot as plt\n",
    "%matplotlib inline\n",
    "t = np.arange(-1,3,0.01) # zaporedje x-ov, v katerih bomo tabelirali funkcijo\n",
    "leva_f = sym.lambdify(x,enacba.lhs) # lambdify iz leve strani enačbe naredi python funkcijo, ki jo uporabimo na t\n",
    "desna_f = sym.lambdify(x,enacba.rhs) # podobno za desno stran (rhs - right hand side, lhs - left hand side)\n",
    "plt.plot(t,leva_f(t)) # leva stran /funkcija leva_f deluje po komponentah seznama t \n",
    "plt.plot(t,[desna_f(ti) for ti in t]) # funkcija desna_t je konstanta (število 3) in zato ne vrne seznama iste dolžine kot t \n",
    "plt.ylim(0,5)\n",
    "plt.plot(resitve,[leva_f(r) for r in resitve],'or')\n",
    "plt.show()"
   ]
  },
  {
   "cell_type": "markdown",
   "metadata": {},
   "source": [
    "## Naloga"
   ]
  },
  {
   "cell_type": "markdown",
   "metadata": {},
   "source": [
    "Poišči vse rešitve enačbe \n",
    "$$x^2-2=1/x.$$\n",
    "Uporabi `sympy.solve` in grafično predstavi rešitve."
   ]
  },
  {
   "cell_type": "markdown",
   "metadata": {},
   "source": [
    "[naprej: neenačbe >>](01b_neenacbe.ipynb)"
   ]
  },
  {
   "cell_type": "code",
   "execution_count": null,
   "metadata": {
    "collapsed": false
   },
   "outputs": [],
   "source": [
    "import disqus\n",
    "%reload_ext disqus\n",
    "%disqus matpy"
   ]
  }
 ],
 "metadata": {
  "kernelspec": {
   "display_name": "Python 3",
   "language": "python",
   "name": "python3"
  },
  "language_info": {
   "codemirror_mode": {
    "name": "ipython",
    "version": 3
   },
   "file_extension": ".py",
   "mimetype": "text/x-python",
   "name": "python",
   "nbconvert_exporter": "python",
   "pygments_lexer": "ipython3",
   "version": "3.4.3"
  }
 },
 "nbformat": 4,
 "nbformat_minor": 0
}
