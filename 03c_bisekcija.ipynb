{
 "cells": [
  {
   "cell_type": "markdown",
   "metadata": {},
   "source": [
    "[^ gor: Uvod](00_uvod.ipynb)"
   ]
  },
  {
   "cell_type": "markdown",
   "metadata": {},
   "source": [
    "# Reševanje enačb z bisekcijo\n",
    "Vsako enačbo $l(x)=d(x)$ lahko prevedemo na iskanje  ničle funkcije\n",
    "$$f(x)=l(x)-d(x)=0.$$\n",
    "Ničlo **zvezne** funkcije lahko zanesljivo poiščemo z [bisekcijo](https://sl.wikipedia.org/wiki/Bisekcija_%28numeri%C4%8Dna_metoda%29). Ideja je preprosta. Če so vrednosti funkcije v krajiščih intervala $[a,b]$ različnega predznaka, potem znotraj intervala $(a,b)$ zagotovo leži ničla ($x\\in(a,b)$, za katerega je $f(x)=0$). \n",
    "\n",
    "Recimo, da je $f(a)>0$ in $f(b)<0$. Če izračunamo vrednost funkcije v središču intervala $c=\\frac{1}{2}(a+b)$, lahko interval, za katerega vemo, da vsebuje ničlo, zmanjšamo na polovico. \n",
    "\n",
    " * Če je $f(c)=0$, smo ničlo že našli in lahko prenehamo z iskanjem. \n",
    " * Če je $f(c)<0$, potem je ničla zagotovo na intervalu $(a,c)$, \n",
    " * če pa je $f(c)>0$, je ničla zagotovo na intervalu $(c,b)$. \n",
    " \n",
    "Če opisani postopek ponavljamo dovolj dolgo, lahko Interval, ki vsebuje ničlo, poljubno zmanjšamo, \n"
   ]
  },
  {
   "cell_type": "markdown",
   "metadata": {},
   "source": [
    "## Primer\n",
    "Reši enačbo\n",
    "$$x=2^{-x}.$$\n",
    "\n",
    "## Rešitev\n",
    "Enačbo lahko prevedemo na  iskanje ničle funkcije\n",
    "$$f(x) = x-2^{-x}.$$\n",
    "\n",
    "Najprej poiščemo interval za katerega smo prepričani, da vsebuje ničlo. Iščemo dve vrednosti $x$, za katere ima $f(x)$ različni predznak."
   ]
  },
  {
   "cell_type": "code",
   "execution_count": 1,
   "metadata": {
    "collapsed": false
   },
   "outputs": [
    {
     "data": {
      "text/plain": [
       "(-1, 0.5)"
      ]
     },
     "execution_count": 1,
     "metadata": {},
     "output_type": "execute_result"
    }
   ],
   "source": [
    "f = lambda x: x-2**(-x)\n",
    "a,b=(0,1) # začetni interval \n",
    "(f(a),f(b))"
   ]
  },
  {
   "cell_type": "markdown",
   "metadata": {},
   "source": [
    "Vidimo, da sta $f(0)$ in $f(1)$ različnega predznaka, kar pomeni, da je na intervalu $(0,1)$ ničla."
   ]
  },
  {
   "cell_type": "code",
   "execution_count": 2,
   "metadata": {
    "collapsed": false
   },
   "outputs": [],
   "source": [
    "def bisekcija(f,a,b,n):\n",
    "    \"\"\"bisekcija(f,a,b,n) z bisekcijo izračuna interval širine (b-a)/2**n na katerem leži ničla funkcije f.\"\"\"\n",
    "    if n<=0:\n",
    "        return (a,b)\n",
    "    fa, fb = (f(a),f(b))\n",
    "    assert (fa*fb)<=0, \"Predznaka v krajiščih intervala [%f,%f] sta enaka\" % (a,b) \n",
    "    c = (a+b)/2 # središče intervala\n",
    "    fc = f(c)\n",
    "    if fc == 0:\n",
    "        return (c,c)\n",
    "    elif fc*fa<=0:\n",
    "        return bisekcija(f,a,c,n-1)\n",
    "    else:\n",
    "        return bisekcija(f,c,b,n-1)"
   ]
  },
  {
   "cell_type": "code",
   "execution_count": 3,
   "metadata": {
    "collapsed": false
   },
   "outputs": [
    {
     "name": "stdout",
     "output_type": "stream",
     "text": [
      "(0, 1)\n",
      "(0.5, 1)\n",
      "(0.5, 0.75)\n",
      "(0.625, 0.75)\n",
      "(0.625, 0.6875)\n",
      "(0.625, 0.65625)\n",
      "(0.640625, 0.65625)\n",
      "(0.640625, 0.6484375)\n",
      "(0.640625, 0.64453125)\n",
      "(0.640625, 0.642578125)\n"
     ]
    }
   ],
   "source": [
    "a,b = (0,1)\n",
    "# 10 korakov bisekcije\n",
    "for i in range(10):\n",
    "    print(bisekcija(f,a,b,i))"
   ]
  },
  {
   "cell_type": "markdown",
   "metadata": {},
   "source": [
    "Predstavimo bisekcijo še grafično."
   ]
  },
  {
   "cell_type": "code",
   "execution_count": 4,
   "metadata": {
    "collapsed": false
   },
   "outputs": [
    {
     "data": {
      "image/png": "[encoded data removed]",
      "text/plain": [
       "<matplotlib.figure.Figure at 0x7f2c6405d240>"
      ]
     },
     "metadata": {},
     "output_type": "display_data"
    }
   ],
   "source": [
    "%matplotlib inline\n",
    "import matplotlib.pyplot as plt\n",
    "import numpy as np\n",
    "a , b = (0,1)\n",
    "t = np.linspace(a,b)\n",
    "plt.plot(t,f(t))\n",
    "plt.plot([0,1],[0,0],'k')\n",
    "for i in range(6):\n",
    "    plt.plot([a,a],[0,f(a)],'r-o') # levo krajišče\n",
    "    plt.plot([b,b],[0,f(b)],'k-o') # desno krajišče\n",
    "    plt.annotate(\"$a_%d$\" % i, xy = (a,0),xytext = (a,0.07*(i+1)),fontsize=12)\n",
    "    plt.annotate(\"$b_%d$\" % i, xy = (b,0),xytext = (b,-0.07*(i+1)),fontsize=12)\n",
    "    a,b = bisekcija(f,a,b,1)\n",
    "plt.grid()"
   ]
  },
  {
   "cell_type": "code",
   "execution_count": 5,
   "metadata": {
    "collapsed": false
   },
   "outputs": [
    {
     "data": {
      "text/html": [
       "\n",
       "<div id=\"disqus_thread\"></div>\n",
       "\n",
       "<script type=\"text/javascript\">\n",
       "    var disqus_shortname = \"matpy\";\n",
       "    \n",
       "</script>\n",
       "<script src=\"https://matpy.disqus.com/embed.js\" async=\"true\">\n",
       "</script>\n",
       "\n",
       "<noscript>\n",
       "    Please enable JavaScript to view the\n",
       "    <a href=\"https://disqus.com/?ref_noscript\" rel=\"nofollow\">\n",
       "        comments powered by Disqus.\n",
       "    </a>\n",
       "</noscript>"
      ],
      "text/plain": [
       "<IPython.core.display.HTML object>"
      ]
     },
     "metadata": {},
     "output_type": "display_data"
    }
   ],
   "source": [
    "import disqus\n",
    "%reload_ext disqus\n",
    "%disqus matpy"
   ]
  }
 ],
 "metadata": {
  "kernelspec": {
   "display_name": "Python 3",
   "language": "python",
   "name": "python3"
  },
  "language_info": {
   "codemirror_mode": {
    "name": "ipython",
    "version": 3
   },
   "file_extension": ".py",
   "mimetype": "text/x-python",
   "name": "python",
   "nbconvert_exporter": "python",
   "pygments_lexer": "ipython3",
   "version": "3.5.0+"
  }
 },
 "nbformat": 4,
 "nbformat_minor": 0
}
