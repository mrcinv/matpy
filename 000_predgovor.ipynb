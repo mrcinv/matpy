{
 "cells": [
  {
   "cell_type": "markdown",
   "metadata": {},
   "source": [
    "[Naprej: Uvod >>](00_uvod.ipynb)"
   ]
  },
  {
   "cell_type": "markdown",
   "metadata": {},
   "source": [
    "# Python in matematika\n",
    "\n",
    "Pred vami je zbirka dokumentov, v katerih bomo opisali, kako lahko nekatere matematične probleme in naloge rešujemo s programskim jezikom [Python](http://www.python.org). Zbirka je nastala kot dodatno gradivo pri predmetu [Matematika](https://ucilnica.fri.uni-lj.si/MAT), pri katerem znanje Pythona ni zahtevano. Tukaj predstavljena snov je, kar se tiče predmeta Matematika, povsem neobvezna. Glavni namen te zbirke je, da spoznate, kako lahko pridobljeno znanje matematike uporabite pri programiranju in obratno, kako si lahko pri učenju matematike pomagate s Pythonom. \n",
    "\n",
    "### Kazalo\n",
    "\n",
    "0. [Uvod](00_uvod.ipynb)\n",
    "1. Števila, enačbe in neenačbe\n",
    " * [Enačbe](01a_enacbe.ipynb)\n",
    " * [Neenačbe](01b_neenacbe.ipynb)\n",
    " * [Kompleksna števila](01c_kompleksna.ipynb)\n",
    "2. Zaporedja in vrste\n",
    " * [Zaporedja](02a_zaporedja.ipynb)\n",
    " * [Vrste](02b_vrste.ipynb)\n",
    "3. Funkcije\n",
    " * [Funkcije](03a_funkcije.ipynb)\n",
    "4. Odvod\n",
    " * [Tabela odvodov elementarnih funkcij](04a_odvod.ipynb)\n",
    " * [Tangenta](04a_tangenta.ipynb)"
   ]
  },
  {
   "cell_type": "markdown",
   "metadata": {},
   "source": [
    "[Naprej: Uvod >>](00_uvod.ipynb)"
   ]
  }
 ],
 "metadata": {
  "kernelspec": {
   "display_name": "Python 3",
   "language": "python",
   "name": "python3"
  },
  "language_info": {
   "codemirror_mode": {
    "name": "ipython",
    "version": 3
   },
   "file_extension": ".py",
   "mimetype": "text/x-python",
   "name": "python",
   "nbconvert_exporter": "python",
   "pygments_lexer": "ipython3",
   "version": "3.5.2"
  }
 },
 "nbformat": 4,
 "nbformat_minor": 1
}
