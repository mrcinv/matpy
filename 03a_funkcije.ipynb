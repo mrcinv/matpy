{
 "cells": [
  {
   "cell_type": "markdown",
   "metadata": {},
   "source": [
    "[^ gor: Uvod](00_uvod.ipynb)"
   ]
  },
  {
   "cell_type": "markdown",
   "metadata": {},
   "source": [
    "# Zvezne funkcije\n",
    "\n",
    "## Limita funkcije \n",
    "Zanima nas obnašanje vrednosti funkcije v bližini dane točke $x_0$. Če za vsa zaporedja, ki konvergirajo k $x_0$, zaporedja funkcijskih vrednosti konvergirajo k isti vrednosti $a$\n",
    "$$\\lim_{n\\to\\infty} x_n = x_0\\implies \\lim_{n\\to\\infty}f(x_n) = a, $$\n",
    "to vrednost imenujemo limita funkcije v $x_0$. Limito funkcije v $x_0$ označimo kot\n",
    "$$a = \\lim_{x\\to x_0}f(x).$$\n",
    "\n",
    "## Leva in desna limita funkcije\n",
    "Če za vsa zaporedja $x_n<x_0$, ki konvergirajo k $x_0$, zaporedja funkcijskih vrednosti konvergirajo k isti vrednosti $a$ to vrednost imenujemo **leva limita** funkcije v $x_0$. Limito funkcije v $x_0$ označimo kot\n",
    "$$\\lim_{x\\to {x_0}^-}f(x).$$\n",
    "Podobno definiramo **desno limito** in jo označimo z\n",
    "$$\\lim_{x\\to {x_0}^+}f(x).$$"
   ]
  },
  {
   "cell_type": "markdown",
   "metadata": {},
   "source": [
    "## Zvezne funkcije\n",
    "Funkcija $f$ je **zvezna v $x_0$**, če obstaja limita in je enaka vrednosti funkcije\n",
    "$$f(x_0) = \\lim_{x\\to x_0} f(x).$$\n",
    "\n",
    "## Trditve\n",
    " * Osnovne operacije ohranjajo zveznost (skoraj vedno):\n",
    "   * vsota in produkt zveznih funkcij je zvezna funkcija\n",
    "   * kvocient $f(x)/g(x)$ zveznih funkcij je zvezna funkcija, razen v ničlah funkcije $g(x)$ \n",
    "   * potenca $f(x)^{g(x)}$ zveznih funkcij je zvezna funkcija, razen če sta $f(x)=0$ in $g(x)=0$\n",
    " * Funkcija $f(x)$ je zvezna v $x_0$, če se leva in desna limita ujemata"
   ]
  },
  {
   "cell_type": "markdown",
   "metadata": {},
   "source": [
    "## Primer\n",
    "Dano je funkcija\n",
    "$$f(x)= \\begin{cases}2x+a,& x < 1\\\\ x^2-ax+b;& 1\\le x\\le 3\\\\ ax;& x>3\\end{cases}$$\n",
    " \n",
    "Določi $a$ in $b$ tako, da bo $f(x)$ zvezna povsod. "
   ]
  },
  {
   "cell_type": "code",
   "execution_count": 7,
   "metadata": {},
   "outputs": [
    {
     "data": {
      "image/png": "[encoded data removed]",
      "text/latex": [
       "$$\\left \\{ a : \\frac{5}{2}, \\quad b : 6\\right \\}$$"
      ],
      "text/plain": [
       "{a: 5/2, b: 6}"
      ]
     },
     "execution_count": 7,
     "metadata": {},
     "output_type": "execute_result"
    }
   ],
   "source": [
    "from sympy import *\n",
    "init_printing()\n",
    "x, a, b = Symbol('x'), Symbol('a'), Symbol('b')\n",
    "\n",
    "f1 = lambda x: 2*x + a\n",
    "f2 = lambda x: x**2 - a*x +b\n",
    "f3 = lambda x: a*x\n",
    "\n",
    "solve([f1(1)-f2(1), f2(3)-f3(3)], (a,b))"
   ]
  },
  {
   "cell_type": "markdown",
   "metadata": {},
   "source": [
    "Funkcija $f$ je setavljena iz 3 predpisov, ki so vsi zvezne funkcije. Funkcija $f$  je zvezna povsod, razen morda v točkah, kjer se predpisi stikajo. Torej v točkah $x_1=1$ in $x_2=3$. V teh točkah leva in desna limita obstajata in se ujemata z vrednostmi posameznih predpisov, preveriti moramo le, da sta enaki. Zato izenačimo\n",
    "$$\\lim_{x\\to x_1^-}f(x) = \\lim_{x\\to x_1^+}\\implies 2x+a = x^2-ax+b\\big\\vert_{x=1}\\implies 2+a = 1-a+b$$\n",
    "$$\\lim_{x\\to x_2^-}f(x) = \\lim_{x\\to x_2^+}\\implies x^2-ax+b = ax\\big\\vert_{x=3}\\implies 9-3a+b = 3a$$\n",
    "in rešimo sistem enačb\n",
    "$$2+a = 1 -a +b$$\n",
    "$$9-3y+b = 3a$$"
   ]
  },
  {
   "cell_type": "code",
   "execution_count": 18,
   "metadata": {},
   "outputs": [],
   "source": [
    "%matplotlib inline\n",
    "import matplotlib.pyplot as plt\n",
    "import numpy as np"
   ]
  },
  {
   "cell_type": "code",
   "execution_count": 21,
   "metadata": {},
   "outputs": [
    {
     "data": {
      "image/png": "[encoded data removed]",
      "text/plain": [
       "<matplotlib.figure.Figure at 0x7fbc66921198>"
      ]
     },
     "metadata": {},
     "output_type": "display_data"
    }
   ],
   "source": [
    "a, b = 1, 2\n",
    "fig = plt.figure()\n",
    "ax = fig.add_subplot(1, 1, 1)\n",
    "\n",
    "# Move left y-axis and bottim x-axis to centre, passing through (0,0)\n",
    "ax.spines['left'].set_position('center')\n",
    "ax.spines['bottom'].set_position('center')\n",
    "\n",
    "# Eliminate upper and right axes\n",
    "ax.spines['right'].set_color('none')\n",
    "ax.spines['top'].set_color('none')\n",
    "\n",
    "# Show ticks in the left and lower axes only\n",
    "ax.xaxis.set_ticks_position('bottom')\n",
    "ax.yaxis.set_ticks_position('left')\n",
    "\n",
    "x1 = np.linspace(-1, 1)\n",
    "x2 = np.linspace(1, 3)\n",
    "x3 = np.linspace(3, 5)\n",
    "plt.plot(x1, f1(x1))\n",
    "plt.plot(x2, f2(x2))\n",
    "plt.plot(x3, f3(x3))\n",
    "plt.show()"
   ]
  },
  {
   "cell_type": "code",
   "execution_count": 22,
   "metadata": {},
   "outputs": [
    {
     "data": {
      "image/png": "[encoded data removed]",
      "text/plain": [
       "<matplotlib.figure.Figure at 0x7fbc669107f0>"
      ]
     },
     "metadata": {},
     "output_type": "display_data"
    }
   ],
   "source": [
    "a, b = 5/2, 6\n",
    "fig = plt.figure()\n",
    "ax = fig.add_subplot(1, 1, 1)\n",
    "\n",
    "# Move left y-axis and bottim x-axis to centre, passing through (0,0)\n",
    "ax.spines['left'].set_position('center')\n",
    "ax.spines['bottom'].set_position('center')\n",
    "\n",
    "# Eliminate upper and right axes\n",
    "ax.spines['right'].set_color('none')\n",
    "ax.spines['top'].set_color('none')\n",
    "\n",
    "# Show ticks in the left and lower axes only\n",
    "ax.xaxis.set_ticks_position('bottom')\n",
    "ax.yaxis.set_ticks_position('left')\n",
    "\n",
    "x1 = np.linspace(-1, 1)\n",
    "x2 = np.linspace(1, 3)\n",
    "x3 = np.linspace(3, 5)\n",
    "plt.plot(x1, f1(x1))\n",
    "plt.plot(x2, f2(x2))\n",
    "plt.plot(x3, f3(x3))\n",
    "plt.show()"
   ]
  },
  {
   "cell_type": "code",
   "execution_count": 8,
   "metadata": {},
   "outputs": [
    {
     "data": {
      "text/html": [
       "\n",
       "<div id=\"disqus_thread\"></div>\n",
       "\n",
       "<script type=\"text/javascript\">\n",
       "    var disqus_shortname = \"matpy\";\n",
       "    \n",
       "</script>\n",
       "<script src=\"https://matpy.disqus.com/embed.js\" async=\"true\">\n",
       "</script>\n",
       "\n",
       "<noscript>\n",
       "    Please enable JavaScript to view the\n",
       "    <a href=\"https://disqus.com/?ref_noscript\" rel=\"nofollow\">\n",
       "        comments powered by Disqus.\n",
       "    </a>\n",
       "</noscript>"
      ],
      "text/plain": [
       "<IPython.core.display.HTML object>"
      ]
     },
     "metadata": {},
     "output_type": "display_data"
    }
   ],
   "source": [
    "import disqus\n",
    "%reload_ext disqus\n",
    "%disqus matpy"
   ]
  },
  {
   "cell_type": "code",
   "execution_count": null,
   "metadata": {
    "collapsed": true
   },
   "outputs": [],
   "source": []
  }
 ],
 "metadata": {
  "kernelspec": {
   "display_name": "Python 3",
   "language": "python",
   "name": "python3"
  },
  "language_info": {
   "codemirror_mode": {
    "name": "ipython",
    "version": 3
   },
   "file_extension": ".py",
   "mimetype": "text/x-python",
   "name": "python",
   "nbconvert_exporter": "python",
   "pygments_lexer": "ipython3",
   "version": "3.6.5"
  }
 },
 "nbformat": 4,
 "nbformat_minor": 1
}
