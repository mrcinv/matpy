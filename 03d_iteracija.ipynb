{
 "cells": [
  {
   "cell_type": "markdown",
   "metadata": {},
   "source": [
    "[^ gor: Uvod](00_uvod.ipynb)"
   ]
  },
  {
   "cell_type": "markdown",
   "metadata": {},
   "source": [
    "# Reševanje enačb z navadno iteracijo\n",
    "Pri [rekurzivnih zaporedjih](http://localhost:8888/notebooks/02a_zaporedja.ipynb#Rekurzivna-zaporedja) smo videli, da za zaporedje, ki zadošča rekurzivni formuli\n",
    "$$x_{n+1}= g(x_n)$$\n",
    "velja, da je  je limita zaporedja $x_n$, vedno rešitev enačbe\n",
    "$$x=g(x).$$\n",
    "Pri tem smo predpostavili, da limita sploh obstaja in da je $g$ **zvezna** funkcija. \n",
    "\n",
    "Trditev lahko obrnemo. Ničlo funkcije  $f(x)$ lahko poiščemo z rekurzivnim zaporedjem približkov\n",
    "$$x_{n+1} = g(x_n),$$\n",
    "če enačbo \n",
    "$$f(x) = 0$$\n",
    "preoblikujemo v ekvivalentno enačbo oblike\n",
    "$$ x = g(x).$$ \n",
    "Žal ne bo vsaka funkcija $g$ dobra, saj  moramo poskrbeti, da zaporedje $x_n$ dejansko konvergira."
   ]
  },
  {
   "cell_type": "markdown",
   "metadata": {},
   "source": [
    "## Primer\n",
    "Reši enačbo\n",
    "$$x=2^{-x}.$$\n",
    "\n",
    "## Rešitev\n",
    "Rekurzivna formula se kar sama ponuja. \n",
    "$$x_{n+1} = 2^{-x_n}.$$\n",
    "\n",
    "Seveda nam nič ne zagotavlja, da bo zaporedje $x_n$ dejansko konvergentno. A poskusiti ni greh, pravijo. "
   ]
  },
  {
   "cell_type": "code",
   "execution_count": 9,
   "metadata": {
    "collapsed": false
   },
   "outputs": [
    {
     "name": "stdout",
     "output_type": "stream",
     "text": [
      "0.5\n",
      "0.7071067811865476\n",
      "0.6125473265360659\n",
      "0.6540408600420695\n",
      "0.6354978458133738\n",
      "0.6437186417228692\n",
      "0.6400610211772396\n",
      "0.6416858070429984\n",
      "0.6409635371779632\n",
      "0.6412845090665851\n",
      "0.6411418514717377\n",
      "0.6412052524498624\n",
      "0.6411770745288387\n",
      "0.6411895977668723\n",
      "0.6411840319786225\n",
      "Razlika med desno in levo stranjo enačbe je -2.473635338007263e-06\n"
     ]
    }
   ],
   "source": [
    "g = lambda x: 2**(-x)\n",
    "xp = 1 # začetni približek \n",
    "for i in range(15):\n",
    "    xp = g(xp)\n",
    "    print(xp)\n",
    "print(\"Razlika med desno in levo stranjo enačbe je\", xp-2**(-xp))"
   ]
  },
  {
   "cell_type": "markdown",
   "metadata": {},
   "source": [
    "Videti je, da zaporedje konvergira in sicer natanko k rešitvi enačbe. Opazimo tudi, da za vsako pravilno decimalko potrebujemo približno 3 korake rekurzije.\n",
    "## Konvergenca\n",
    "\n",
    "Zdi se, da zaporedje približkov konvergira, vendar nekaj izračunanih členov ni dovolj, da bi bili povsem prepričani v konvergenco. Na srečo velja izrek, ki za rekurzivna zaporedja zagotavlja konvergenco:\n",
    "\n",
    "### Izrek o konvergenci iteracije\n",
    "Naj bo $x_n$ zaporedje podano z začetnim členom $x_0$ in rekurzivno formulo $x_{n+1}=g(x_n)$. Naj bo $x_p$ rešitev enačbe $x=g(x)$ in naj bo  $|g'(x)|<1$ za vse $x\\in[x_p-\\varepsilon,x_p+\\varepsilon]$. Če je $x_0\\in [x_p-\\varepsilon,x_p+\\varepsilon]$, je zaporedje $x_n$ konvergentno in je limita enaka \n",
    "$$\\lim_{n\\to\\infty}x_n=x_p.$$\n",
    "\n",
    "Izrek nam pove, da je konvergenca rekurzivnega zaporedja odvisna od velikosti odvoda iteracijske funkcije v rešitvi enačbe. Če je \n",
    "$$|g'(x_p)|<1$$ \n",
    "bo za začetni približek, ki je dovolj blizu rešitve, zaporedje podano z rekurzivno formulo $x_{n+1}=g(x_n)$ konvergiralo k rešitvi. "
   ]
  },
  {
   "cell_type": "code",
   "execution_count": 21,
   "metadata": {
    "collapsed": false
   },
   "outputs": [
    {
     "name": "stdout",
     "output_type": "stream",
     "text": [
      "Odvod iteracijske funkcije: \n"
     ]
    },
    {
     "data": {
      "image/png": "[encoded data removed]",
      "text/latex": [
       "$$- 2^{- x} \\log{\\left (2 \\right )}$$"
      ],
      "text/plain": [
       "  -x       \n",
       "-2  ⋅log(2)"
      ]
     },
     "metadata": {},
     "output_type": "display_data"
    },
    {
     "name": "stdout",
     "output_type": "stream",
     "text": [
      "Odvod g(x) v rešitvi -0.444436618579400\n"
     ]
    }
   ],
   "source": [
    "import sympy as sym\n",
    "from IPython.display import display\n",
    "sym.init_printing(use_latex=True)\n",
    "\n",
    "x = sym.Symbol('x')\n",
    "dg = sym.diff(g(x),x)\n",
    "print(\"Odvod iteracijske funkcije: \")\n",
    "display(dg)\n",
    "print(\"Odvod g(x) v rešitvi\", dg.subs(x,xp).evalf())"
   ]
  },
  {
   "cell_type": "markdown",
   "metadata": {},
   "source": [
    "Odvod v rešitvi je približno -0.44, kar je po absolutni vrednosti manj od 1. To pomeni, da zaporedje približkov konvergira.\n",
    "## Hitrost konvergence\n",
    "Ko iščemo rešitev enačbe z rekurzivnim zaporedjem, nas seveda zanima, koliko korakov je potrebnih za določeno število decimalk. To najlažje predstavimo z grafom napake v logaritemski skali."
   ]
  },
  {
   "cell_type": "code",
   "execution_count": 30,
   "metadata": {
    "collapsed": false
   },
   "outputs": [
    {
     "data": {
      "text/plain": [
       "<matplotlib.text.Text at 0x7fe8351c0390>"
      ]
     },
     "execution_count": 30,
     "metadata": {},
     "output_type": "execute_result"
    },
    {
     "data": {
      "image/png": "[encoded data removed]",
      "text/plain": [
       "<matplotlib.figure.Figure at 0x7fe82dea4ef0>"
      ]
     },
     "metadata": {},
     "output_type": "display_data"
    }
   ],
   "source": [
    "%matplotlib inline\n",
    "import matplotlib.pyplot as plt\n",
    "xp = sym.solve(sym.Eq(x,g(x)),x)[0].evalf() # točna rešitev\n",
    "\n",
    "n = 30;\n",
    "xz = [1] # zaporedje približkov\n",
    "for i in range(n-1):\n",
    "    xz.append(g(xz[-1]))\n",
    "napaka = [x - xp for x in xz] # zadnji približek vzamemo za točno rešitev\n",
    "plt.semilogy(range(n),napaka,'o')\n",
    "plt.title(\"Napaka pri računanju rešitve z navadno iteracijo\")"
   ]
  },
  {
   "cell_type": "markdown",
   "metadata": {},
   "source": [
    "Napaka pada podobno kot pri bisekciji. Za vsako pravilno decimalko potrebujemo približno 3 korake."
   ]
  },
  {
   "cell_type": "code",
   "execution_count": 5,
   "metadata": {
    "collapsed": false
   },
   "outputs": [
    {
     "data": {
      "text/html": [
       "\n",
       "<div id=\"disqus_thread\"></div>\n",
       "\n",
       "<script type=\"text/javascript\">\n",
       "    var disqus_shortname = \"matpy\";\n",
       "    \n",
       "</script>\n",
       "<script src=\"https://matpy.disqus.com/embed.js\" async=\"true\">\n",
       "</script>\n",
       "\n",
       "<noscript>\n",
       "    Please enable JavaScript to view the\n",
       "    <a href=\"https://disqus.com/?ref_noscript\" rel=\"nofollow\">\n",
       "        comments powered by Disqus.\n",
       "    </a>\n",
       "</noscript>"
      ],
      "text/plain": [
       "<IPython.core.display.HTML object>"
      ]
     },
     "metadata": {},
     "output_type": "display_data"
    }
   ],
   "source": [
    "import disqus\n",
    "%reload_ext disqus\n",
    "%disqus matpy"
   ]
  }
 ],
 "metadata": {
  "kernelspec": {
   "display_name": "Python 3",
   "language": "python",
   "name": "python3"
  },
  "language_info": {
   "codemirror_mode": {
    "name": "ipython",
    "version": 3
   },
   "file_extension": ".py",
   "mimetype": "text/x-python",
   "name": "python",
   "nbconvert_exporter": "python",
   "pygments_lexer": "ipython3",
   "version": "3.5.0+"
  }
 },
 "nbformat": 4,
 "nbformat_minor": 0
}
