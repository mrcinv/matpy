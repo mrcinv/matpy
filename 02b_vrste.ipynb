{
 "cells": [
  {
   "cell_type": "markdown",
   "metadata": {},
   "source": [
    "[^ gor: Uvod](00_uvod.ipynb)"
   ]
  },
  {
   "cell_type": "markdown",
   "metadata": {},
   "source": [
    "# Številske vrste\n",
    "**Vrsta** je neskončna vsota\n",
    "$$a_0+a_1+a_2+\\ldots = \\sum_{n=0}^\\infty a_n.$$\n",
    "**Vsoto vrste** definiramo z zaporedjem *delnih vsot*\n",
    "$$S_n=a_0+a_1+\\ldots a_n =\\sum_{k=0}^n a_k$$\n",
    "in\n",
    "$$\\sum_{n=0}^\\infty a_n=\\lim_{n\\to \\infty}S_n.$$\n",
    "\n",
    "## Trditve\n",
    " * Vrsta **konvergentna**, če je konvergentno zaporedja delnih vsot, \n",
    " * če je vrsta konvergenta, je $\\lim_{n\\to\\infty}a_n=0$.\n"
   ]
  },
  {
   "cell_type": "markdown",
   "metadata": {},
   "source": [
    "## Primer\n",
    "Dano je vrsta \n",
    "$$\\sum_{n=1}^{\\infty} \\frac{1}{n \\left(n + 2\\right)}$$\n",
    " \n",
    " * izračunaj formulo za delne vsote\n",
    " * seštej vrsto"
   ]
  },
  {
   "cell_type": "code",
   "execution_count": 12,
   "metadata": {
    "collapsed": false
   },
   "outputs": [
    {
     "data": {
      "image/png": "[encoded data removed]",
      "text/latex": [
       "$$\\sum_{n=1}^{\\infty} \\frac{1}{n \\left(n + 2\\right)}$$"
      ],
      "text/plain": [
       "  ∞            \n",
       " ____          \n",
       " ╲             \n",
       "  ╲       1    \n",
       "   ╲  ─────────\n",
       "   ╱  n⋅(n + 2)\n",
       "  ╱            \n",
       " ╱             \n",
       " ‾‾‾‾          \n",
       "n = 1          "
      ]
     },
     "execution_count": 12,
     "metadata": {},
     "output_type": "execute_result"
    }
   ],
   "source": [
    "from sympy import *\n",
    "init_printing()\n",
    "n = Symbol('n')\n",
    "a = lambda n: 1/(n*(n+2))\n",
    "Sum(a(n),(n,1,oo))"
   ]
  },
  {
   "cell_type": "markdown",
   "metadata": {},
   "source": [
    "Vsoto vrste in delne vsote lahko izračunamo s funkcijo `sympy.Sum`. Za zgornjo mejo neskončno $\\infty$ uporabimo znak `sympy.oo`."
   ]
  },
  {
   "cell_type": "code",
   "execution_count": 13,
   "metadata": {
    "collapsed": false
   },
   "outputs": [
    {
     "data": {
      "image/png": "[encoded data removed]",
      "text/latex": [
       "$$\\frac{3}{4}$$"
      ],
      "text/plain": [
       "3/4"
      ]
     },
     "execution_count": 13,
     "metadata": {},
     "output_type": "execute_result"
    }
   ],
   "source": [
    "Sum(a(n),(n,1,oo)).doit() # vsota vrste"
   ]
  },
  {
   "cell_type": "code",
   "execution_count": 48,
   "metadata": {
    "collapsed": false
   },
   "outputs": [
    {
     "data": {
      "image/png": "[encoded data removed]",
      "text/latex": [
       "$$\\frac{n \\left(3 n + 5\\right)}{4 \\left(n + 1\\right) \\left(n + 2\\right)}$$"
      ],
      "text/plain": [
       "   n⋅(3⋅n + 5)   \n",
       "─────────────────\n",
       "4⋅(n + 1)⋅(n + 2)"
      ]
     },
     "execution_count": 48,
     "metadata": {},
     "output_type": "execute_result"
    }
   ],
   "source": [
    "k = Symbol('k')\n",
    "Sum(a(k),(k,1,n)).doit() # Funkcija sympy.Sum izračuna tudi delne vsote"
   ]
  },
  {
   "cell_type": "markdown",
   "metadata": {},
   "source": [
    "## Postopek „na roke“\n",
    "Poglejmo si, kako bi vsoto izračunali „na roke“. Člen vrste \n",
    "$$\\frac{1}{n(n+2)}$$\n",
    "razstavimo na parcialne ulomke in upamo, da se nam vmesni členi pokrajšajo."
   ]
  },
  {
   "cell_type": "code",
   "execution_count": 37,
   "metadata": {
    "collapsed": false
   },
   "outputs": [
    {
     "data": {
      "image/png": "[encoded data removed]",
      "text/latex": [
       "$$- \\frac{1}{2 n + 4} + \\frac{1}{2 n}$$"
      ],
      "text/plain": [
       "      1        1 \n",
       "- ───────── + ───\n",
       "  2⋅(n + 2)   2⋅n"
      ]
     },
     "execution_count": 37,
     "metadata": {},
     "output_type": "execute_result"
    }
   ],
   "source": [
    "ul = apart(a(n))\n",
    "ul"
   ]
  },
  {
   "cell_type": "markdown",
   "metadata": {},
   "source": [
    "Metoda `args()` vrne n-terico(tuple) posameznih ulomkov. Če namesto $n$ vstavimo prvih nekaj števil, lahko vidimo, kateri členi se pokrajšajo."
   ]
  },
  {
   "cell_type": "code",
   "execution_count": 49,
   "metadata": {
    "collapsed": false
   },
   "outputs": [
    {
     "data": {
      "image/png": "[encoded data removed]",
      "text/latex": [
       "$$\\left [ \\frac{1}{2}, \\quad - \\frac{1}{6}, \\quad \\frac{1}{4}, \\quad - \\frac{1}{8}, \\quad \\frac{1}{6}, \\quad - \\frac{1}{10}, \\quad \\frac{1}{8}, \\quad - \\frac{1}{12}, \\quad \\frac{1}{10}, \\quad - \\frac{1}{14}, \\quad \\frac{1}{2 n - 2}, \\quad - \\frac{1}{2 n + 2}, \\quad \\frac{1}{2 n}, \\quad - \\frac{1}{2 n + 4}\\right ]$$"
      ],
      "text/plain": [
       "⎡                                                               1         -1  \n",
       "⎢1/2, -1/6, 1/4, -1/8, 1/6, -1/10, 1/8, -1/12, 1/10, -1/14, ─────────, ───────\n",
       "⎣                                                           2⋅(n - 1)  2⋅(n + \n",
       "\n",
       "     1      -1    ⎤\n",
       "──, ───, ─────────⎥\n",
       "1)  2⋅n  2⋅(n + 2)⎦"
      ]
     },
     "execution_count": 49,
     "metadata": {},
     "output_type": "execute_result"
    }
   ],
   "source": [
    "args = ul.args\n",
    "s = []\n",
    "for i in range(5):\n",
    "    s=s + [arg.subs(n,i+1) for arg in args]\n",
    "s = s + [arg.subs(n,n-1) for arg in args] + list(args)\n",
    "s"
   ]
  },
  {
   "cell_type": "markdown",
   "metadata": {},
   "source": [
    "Vidimo, da se vmesni členi pokrajšajo, razen 1. in 3. ter zadnjega in predpredzadnjega. Delna vsota je torej enaka"
   ]
  },
  {
   "cell_type": "code",
   "execution_count": 45,
   "metadata": {
    "collapsed": false
   },
   "outputs": [
    {
     "data": {
      "image/png": "[encoded data removed]",
      "text/latex": [
       "$$\\frac{3}{4} - \\frac{1}{2 n + 4} - \\frac{1}{2 n + 2}$$"
      ],
      "text/plain": [
       "3       1           1    \n",
       "─ - ───────── - ─────────\n",
       "4   2⋅(n + 2)   2⋅(n + 1)"
      ]
     },
     "execution_count": 45,
     "metadata": {},
     "output_type": "execute_result"
    }
   ],
   "source": [
    "Sn = s[0]+s[2]+s[-3]+s[-1]\n",
    "Sn"
   ]
  },
  {
   "cell_type": "code",
   "execution_count": 51,
   "metadata": {
    "collapsed": false
   },
   "outputs": [
    {
     "data": {
      "image/png": "[encoded data removed]",
      "text/latex": [
       "$$\\frac{n \\left(3 n + 5\\right)}{4 \\left(n + 1\\right) \\left(n + 2\\right)}$$"
      ],
      "text/plain": [
       "   n⋅(3⋅n + 5)   \n",
       "─────────────────\n",
       "4⋅(n + 1)⋅(n + 2)"
      ]
     },
     "execution_count": 51,
     "metadata": {},
     "output_type": "execute_result"
    }
   ],
   "source": [
    "Sn.together().factor()"
   ]
  },
  {
   "cell_type": "code",
   "execution_count": 54,
   "metadata": {
    "collapsed": false
   },
   "outputs": [
    {
     "data": {
      "image/png": "[encoded data removed]",
      "text/latex": [
       "$$\\frac{3}{4}$$"
      ],
      "text/plain": [
       "3/4"
      ]
     },
     "execution_count": 54,
     "metadata": {},
     "output_type": "execute_result"
    }
   ],
   "source": [
    "limit(Sn,n,oo) #vsota vrste je limita delnih vsot"
   ]
  },
  {
   "cell_type": "markdown",
   "metadata": {},
   "source": [
    "### Primer\n",
    "Zaporedje je dano z rekurzivno formulo \n",
    "$$a_{n+1}=1+\\frac{1}{a_n}$$\n",
    "in začetnim členom $a_0=\\frac{1}{2}$. \n",
    "\n",
    " * Nariši nekaj členov zaporedja\n",
    " * Pokaži, da sta zaporedji $a_{2n}$ in $a_{2n+1}$ monotoni in omejeni.\n",
    " * Poišči limito."
   ]
  },
  {
   "cell_type": "markdown",
   "metadata": {},
   "source": [
    "[<< nazaj: zaporedja](02a_zaporedja.ipynb)"
   ]
  },
  {
   "cell_type": "code",
   "execution_count": null,
   "metadata": {
    "collapsed": true
   },
   "outputs": [],
   "source": [
    "import disqus\n",
    "%reload_ext disqus\n",
    "%disqus matpy"
   ]
  }
 ],
 "metadata": {
  "kernelspec": {
   "display_name": "Python 3",
   "language": "python",
   "name": "python3"
  },
  "language_info": {
   "codemirror_mode": {
    "name": "ipython",
    "version": 3
   },
   "file_extension": ".py",
   "mimetype": "text/x-python",
   "name": "python",
   "nbconvert_exporter": "python",
   "pygments_lexer": "ipython3",
   "version": "3.5.0+"
  }
 },
 "nbformat": 4,
 "nbformat_minor": 0
}
