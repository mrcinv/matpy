{
 "cells": [
  {
   "cell_type": "markdown",
   "metadata": {
    "collapsed": true
   },
   "source": [
    "[<< nazaj: Predgovor](000_predgovor.ipynb) "
   ]
  },
  {
   "cell_type": "markdown",
   "metadata": {},
   "source": [
    "## Uvod"
   ]
  },
  {
   "cell_type": "markdown",
   "metadata": {},
   "source": [
    "Preden se lotimo trenja matematičnih orehov s kladivom imenovanim *Python*, si moramo pripraviti primerno okolje.\n",
    "\n",
    "Dokumenti so napisani v obliki [Jupyter notebook](http://www.jupyter.org), ki je interaktivno okolje za *Python*, v katerem lahko združujemo programsko kodo in besedilo. Dokumente lahko [prenesete](https://github.com/mrcinv/matpy/archive/master.zip) na svoj računalnik, kodo po želji spreminjate in tako spoznate, kaj koda počne in kako. Zato potrebujete nameščen [Jupyter](http://www.jupyter.org) in seveda *Python*. \n",
    "\n",
    "Dokumente lahko poganjate tudi na oblaku [SageMathCloud](https://cloud.sagemath.com), ne da bi karkoli namestili na svoj računalnik,  vendar je hitrost delovanja omejena.\n",
    "\n",
    "Kodo seveda lahko tudi skopirate v kakšno drugo okolje za *Python* in jo poganjate neodvisno od okolja *Jupyter*.\n",
    "\n",
    "**Kakorkoli, kodo spreminjajte, eksperimentirajte in poskusite naloge rešiti na različne načine.** "
   ]
  },
  {
   "cell_type": "markdown",
   "metadata": {},
   "source": [
    "## 1. naloga: namestite jupyter\n",
    "Namestite si [jupyter](http://www.jupyter.org).\n",
    "### Linux\n",
    "Navodila so napisana za distribucije, ki temeljijo na distribuciji [Debian](https://www.debian.org/).  Najprej namestite `pip` za `Python` verzije 3, tako da v ukazni vrstici terminala napišite\n",
    "\n",
    "```\n",
    "sudo apt-get install pip3\n",
    "```\n",
    "\n",
    "Nato namestite paket `jupyter-notebook` z ukazom\n",
    "\n",
    "```\n",
    "pip3 install jupyter-notebook\n",
    "```\n",
    "### Windows in Mac\n",
    "Sledite [navodilom za namestitev](http://jupyter.readthedocs.org/en/latest/install.html).\n",
    "\n",
    "## 2. naloga: Preiskusite jupyter\n",
    "Preiskusite jupyter, tako da poženete ukaz\n",
    "```\n",
    "jupyter notebook\n",
    "```\n",
    " v ukazni vrstici. Odprlo se vam bo novo okno brskalnika, v katerem je seznam datotek v trenutnem imeniku. V meniju desno zgoraj izberite `New -> Notebooks -> Python3` in preiskusite Python s preporstimi ukazi, npr. `1+1`, `print(\"Hello!\")`, .... Kodo v celici poženete s kombinacijo tipk `Shift+Enter`."
   ]
  },
  {
   "cell_type": "code",
   "execution_count": 1,
   "metadata": {
    "collapsed": false
   },
   "outputs": [
    {
     "data": {
      "text/plain": [
       "2"
      ]
     },
     "execution_count": 1,
     "metadata": {},
     "output_type": "execute_result"
    }
   ],
   "source": [
    "1+1"
   ]
  },
  {
   "cell_type": "markdown",
   "metadata": {},
   "source": [
    "## 3. naloga: Prenesite zbirko na svoj računalnik\n",
    "Celotno zbirko prenesite v obliki [arhiva zip](https://github.com/mrcinv/matpy/archive/master.zip) na svoj računalnik. Arhiv razširite in nato v novo razpakiranem direktoriju poženite *Jupyter*\n",
    "```\n",
    "cd matpy-master\n",
    "jupyter notebook\n",
    "```\n",
    "V oknu brskalnika, ki se odpre, izberite `00_uvod.ipynb` in poskusite, kaj izvede naslednja koda"
   ]
  },
  {
   "cell_type": "code",
   "execution_count": null,
   "metadata": {
    "collapsed": false
   },
   "outputs": [],
   "source": [
    "?print\n",
    "import time\n",
    "tekst = \"Matematika in Python\"\n",
    "for znak in tekst:\n",
    "    time.sleep(0.2)\n",
    "    print(znak,end='')"
   ]
  },
  {
   "cell_type": "markdown",
   "metadata": {},
   "source": [
    "## Polje za diskusijo\n",
    "Naslednje kode ni treba poganjati, saj je namenjena le temu, da se na koncu zvezka prikaže polje za diskusijo. Komentarji so dobrodošli."
   ]
  },
  {
   "cell_type": "code",
   "execution_count": 2,
   "metadata": {
    "collapsed": false
   },
   "outputs": [
    {
     "data": {
      "text/html": [
       "\n",
       "<div id=\"disqus_thread\"></div>\n",
       "\n",
       "<script type=\"text/javascript\">\n",
       "    var disqus_shortname = \"matpy\";\n",
       "    \n",
       "</script>\n",
       "<script src=\"https://matpy.disqus.com/embed.js\" async=\"true\">\n",
       "</script>\n",
       "\n",
       "<noscript>\n",
       "    Please enable JavaScript to view the\n",
       "    <a href=\"https://disqus.com/?ref_noscript\" rel=\"nofollow\">\n",
       "        comments powered by Disqus.\n",
       "    </a>\n",
       "</noscript>"
      ],
      "text/plain": [
       "<IPython.core.display.HTML object>"
      ]
     },
     "metadata": {},
     "output_type": "display_data"
    }
   ],
   "source": [
    "import disqus\n",
    "%reload_ext disqus\n",
    "%disqus matpy"
   ]
  },
  {
   "cell_type": "markdown",
   "metadata": {
    "collapsed": true
   },
   "source": [
    "[<< nazaj: Predgovor](000_predgovor.ipynb) <div align=\"right\">[naprej: Enačbe >>](01a_enacbe.ipynb)</div>"
   ]
  }
 ],
 "metadata": {
  "kernelspec": {
   "display_name": "Python 3",
   "language": "python",
   "name": "python3"
  },
  "language_info": {
   "codemirror_mode": {
    "name": "ipython",
    "version": 3
   },
   "file_extension": ".py",
   "mimetype": "text/x-python",
   "name": "python",
   "nbconvert_exporter": "python",
   "pygments_lexer": "ipython3",
   "version": "3.5.2"
  }
 },
 "nbformat": 4,
 "nbformat_minor": 0
}
