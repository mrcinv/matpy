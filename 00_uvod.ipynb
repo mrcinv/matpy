{
 "cells": [
  {
   "cell_type": "markdown",
   "metadata": {},
   "source": [
    "# Python v matematiki"
   ]
  },
  {
   "cell_type": "markdown",
   "metadata": {},
   "source": [
    "Pred vami je zbirka dokumentov, v katerih bomo opisali, kako lahko probleme in naloge pri predmetu Matematika rešujemo s programskim jezikom [Python](http://www.python.org). Za opravljanje predmeta Matematika znanje Pythona ni zahtevano. Tukaj predstavljena snov je, kar se tiče predmeta Matematika, povsem neobvezna. Glavni namen te zbirke je, da spoznate, kako lahko pridobljeno znanje matematike uporabite pri programiranju in obratno, kako si lahko pri učenju matematike pomagate s Pythonom. "
   ]
  },
  {
   "cell_type": "markdown",
   "metadata": {},
   "source": [
    "## Uvod"
   ]
  },
  {
   "cell_type": "markdown",
   "metadata": {},
   "source": [
    "Dokumenti so napisani v obliki [Jupyter notebook](http://www.jupyter.org), ki je interaktivno okolje za *Python*, v katerem lahko združujemo programsko kodo in besedilo. Dokument lahko prenesete na svoj računalnik, kodo po želji spreminjate in tako spoznate, kaj koda počne in kako. Zato potrebujete nameščen [Jupyter](http://jupyter.readthedocs.org/en/latest/install.html) in seveda *Python*. Datoteko nato odprete z ukazom v terminalu\n",
    "```\n",
    "ipython notebook 01_uvod.ipynb\n",
    "```\n",
    "ali pa kliknete na gumb \n",
    "[![Binder](http://mybinder.org/badge.svg)](http://mybinder.org/repo/mrcinv/matpy)\n",
    "in kodo poženite v oblaku.\n",
    "\n",
    "Kodo seveda lahko tudi skopirate v kakšno drugo okolje za *Python* in jo poganjate neodvisno od dokumenta. **Priporočam vam, da kodo spreminjate, eksperimentirate in poskusite naloge rešiti na različne načine.** "
   ]
  },
  {
   "cell_type": "markdown",
   "metadata": {},
   "source": [
    "## Kazalo"
   ]
  },
  {
   "cell_type": "markdown",
   "metadata": {},
   "source": [
    "1. Števila, enačbe in neenačbe\n",
    " * [Enačbe](01a_enacbe.ipynb)\n",
    " * [Neenačbe](01b_neenacbe.ipynb)\n",
    " * [Kompleksna števila](01c_kompleksna.ipynb)\n",
    "2. Zaporedja in vrste\n",
    " * [Zaporedja](02a_zaporedja.ipynb)\n",
    " * [Vrste](02b_vrste.ipynb)\n",
    "3. Funkcije\n",
    " * [Funkcije](03a_funkcije.ipynb)\n",
    "4. Odvod\n",
    " * [Tabela odvodov elementarnih funkcij](04a_odvod.ipynb)\n",
    " * [Tangenta](04a_tangenta.ipynb)"
   ]
  },
  {
   "cell_type": "markdown",
   "metadata": {},
   "source": [
    "## Naloge"
   ]
  },
  {
   "cell_type": "markdown",
   "metadata": {},
   "source": [
    "## Namestite jupyter\n",
    "Namestite si [jupyter](http://jupyter.readthedocs.org/en/latest/install.html), naložite ta dokument na svoj računalnik in poženite spodnji ukaz."
   ]
  },
  {
   "cell_type": "code",
   "execution_count": null,
   "metadata": {
    "collapsed": false
   },
   "outputs": [],
   "source": [
    "from __future__ import print_function\n",
    "import time\n",
    "for i in range(10):\n",
    "    time.sleep(0.2)\n",
    "    print(\".\")\n",
    "print(\"Hello world!\")"
   ]
  },
  {
   "cell_type": "code",
   "execution_count": 2,
   "metadata": {
    "collapsed": false
   },
   "outputs": [
    {
     "data": {
      "text/html": [
       "\n",
       "<div id=\"disqus_thread\"></div>\n",
       "\n",
       "<script type=\"text/javascript\">\n",
       "    var disqus_shortname = \"matpy\";\n",
       "    \n",
       "</script>\n",
       "<script src=\"https://matpy.disqus.com/embed.js\" async=\"true\">\n",
       "</script>\n",
       "\n",
       "<noscript>\n",
       "    Please enable JavaScript to view the\n",
       "    <a href=\"https://disqus.com/?ref_noscript\" rel=\"nofollow\">\n",
       "        comments powered by Disqus.\n",
       "    </a>\n",
       "</noscript>"
      ],
      "text/plain": [
       "<IPython.core.display.HTML object>"
      ]
     },
     "metadata": {},
     "output_type": "display_data"
    }
   ],
   "source": [
    "import disqus\n",
    "%reload_ext disqus\n",
    "%disqus matpy"
   ]
  },
  {
   "cell_type": "code",
   "execution_count": null,
   "metadata": {
    "collapsed": true
   },
   "outputs": [],
   "source": []
  }
 ],
 "metadata": {
  "kernelspec": {
   "display_name": "Python 3",
   "language": "python",
   "name": "python3"
  },
  "language_info": {
   "codemirror_mode": {
    "name": "ipython",
    "version": 3
   },
   "file_extension": ".py",
   "mimetype": "text/x-python",
   "name": "python",
   "nbconvert_exporter": "python",
   "pygments_lexer": "ipython3",
   "version": "3.5.0+"
  }
 },
 "nbformat": 4,
 "nbformat_minor": 0
}
