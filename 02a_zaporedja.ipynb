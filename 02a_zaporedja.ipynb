{
 "cells": [
  {
   "cell_type": "markdown",
   "metadata": {},
   "source": [
    "[^ gor: Uvod](00_uvod.ipynb)"
   ]
  },
  {
   "cell_type": "markdown",
   "metadata": {},
   "source": [
    "# Zaporedja\n",
    "Zaporedje je funkcija iz naravnih števil v neko množico $\\mathcal{Z}$.\n",
    "\n",
    "$$ a:\\mathbb{N}\\to\\mathcal{Z}$$\n",
    "\n",
    " * $n$-ti **člen zaporedja** $a_n$ je vrednost $a(n)$ funkcije $a$ v naravnem številu $n$\n",
    " * pri Matematiki bo $\\mathcal{Z}$ vedno $\\mathbb{R}$, se pravi členi zaporedja  bodo **realna števila**\n",
    " * Zaporedje velikokrat podamo s prvimi nekaj členi in pustimo bralcu, da ugane splošni člen\n",
    " $$a_0,a_1,a_2,a_3,\\ldots$$\n",
    " $$1,\\frac{1}{2},\\frac{2}{3},\\frac{3}{4},\\ldots$$\n"
   ]
  },
  {
   "cell_type": "markdown",
   "metadata": {},
   "source": [
    "## Primer\n",
    "Dano je zaporedje \n",
    "$$a_n=\\frac{n^{10}}{2^n}.$$\n",
    " \n",
    " * izračunaj in izpiši prvih nekaj členov in nariši graf\n",
    " * pokaži, da je zaporedje od nekega $n$ naprej padajoče\n",
    " * izračunaj limito"
   ]
  },
  {
   "cell_type": "code",
   "execution_count": 1,
   "metadata": {
    "collapsed": false
   },
   "outputs": [
    {
     "name": "stdout",
     "output_type": "stream",
     "text": [
      "0.000000\n",
      "0.500000\n",
      "256.000000\n",
      "7381.125000\n",
      "65536.000000\n",
      "305175.781250\n",
      "944784.000000\n",
      "2206837.882812\n",
      "4194304.000000\n",
      "6810125.783203\n"
     ]
    }
   ],
   "source": [
    "# zaporedje definiramo kot funkcijo\n",
    "a = lambda n: n**10/2**n\n",
    "for n in range(10):\n",
    "    print(\"%f\" % a(n))"
   ]
  },
  {
   "cell_type": "code",
   "execution_count": 12,
   "metadata": {
    "collapsed": false
   },
   "outputs": [
    {
     "data": {
      "image/png": "[encoded data removed]",
      "text/plain": [
       "<matplotlib.figure.Figure at 0x7f4d8609fc88>"
      ]
     },
     "metadata": {},
     "output_type": "display_data"
    }
   ],
   "source": [
    "from matplotlib import pyplot as plt\n",
    "%matplotlib inline\n",
    "n = range(30)\n",
    "plt.plot(n,[a(k) for k in n],'*')\n",
    "#plt.semilogy(n,[a(k) for k in n],'*')\n",
    "plt.title(\"prvih %d členov zaporedja\" % len(n))\n",
    "plt.show()"
   ]
  },
  {
   "cell_type": "markdown",
   "metadata": {},
   "source": [
    "Zaporedje je padajoče, če je naslednji člen manjši od prejšnjega: $a_n>a_{n+1}$. Iz grafa vidimo, da je od približno 15 člena naprej zaporedje padajoče. Poiščimo $n$ pri katerem se to zgodi še s programom. "
   ]
  },
  {
   "cell_type": "code",
   "execution_count": 14,
   "metadata": {
    "collapsed": false
   },
   "outputs": [
    {
     "data": {
      "text/plain": [
       "14"
      ]
     },
     "execution_count": 14,
     "metadata": {},
     "output_type": "execute_result"
    }
   ],
   "source": [
    "n = 0\n",
    "while a(n)<a(n+1):\n",
    "    n += 1\n",
    "n"
   ]
  },
  {
   "cell_type": "markdown",
   "metadata": {},
   "source": [
    "Graf in program seveda nista dokaz, da je zaporedje padajoče za vse $n>14$. Lahko pa to preverimo, tako da rešimo neenačbo\n",
    "$$ a_n>a_{n+1}$$\n",
    "$$ \\frac{n^{10}}{2^n}>\\frac{(n+1)^{10}}{2^{n+1}}$$"
   ]
  },
  {
   "cell_type": "code",
   "execution_count": 21,
   "metadata": {
    "collapsed": false
   },
   "outputs": [
    {
     "data": {
      "image/png": "[encoded data removed]",
      "text/latex": [
       "$$2^{- n} n^{10} > \\frac{2^{- n}}{2} \\left(n + 1\\right)^{10}$$"
      ],
      "text/plain": [
       "           -n        10\n",
       " -n  10   2  ⋅(n + 1)  \n",
       "2  ⋅n   > ─────────────\n",
       "                2      "
      ]
     },
     "execution_count": 21,
     "metadata": {},
     "output_type": "execute_result"
    }
   ],
   "source": [
    "import sympy as sym\n",
    "sym.init_printing() # lepši izpis formul\n",
    "from sympy.solvers.inequalities import solve_univariate_inequality\n",
    "from sympy import Symbol\n",
    "\n",
    "n = Symbol('n', real=True) #  x simbol, ki je realno število\n",
    "neenacba = a(n) > a(n+1)\n",
    "sym.simplify(neenacba)"
   ]
  },
  {
   "cell_type": "code",
   "execution_count": 31,
   "metadata": {
    "collapsed": false
   },
   "outputs": [
    {
     "ename": "TypeError",
     "evalue": "cannot determine truth value of\nRootOf(n**10 - 10*n**9 - 45*n**8 - 120*n**7 - 210*n**6 - 252*n**5 - 210*n**4 - 120*n**3 - 45*n**2 - 10*n - 1, 1) < RootOf(n**10 - 10*n**9 - 45*n**8 - 120*n**7 - 210*n**6 - 252*n**5 - 210*n**4 - 120*n**3 - 45*n**2 - 10*n - 1, 0)",
     "output_type": "error",
     "traceback": [
      "\u001b[1;31m---------------------------------------------------------------------------\u001b[0m",
      "\u001b[1;31mTypeError\u001b[0m                                 Traceback (most recent call last)",
      "\u001b[1;32m<ipython-input-31-98945c04d7c4>\u001b[0m in \u001b[0;36m<module>\u001b[1;34m()\u001b[0m\n\u001b[1;32m----> 1\u001b[1;33m \u001b[0msolve_univariate_inequality\u001b[0m\u001b[1;33m(\u001b[0m\u001b[0mneenacba\u001b[0m\u001b[1;33m,\u001b[0m\u001b[0mx\u001b[0m\u001b[1;33m)\u001b[0m\u001b[1;33m\u001b[0m\u001b[0m\n\u001b[0m",
      "\u001b[1;32m/usr/local/lib/python3.5/dist-packages/sympy/solvers/inequalities.py\u001b[0m in \u001b[0;36msolve_univariate_inequality\u001b[1;34m(expr, gen, relational)\u001b[0m\n\u001b[0;32m    396\u001b[0m     \u001b[0msol_sets\u001b[0m \u001b[1;33m=\u001b[0m \u001b[1;33m[\u001b[0m\u001b[0mS\u001b[0m\u001b[1;33m.\u001b[0m\u001b[0mEmptySet\u001b[0m\u001b[1;33m]\u001b[0m\u001b[1;33m\u001b[0m\u001b[0m\n\u001b[0;32m    397\u001b[0m \u001b[1;33m\u001b[0m\u001b[0m\n\u001b[1;32m--> 398\u001b[1;33m     \u001b[1;32mfor\u001b[0m \u001b[0mx\u001b[0m \u001b[1;32min\u001b[0m \u001b[0msorted\u001b[0m\u001b[1;33m(\u001b[0m\u001b[0ms\u001b[0m \u001b[1;32mfor\u001b[0m \u001b[0ms\u001b[0m \u001b[1;32min\u001b[0m \u001b[0msolns\u001b[0m \u001b[1;32mif\u001b[0m \u001b[0ms\u001b[0m\u001b[1;33m.\u001b[0m\u001b[0mis_real\u001b[0m\u001b[1;33m)\u001b[0m\u001b[1;33m:\u001b[0m\u001b[1;33m\u001b[0m\u001b[0m\n\u001b[0m\u001b[0;32m    399\u001b[0m         \u001b[0mend\u001b[0m \u001b[1;33m=\u001b[0m \u001b[0mx\u001b[0m\u001b[1;33m\u001b[0m\u001b[0m\n\u001b[0;32m    400\u001b[0m         \u001b[1;32mif\u001b[0m \u001b[0msimplify\u001b[0m\u001b[1;33m(\u001b[0m\u001b[0mexpr\u001b[0m\u001b[1;33m.\u001b[0m\u001b[0msubs\u001b[0m\u001b[1;33m(\u001b[0m\u001b[0mgen\u001b[0m\u001b[1;33m,\u001b[0m \u001b[1;33m(\u001b[0m\u001b[0mstart\u001b[0m \u001b[1;33m+\u001b[0m \u001b[0mend\u001b[0m\u001b[1;33m)\u001b[0m\u001b[1;33m/\u001b[0m\u001b[1;36m2\u001b[0m \u001b[1;32mif\u001b[0m \u001b[0mstart\u001b[0m \u001b[1;33m!=\u001b[0m \u001b[1;33m-\u001b[0m\u001b[0moo\u001b[0m \u001b[1;32melse\u001b[0m \u001b[0mend\u001b[0m \u001b[1;33m-\u001b[0m \u001b[1;36m1\u001b[0m\u001b[1;33m)\u001b[0m\u001b[1;33m)\u001b[0m\u001b[1;33m:\u001b[0m\u001b[1;33m\u001b[0m\u001b[0m\n",
      "\u001b[1;32m/usr/local/lib/python3.5/dist-packages/sympy/core/relational.py\u001b[0m in \u001b[0;36m__nonzero__\u001b[1;34m(self)\u001b[0m\n\u001b[0;32m    101\u001b[0m \u001b[1;33m\u001b[0m\u001b[0m\n\u001b[0;32m    102\u001b[0m     \u001b[1;32mdef\u001b[0m \u001b[0m__nonzero__\u001b[0m\u001b[1;33m(\u001b[0m\u001b[0mself\u001b[0m\u001b[1;33m)\u001b[0m\u001b[1;33m:\u001b[0m\u001b[1;33m\u001b[0m\u001b[0m\n\u001b[1;32m--> 103\u001b[1;33m         \u001b[1;32mraise\u001b[0m \u001b[0mTypeError\u001b[0m\u001b[1;33m(\u001b[0m\u001b[1;34m\"cannot determine truth value of\\n%s\"\u001b[0m \u001b[1;33m%\u001b[0m \u001b[0mself\u001b[0m\u001b[1;33m)\u001b[0m\u001b[1;33m\u001b[0m\u001b[0m\n\u001b[0m\u001b[0;32m    104\u001b[0m \u001b[1;33m\u001b[0m\u001b[0m\n\u001b[0;32m    105\u001b[0m     \u001b[0m__bool__\u001b[0m \u001b[1;33m=\u001b[0m \u001b[0m__nonzero__\u001b[0m\u001b[1;33m\u001b[0m\u001b[0m\n",
      "\u001b[1;31mTypeError\u001b[0m: cannot determine truth value of\nRootOf(n**10 - 10*n**9 - 45*n**8 - 120*n**7 - 210*n**6 - 252*n**5 - 210*n**4 - 120*n**3 - 45*n**2 - 10*n - 1, 1) < RootOf(n**10 - 10*n**9 - 45*n**8 - 120*n**7 - 210*n**6 - 252*n**5 - 210*n**4 - 120*n**3 - 45*n**2 - 10*n - 1, 0)"
     ]
    }
   ],
   "source": [
    "solve_univariate_inequality(neenacba,x)"
   ]
  },
  {
   "cell_type": "markdown",
   "metadata": {},
   "source": [
    "Neenačba je previsoke stopnje, zato je SymPy ne zna rešiti. Rešitev lahko poiščemo sami, tako da najprej rešimo enačbo. Nato določimo, na katerih intervalih neeančba velja."
   ]
  },
  {
   "cell_type": "code",
   "execution_count": 38,
   "metadata": {
    "collapsed": false
   },
   "outputs": [
    {
     "data": {
      "image/png": "[encoded data removed]",
      "text/latex": [
       "$$\\left [ \\operatorname{RootOf} {\\left(n^{10} - 10 n^{9} - 45 n^{8} - 120 n^{7} - 210 n^{6} - 252 n^{5} - 210 n^{4} - 120 n^{3} - 45 n^{2} - 10 n - 1, 0\\right)}, \\quad \\operatorname{RootOf} {\\left(n^{10} - 10 n^{9} - 45 n^{8} - 120 n^{7} - 210 n^{6} - 252 n^{5} - 210 n^{4} - 120 n^{3} - 45 n^{2} - 10 n - 1, 1\\right)}\\right ]$$"
      ],
      "text/plain": [
       "⎡      ⎛ 10       9       8        7        6        5        4        3      \n",
       "⎣RootOf⎝n   - 10⋅n  - 45⋅n  - 120⋅n  - 210⋅n  - 252⋅n  - 210⋅n  - 120⋅n  - 45⋅\n",
       "\n",
       " 2              ⎞        ⎛ 10       9       8        7        6        5      \n",
       "n  - 10⋅n - 1, 0⎠, RootOf⎝n   - 10⋅n  - 45⋅n  - 120⋅n  - 210⋅n  - 252⋅n  - 210\n",
       "\n",
       "  4        3       2              ⎞⎤\n",
       "⋅n  - 120⋅n  - 45⋅n  - 10⋅n - 1, 1⎠⎦"
      ]
     },
     "execution_count": 38,
     "metadata": {},
     "output_type": "execute_result"
    }
   ],
   "source": [
    "from sympy.solvers import solve\n",
    "resitve = solve(neenacba.lhs-neenacba.rhs)\n",
    "resitve"
   ]
  },
  {
   "cell_type": "code",
   "execution_count": 41,
   "metadata": {
    "collapsed": false
   },
   "outputs": [
    {
     "data": {
      "image/png": "[encoded data removed]",
      "text/latex": [
       "$$\\left [ -0.48267825516781476, \\quad 13.932726172912966\\right ]$$"
      ],
      "text/plain": [
       "[-0.48267825516781476, 13.932726172912966]"
      ]
     },
     "execution_count": 41,
     "metadata": {},
     "output_type": "execute_result"
    }
   ],
   "source": [
    "[float(x) for x in resitve]"
   ]
  },
  {
   "cell_type": "code",
   "execution_count": 49,
   "metadata": {
    "collapsed": false
   },
   "outputs": [
    {
     "data": {
      "image/png": "[encoded data removed]",
      "text/latex": [
       "$$\\mathrm{True}$$"
      ],
      "text/plain": [
       "True"
      ]
     },
     "execution_count": 49,
     "metadata": {},
     "output_type": "execute_result"
    }
   ],
   "source": [
    "neenacba.subs(n,15) # v enačbo vstavimo n=15"
   ]
  },
  {
   "cell_type": "markdown",
   "metadata": {},
   "source": [
    "## Rekurzivna zaporedja\n",
    "Zaporedje lahko podamo tudi z rekurzivno formulo \n",
    "$$a_{n+1}=f(a_n)$$\n",
    "in prvim členom\n",
    "$a_0$. \n"
   ]
  },
  {
   "cell_type": "markdown",
   "metadata": {},
   "source": [
    "### Primer\n",
    "Zaporedje je dano z rekurzivno formulo \n",
    "$$a_{n+1}=1+\\frac{1}{a_n}$$\n",
    "in začetnim členom $a_0=\\frac{1}{2}$. \n",
    "\n",
    " * Nariši nekaj členov zaporedja\n",
    " * Pokaži, da sta zaporedji $a_{2n}$ in $a_{2n+1}$ monotoni in omejeni.\n",
    " * Poišči limito."
   ]
  },
  {
   "cell_type": "code",
   "execution_count": 25,
   "metadata": {
    "collapsed": false
   },
   "outputs": [
    {
     "name": "stdout",
     "output_type": "stream",
     "text": [
      "Prvih 20 členov zaporedja\n",
      "\n",
      "0.50000000\n",
      "3.00000000\n",
      "1.33333333\n",
      "1.75000000\n",
      "1.57142857\n",
      "1.63636364\n",
      "1.61111111\n",
      "1.62068966\n",
      "1.61702128\n",
      "1.61842105\n",
      "1.61788618\n",
      "1.61809045\n",
      "1.61801242\n",
      "1.61804223\n",
      "1.61803084\n",
      "1.61803519\n",
      "1.61803353\n",
      "1.61803416\n",
      "1.61803392\n",
      "1.61803401\n",
      "\n"
     ]
    }
   ],
   "source": [
    "# narišemo nekaj prvih členov\n",
    "n0 = 20\n",
    "a = n0*[0]\n",
    "a[0] = 1/2\n",
    "for n in range(n0-1):\n",
    "    a[n+1] = 1+1./a[n]\n",
    "print(\"Prvih %d členov zaporedja\\n\" % n0)\n",
    "print((n0*\"%0.8f\\n\")%tuple(a))"
   ]
  },
  {
   "cell_type": "code",
   "execution_count": 26,
   "metadata": {
    "collapsed": false
   },
   "outputs": [
    {
     "data": {
      "image/png": "[encoded data removed]",
      "text/plain": [
       "<matplotlib.figure.Figure at 0x7f54255bc1d0>"
      ]
     },
     "metadata": {},
     "output_type": "display_data"
    }
   ],
   "source": [
    "from matplotlib import pyplot as plt\n",
    "%matplotlib inline\n",
    "plt.plot(range(n0),a,'o')\n",
    "plt.title(\"Členi zaporedja $a_n$\")\n",
    "plt.show()"
   ]
  },
  {
   "cell_type": "markdown",
   "metadata": {},
   "source": [
    "Prvih nekaj členov nam razkrije, da je zaporedje lihih členov $a_{2n+1}$ padajoče, zaporedje sodih členov $a_{2n}$ pa naraščajoče. Da bi to preverili/dokazali, zapišimo rekurzivno enačbo, ki ji zadoščata podzaporedji $a_{2n+1}$ in $a_{2n}$.\n",
    "\n",
    "Rekurzivna enačba \n",
    "\n",
    "$$a_{n+1}=f(a_n)=1+\\frac{1}{a_n}$$ \n",
    "\n",
    "je določena s funkcijo $f(x)=1+\\frac{1}{x}$. Za zaporedji sodih in lihih členov $a_{2n}$ in $a_{2n+1}$ dobimo rekurzivni formuli, če dvakrat uporabimo funkcijo $f$\n",
    "\n",
    "$$a_{2(n+1)}=f(a_{2n+1})=f(f(a_{2n}))$$\n",
    "\n",
    "in \n",
    "\n",
    "$$a_{2(n+1)+1} = f(f(a_{2n+1}))$$"
   ]
  },
  {
   "cell_type": "code",
   "execution_count": 5,
   "metadata": {
    "collapsed": false
   },
   "outputs": [
    {
     "data": {
      "image/png": "[encoded data removed]",
      "text/latex": [
       "$$1 + \\frac{1}{1 + \\frac{1}{a_{n}}}$$"
      ],
      "text/plain": [
       "       1   \n",
       "1 + ───────\n",
       "         1 \n",
       "    1 + ───\n",
       "        a_n"
      ]
     },
     "execution_count": 5,
     "metadata": {},
     "output_type": "execute_result"
    }
   ],
   "source": [
    "import sympy as sym\n",
    "sym.init_printing()\n",
    "# zaporedje je podano s funkcijo f(x) = 1+1/x\n",
    "f = lambda x: 1+1/x\n",
    "n = sym.Symbol('n')\n",
    "a_n = sym.Symbol('a_n')\n",
    "f(f(a_n))"
   ]
  },
  {
   "cell_type": "code",
   "execution_count": 55,
   "metadata": {
    "collapsed": false
   },
   "outputs": [
    {
     "data": {
      "image/png": "[encoded data removed]",
      "text/latex": [
       "$$\\frac{2 a_{n} + 1}{a_{n} + 1}$$"
      ],
      "text/plain": [
       "2⋅a_n + 1\n",
       "─────────\n",
       " a_n + 1 "
      ]
     },
     "execution_count": 55,
     "metadata": {},
     "output_type": "execute_result"
    }
   ],
   "source": [
    "sym.simplify(f(f(a_n)))"
   ]
  },
  {
   "cell_type": "markdown",
   "metadata": {},
   "source": [
    "Zaporedji lihih členov in sodih členov zadoščata rekurzivni formuli\n",
    "$$a_{n+2}=\\frac{2 a_{n} + 1}{a_{n} + 1}.$$\n",
    "Zaporedje $a_{2n}$ bo naraščalo, če bo veljalo\n",
    "$$a_{2n+2} > a_{2n}$$\n",
    "oziroma\n",
    "$$\\frac{2 a_{2n} + 1}{a_{2n} + 1} > a_{2n}.$$\n",
    "\n"
   ]
  },
  {
   "cell_type": "code",
   "execution_count": 15,
   "metadata": {
    "collapsed": false
   },
   "outputs": [
    {
     "data": {
      "image/png": "[encoded data removed]",
      "text/latex": [
       "$$\\frac{2 a_{2n} + 1}{a_{2n} + 1} > a_{2n}$$"
      ],
      "text/plain": [
       "2⋅a_2n + 1       \n",
       "────────── > a_2n\n",
       " a_2n + 1        "
      ]
     },
     "execution_count": 15,
     "metadata": {},
     "output_type": "execute_result"
    }
   ],
   "source": [
    "ff = lambda x: f(f(x))\n",
    "a_2n = sym.Symbol('a_2n')\n",
    "sym.simplify(ff(a_2n) > a_2n)"
   ]
  },
  {
   "cell_type": "code",
   "execution_count": 16,
   "metadata": {
    "collapsed": false
   },
   "outputs": [
    {
     "data": {
      "image/png": "[encoded data removed]",
      "text/latex": [
       "$$\\left(-\\infty < a_{2n} \\wedge a_{2n} < - \\frac{\\sqrt{5}}{2} + \\frac{1}{2}\\right) \\vee \\left(a_{2n} < \\frac{1}{2} + \\frac{\\sqrt{5}}{2} \\wedge - \\frac{\\sqrt{5}}{2} + \\frac{1}{2} < a_{2n}\\right)$$"
      ],
      "text/plain": [
       "⎛                       ___    ⎞   ⎛             ___       ___           ⎞\n",
       "⎜                     ╲╱ 5    1⎟   ⎜       1   ╲╱ 5      ╲╱ 5    1       ⎟\n",
       "⎜-∞ < a_2n ∧ a_2n < - ───── + ─⎟ ∨ ⎜a_2n < ─ + ───── ∧ - ───── + ─ < a_2n⎟\n",
       "⎝                       2     2⎠   ⎝       2     2         2     2       ⎠"
      ]
     },
     "execution_count": 16,
     "metadata": {},
     "output_type": "execute_result"
    }
   ],
   "source": [
    "sym.solve_univariate_inequality(ff(a_2n)>a_2n,a_2n)"
   ]
  },
  {
   "cell_type": "markdown",
   "metadata": {},
   "source": [
    "Zaporedje sodih členov $a_{2n}$ bo **padajoče**, če so členi\n",
    "$$a_{2n}>\\frac{1}{2}+\\frac{\\sqrt{5}}{2}$$\n",
    "in **naraščajoče**, če so členi\n",
    "$$a_{2n}<\\frac{1}{2}+\\frac{\\sqrt{5}}{2}.$$\n",
    "Podobno velja za zaporedje lihih členov $a_{2n+1}$."
   ]
  },
  {
   "cell_type": "code",
   "execution_count": 17,
   "metadata": {
    "collapsed": false
   },
   "outputs": [
    {
     "data": {
      "image/png": "[encoded data removed]",
      "text/latex": [
       "$$1 + \\frac{1}{1 + \\frac{1}{a_{2n}}} < \\frac{1}{2} + \\frac{\\sqrt{5}}{2}$$"
      ],
      "text/plain": [
       "                     ___\n",
       "       1       1   ╲╱ 5 \n",
       "1 + ──────── < ─ + ─────\n",
       "         1     2     2  \n",
       "    1 + ────            \n",
       "        a_2n            "
      ]
     },
     "execution_count": 17,
     "metadata": {},
     "output_type": "execute_result"
    }
   ],
   "source": [
    "neenacba = ff(a_2n)<1/sym.Integer(2)+sym.sqrt(sym.Integer(5))/2\n",
    "neenacba"
   ]
  },
  {
   "cell_type": "code",
   "execution_count": 18,
   "metadata": {
    "collapsed": false
   },
   "outputs": [
    {
     "data": {
      "image/png": "[encoded data removed]",
      "text/latex": [
       "$$-\\infty < a_{2n} \\wedge a_{2n} < \\frac{1}{2} + \\frac{\\sqrt{5}}{2}$$"
      ],
      "text/plain": [
       "                         ___\n",
       "                   1   ╲╱ 5 \n",
       "-∞ < a_2n ∧ a_2n < ─ + ─────\n",
       "                   2     2  "
      ]
     },
     "execution_count": 18,
     "metadata": {},
     "output_type": "execute_result"
    }
   ],
   "source": [
    "sym.solve_univariate_inequality(neenacba,a_2n)"
   ]
  },
  {
   "cell_type": "markdown",
   "metadata": {},
   "source": [
    "Vidimo, da je \n",
    "$$a_{2n}<\\frac{1}{2}+\\frac{\\sqrt{5}}{2}\\implies a_{2n+2}<\\frac{1}{2}+\\frac{\\sqrt{5}}{2}.$$\n",
    "Po indukciji sklepamo, da so vsi členi  $a_{2n}<\\frac{1}{2}+\\frac{\\sqrt{5}}{2}$, če to velja za prvi člen \n",
    "$$a_0= \\frac{1}{2}<\\frac{1}{2}+\\frac{\\sqrt{5}}{2}.$$\n",
    "Ker so vsi členi  $a_{2n}<\\frac{1}{2}+\\frac{\\sqrt{5}}{2}$, je zaporedje sodih členov naraščajoče. Podobno dokažemo, da je zaporedje lihih členov $a_{2n+1}$ padajoče."
   ]
  },
  {
   "cell_type": "markdown",
   "metadata": {},
   "source": [
    "## Limita\n",
    "Limita $a = \\lim_{n\\to\\infty} a_n$ rekurzivnega zaporedja zadošča rekurzivni enačbi\n",
    "$$ a = f(a). $$\n",
    "Res! \n",
    "\\begin{eqnarray}\n",
    "a_{n+1} & = &f(a_n)\\\\\n",
    "\\lim_{n\\to\\infty} a_{n+1} &=& \\lim_{n\\to\\infty} f(a_n)\\\\\n",
    "\\lim_{n\\to\\infty} a_{n} &=& f\\left(\\lim_{n\\to\\infty} a_n\\right)\\\\\n",
    "a &=&f(a)\n",
    "\\end{eqnarray}"
   ]
  },
  {
   "cell_type": "code",
   "execution_count": 21,
   "metadata": {
    "collapsed": false
   },
   "outputs": [
    {
     "data": {
      "image/png": "[encoded data removed]",
      "text/latex": [
       "$$\\left [ \\frac{1}{2} + \\frac{\\sqrt{5}}{2}, \\quad - \\frac{\\sqrt{5}}{2} + \\frac{1}{2}\\right ]$$"
      ],
      "text/plain": [
       "⎡      ___      ___    ⎤\n",
       "⎢1   ╲╱ 5     ╲╱ 5    1⎥\n",
       "⎢─ + ─────, - ───── + ─⎥\n",
       "⎣2     2        2     2⎦"
      ]
     },
     "execution_count": 21,
     "metadata": {},
     "output_type": "execute_result"
    }
   ],
   "source": [
    "resitve = sym.solve(sym.Eq(a_n,f(a_n)),a_n)\n",
    "resitve"
   ]
  },
  {
   "cell_type": "markdown",
   "metadata": {},
   "source": [
    "Rešitvi sta nam že poznani iz predhodne analize. Limita je očitno enaka prvi rešitvi $$\\frac{1}{2}+\\frac{\\sqrt{5}}{2},$$\n",
    "saj je $a_n>0$."
   ]
  },
  {
   "cell_type": "code",
   "execution_count": 23,
   "metadata": {
    "collapsed": false
   },
   "outputs": [
    {
     "data": {
      "image/png": "[encoded data removed]",
      "text/latex": [
       "$$1.61803398874989$$"
      ],
      "text/plain": [
       "1.61803398874989"
      ]
     },
     "execution_count": 23,
     "metadata": {},
     "output_type": "execute_result"
    }
   ],
   "source": [
    "resitve[0].evalf() # numerični približek za limito se ujema s prej izračunanimi členi zaporedja"
   ]
  },
  {
   "cell_type": "markdown",
   "metadata": {},
   "source": [
    "## Grafična predstavitev rekurzivnega zaporedja\n",
    "Rekurzivno podano zaporedje z rekurzivno formulo\n",
    "$$a_{n+1}=f(a_n)$$\n",
    "si lahko predstavljamo tudi grafično. Limita zaporedja $a_n$ je rešitev enačbe\n",
    "$$a=f(a)$$\n",
    "Grafično prestavlja limita presečišče grafa funkcije $y=f(x)$ in simetrale lihih kvadrantov $y=x$."
   ]
  },
  {
   "cell_type": "code",
   "execution_count": 78,
   "metadata": {
    "collapsed": false
   },
   "outputs": [
    {
     "data": {
      "image/png": "[encoded data removed]",
      "text/plain": [
       "<matplotlib.figure.Figure at 0x7f54209045c0>"
      ]
     },
     "metadata": {},
     "output_type": "display_data"
    }
   ],
   "source": [
    "t=np.linspace(0.4,4)\n",
    "l1, = plt.plot(t,t,label=\"$y=x$\")\n",
    "l2, = plt.plot(t,f(t),label=\"$y=f(x)$\")\n",
    "x = sym.Symbol('x')\n",
    "resitve = sym.solve(sym.Eq(x,f(x)),x) # limita/rešitev enačbe x=f(x)\n",
    "plt.plot(resitve[0],f(resitve[0]),'o')\n",
    "# oznake in legenda\n",
    "plt.annotate(\"$x=f(x)$\",xy=(resitve[0],resitve[0]),xytext=(resitve[0]+0.3,resitve[0]))\n",
    "plt.title(\"Fiksna točka funkcije $f(x)$\")\n",
    "legend1 = plt.legend(handles=[l1],loc=3)\n",
    "plt.gca().add_artist(legend1)\n",
    "plt.legend(handles=[l2],loc=2)\n",
    "plt.axes().set_aspect('equal', 'datalim')\n",
    "plt.show()"
   ]
  },
  {
   "cell_type": "markdown",
   "metadata": {},
   "source": [
    "Zaporedje konstruiramo tako, da "
   ]
  },
  {
   "cell_type": "code",
   "execution_count": 70,
   "metadata": {
    "collapsed": false
   },
   "outputs": [
    {
     "data": {
      "image/png": "[encoded data removed]",
      "text/plain": [
       "<matplotlib.figure.Figure at 0x7f54258879b0>"
      ]
     },
     "metadata": {},
     "output_type": "display_data"
    }
   ],
   "source": [
    "import numpy as np\n",
    "import matplotlib.animation as animation\n",
    "t=np.linspace(0.4,4)\n",
    "plt.plot(t,t)\n",
    "plt.plot(t,f(t))\n",
    "plt.title(\"Rekurzivno podano zaporedje $a_{n+1}=f(a_n)$\")\n",
    "for i in range(4):\n",
    "    plt.plot(a[i],0,'ob')\n",
    "    plt.annotate('$a_%d$'%i,xy=(a[i], 0), xytext=(a[i], 0.2))\n",
    "    plt.plot([a[i],a[i],f(a[i])],[a[i],f(a[i]),f(a[i])],'-ro')\n",
    "for i in range(2):\n",
    "    plt.annotate('$(a_%d,f(a_%d))$'%(i,i),xy=(a[i], f(a[i])), xytext=(a[i]+0.1, f(a[i])+0.2))\n",
    "plt.annotate('$a_1=f(a_0)$',xy=(a[1], a[1]), xytext=(a[1]+0.1, a[1]-0.2))\n",
    "plt.ylim(-0.05,4)\n",
    "plt.axes().set_aspect('equal', 'datalim')\n",
    "plt.show()"
   ]
  },
  {
   "cell_type": "code",
   "execution_count": 81,
   "metadata": {
    "collapsed": false
   },
   "outputs": [
    {
     "data": {
      "image/png": "[encoded data removed]",
      "text/plain": [
       "<matplotlib.figure.Figure at 0x7f5445b6f278>"
      ]
     },
     "metadata": {},
     "output_type": "display_data"
    }
   ],
   "source": [
    "import matplotlib.animation as animation\n",
    "fig2 = plt.figure()\n",
    "\n",
    "x = np.arange(-9, 10)\n",
    "y = np.arange(-9, 10).reshape(-1, 1)\n",
    "base = np.hypot(x, y)\n",
    "ims = []\n",
    "for add in np.arange(15):\n",
    "    ims.append((plt.pcolor(x, y, base + add, norm=plt.Normalize(0, 30)),))\n",
    "\n",
    "im_ani = animation.ArtistAnimation(fig2, ims, interval=50, repeat_delay=3000,\n",
    "    blit=True)\n",
    "im_ani.save('im.mp4', metadata={'artist':'Guido'})\n",
    "\n",
    "plt.show()"
   ]
  },
  {
   "cell_type": "markdown",
   "metadata": {},
   "source": [
    "## Dodatek: Zaprtje za rekurzivno zaporedje\n",
    "[Zaprtje (ang. closure)](https://en.wikipedia.org/wiki/Closure_%28computer_programming%29) omogoča, da funkciji dodamo  *„spomin“*, ne da bi pri tem uporabili globalne spremenljivke. Funkcijo, ki računa rekurzivno zaporedje, bomo popravili, da si bo zapomnila že izračunane člene."
   ]
  },
  {
   "cell_type": "code",
   "execution_count": 1,
   "metadata": {
    "collapsed": true
   },
   "outputs": [],
   "source": [
    "def gen_rekurzijo(a0,fun):\n",
    "    \"\"\"Funkcija definira rekurzivno zaporedje z rekurzivno formulo\n",
    "        a(n+1)=fun(a(n)) in začetnim členom \n",
    "        a(0)=a0\"\"\"\n",
    "    zaporedje = [a0]\n",
    "    def a(n):\n",
    "        if len(zaporedje)-1<n: # če člen zaporedja še ni izračunam\n",
    "            vrednost = fun(a(n-1)) # rekurzivna formula\n",
    "            zaporedje.append(vrednost) # shranimo vrednost za kasneje\n",
    "            return vrednost\n",
    "        else:\n",
    "            print(\"Že izračunani členi:\", zaporedje)\n",
    "            return zaporedje[n] # člen a(n) je že izračunan\n",
    "    return a"
   ]
  },
  {
   "cell_type": "markdown",
   "metadata": {},
   "source": [
    "### Primer\n",
    "Zaporedje za računanje $\\sqrt{2}$ je dano z rekurzivno formulo\n",
    "$$a_{n+1}=\\frac{1}{2}\\left(a_n+\\frac{2}{a_n}\\right).$$\n",
    "Izračunaj $\\sqrt{2}$ na 12 decimalk natančno."
   ]
  },
  {
   "cell_type": "code",
   "execution_count": 2,
   "metadata": {
    "collapsed": false
   },
   "outputs": [
    {
     "name": "stdout",
     "output_type": "stream",
     "text": [
      "Že izračunani členi: [2]\n",
      "Že izračunani členi: [2, 1.5]\n"
     ]
    },
    {
     "data": {
      "text/plain": [
       "1.4142156862745097"
      ]
     },
     "execution_count": 2,
     "metadata": {},
     "output_type": "execute_result"
    }
   ],
   "source": [
    "koren2 = gen_rekurzijo(2,lambda x:(x+2/x)/2)\n",
    "koren2(1)\n",
    "koren2(3)"
   ]
  },
  {
   "cell_type": "code",
   "execution_count": 3,
   "metadata": {
    "collapsed": false
   },
   "outputs": [
    {
     "name": "stdout",
     "output_type": "stream",
     "text": [
      "Že izračunani členi: [2, 1.5, 1.4166666666666665, 1.4142156862745097]\n",
      "Že izračunani členi: [2, 1.5, 1.4166666666666665, 1.4142156862745097]\n",
      "Že izračunani členi: [2, 1.5, 1.4166666666666665, 1.4142156862745097]\n",
      "Že izračunani členi: [2, 1.5, 1.4166666666666665, 1.4142156862745097]\n",
      "Že izračunani členi: [2, 1.5, 1.4166666666666665, 1.4142156862745097]\n",
      "Že izračunani členi: [2, 1.5, 1.4166666666666665, 1.4142156862745097, 1.4142135623746899]\n",
      "Že izračunani členi: [2, 1.5, 1.4166666666666665, 1.4142156862745097, 1.4142135623746899, 1.414213562373095]\n",
      "n: 5, koren: 1.414213562373\n"
     ]
    }
   ],
   "source": [
    "n = 0\n",
    "while abs(koren2(n)**2-2)>1e-12:\n",
    "    n += 1\n",
    "print(\"n: %d, koren: %1.12f\" % (n,koren2(n)))"
   ]
  },
  {
   "cell_type": "markdown",
   "metadata": {},
   "source": [
    "[>> naprej: vrste](02b_vrste.ipynb)"
   ]
  },
  {
   "cell_type": "code",
   "execution_count": null,
   "metadata": {
    "collapsed": true
   },
   "outputs": [],
   "source": [
    "import disqus\n",
    "%reload_ext disqus\n",
    "%disqus matpy"
   ]
  }
 ],
 "metadata": {
  "kernelspec": {
   "display_name": "Python 3",
   "language": "python",
   "name": "python3"
  },
  "language_info": {
   "codemirror_mode": {
    "name": "ipython",
    "version": 3
   },
   "file_extension": ".py",
   "mimetype": "text/x-python",
   "name": "python",
   "nbconvert_exporter": "python",
   "pygments_lexer": "ipython3",
   "version": "3.5.0+"
  }
 },
 "nbformat": 4,
 "nbformat_minor": 0
}
